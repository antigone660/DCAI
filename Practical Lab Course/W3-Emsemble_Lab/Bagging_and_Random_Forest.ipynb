{
 "cells": [
  {
   "cell_type": "markdown",
   "metadata": {
    "id": "x5cgIH3NH7Lc"
   },
   "source": [
    "# Bagging and Random Forest"
   ]
  },
  {
   "cell_type": "markdown",
   "metadata": {
    "id": "olCJ2y_AH7Le"
   },
   "source": [
    "This section will work with a spam email dataset. Our ultimate goal is to be able to build models so that we can predict whether an email is spam or not spam based on word characteristics within each email. We will cover Decision Trees, Bagging.\n",
    "\n",
    "Specifically, we will:\n",
    "    \n",
    "    1. Load in the spam dataset and split the data into train and test.\n",
    "    2. Find the optimal depth for the Decision Tree model and evaluate performance.\n",
    "    3. Fit the Bagging model using multiple bootstrapped datasets and do majority voting.\n",
    "    4. Fit the Random Forest Model and compare with Bagging.\n",
    "    \n",
    "Hopefully after this section you will be able to answer the following questions:\n",
    " - What are decision tree models?\n",
    " - How do we construct them?\n",
    " - How do we visualize them?\n",
    " - What is bagging?\n",
    " - Why does bagging help with overfitting?\n",
    " - Why does bagging help to built more expressive trees?"
   ]
  },
  {
   "cell_type": "markdown",
   "metadata": {
    "id": "eOoeX0N1H7Lf"
   },
   "source": [
    "---------\n",
    "\n",
    "## The Idea: Decision Trees are just flowcharts and interpretable!\n",
    "\n",
    "<img src=\"img/tree.png\" alt=\"tree\" width=\"70%\"/>\n",
    "\n",
    "\n",
    "It turns out that simple flow charts can be formulated as mathematical models for classification and these models have the properties we desire;\n",
    " - interpretable by humans\n",
    " - have sufficiently complex decision boundaries\n",
    " - the decision boundaries are locally linear, each component of the decision boundary is simple to describe mathematically."
   ]
  },
  {
   "cell_type": "markdown",
   "metadata": {
    "id": "Rr2wNnlwH7Lf"
   },
   "source": [
    "\n",
    "----------\n",
    "\n",
    "## Let's review some theory:\n",
    "\n",
    "### How to build Decision Trees (the Learning Algorithm in words):\n",
    "To learn a decision tree model, we take a greedy approach:\n",
    " 1. Start with an empty decision tree (undivided feature space)\n",
    " 2. Choose the ‘optimal’ predictor on which to split and choose the ‘optimal’ threshold value for splitting by applying a **splitting criterion (1)**\n",
    " 3. Recurse on each new node until **stopping condition (2)** is met.\n",
    "\n",
    "For classification, we label each region in the model with the label of the class to which the majority of the points within the region belong."
   ]
  },
  {
   "cell_type": "markdown",
   "metadata": {
    "id": "MBF4oyHkH7Lg"
   },
   "source": [
    "### So we need a (1) splitting criterion and a (2) stopping condition:\n",
    "\n",
    "  #### Splitting criterion\n",
    "\n",
    "\n",
    "While there is no \"correct\" way to define an optimal split, there are\n",
    "some common sensical guidelines for every splitting criterion:\n",
    "\n",
    "- the regions in the feature space should grow progressively more\n",
    "pure with the number of splits. That is, we should see each region\n",
    "‘specialize’ towards a single class.\n",
    "\n",
    "- the fitness metric of a split should take a differentiable form\n",
    "(making optimization possible).\n",
    "\n",
    "- we shouldn’t end up with empty regions - regions containing no\n",
    "training points."
   ]
  },
  {
   "cell_type": "markdown",
   "metadata": {
    "id": "1vbHgtU3H7Lg"
   },
   "source": [
    "#### Stopping condition\n",
    "\n",
    "If we don’t terminate the decision tree learning algorithm manually, the tree will continue to grow until each region defined by the model possibly contains exactly one training point (and the model attains 100% training accuracy). **Not stopping while building a deeper and deeper tree = 100% training accuracy; What will your test accuracy be? What can we do to fix this?**\n",
    "\n",
    "To prevent the **overfitting** from happening, we could\n",
    "- Stop the algorithm at a particular depth. (=**not too deep**)\n",
    "- Don't split a region if all instances in the region belong to the same class. (=**stop when subtree is pure**)\n",
    "- Don't split a region if the number of instances in the sub-region will fall below pre-defined threshold (min_samples_leaf). (=**not too specific/small subtree**)\n",
    "- Don't use to many splits in the tree (=**not too many splits / not too complex global tree**)\n",
    "- Be content with <100% accuracy training set...\n",
    "\n",
    "-------------\n",
    "\n",
    "### Done with theory, let's get started"
   ]
  },
  {
   "cell_type": "code",
   "execution_count": 1,
   "metadata": {
    "id": "uJnKcAD5H7Lh"
   },
   "outputs": [],
   "source": [
    "import numpy as np\n",
    "import pandas as pd\n",
    "import matplotlib\n",
    "import matplotlib.pyplot as plt\n",
    "import seaborn as sns\n",
    "import sklearn.metrics as metrics\n",
    "from sklearn.model_selection import cross_val_score\n",
    "from sklearn.metrics import accuracy_score\n",
    "from sklearn import tree\n",
    "from sklearn.tree import DecisionTreeClassifier\n",
    "from sklearn.ensemble import RandomForestClassifier\n",
    "from sklearn.ensemble import AdaBoostClassifier\n",
    "from sklearn.linear_model import LogisticRegressionCV\n",
    "from sklearn.model_selection import KFold\n",
    "from sklearn.metrics import confusion_matrix\n",
    "from sklearn import datasets\n",
    "\n",
    "%matplotlib inline\n",
    "\n",
    "pd.set_option('display.width', 1500)\n",
    "pd.set_option('display.max_columns', 100)\n",
    "\n",
    "from sklearn.model_selection import learning_curve"
   ]
  },
  {
   "cell_type": "markdown",
   "metadata": {
    "id": "N9O1chRnH7Li"
   },
   "source": [
    "\n",
    "-------------\n",
    "\n",
    "# Introduction to the Spam Dataset"
   ]
  },
  {
   "cell_type": "markdown",
   "metadata": {
    "id": "wE_6kAl4H7Li"
   },
   "source": [
    "We will be working with a spam email dataset. The dataset has 57 predictors with a response variable called `Spam` that indicates whether an email is spam or not spam. The goal is to be able to create a classifier or method that acts as a spam filter."
   ]
  },
  {
   "cell_type": "code",
   "execution_count": 2,
   "metadata": {
    "id": "LOMxVtW3H7Li"
   },
   "outputs": [
    {
     "data": {
      "text/html": [
       "<div>\n",
       "<style scoped>\n",
       "    .dataframe tbody tr th:only-of-type {\n",
       "        vertical-align: middle;\n",
       "    }\n",
       "\n",
       "    .dataframe tbody tr th {\n",
       "        vertical-align: top;\n",
       "    }\n",
       "\n",
       "    .dataframe thead th {\n",
       "        text-align: right;\n",
       "    }\n",
       "</style>\n",
       "<table border=\"1\" class=\"dataframe\">\n",
       "  <thead>\n",
       "    <tr style=\"text-align: right;\">\n",
       "      <th></th>\n",
       "      <th>Column_1</th>\n",
       "      <th>Column_2</th>\n",
       "      <th>Column_3</th>\n",
       "      <th>Column_4</th>\n",
       "      <th>Column_5</th>\n",
       "      <th>Column_6</th>\n",
       "      <th>Column_7</th>\n",
       "      <th>Column_8</th>\n",
       "      <th>Column_9</th>\n",
       "      <th>Column_10</th>\n",
       "      <th>Column_11</th>\n",
       "      <th>Column_12</th>\n",
       "      <th>Column_13</th>\n",
       "      <th>Column_14</th>\n",
       "      <th>Column_15</th>\n",
       "      <th>Column_16</th>\n",
       "      <th>Column_17</th>\n",
       "      <th>Column_18</th>\n",
       "      <th>Column_19</th>\n",
       "      <th>Column_20</th>\n",
       "      <th>Column_21</th>\n",
       "      <th>Column_22</th>\n",
       "      <th>Column_23</th>\n",
       "      <th>Column_24</th>\n",
       "      <th>Column_25</th>\n",
       "      <th>Column_26</th>\n",
       "      <th>Column_27</th>\n",
       "      <th>Column_28</th>\n",
       "      <th>Column_29</th>\n",
       "      <th>Column_30</th>\n",
       "      <th>Column_31</th>\n",
       "      <th>Column_32</th>\n",
       "      <th>Column_33</th>\n",
       "      <th>Column_34</th>\n",
       "      <th>Column_35</th>\n",
       "      <th>Column_36</th>\n",
       "      <th>Column_37</th>\n",
       "      <th>Column_38</th>\n",
       "      <th>Column_39</th>\n",
       "      <th>Column_40</th>\n",
       "      <th>Column_41</th>\n",
       "      <th>Column_42</th>\n",
       "      <th>Column_43</th>\n",
       "      <th>Column_44</th>\n",
       "      <th>Column_45</th>\n",
       "      <th>Column_46</th>\n",
       "      <th>Column_47</th>\n",
       "      <th>Column_48</th>\n",
       "      <th>Column_49</th>\n",
       "      <th>Column_50</th>\n",
       "      <th>Column_51</th>\n",
       "      <th>Column_52</th>\n",
       "      <th>Column_53</th>\n",
       "      <th>Column_54</th>\n",
       "      <th>Column_55</th>\n",
       "      <th>Column_56</th>\n",
       "      <th>Column_57</th>\n",
       "      <th>Spam</th>\n",
       "    </tr>\n",
       "  </thead>\n",
       "  <tbody>\n",
       "    <tr>\n",
       "      <th>0</th>\n",
       "      <td>0.00</td>\n",
       "      <td>0.64</td>\n",
       "      <td>0.64</td>\n",
       "      <td>0.0</td>\n",
       "      <td>0.32</td>\n",
       "      <td>0.00</td>\n",
       "      <td>0.00</td>\n",
       "      <td>0.00</td>\n",
       "      <td>0.00</td>\n",
       "      <td>0.00</td>\n",
       "      <td>0.00</td>\n",
       "      <td>0.64</td>\n",
       "      <td>0.00</td>\n",
       "      <td>0.00</td>\n",
       "      <td>0.00</td>\n",
       "      <td>0.32</td>\n",
       "      <td>0.00</td>\n",
       "      <td>1.29</td>\n",
       "      <td>1.93</td>\n",
       "      <td>0.00</td>\n",
       "      <td>0.96</td>\n",
       "      <td>0.0</td>\n",
       "      <td>0.00</td>\n",
       "      <td>0.00</td>\n",
       "      <td>0.0</td>\n",
       "      <td>0.0</td>\n",
       "      <td>0.0</td>\n",
       "      <td>0.0</td>\n",
       "      <td>0.0</td>\n",
       "      <td>0.0</td>\n",
       "      <td>0.0</td>\n",
       "      <td>0.0</td>\n",
       "      <td>0.0</td>\n",
       "      <td>0.0</td>\n",
       "      <td>0.0</td>\n",
       "      <td>0.0</td>\n",
       "      <td>0.00</td>\n",
       "      <td>0.0</td>\n",
       "      <td>0.0</td>\n",
       "      <td>0.00</td>\n",
       "      <td>0.0</td>\n",
       "      <td>0.0</td>\n",
       "      <td>0.00</td>\n",
       "      <td>0.0</td>\n",
       "      <td>0.00</td>\n",
       "      <td>0.00</td>\n",
       "      <td>0.0</td>\n",
       "      <td>0.0</td>\n",
       "      <td>0.00</td>\n",
       "      <td>0.000</td>\n",
       "      <td>0.0</td>\n",
       "      <td>0.778</td>\n",
       "      <td>0.000</td>\n",
       "      <td>0.000</td>\n",
       "      <td>3.756</td>\n",
       "      <td>61</td>\n",
       "      <td>278</td>\n",
       "      <td>1</td>\n",
       "    </tr>\n",
       "    <tr>\n",
       "      <th>1</th>\n",
       "      <td>0.21</td>\n",
       "      <td>0.28</td>\n",
       "      <td>0.50</td>\n",
       "      <td>0.0</td>\n",
       "      <td>0.14</td>\n",
       "      <td>0.28</td>\n",
       "      <td>0.21</td>\n",
       "      <td>0.07</td>\n",
       "      <td>0.00</td>\n",
       "      <td>0.94</td>\n",
       "      <td>0.21</td>\n",
       "      <td>0.79</td>\n",
       "      <td>0.65</td>\n",
       "      <td>0.21</td>\n",
       "      <td>0.14</td>\n",
       "      <td>0.14</td>\n",
       "      <td>0.07</td>\n",
       "      <td>0.28</td>\n",
       "      <td>3.47</td>\n",
       "      <td>0.00</td>\n",
       "      <td>1.59</td>\n",
       "      <td>0.0</td>\n",
       "      <td>0.43</td>\n",
       "      <td>0.43</td>\n",
       "      <td>0.0</td>\n",
       "      <td>0.0</td>\n",
       "      <td>0.0</td>\n",
       "      <td>0.0</td>\n",
       "      <td>0.0</td>\n",
       "      <td>0.0</td>\n",
       "      <td>0.0</td>\n",
       "      <td>0.0</td>\n",
       "      <td>0.0</td>\n",
       "      <td>0.0</td>\n",
       "      <td>0.0</td>\n",
       "      <td>0.0</td>\n",
       "      <td>0.07</td>\n",
       "      <td>0.0</td>\n",
       "      <td>0.0</td>\n",
       "      <td>0.00</td>\n",
       "      <td>0.0</td>\n",
       "      <td>0.0</td>\n",
       "      <td>0.00</td>\n",
       "      <td>0.0</td>\n",
       "      <td>0.00</td>\n",
       "      <td>0.00</td>\n",
       "      <td>0.0</td>\n",
       "      <td>0.0</td>\n",
       "      <td>0.00</td>\n",
       "      <td>0.132</td>\n",
       "      <td>0.0</td>\n",
       "      <td>0.372</td>\n",
       "      <td>0.180</td>\n",
       "      <td>0.048</td>\n",
       "      <td>5.114</td>\n",
       "      <td>101</td>\n",
       "      <td>1028</td>\n",
       "      <td>1</td>\n",
       "    </tr>\n",
       "    <tr>\n",
       "      <th>2</th>\n",
       "      <td>0.06</td>\n",
       "      <td>0.00</td>\n",
       "      <td>0.71</td>\n",
       "      <td>0.0</td>\n",
       "      <td>1.23</td>\n",
       "      <td>0.19</td>\n",
       "      <td>0.19</td>\n",
       "      <td>0.12</td>\n",
       "      <td>0.64</td>\n",
       "      <td>0.25</td>\n",
       "      <td>0.38</td>\n",
       "      <td>0.45</td>\n",
       "      <td>0.12</td>\n",
       "      <td>0.00</td>\n",
       "      <td>1.75</td>\n",
       "      <td>0.06</td>\n",
       "      <td>0.06</td>\n",
       "      <td>1.03</td>\n",
       "      <td>1.36</td>\n",
       "      <td>0.32</td>\n",
       "      <td>0.51</td>\n",
       "      <td>0.0</td>\n",
       "      <td>1.16</td>\n",
       "      <td>0.06</td>\n",
       "      <td>0.0</td>\n",
       "      <td>0.0</td>\n",
       "      <td>0.0</td>\n",
       "      <td>0.0</td>\n",
       "      <td>0.0</td>\n",
       "      <td>0.0</td>\n",
       "      <td>0.0</td>\n",
       "      <td>0.0</td>\n",
       "      <td>0.0</td>\n",
       "      <td>0.0</td>\n",
       "      <td>0.0</td>\n",
       "      <td>0.0</td>\n",
       "      <td>0.00</td>\n",
       "      <td>0.0</td>\n",
       "      <td>0.0</td>\n",
       "      <td>0.06</td>\n",
       "      <td>0.0</td>\n",
       "      <td>0.0</td>\n",
       "      <td>0.12</td>\n",
       "      <td>0.0</td>\n",
       "      <td>0.06</td>\n",
       "      <td>0.06</td>\n",
       "      <td>0.0</td>\n",
       "      <td>0.0</td>\n",
       "      <td>0.01</td>\n",
       "      <td>0.143</td>\n",
       "      <td>0.0</td>\n",
       "      <td>0.276</td>\n",
       "      <td>0.184</td>\n",
       "      <td>0.010</td>\n",
       "      <td>9.821</td>\n",
       "      <td>485</td>\n",
       "      <td>2259</td>\n",
       "      <td>1</td>\n",
       "    </tr>\n",
       "    <tr>\n",
       "      <th>3</th>\n",
       "      <td>0.00</td>\n",
       "      <td>0.00</td>\n",
       "      <td>0.00</td>\n",
       "      <td>0.0</td>\n",
       "      <td>0.63</td>\n",
       "      <td>0.00</td>\n",
       "      <td>0.31</td>\n",
       "      <td>0.63</td>\n",
       "      <td>0.31</td>\n",
       "      <td>0.63</td>\n",
       "      <td>0.31</td>\n",
       "      <td>0.31</td>\n",
       "      <td>0.31</td>\n",
       "      <td>0.00</td>\n",
       "      <td>0.00</td>\n",
       "      <td>0.31</td>\n",
       "      <td>0.00</td>\n",
       "      <td>0.00</td>\n",
       "      <td>3.18</td>\n",
       "      <td>0.00</td>\n",
       "      <td>0.31</td>\n",
       "      <td>0.0</td>\n",
       "      <td>0.00</td>\n",
       "      <td>0.00</td>\n",
       "      <td>0.0</td>\n",
       "      <td>0.0</td>\n",
       "      <td>0.0</td>\n",
       "      <td>0.0</td>\n",
       "      <td>0.0</td>\n",
       "      <td>0.0</td>\n",
       "      <td>0.0</td>\n",
       "      <td>0.0</td>\n",
       "      <td>0.0</td>\n",
       "      <td>0.0</td>\n",
       "      <td>0.0</td>\n",
       "      <td>0.0</td>\n",
       "      <td>0.00</td>\n",
       "      <td>0.0</td>\n",
       "      <td>0.0</td>\n",
       "      <td>0.00</td>\n",
       "      <td>0.0</td>\n",
       "      <td>0.0</td>\n",
       "      <td>0.00</td>\n",
       "      <td>0.0</td>\n",
       "      <td>0.00</td>\n",
       "      <td>0.00</td>\n",
       "      <td>0.0</td>\n",
       "      <td>0.0</td>\n",
       "      <td>0.00</td>\n",
       "      <td>0.137</td>\n",
       "      <td>0.0</td>\n",
       "      <td>0.137</td>\n",
       "      <td>0.000</td>\n",
       "      <td>0.000</td>\n",
       "      <td>3.537</td>\n",
       "      <td>40</td>\n",
       "      <td>191</td>\n",
       "      <td>1</td>\n",
       "    </tr>\n",
       "    <tr>\n",
       "      <th>4</th>\n",
       "      <td>0.00</td>\n",
       "      <td>0.00</td>\n",
       "      <td>0.00</td>\n",
       "      <td>0.0</td>\n",
       "      <td>0.63</td>\n",
       "      <td>0.00</td>\n",
       "      <td>0.31</td>\n",
       "      <td>0.63</td>\n",
       "      <td>0.31</td>\n",
       "      <td>0.63</td>\n",
       "      <td>0.31</td>\n",
       "      <td>0.31</td>\n",
       "      <td>0.31</td>\n",
       "      <td>0.00</td>\n",
       "      <td>0.00</td>\n",
       "      <td>0.31</td>\n",
       "      <td>0.00</td>\n",
       "      <td>0.00</td>\n",
       "      <td>3.18</td>\n",
       "      <td>0.00</td>\n",
       "      <td>0.31</td>\n",
       "      <td>0.0</td>\n",
       "      <td>0.00</td>\n",
       "      <td>0.00</td>\n",
       "      <td>0.0</td>\n",
       "      <td>0.0</td>\n",
       "      <td>0.0</td>\n",
       "      <td>0.0</td>\n",
       "      <td>0.0</td>\n",
       "      <td>0.0</td>\n",
       "      <td>0.0</td>\n",
       "      <td>0.0</td>\n",
       "      <td>0.0</td>\n",
       "      <td>0.0</td>\n",
       "      <td>0.0</td>\n",
       "      <td>0.0</td>\n",
       "      <td>0.00</td>\n",
       "      <td>0.0</td>\n",
       "      <td>0.0</td>\n",
       "      <td>0.00</td>\n",
       "      <td>0.0</td>\n",
       "      <td>0.0</td>\n",
       "      <td>0.00</td>\n",
       "      <td>0.0</td>\n",
       "      <td>0.00</td>\n",
       "      <td>0.00</td>\n",
       "      <td>0.0</td>\n",
       "      <td>0.0</td>\n",
       "      <td>0.00</td>\n",
       "      <td>0.135</td>\n",
       "      <td>0.0</td>\n",
       "      <td>0.135</td>\n",
       "      <td>0.000</td>\n",
       "      <td>0.000</td>\n",
       "      <td>3.537</td>\n",
       "      <td>40</td>\n",
       "      <td>191</td>\n",
       "      <td>1</td>\n",
       "    </tr>\n",
       "  </tbody>\n",
       "</table>\n",
       "</div>"
      ],
      "text/plain": [
       "   Column_1  Column_2  Column_3  Column_4  Column_5  Column_6  Column_7  Column_8  Column_9  Column_10  Column_11  Column_12  Column_13  Column_14  Column_15  Column_16  Column_17  Column_18  Column_19  Column_20  Column_21  Column_22  Column_23  Column_24  Column_25  Column_26  Column_27  Column_28  Column_29  Column_30  Column_31  Column_32  Column_33  Column_34  Column_35  Column_36  Column_37  Column_38  Column_39  Column_40  Column_41  Column_42  Column_43  Column_44  Column_45  Column_46  Column_47  Column_48  Column_49  Column_50  Column_51  Column_52  Column_53  Column_54  Column_55  Column_56  Column_57  Spam\n",
       "0      0.00      0.64      0.64       0.0      0.32      0.00      0.00      0.00      0.00       0.00       0.00       0.64       0.00       0.00       0.00       0.32       0.00       1.29       1.93       0.00       0.96        0.0       0.00       0.00        0.0        0.0        0.0        0.0        0.0        0.0        0.0        0.0        0.0        0.0        0.0        0.0       0.00        0.0        0.0       0.00        0.0        0.0       0.00        0.0       0.00       0.00        0.0        0.0       0.00      0.000        0.0      0.778      0.000      0.000      3.756         61        278     1\n",
       "1      0.21      0.28      0.50       0.0      0.14      0.28      0.21      0.07      0.00       0.94       0.21       0.79       0.65       0.21       0.14       0.14       0.07       0.28       3.47       0.00       1.59        0.0       0.43       0.43        0.0        0.0        0.0        0.0        0.0        0.0        0.0        0.0        0.0        0.0        0.0        0.0       0.07        0.0        0.0       0.00        0.0        0.0       0.00        0.0       0.00       0.00        0.0        0.0       0.00      0.132        0.0      0.372      0.180      0.048      5.114        101       1028     1\n",
       "2      0.06      0.00      0.71       0.0      1.23      0.19      0.19      0.12      0.64       0.25       0.38       0.45       0.12       0.00       1.75       0.06       0.06       1.03       1.36       0.32       0.51        0.0       1.16       0.06        0.0        0.0        0.0        0.0        0.0        0.0        0.0        0.0        0.0        0.0        0.0        0.0       0.00        0.0        0.0       0.06        0.0        0.0       0.12        0.0       0.06       0.06        0.0        0.0       0.01      0.143        0.0      0.276      0.184      0.010      9.821        485       2259     1\n",
       "3      0.00      0.00      0.00       0.0      0.63      0.00      0.31      0.63      0.31       0.63       0.31       0.31       0.31       0.00       0.00       0.31       0.00       0.00       3.18       0.00       0.31        0.0       0.00       0.00        0.0        0.0        0.0        0.0        0.0        0.0        0.0        0.0        0.0        0.0        0.0        0.0       0.00        0.0        0.0       0.00        0.0        0.0       0.00        0.0       0.00       0.00        0.0        0.0       0.00      0.137        0.0      0.137      0.000      0.000      3.537         40        191     1\n",
       "4      0.00      0.00      0.00       0.0      0.63      0.00      0.31      0.63      0.31       0.63       0.31       0.31       0.31       0.00       0.00       0.31       0.00       0.00       3.18       0.00       0.31        0.0       0.00       0.00        0.0        0.0        0.0        0.0        0.0        0.0        0.0        0.0        0.0        0.0        0.0        0.0       0.00        0.0        0.0       0.00        0.0        0.0       0.00        0.0       0.00       0.00        0.0        0.0       0.00      0.135        0.0      0.135      0.000      0.000      3.537         40        191     1"
      ]
     },
     "metadata": {},
     "output_type": "display_data"
    }
   ],
   "source": [
    "#Import Dataframe and Set Column Names\n",
    "spam_df = pd.read_csv('data/spam.csv', header=None)\n",
    "columns = [\"Column_\"+str(i+1) for i in range(spam_df.shape[1]-1)] + ['Spam']\n",
    "spam_df.columns = columns\n",
    "display(spam_df.head())"
   ]
  },
  {
   "cell_type": "markdown",
   "metadata": {
    "id": "YPhOBC_5H7Lj"
   },
   "source": [
    "The predictor variabes are all continuous. They represent certain features like the frequency of the word \"`discount`\". The exact specification and description of each predictor can be found online. We are not so much interested in the exact inference of each predictor so we will omit the exact names of each of the predictors. We are more interested in the prediction of the algorithm so we will treat each as predictor without going into too much exact detail in each.  "
   ]
  },
  {
   "cell_type": "markdown",
   "metadata": {
    "id": "N8pALljVH7Lj"
   },
   "source": [
    "Link to description : https://archive.ics.uci.edu/ml/datasets/spambase"
   ]
  },
  {
   "cell_type": "markdown",
   "metadata": {
    "id": "1AztLwKzH7Lj"
   },
   "source": [
    "Let us split the dataset into a 70-30 split by using the following:"
   ]
  },
  {
   "cell_type": "markdown",
   "metadata": {
    "id": "xPVn46MCH7Lj"
   },
   "source": [
    "**Note :** While you will use ```train_test_split``` , the code below should help you visualize splitting/masking of a dataframe which will be helpful in general."
   ]
  },
  {
   "cell_type": "code",
   "execution_count": 3,
   "metadata": {
    "id": "KqVXBX9tH7Lj"
   },
   "outputs": [
    {
     "name": "stdout",
     "output_type": "stream",
     "text": [
      "Shape of Training Set : (3262, 58)\n",
      "Shape of Testing Set : (1339, 58)\n"
     ]
    }
   ],
   "source": [
    "#Split data into train and test\n",
    "np.random.seed(42)\n",
    "msk = np.random.rand(len(spam_df)) < 0.7\n",
    "data_train = spam_df[msk]\n",
    "data_test = spam_df[~msk]\n",
    "\n",
    "#Split predictor and response columns\n",
    "x_train, y_train = data_train.drop(['Spam'], axis=1), data_train['Spam']\n",
    "x_test , y_test  = data_test.drop(['Spam'] , axis=1), data_test['Spam']\n",
    "\n",
    "print(\"Shape of Training Set :\",data_train.shape)\n",
    "print(\"Shape of Testing Set :\" ,data_test.shape)"
   ]
  },
  {
   "cell_type": "code",
   "execution_count": 7,
   "metadata": {
    "id": "yXv9j9YJH7Lk"
   },
   "outputs": [
    {
     "data": {
      "text/html": [
       "<div>\n",
       "<style scoped>\n",
       "    .dataframe tbody tr th:only-of-type {\n",
       "        vertical-align: middle;\n",
       "    }\n",
       "\n",
       "    .dataframe tbody tr th {\n",
       "        vertical-align: top;\n",
       "    }\n",
       "\n",
       "    .dataframe thead th {\n",
       "        text-align: right;\n",
       "    }\n",
       "</style>\n",
       "<table border=\"1\" class=\"dataframe\">\n",
       "  <thead>\n",
       "    <tr style=\"text-align: right;\">\n",
       "      <th></th>\n",
       "      <th>Column_1</th>\n",
       "      <th>Column_2</th>\n",
       "      <th>Column_3</th>\n",
       "      <th>Column_4</th>\n",
       "      <th>Column_5</th>\n",
       "      <th>Column_6</th>\n",
       "      <th>Column_7</th>\n",
       "      <th>Column_8</th>\n",
       "      <th>Column_9</th>\n",
       "      <th>Column_10</th>\n",
       "      <th>Column_11</th>\n",
       "      <th>Column_12</th>\n",
       "      <th>Column_13</th>\n",
       "      <th>Column_14</th>\n",
       "      <th>Column_15</th>\n",
       "      <th>Column_16</th>\n",
       "      <th>Column_17</th>\n",
       "      <th>Column_18</th>\n",
       "      <th>Column_19</th>\n",
       "      <th>Column_20</th>\n",
       "      <th>Column_21</th>\n",
       "      <th>Column_22</th>\n",
       "      <th>Column_23</th>\n",
       "      <th>Column_24</th>\n",
       "      <th>Column_25</th>\n",
       "      <th>Column_26</th>\n",
       "      <th>Column_27</th>\n",
       "      <th>Column_28</th>\n",
       "      <th>Column_29</th>\n",
       "      <th>Column_30</th>\n",
       "      <th>Column_31</th>\n",
       "      <th>Column_32</th>\n",
       "      <th>Column_33</th>\n",
       "      <th>Column_34</th>\n",
       "      <th>Column_35</th>\n",
       "      <th>Column_36</th>\n",
       "      <th>Column_37</th>\n",
       "      <th>Column_38</th>\n",
       "      <th>Column_39</th>\n",
       "      <th>Column_40</th>\n",
       "      <th>Column_41</th>\n",
       "      <th>Column_42</th>\n",
       "      <th>Column_43</th>\n",
       "      <th>Column_44</th>\n",
       "      <th>Column_45</th>\n",
       "      <th>Column_46</th>\n",
       "      <th>Column_47</th>\n",
       "      <th>Column_48</th>\n",
       "      <th>Column_49</th>\n",
       "      <th>Column_50</th>\n",
       "      <th>Column_51</th>\n",
       "      <th>Column_52</th>\n",
       "      <th>Column_53</th>\n",
       "      <th>Column_54</th>\n",
       "      <th>Column_55</th>\n",
       "      <th>Column_56</th>\n",
       "      <th>Column_57</th>\n",
       "      <th>Spam</th>\n",
       "    </tr>\n",
       "  </thead>\n",
       "  <tbody>\n",
       "    <tr>\n",
       "      <th>0</th>\n",
       "      <td>0.00</td>\n",
       "      <td>0.64</td>\n",
       "      <td>0.64</td>\n",
       "      <td>0.0</td>\n",
       "      <td>0.32</td>\n",
       "      <td>0.00</td>\n",
       "      <td>0.00</td>\n",
       "      <td>0.00</td>\n",
       "      <td>0.00</td>\n",
       "      <td>0.00</td>\n",
       "      <td>0.00</td>\n",
       "      <td>0.64</td>\n",
       "      <td>0.00</td>\n",
       "      <td>0.00</td>\n",
       "      <td>0.00</td>\n",
       "      <td>0.32</td>\n",
       "      <td>0.00</td>\n",
       "      <td>1.29</td>\n",
       "      <td>1.93</td>\n",
       "      <td>0.00</td>\n",
       "      <td>0.96</td>\n",
       "      <td>0.0</td>\n",
       "      <td>0.00</td>\n",
       "      <td>0.00</td>\n",
       "      <td>0.0</td>\n",
       "      <td>0.0</td>\n",
       "      <td>0.0</td>\n",
       "      <td>0.0</td>\n",
       "      <td>0.0</td>\n",
       "      <td>0.0</td>\n",
       "      <td>0.0</td>\n",
       "      <td>0.0</td>\n",
       "      <td>0.00</td>\n",
       "      <td>0.0</td>\n",
       "      <td>0.0</td>\n",
       "      <td>0.0</td>\n",
       "      <td>0.00</td>\n",
       "      <td>0.0</td>\n",
       "      <td>0.0</td>\n",
       "      <td>0.00</td>\n",
       "      <td>0.0</td>\n",
       "      <td>0.0</td>\n",
       "      <td>0.00</td>\n",
       "      <td>0.00</td>\n",
       "      <td>0.00</td>\n",
       "      <td>0.00</td>\n",
       "      <td>0.0</td>\n",
       "      <td>0.0</td>\n",
       "      <td>0.00</td>\n",
       "      <td>0.000</td>\n",
       "      <td>0.0</td>\n",
       "      <td>0.778</td>\n",
       "      <td>0.000</td>\n",
       "      <td>0.000</td>\n",
       "      <td>3.756</td>\n",
       "      <td>61</td>\n",
       "      <td>278</td>\n",
       "      <td>1</td>\n",
       "    </tr>\n",
       "    <tr>\n",
       "      <th>1</th>\n",
       "      <td>0.21</td>\n",
       "      <td>0.28</td>\n",
       "      <td>0.50</td>\n",
       "      <td>0.0</td>\n",
       "      <td>0.14</td>\n",
       "      <td>0.28</td>\n",
       "      <td>0.21</td>\n",
       "      <td>0.07</td>\n",
       "      <td>0.00</td>\n",
       "      <td>0.94</td>\n",
       "      <td>0.21</td>\n",
       "      <td>0.79</td>\n",
       "      <td>0.65</td>\n",
       "      <td>0.21</td>\n",
       "      <td>0.14</td>\n",
       "      <td>0.14</td>\n",
       "      <td>0.07</td>\n",
       "      <td>0.28</td>\n",
       "      <td>3.47</td>\n",
       "      <td>0.00</td>\n",
       "      <td>1.59</td>\n",
       "      <td>0.0</td>\n",
       "      <td>0.43</td>\n",
       "      <td>0.43</td>\n",
       "      <td>0.0</td>\n",
       "      <td>0.0</td>\n",
       "      <td>0.0</td>\n",
       "      <td>0.0</td>\n",
       "      <td>0.0</td>\n",
       "      <td>0.0</td>\n",
       "      <td>0.0</td>\n",
       "      <td>0.0</td>\n",
       "      <td>0.00</td>\n",
       "      <td>0.0</td>\n",
       "      <td>0.0</td>\n",
       "      <td>0.0</td>\n",
       "      <td>0.07</td>\n",
       "      <td>0.0</td>\n",
       "      <td>0.0</td>\n",
       "      <td>0.00</td>\n",
       "      <td>0.0</td>\n",
       "      <td>0.0</td>\n",
       "      <td>0.00</td>\n",
       "      <td>0.00</td>\n",
       "      <td>0.00</td>\n",
       "      <td>0.00</td>\n",
       "      <td>0.0</td>\n",
       "      <td>0.0</td>\n",
       "      <td>0.00</td>\n",
       "      <td>0.132</td>\n",
       "      <td>0.0</td>\n",
       "      <td>0.372</td>\n",
       "      <td>0.180</td>\n",
       "      <td>0.048</td>\n",
       "      <td>5.114</td>\n",
       "      <td>101</td>\n",
       "      <td>1028</td>\n",
       "      <td>1</td>\n",
       "    </tr>\n",
       "    <tr>\n",
       "      <th>2</th>\n",
       "      <td>0.06</td>\n",
       "      <td>0.00</td>\n",
       "      <td>0.71</td>\n",
       "      <td>0.0</td>\n",
       "      <td>1.23</td>\n",
       "      <td>0.19</td>\n",
       "      <td>0.19</td>\n",
       "      <td>0.12</td>\n",
       "      <td>0.64</td>\n",
       "      <td>0.25</td>\n",
       "      <td>0.38</td>\n",
       "      <td>0.45</td>\n",
       "      <td>0.12</td>\n",
       "      <td>0.00</td>\n",
       "      <td>1.75</td>\n",
       "      <td>0.06</td>\n",
       "      <td>0.06</td>\n",
       "      <td>1.03</td>\n",
       "      <td>1.36</td>\n",
       "      <td>0.32</td>\n",
       "      <td>0.51</td>\n",
       "      <td>0.0</td>\n",
       "      <td>1.16</td>\n",
       "      <td>0.06</td>\n",
       "      <td>0.0</td>\n",
       "      <td>0.0</td>\n",
       "      <td>0.0</td>\n",
       "      <td>0.0</td>\n",
       "      <td>0.0</td>\n",
       "      <td>0.0</td>\n",
       "      <td>0.0</td>\n",
       "      <td>0.0</td>\n",
       "      <td>0.00</td>\n",
       "      <td>0.0</td>\n",
       "      <td>0.0</td>\n",
       "      <td>0.0</td>\n",
       "      <td>0.00</td>\n",
       "      <td>0.0</td>\n",
       "      <td>0.0</td>\n",
       "      <td>0.06</td>\n",
       "      <td>0.0</td>\n",
       "      <td>0.0</td>\n",
       "      <td>0.12</td>\n",
       "      <td>0.00</td>\n",
       "      <td>0.06</td>\n",
       "      <td>0.06</td>\n",
       "      <td>0.0</td>\n",
       "      <td>0.0</td>\n",
       "      <td>0.01</td>\n",
       "      <td>0.143</td>\n",
       "      <td>0.0</td>\n",
       "      <td>0.276</td>\n",
       "      <td>0.184</td>\n",
       "      <td>0.010</td>\n",
       "      <td>9.821</td>\n",
       "      <td>485</td>\n",
       "      <td>2259</td>\n",
       "      <td>1</td>\n",
       "    </tr>\n",
       "    <tr>\n",
       "      <th>3</th>\n",
       "      <td>0.00</td>\n",
       "      <td>0.00</td>\n",
       "      <td>0.00</td>\n",
       "      <td>0.0</td>\n",
       "      <td>0.63</td>\n",
       "      <td>0.00</td>\n",
       "      <td>0.31</td>\n",
       "      <td>0.63</td>\n",
       "      <td>0.31</td>\n",
       "      <td>0.63</td>\n",
       "      <td>0.31</td>\n",
       "      <td>0.31</td>\n",
       "      <td>0.31</td>\n",
       "      <td>0.00</td>\n",
       "      <td>0.00</td>\n",
       "      <td>0.31</td>\n",
       "      <td>0.00</td>\n",
       "      <td>0.00</td>\n",
       "      <td>3.18</td>\n",
       "      <td>0.00</td>\n",
       "      <td>0.31</td>\n",
       "      <td>0.0</td>\n",
       "      <td>0.00</td>\n",
       "      <td>0.00</td>\n",
       "      <td>0.0</td>\n",
       "      <td>0.0</td>\n",
       "      <td>0.0</td>\n",
       "      <td>0.0</td>\n",
       "      <td>0.0</td>\n",
       "      <td>0.0</td>\n",
       "      <td>0.0</td>\n",
       "      <td>0.0</td>\n",
       "      <td>0.00</td>\n",
       "      <td>0.0</td>\n",
       "      <td>0.0</td>\n",
       "      <td>0.0</td>\n",
       "      <td>0.00</td>\n",
       "      <td>0.0</td>\n",
       "      <td>0.0</td>\n",
       "      <td>0.00</td>\n",
       "      <td>0.0</td>\n",
       "      <td>0.0</td>\n",
       "      <td>0.00</td>\n",
       "      <td>0.00</td>\n",
       "      <td>0.00</td>\n",
       "      <td>0.00</td>\n",
       "      <td>0.0</td>\n",
       "      <td>0.0</td>\n",
       "      <td>0.00</td>\n",
       "      <td>0.137</td>\n",
       "      <td>0.0</td>\n",
       "      <td>0.137</td>\n",
       "      <td>0.000</td>\n",
       "      <td>0.000</td>\n",
       "      <td>3.537</td>\n",
       "      <td>40</td>\n",
       "      <td>191</td>\n",
       "      <td>1</td>\n",
       "    </tr>\n",
       "    <tr>\n",
       "      <th>4</th>\n",
       "      <td>0.00</td>\n",
       "      <td>0.00</td>\n",
       "      <td>0.00</td>\n",
       "      <td>0.0</td>\n",
       "      <td>0.63</td>\n",
       "      <td>0.00</td>\n",
       "      <td>0.31</td>\n",
       "      <td>0.63</td>\n",
       "      <td>0.31</td>\n",
       "      <td>0.63</td>\n",
       "      <td>0.31</td>\n",
       "      <td>0.31</td>\n",
       "      <td>0.31</td>\n",
       "      <td>0.00</td>\n",
       "      <td>0.00</td>\n",
       "      <td>0.31</td>\n",
       "      <td>0.00</td>\n",
       "      <td>0.00</td>\n",
       "      <td>3.18</td>\n",
       "      <td>0.00</td>\n",
       "      <td>0.31</td>\n",
       "      <td>0.0</td>\n",
       "      <td>0.00</td>\n",
       "      <td>0.00</td>\n",
       "      <td>0.0</td>\n",
       "      <td>0.0</td>\n",
       "      <td>0.0</td>\n",
       "      <td>0.0</td>\n",
       "      <td>0.0</td>\n",
       "      <td>0.0</td>\n",
       "      <td>0.0</td>\n",
       "      <td>0.0</td>\n",
       "      <td>0.00</td>\n",
       "      <td>0.0</td>\n",
       "      <td>0.0</td>\n",
       "      <td>0.0</td>\n",
       "      <td>0.00</td>\n",
       "      <td>0.0</td>\n",
       "      <td>0.0</td>\n",
       "      <td>0.00</td>\n",
       "      <td>0.0</td>\n",
       "      <td>0.0</td>\n",
       "      <td>0.00</td>\n",
       "      <td>0.00</td>\n",
       "      <td>0.00</td>\n",
       "      <td>0.00</td>\n",
       "      <td>0.0</td>\n",
       "      <td>0.0</td>\n",
       "      <td>0.00</td>\n",
       "      <td>0.135</td>\n",
       "      <td>0.0</td>\n",
       "      <td>0.135</td>\n",
       "      <td>0.000</td>\n",
       "      <td>0.000</td>\n",
       "      <td>3.537</td>\n",
       "      <td>40</td>\n",
       "      <td>191</td>\n",
       "      <td>1</td>\n",
       "    </tr>\n",
       "    <tr>\n",
       "      <th>5</th>\n",
       "      <td>0.00</td>\n",
       "      <td>0.00</td>\n",
       "      <td>0.00</td>\n",
       "      <td>0.0</td>\n",
       "      <td>1.85</td>\n",
       "      <td>0.00</td>\n",
       "      <td>0.00</td>\n",
       "      <td>1.85</td>\n",
       "      <td>0.00</td>\n",
       "      <td>0.00</td>\n",
       "      <td>0.00</td>\n",
       "      <td>0.00</td>\n",
       "      <td>0.00</td>\n",
       "      <td>0.00</td>\n",
       "      <td>0.00</td>\n",
       "      <td>0.00</td>\n",
       "      <td>0.00</td>\n",
       "      <td>0.00</td>\n",
       "      <td>0.00</td>\n",
       "      <td>0.00</td>\n",
       "      <td>0.00</td>\n",
       "      <td>0.0</td>\n",
       "      <td>0.00</td>\n",
       "      <td>0.00</td>\n",
       "      <td>0.0</td>\n",
       "      <td>0.0</td>\n",
       "      <td>0.0</td>\n",
       "      <td>0.0</td>\n",
       "      <td>0.0</td>\n",
       "      <td>0.0</td>\n",
       "      <td>0.0</td>\n",
       "      <td>0.0</td>\n",
       "      <td>0.00</td>\n",
       "      <td>0.0</td>\n",
       "      <td>0.0</td>\n",
       "      <td>0.0</td>\n",
       "      <td>0.00</td>\n",
       "      <td>0.0</td>\n",
       "      <td>0.0</td>\n",
       "      <td>0.00</td>\n",
       "      <td>0.0</td>\n",
       "      <td>0.0</td>\n",
       "      <td>0.00</td>\n",
       "      <td>0.00</td>\n",
       "      <td>0.00</td>\n",
       "      <td>0.00</td>\n",
       "      <td>0.0</td>\n",
       "      <td>0.0</td>\n",
       "      <td>0.00</td>\n",
       "      <td>0.223</td>\n",
       "      <td>0.0</td>\n",
       "      <td>0.000</td>\n",
       "      <td>0.000</td>\n",
       "      <td>0.000</td>\n",
       "      <td>3.000</td>\n",
       "      <td>15</td>\n",
       "      <td>54</td>\n",
       "      <td>1</td>\n",
       "    </tr>\n",
       "    <tr>\n",
       "      <th>6</th>\n",
       "      <td>0.00</td>\n",
       "      <td>0.00</td>\n",
       "      <td>0.00</td>\n",
       "      <td>0.0</td>\n",
       "      <td>1.92</td>\n",
       "      <td>0.00</td>\n",
       "      <td>0.00</td>\n",
       "      <td>0.00</td>\n",
       "      <td>0.00</td>\n",
       "      <td>0.64</td>\n",
       "      <td>0.96</td>\n",
       "      <td>1.28</td>\n",
       "      <td>0.00</td>\n",
       "      <td>0.00</td>\n",
       "      <td>0.00</td>\n",
       "      <td>0.96</td>\n",
       "      <td>0.00</td>\n",
       "      <td>0.32</td>\n",
       "      <td>3.85</td>\n",
       "      <td>0.00</td>\n",
       "      <td>0.64</td>\n",
       "      <td>0.0</td>\n",
       "      <td>0.00</td>\n",
       "      <td>0.00</td>\n",
       "      <td>0.0</td>\n",
       "      <td>0.0</td>\n",
       "      <td>0.0</td>\n",
       "      <td>0.0</td>\n",
       "      <td>0.0</td>\n",
       "      <td>0.0</td>\n",
       "      <td>0.0</td>\n",
       "      <td>0.0</td>\n",
       "      <td>0.00</td>\n",
       "      <td>0.0</td>\n",
       "      <td>0.0</td>\n",
       "      <td>0.0</td>\n",
       "      <td>0.00</td>\n",
       "      <td>0.0</td>\n",
       "      <td>0.0</td>\n",
       "      <td>0.00</td>\n",
       "      <td>0.0</td>\n",
       "      <td>0.0</td>\n",
       "      <td>0.00</td>\n",
       "      <td>0.00</td>\n",
       "      <td>0.00</td>\n",
       "      <td>0.00</td>\n",
       "      <td>0.0</td>\n",
       "      <td>0.0</td>\n",
       "      <td>0.00</td>\n",
       "      <td>0.054</td>\n",
       "      <td>0.0</td>\n",
       "      <td>0.164</td>\n",
       "      <td>0.054</td>\n",
       "      <td>0.000</td>\n",
       "      <td>1.671</td>\n",
       "      <td>4</td>\n",
       "      <td>112</td>\n",
       "      <td>1</td>\n",
       "    </tr>\n",
       "    <tr>\n",
       "      <th>7</th>\n",
       "      <td>0.00</td>\n",
       "      <td>0.00</td>\n",
       "      <td>0.00</td>\n",
       "      <td>0.0</td>\n",
       "      <td>1.88</td>\n",
       "      <td>0.00</td>\n",
       "      <td>0.00</td>\n",
       "      <td>1.88</td>\n",
       "      <td>0.00</td>\n",
       "      <td>0.00</td>\n",
       "      <td>0.00</td>\n",
       "      <td>0.00</td>\n",
       "      <td>0.00</td>\n",
       "      <td>0.00</td>\n",
       "      <td>0.00</td>\n",
       "      <td>0.00</td>\n",
       "      <td>0.00</td>\n",
       "      <td>0.00</td>\n",
       "      <td>0.00</td>\n",
       "      <td>0.00</td>\n",
       "      <td>0.00</td>\n",
       "      <td>0.0</td>\n",
       "      <td>0.00</td>\n",
       "      <td>0.00</td>\n",
       "      <td>0.0</td>\n",
       "      <td>0.0</td>\n",
       "      <td>0.0</td>\n",
       "      <td>0.0</td>\n",
       "      <td>0.0</td>\n",
       "      <td>0.0</td>\n",
       "      <td>0.0</td>\n",
       "      <td>0.0</td>\n",
       "      <td>0.00</td>\n",
       "      <td>0.0</td>\n",
       "      <td>0.0</td>\n",
       "      <td>0.0</td>\n",
       "      <td>0.00</td>\n",
       "      <td>0.0</td>\n",
       "      <td>0.0</td>\n",
       "      <td>0.00</td>\n",
       "      <td>0.0</td>\n",
       "      <td>0.0</td>\n",
       "      <td>0.00</td>\n",
       "      <td>0.00</td>\n",
       "      <td>0.00</td>\n",
       "      <td>0.00</td>\n",
       "      <td>0.0</td>\n",
       "      <td>0.0</td>\n",
       "      <td>0.00</td>\n",
       "      <td>0.206</td>\n",
       "      <td>0.0</td>\n",
       "      <td>0.000</td>\n",
       "      <td>0.000</td>\n",
       "      <td>0.000</td>\n",
       "      <td>2.450</td>\n",
       "      <td>11</td>\n",
       "      <td>49</td>\n",
       "      <td>1</td>\n",
       "    </tr>\n",
       "    <tr>\n",
       "      <th>8</th>\n",
       "      <td>0.15</td>\n",
       "      <td>0.00</td>\n",
       "      <td>0.46</td>\n",
       "      <td>0.0</td>\n",
       "      <td>0.61</td>\n",
       "      <td>0.00</td>\n",
       "      <td>0.30</td>\n",
       "      <td>0.00</td>\n",
       "      <td>0.92</td>\n",
       "      <td>0.76</td>\n",
       "      <td>0.76</td>\n",
       "      <td>0.92</td>\n",
       "      <td>0.00</td>\n",
       "      <td>0.00</td>\n",
       "      <td>0.00</td>\n",
       "      <td>0.00</td>\n",
       "      <td>0.00</td>\n",
       "      <td>0.15</td>\n",
       "      <td>1.23</td>\n",
       "      <td>3.53</td>\n",
       "      <td>2.00</td>\n",
       "      <td>0.0</td>\n",
       "      <td>0.00</td>\n",
       "      <td>0.15</td>\n",
       "      <td>0.0</td>\n",
       "      <td>0.0</td>\n",
       "      <td>0.0</td>\n",
       "      <td>0.0</td>\n",
       "      <td>0.0</td>\n",
       "      <td>0.0</td>\n",
       "      <td>0.0</td>\n",
       "      <td>0.0</td>\n",
       "      <td>0.15</td>\n",
       "      <td>0.0</td>\n",
       "      <td>0.0</td>\n",
       "      <td>0.0</td>\n",
       "      <td>0.00</td>\n",
       "      <td>0.0</td>\n",
       "      <td>0.0</td>\n",
       "      <td>0.00</td>\n",
       "      <td>0.0</td>\n",
       "      <td>0.0</td>\n",
       "      <td>0.30</td>\n",
       "      <td>0.00</td>\n",
       "      <td>0.00</td>\n",
       "      <td>0.00</td>\n",
       "      <td>0.0</td>\n",
       "      <td>0.0</td>\n",
       "      <td>0.00</td>\n",
       "      <td>0.271</td>\n",
       "      <td>0.0</td>\n",
       "      <td>0.181</td>\n",
       "      <td>0.203</td>\n",
       "      <td>0.022</td>\n",
       "      <td>9.744</td>\n",
       "      <td>445</td>\n",
       "      <td>1257</td>\n",
       "      <td>1</td>\n",
       "    </tr>\n",
       "    <tr>\n",
       "      <th>9</th>\n",
       "      <td>0.06</td>\n",
       "      <td>0.12</td>\n",
       "      <td>0.77</td>\n",
       "      <td>0.0</td>\n",
       "      <td>0.19</td>\n",
       "      <td>0.32</td>\n",
       "      <td>0.38</td>\n",
       "      <td>0.00</td>\n",
       "      <td>0.06</td>\n",
       "      <td>0.00</td>\n",
       "      <td>0.00</td>\n",
       "      <td>0.64</td>\n",
       "      <td>0.25</td>\n",
       "      <td>0.00</td>\n",
       "      <td>0.12</td>\n",
       "      <td>0.00</td>\n",
       "      <td>0.00</td>\n",
       "      <td>0.12</td>\n",
       "      <td>1.67</td>\n",
       "      <td>0.06</td>\n",
       "      <td>0.71</td>\n",
       "      <td>0.0</td>\n",
       "      <td>0.19</td>\n",
       "      <td>0.00</td>\n",
       "      <td>0.0</td>\n",
       "      <td>0.0</td>\n",
       "      <td>0.0</td>\n",
       "      <td>0.0</td>\n",
       "      <td>0.0</td>\n",
       "      <td>0.0</td>\n",
       "      <td>0.0</td>\n",
       "      <td>0.0</td>\n",
       "      <td>0.00</td>\n",
       "      <td>0.0</td>\n",
       "      <td>0.0</td>\n",
       "      <td>0.0</td>\n",
       "      <td>0.00</td>\n",
       "      <td>0.0</td>\n",
       "      <td>0.0</td>\n",
       "      <td>0.00</td>\n",
       "      <td>0.0</td>\n",
       "      <td>0.0</td>\n",
       "      <td>0.00</td>\n",
       "      <td>0.06</td>\n",
       "      <td>0.00</td>\n",
       "      <td>0.00</td>\n",
       "      <td>0.0</td>\n",
       "      <td>0.0</td>\n",
       "      <td>0.04</td>\n",
       "      <td>0.030</td>\n",
       "      <td>0.0</td>\n",
       "      <td>0.244</td>\n",
       "      <td>0.081</td>\n",
       "      <td>0.000</td>\n",
       "      <td>1.729</td>\n",
       "      <td>43</td>\n",
       "      <td>749</td>\n",
       "      <td>1</td>\n",
       "    </tr>\n",
       "  </tbody>\n",
       "</table>\n",
       "</div>"
      ],
      "text/plain": [
       "   Column_1  Column_2  Column_3  Column_4  Column_5  Column_6  Column_7  Column_8  Column_9  Column_10  Column_11  Column_12  Column_13  Column_14  Column_15  Column_16  Column_17  Column_18  Column_19  Column_20  Column_21  Column_22  Column_23  Column_24  Column_25  Column_26  Column_27  Column_28  Column_29  Column_30  Column_31  Column_32  Column_33  Column_34  Column_35  Column_36  Column_37  Column_38  Column_39  Column_40  Column_41  Column_42  Column_43  Column_44  Column_45  Column_46  Column_47  Column_48  Column_49  Column_50  Column_51  Column_52  Column_53  Column_54  Column_55  Column_56  Column_57  Spam\n",
       "0      0.00      0.64      0.64       0.0      0.32      0.00      0.00      0.00      0.00       0.00       0.00       0.64       0.00       0.00       0.00       0.32       0.00       1.29       1.93       0.00       0.96        0.0       0.00       0.00        0.0        0.0        0.0        0.0        0.0        0.0        0.0        0.0       0.00        0.0        0.0        0.0       0.00        0.0        0.0       0.00        0.0        0.0       0.00       0.00       0.00       0.00        0.0        0.0       0.00      0.000        0.0      0.778      0.000      0.000      3.756         61        278     1\n",
       "1      0.21      0.28      0.50       0.0      0.14      0.28      0.21      0.07      0.00       0.94       0.21       0.79       0.65       0.21       0.14       0.14       0.07       0.28       3.47       0.00       1.59        0.0       0.43       0.43        0.0        0.0        0.0        0.0        0.0        0.0        0.0        0.0       0.00        0.0        0.0        0.0       0.07        0.0        0.0       0.00        0.0        0.0       0.00       0.00       0.00       0.00        0.0        0.0       0.00      0.132        0.0      0.372      0.180      0.048      5.114        101       1028     1\n",
       "2      0.06      0.00      0.71       0.0      1.23      0.19      0.19      0.12      0.64       0.25       0.38       0.45       0.12       0.00       1.75       0.06       0.06       1.03       1.36       0.32       0.51        0.0       1.16       0.06        0.0        0.0        0.0        0.0        0.0        0.0        0.0        0.0       0.00        0.0        0.0        0.0       0.00        0.0        0.0       0.06        0.0        0.0       0.12       0.00       0.06       0.06        0.0        0.0       0.01      0.143        0.0      0.276      0.184      0.010      9.821        485       2259     1\n",
       "3      0.00      0.00      0.00       0.0      0.63      0.00      0.31      0.63      0.31       0.63       0.31       0.31       0.31       0.00       0.00       0.31       0.00       0.00       3.18       0.00       0.31        0.0       0.00       0.00        0.0        0.0        0.0        0.0        0.0        0.0        0.0        0.0       0.00        0.0        0.0        0.0       0.00        0.0        0.0       0.00        0.0        0.0       0.00       0.00       0.00       0.00        0.0        0.0       0.00      0.137        0.0      0.137      0.000      0.000      3.537         40        191     1\n",
       "4      0.00      0.00      0.00       0.0      0.63      0.00      0.31      0.63      0.31       0.63       0.31       0.31       0.31       0.00       0.00       0.31       0.00       0.00       3.18       0.00       0.31        0.0       0.00       0.00        0.0        0.0        0.0        0.0        0.0        0.0        0.0        0.0       0.00        0.0        0.0        0.0       0.00        0.0        0.0       0.00        0.0        0.0       0.00       0.00       0.00       0.00        0.0        0.0       0.00      0.135        0.0      0.135      0.000      0.000      3.537         40        191     1\n",
       "5      0.00      0.00      0.00       0.0      1.85      0.00      0.00      1.85      0.00       0.00       0.00       0.00       0.00       0.00       0.00       0.00       0.00       0.00       0.00       0.00       0.00        0.0       0.00       0.00        0.0        0.0        0.0        0.0        0.0        0.0        0.0        0.0       0.00        0.0        0.0        0.0       0.00        0.0        0.0       0.00        0.0        0.0       0.00       0.00       0.00       0.00        0.0        0.0       0.00      0.223        0.0      0.000      0.000      0.000      3.000         15         54     1\n",
       "6      0.00      0.00      0.00       0.0      1.92      0.00      0.00      0.00      0.00       0.64       0.96       1.28       0.00       0.00       0.00       0.96       0.00       0.32       3.85       0.00       0.64        0.0       0.00       0.00        0.0        0.0        0.0        0.0        0.0        0.0        0.0        0.0       0.00        0.0        0.0        0.0       0.00        0.0        0.0       0.00        0.0        0.0       0.00       0.00       0.00       0.00        0.0        0.0       0.00      0.054        0.0      0.164      0.054      0.000      1.671          4        112     1\n",
       "7      0.00      0.00      0.00       0.0      1.88      0.00      0.00      1.88      0.00       0.00       0.00       0.00       0.00       0.00       0.00       0.00       0.00       0.00       0.00       0.00       0.00        0.0       0.00       0.00        0.0        0.0        0.0        0.0        0.0        0.0        0.0        0.0       0.00        0.0        0.0        0.0       0.00        0.0        0.0       0.00        0.0        0.0       0.00       0.00       0.00       0.00        0.0        0.0       0.00      0.206        0.0      0.000      0.000      0.000      2.450         11         49     1\n",
       "8      0.15      0.00      0.46       0.0      0.61      0.00      0.30      0.00      0.92       0.76       0.76       0.92       0.00       0.00       0.00       0.00       0.00       0.15       1.23       3.53       2.00        0.0       0.00       0.15        0.0        0.0        0.0        0.0        0.0        0.0        0.0        0.0       0.15        0.0        0.0        0.0       0.00        0.0        0.0       0.00        0.0        0.0       0.30       0.00       0.00       0.00        0.0        0.0       0.00      0.271        0.0      0.181      0.203      0.022      9.744        445       1257     1\n",
       "9      0.06      0.12      0.77       0.0      0.19      0.32      0.38      0.00      0.06       0.00       0.00       0.64       0.25       0.00       0.12       0.00       0.00       0.12       1.67       0.06       0.71        0.0       0.19       0.00        0.0        0.0        0.0        0.0        0.0        0.0        0.0        0.0       0.00        0.0        0.0        0.0       0.00        0.0        0.0       0.00        0.0        0.0       0.00       0.06       0.00       0.00        0.0        0.0       0.04      0.030        0.0      0.244      0.081      0.000      1.729         43        749     1"
      ]
     },
     "execution_count": 7,
     "metadata": {},
     "output_type": "execute_result"
    }
   ],
   "source": [
    "spam_df.iloc[:10]"
   ]
  },
  {
   "cell_type": "markdown",
   "metadata": {
    "id": "wyLoUVZkH7Lk"
   },
   "source": [
    "We can check that the number of spam cases is roughly evenly represented in both the training and test set."
   ]
  },
  {
   "cell_type": "code",
   "execution_count": 8,
   "metadata": {
    "id": "wtWCBoiZH7Lk"
   },
   "outputs": [
    {
     "name": "stdout",
     "output_type": "stream",
     "text": [
      "Percentage of Spam in Training Set \t : 39.18%.\n",
      "Percentage of Spam in Testing Set \t : 39.96%.\n"
     ]
    }
   ],
   "source": [
    "#Check Percentage of Spam in Train and Test Set\n",
    "percentage_spam_training = 100*y_train.sum()/len(y_train)\n",
    "percentage_spam_testing  = 100*y_test.sum()/len(y_test)\n",
    "\n",
    "print(\"Percentage of Spam in Training Set \\t : {:0.2f}%.\".format(percentage_spam_training))\n",
    "print(\"Percentage of Spam in Testing Set \\t : {:0.2f}%.\".format(percentage_spam_testing))"
   ]
  },
  {
   "cell_type": "markdown",
   "metadata": {
    "id": "xYQoWJfXH7Lk"
   },
   "source": [
    "# Fitting an Optimal Single Decision Tree (by Depth) :"
   ]
  },
  {
   "cell_type": "markdown",
   "metadata": {
    "id": "eRDVDSPNH7Lk"
   },
   "source": [
    "We fit here a single tree to our spam dataset and perform 5-fold cross validation on the training set. For EACH depth of the tree, we fit a tree and then compute the 5-fold CV scores. These scores are then averaged and compared across different depths."
   ]
  },
  {
   "cell_type": "code",
   "execution_count": 9,
   "metadata": {
    "id": "kZADabmoH7Lk"
   },
   "outputs": [],
   "source": [
    "#Find optimal depth of trees\n",
    "mean_CV_acc = {}\n",
    "all_CV_acc = {}\n",
    "tree_depth_start, tree_depth_end, steps = 3, 31, 4\n",
    "for i in range(tree_depth_start, tree_depth_end + 1, steps):\n",
    "    model = DecisionTreeClassifier(max_depth=i)\n",
    "    score = cross_val_score(estimator=model, X=x_train, y=y_train, cv=5, n_jobs=-1)\n",
    "    all_CV_acc[i] = score\n",
    "    mean_CV_acc[i] = score.mean()"
   ]
  },
  {
   "cell_type": "code",
   "execution_count": 10,
   "metadata": {},
   "outputs": [
    {
     "data": {
      "text/plain": [
       "array([0.91577335, 0.87748851, 0.90490798, 0.90797546, 0.77607362])"
      ]
     },
     "execution_count": 10,
     "metadata": {},
     "output_type": "execute_result"
    }
   ],
   "source": [
    "all_CV_acc[3]"
   ]
  },
  {
   "cell_type": "code",
   "execution_count": 24,
   "metadata": {
    "id": "uptyZRXdH7Ll"
   },
   "outputs": [
    {
     "data": {
      "text/plain": [
       "{3: 0.8764437847029753,\n",
       " 7: 0.8939242195060082,\n",
       " 11: 0.8884027471133701,\n",
       " 15: 0.8862573868600794,\n",
       " 19: 0.88349946917953,\n",
       " 23: 0.8868760510715058,\n",
       " 27: 0.8856438899275642,\n",
       " 31: 0.8822720055618711}"
      ]
     },
     "execution_count": 24,
     "metadata": {},
     "output_type": "execute_result"
    }
   ],
   "source": [
    "mean_CV_acc"
   ]
  },
  {
   "cell_type": "markdown",
   "metadata": {
    "id": "S2QagblgH7Ll"
   },
   "source": [
    "Some dictionary manipulations for our x,y construction for the plot below:"
   ]
  },
  {
   "cell_type": "code",
   "execution_count": 16,
   "metadata": {
    "id": "MmwzS01fH7Ll"
   },
   "outputs": [
    {
     "data": {
      "text/plain": [
       "([3, 7, 11, 15, 19, 23, 27, 31],\n",
       " [0.8764437847029753,\n",
       "  0.8963753887202998,\n",
       "  0.8926948768778361,\n",
       "  0.886567423594735,\n",
       "  0.8865655445842219,\n",
       "  0.8822724753144995,\n",
       "  0.8822705963039862,\n",
       "  0.8752205488589709])"
      ]
     },
     "execution_count": 16,
     "metadata": {},
     "output_type": "execute_result"
    }
   ],
   "source": [
    "x = list(mean_CV_acc.keys())\n",
    "y = list(mean_CV_acc.values())\n",
    "x,y"
   ]
  },
  {
   "cell_type": "code",
   "execution_count": 15,
   "metadata": {
    "id": "KRMF7bxxH7Ll"
   },
   "outputs": [],
   "source": [
    "lists = sorted(mean_CV_acc.items())\n",
    "x, y = zip(*lists)"
   ]
  },
  {
   "cell_type": "code",
   "execution_count": 17,
   "metadata": {
    "id": "Gcubos-WH7Ll"
   },
   "outputs": [
    {
     "data": {
      "image/png": "[encoded data removed]",
      "text/plain": [
       "<Figure size 640x480 with 1 Axes>"
      ]
     },
     "metadata": {},
     "output_type": "display_data"
    }
   ],
   "source": [
    "#Plot\n",
    "plt.ylabel(\"Cross Validation Accuracy\")\n",
    "plt.xlabel(\"Maximum Depth\")\n",
    "plt.title('Variation of Accuracy with Depth - Simple Decision Tree')\n",
    "plt.plot(x, y, 'b-', marker='o')\n",
    "plt.show()"
   ]
  },
  {
   "cell_type": "markdown",
   "metadata": {
    "id": "rcX17B7WH7Lm"
   },
   "source": [
    "As we can see, the optimal depth is found to be a depth of 7. Although, does it makes sense to choose 6?"
   ]
  },
  {
   "cell_type": "markdown",
   "metadata": {
    "id": "ntoMwFIxH7Lm"
   },
   "source": [
    "Also, if we wanted to get the Confidence Bands of these results, how would we? It's as simple as a combination of getting variance using ```scores.std()``` and ```plt.fill_between()```."
   ]
  },
  {
   "cell_type": "code",
   "execution_count": 18,
   "metadata": {
    "id": "2BAIWj9NH7Lm"
   },
   "outputs": [
    {
     "data": {
      "text/plain": [
       "array([0.05181994, 0.03700102, 0.04266736, 0.04395353, 0.04239933,\n",
       "       0.04958745, 0.04764562, 0.04515264])"
      ]
     },
     "execution_count": 18,
     "metadata": {},
     "output_type": "execute_result"
    }
   ],
   "source": [
    "stds = np.array([ np.std(score) for score in all_CV_acc.values() ])\n",
    "stds"
   ]
  },
  {
   "cell_type": "code",
   "execution_count": 19,
   "metadata": {
    "id": "sMsiQFmzH7Lm"
   },
   "outputs": [
    {
     "data": {
      "image/png": "[encoded data removed]",
      "text/plain": [
       "<Figure size 640x480 with 1 Axes>"
      ]
     },
     "metadata": {},
     "output_type": "display_data"
    }
   ],
   "source": [
    "plt.fill_between(x, y + stds, y - stds, alpha=0.2)\n",
    "\n",
    "#Plot\n",
    "plt.ylabel(\"Cross Validation Accuracy\")\n",
    "plt.xlabel(\"Maximum Depth\")\n",
    "plt.title('Variation of Accuracy with Depth - Simple Decision Tree')\n",
    "plt.plot(x, y, 'b-', marker='o')\n",
    "plt.show()"
   ]
  },
  {
   "cell_type": "code",
   "execution_count": 24,
   "metadata": {},
   "outputs": [
    {
     "data": {
      "text/plain": [
       "array([[0.91577335, 0.87748851, 0.90490798, 0.90797546, 0.77607362],\n",
       "       [0.90658499, 0.90964778, 0.91564417, 0.92638037, 0.82361963],\n",
       "       [0.9050536 , 0.90964778, 0.91717791, 0.92331288, 0.80828221],\n",
       "       [0.89586524, 0.89433384, 0.91257669, 0.92791411, 0.80214724],\n",
       "       [0.89586524, 0.90045942, 0.91104294, 0.92177914, 0.80368098],\n",
       "       [0.89739663, 0.89433384, 0.91104294, 0.92331288, 0.78527607],\n",
       "       [0.89586524, 0.90199081, 0.90490798, 0.9202454 , 0.78834356],\n",
       "       [0.88361409, 0.89739663, 0.89570552, 0.91257669, 0.78680982]])"
      ]
     },
     "execution_count": 24,
     "metadata": {},
     "output_type": "execute_result"
    }
   ],
   "source": [
    "scores_numpy"
   ]
  },
  {
   "cell_type": "markdown",
   "metadata": {
    "id": "SMOwj7i4H7Lm"
   },
   "source": [
    "If we want to display it as a boxplot we first construct a dataframe with all the scores and second we use ```sns.boxplot(...)```"
   ]
  },
  {
   "cell_type": "code",
   "execution_count": 20,
   "metadata": {
    "id": "rqFRwYgtH7Lm"
   },
   "outputs": [
    {
     "data": {
      "text/html": [
       "<div>\n",
       "<style scoped>\n",
       "    .dataframe tbody tr th:only-of-type {\n",
       "        vertical-align: middle;\n",
       "    }\n",
       "\n",
       "    .dataframe tbody tr th {\n",
       "        vertical-align: top;\n",
       "    }\n",
       "\n",
       "    .dataframe thead th {\n",
       "        text-align: right;\n",
       "    }\n",
       "</style>\n",
       "<table border=\"1\" class=\"dataframe\">\n",
       "  <thead>\n",
       "    <tr style=\"text-align: right;\">\n",
       "      <th></th>\n",
       "      <th>Max Depth</th>\n",
       "      <th>CV Accuracy Score</th>\n",
       "    </tr>\n",
       "  </thead>\n",
       "  <tbody>\n",
       "    <tr>\n",
       "      <th>0</th>\n",
       "      <td>3</td>\n",
       "      <td>0.915773</td>\n",
       "    </tr>\n",
       "    <tr>\n",
       "      <th>1</th>\n",
       "      <td>7</td>\n",
       "      <td>0.906585</td>\n",
       "    </tr>\n",
       "    <tr>\n",
       "      <th>2</th>\n",
       "      <td>11</td>\n",
       "      <td>0.905054</td>\n",
       "    </tr>\n",
       "    <tr>\n",
       "      <th>3</th>\n",
       "      <td>15</td>\n",
       "      <td>0.895865</td>\n",
       "    </tr>\n",
       "    <tr>\n",
       "      <th>4</th>\n",
       "      <td>19</td>\n",
       "      <td>0.895865</td>\n",
       "    </tr>\n",
       "  </tbody>\n",
       "</table>\n",
       "</div>"
      ],
      "text/plain": [
       "   Max Depth  CV Accuracy Score\n",
       "0          3           0.915773\n",
       "1          7           0.906585\n",
       "2         11           0.905054\n",
       "3         15           0.895865\n",
       "4         19           0.895865"
      ]
     },
     "execution_count": 20,
     "metadata": {},
     "output_type": "execute_result"
    }
   ],
   "source": [
    "# Making a numpy array with all the CV acc scores\n",
    "scores_numpy = np.array(list(all_CV_acc.values()))\n",
    "# Making a datafr\n",
    "trees = pd.DataFrame({'Max Depth':x+x+x+x+x, 'CV Accuracy Score':list(scores_numpy[:,0])+\n",
    "                     list(scores_numpy[:,1])+\n",
    "                     list(scores_numpy[:,2])+\n",
    "                     list(scores_numpy[:,3])+\n",
    "                     list(scores_numpy[:,4])})\n",
    "trees.head()"
   ]
  },
  {
   "cell_type": "code",
   "execution_count": 31,
   "metadata": {
    "id": "CY9Y24MLH7Ln"
   },
   "outputs": [
    {
     "data": {
      "image/png": "[encoded data removed]",
      "text/plain": [
       "<Figure size 864x216 with 1 Axes>"
      ]
     },
     "metadata": {
      "needs_background": "light"
     },
     "output_type": "display_data"
    }
   ],
   "source": [
    "# plotting the boxplot\n",
    "plt.figure(figsize=(12, 3))\n",
    "plt.title('Variation of Accuracy with Depth - Simple Decision Tree')\n",
    "sns.boxplot(x=\"Max Depth\", y=\"CV Accuracy Score\", data=trees);"
   ]
  },
  {
   "cell_type": "code",
   "execution_count": 32,
   "metadata": {
    "id": "Wfpq8rfkH7Ln"
   },
   "outputs": [
    {
     "data": {
      "image/png": "[encoded data removed]",
      "text/plain": [
       "<Figure size 864x216 with 1 Axes>"
      ]
     },
     "metadata": {
      "needs_background": "light"
     },
     "output_type": "display_data"
    }
   ],
   "source": [
    "# plotting the boxplot without outliers (showfliers = False)\n",
    "plt.figure(figsize=(12, 3))\n",
    "plt.title('Variation of Accuracy with Depth - Simple Decision Tree')\n",
    "sns.boxplot(x=\"Max Depth\", y=\"CV Accuracy Score\", data=trees, showfliers=False);"
   ]
  },
  {
   "cell_type": "markdown",
   "metadata": {
    "id": "ZVYHTulzH7Ln"
   },
   "source": [
    "**Let's extract the best_depth value from this dictionary:**\n",
    "\n",
    "We create the new variable ```best_depth```. Can you see why we coded the best depth parameter as we did below? (Hint: Think about reproducibility.)\n",
    "\n",
    "How to sort using your own function with key parameter?\n",
    "If you want your own implementation for sorting, sorted() also accepts a key function as an optional parameter.\n",
    "\n",
    "Based on the results of the key function, you can sort the given iterable.\n",
    "\n",
    "```sorted(iterable, key=len)```"
   ]
  },
  {
   "cell_type": "code",
   "execution_count": 33,
   "metadata": {
    "id": "m6E22sEMH7Ln"
   },
   "outputs": [
    {
     "data": {
      "text/plain": [
       "{3: 0.8764437847029753,\n",
       " 7: 0.8939242195060082,\n",
       " 11: 0.8884027471133701,\n",
       " 15: 0.8862573868600794,\n",
       " 19: 0.88349946917953,\n",
       " 23: 0.8868760510715058,\n",
       " 27: 0.8856438899275642,\n",
       " 31: 0.8822720055618711}"
      ]
     },
     "execution_count": 33,
     "metadata": {},
     "output_type": "execute_result"
    }
   ],
   "source": [
    "mean_CV_acc"
   ]
  },
  {
   "cell_type": "code",
   "execution_count": 34,
   "metadata": {
    "id": "RpdIn1NcH7Ln"
   },
   "outputs": [
    {
     "data": {
      "text/plain": [
       "[3, 7, 11, 15, 19, 23, 27, 31]"
      ]
     },
     "execution_count": 34,
     "metadata": {},
     "output_type": "execute_result"
    }
   ],
   "source": [
    "# What does this do? Is this the result we want?\n",
    "sorted(mean_CV_acc, reverse=False)"
   ]
  },
  {
   "cell_type": "code",
   "execution_count": 35,
   "metadata": {
    "id": "rQ6ffOyrH7Lo"
   },
   "outputs": [
    {
     "data": {
      "text/plain": [
       "[7, 11, 23, 15, 27, 19, 31, 3]"
      ]
     },
     "execution_count": 35,
     "metadata": {},
     "output_type": "execute_result"
    }
   ],
   "source": [
    "# What does this do?\n",
    "sorted(mean_CV_acc, key=mean_CV_acc.get, reverse=True)"
   ]
  },
  {
   "cell_type": "code",
   "execution_count": 36,
   "metadata": {
    "id": "m81eUL3HH7Lo",
    "scrolled": true
   },
   "outputs": [
    {
     "name": "stdout",
     "output_type": "stream",
     "text": [
      "The best depth was found to be: 7\n"
     ]
    }
   ],
   "source": [
    "#Make best depth a variable\n",
    "best_depth = sorted(mean_CV_acc, key=mean_CV_acc.get, reverse=True)[0]\n",
    "print(\"The best depth was found to be:\", best_depth)"
   ]
  },
  {
   "cell_type": "code",
   "execution_count": 37,
   "metadata": {
    "id": "BjVosQG1H7Lp"
   },
   "outputs": [
    {
     "name": "stdout",
     "output_type": "stream",
     "text": [
      "Simple Decision Trees: Accuracy, Training Set \t : 94.39%\n",
      "Simple Decision Trees: Accuracy, Testing Set \t : 90.81%\n"
     ]
    }
   ],
   "source": [
    "#Evalaute the performance at the best depth\n",
    "model_tree = DecisionTreeClassifier(max_depth=best_depth)\n",
    "model_tree.fit(x_train, y_train)\n",
    "\n",
    "#Check Accuracy of Spam Detection in Train and Test Set\n",
    "acc_trees_training = accuracy_score(y_train, model_tree.predict(x_train))\n",
    "acc_trees_testing  = accuracy_score(y_test,  model_tree.predict(x_test))\n",
    "\n",
    "print(\"Simple Decision Trees: Accuracy, Training Set \\t : {:.2%}\".format(acc_trees_training))\n",
    "print(\"Simple Decision Trees: Accuracy, Testing Set \\t : {:.2%}\".format(acc_trees_testing))"
   ]
  },
  {
   "cell_type": "code",
   "execution_count": 38,
   "metadata": {
    "id": "0Z3fMut2H7Lp"
   },
   "outputs": [
    {
     "data": {
      "text/html": [
       "<div>\n",
       "<style scoped>\n",
       "    .dataframe tbody tr th:only-of-type {\n",
       "        vertical-align: middle;\n",
       "    }\n",
       "\n",
       "    .dataframe tbody tr th {\n",
       "        vertical-align: top;\n",
       "    }\n",
       "\n",
       "    .dataframe thead th {\n",
       "        text-align: right;\n",
       "    }\n",
       "</style>\n",
       "<table border=\"1\" class=\"dataframe\">\n",
       "  <thead>\n",
       "    <tr style=\"text-align: right;\">\n",
       "      <th>Predicted</th>\n",
       "      <th>0</th>\n",
       "      <th>1</th>\n",
       "      <th>All</th>\n",
       "    </tr>\n",
       "    <tr>\n",
       "      <th>Actual</th>\n",
       "      <th></th>\n",
       "      <th></th>\n",
       "      <th></th>\n",
       "    </tr>\n",
       "  </thead>\n",
       "  <tbody>\n",
       "    <tr>\n",
       "      <th>0</th>\n",
       "      <td>758</td>\n",
       "      <td>46</td>\n",
       "      <td>804</td>\n",
       "    </tr>\n",
       "    <tr>\n",
       "      <th>1</th>\n",
       "      <td>77</td>\n",
       "      <td>458</td>\n",
       "      <td>535</td>\n",
       "    </tr>\n",
       "    <tr>\n",
       "      <th>All</th>\n",
       "      <td>835</td>\n",
       "      <td>504</td>\n",
       "      <td>1339</td>\n",
       "    </tr>\n",
       "  </tbody>\n",
       "</table>\n",
       "</div>"
      ],
      "text/plain": [
       "Predicted    0    1   All\n",
       "Actual                   \n",
       "0          758   46   804\n",
       "1           77  458   535\n",
       "All        835  504  1339"
      ]
     },
     "execution_count": 38,
     "metadata": {},
     "output_type": "execute_result"
    }
   ],
   "source": [
    "#Get Performance by Class (Lookup Confusion Matrix)\n",
    "pd.crosstab(y_test, model_tree.predict(x_test), margins=True, rownames=['Actual'], colnames=['Predicted'])"
   ]
  },
  {
   "cell_type": "markdown",
   "metadata": {
    "id": "IuqFXQ6JH7Lp"
   },
   "source": [
    "## How to visualize a Decision Tree with ```pydot```\n",
    "\n",
    "*Question:* Do you think this tree is interpretable? What do you think about a the maximal depth of the tree?\n",
    "\n",
    "- Let's first store the decision tree in a text format: ```decision_tree.dot```"
   ]
  },
  {
   "cell_type": "code",
   "execution_count": 52,
   "metadata": {
    "id": "Otq8rJm1H7Lq"
   },
   "outputs": [],
   "source": [
    "import os\n",
    "from sklearn import tree\n",
    "\n",
    "if not os.path.exists(\"results\"):\n",
    "    os.makedirs(\"results\")\n",
    "\n",
    "file_name = \"results/decision_tree.dot\"\n",
    "tree.export_graphviz(model_tree, out_file = file_name)"
   ]
  },
  {
   "cell_type": "markdown",
   "metadata": {
    "id": "-CvT11NfH7Lq"
   },
   "source": [
    "- Let's look at the resulting text ```decision_tree.dot```"
   ]
  },
  {
   "cell_type": "code",
   "execution_count": 53,
   "metadata": {
    "id": "gTyLT0YTH7Lq"
   },
   "outputs": [
    {
     "name": "stdout",
     "output_type": "stream",
     "text": [
      "digraph Tree {\n",
      "\n",
      "node [shape=box, fontname=\"helvetica\"] ;\n",
      "\n",
      "edge [fontname=\"helvetica\"] ;\n",
      "\n",
      "0 [label=\"X[52] <= 0.046\\ngini = 0.477\\nsamples = 3262\\nvalue = [1984, 1278]\"] ;\n",
      "\n",
      "1 [label=\"X[6] <= 0.065\\ngini = 0.354\\nsamples = 2431\\nvalue = [1872, 559]\"] ;\n",
      "\n",
      "0 -> 1 [labeldistance=2.5, labelangle=45, headlabel=\"True\"] ;\n",
      "\n",
      "2 [label=\"X[51] <= 0.491\\ngini = 0.27\\nsamples = 2209\\nvalue = [1853, 356]\"] ;\n",
      "\n",
      "1 -> 2 ;\n",
      "\n",
      "3 [label=\"X[15] <= 0.025\\ngini = 0.186\\nsamples = 1971\\nvalue = [1767, 204]\"] ;\n",
      "\n",
      "2 -> 3 ;\n",
      "\n"
     ]
    }
   ],
   "source": [
    "with open(\"results/decision_tree.dot\", \"r\") as f:\n",
    "    lines = f.readlines()\n",
    "    for line in lines[:10]:\n",
    "        print(line)"
   ]
  },
  {
   "cell_type": "markdown",
   "metadata": {
    "id": "H5395pESH7Lq"
   },
   "source": [
    "- Let's convert our (hard to read) written decision tree (```decision_tree.dot```) into an intuitive image file format: ```image_tree.png```\n",
    "- <span style=\"color:red\">**NOTE:**</span> You might need to install the ```pydot``` package by typing the following command in your terminal: ```pip install pydot``` or you can install from within the jupyter notebook by running the following cell: ```! pip install pydot```"
   ]
  },
  {
   "cell_type": "code",
   "execution_count": 59,
   "metadata": {
    "id": "qmIHC-xBH7Lq"
   },
   "outputs": [
    {
     "name": "stdout",
     "output_type": "stream",
     "text": [
      "Looking in indexes: https://pypi.tuna.tsinghua.edu.cn/simple\n",
      "Requirement already satisfied: pydot in d:\\xypdevelopsoftware\\miniconda3\\lib\\site-packages (1.4.2)\n",
      "Requirement already satisfied: pyparsing>=2.1.4 in d:\\xypdevelopsoftware\\miniconda3\\lib\\site-packages (from pydot) (3.0.9)\n",
      "Collecting package metadata (current_repodata.json): ...working... done\n",
      "Solving environment: ...working... done\n",
      "\n",
      "## Package Plan ##\n",
      "\n",
      "  environment location: D:\\XypDevelopSoftware\\Miniconda3\n",
      "\n",
      "  added / updated specs:\n",
      "    - graphviz\n",
      "\n",
      "\n",
      "The following packages will be downloaded:\n",
      "\n",
      "    package                    |            build\n",
      "    ---------------------------|-----------------\n",
      "    boost-cpp-1.82.0           |       h59b6b97_1          12 KB  defaults\n",
      "    ca-certificates-2023.08.22 |       haa95532_0         123 KB  defaults\n",
      "    cairo-1.16.0               |       h1c23506_3         1.9 MB  defaults\n",
      "    certifi-2023.7.22          |   py38haa95532_0         154 KB  defaults\n",
      "    expat-2.5.0                |       hd77b12b_0         225 KB  defaults\n",
      "    font-ttf-dejavu-sans-mono-2.37|       hd3eb1b0_0         335 KB  defaults\n",
      "    font-ttf-inconsolata-2.001 |       hcb22688_0          83 KB  defaults\n",
      "    font-ttf-source-code-pro-2.030|       hd3eb1b0_0         654 KB  defaults\n",
      "    font-ttf-ubuntu-0.83       |       h8b1ccd4_0         1.5 MB  defaults\n",
      "    fontconfig-2.14.1          |       h9c4af85_2         198 KB  defaults\n",
      "    fonts-anaconda-1           |       h8fa9717_0           3 KB  defaults\n",
      "    fonts-conda-ecosystem-1    |       hd3eb1b0_0           5 KB  defaults\n",
      "    fribidi-1.0.10             |       h62dcd97_0          63 KB  defaults\n",
      "    getopt-win32-0.1           |       h2bbff1b_0          19 KB  defaults\n",
      "    graphite2-1.3.14           |       hd77b12b_1          91 KB  defaults\n",
      "    graphviz-2.50.0            |       h7eca76f_1        1007 KB  defaults\n",
      "    gts-0.7.6                  |       h63ab5a1_3         181 KB  defaults\n",
      "    harfbuzz-4.3.0             |       hb646838_1         855 KB  defaults\n",
      "    lcms2-2.12                 |       h83e58a3_0         454 KB  defaults\n",
      "    libboost-1.82.0            |       hae598e9_1        22.6 MB  defaults\n",
      "    libcurl-8.2.1              |       h86230a5_0         336 KB  defaults\n",
      "    libgd-2.3.3                |       hd77b12b_2         350 KB  defaults\n",
      "    libtiff-4.5.1              |       hd77b12b_0         1.1 MB  defaults\n",
      "    libxml2-2.10.4             |       h0ad7f3c_1         2.8 MB  defaults\n",
      "    openssl-1.1.1w             |       h2bbff1b_0         5.5 MB  defaults\n",
      "    pango-1.50.7               |       h78c2152_0         279 KB  defaults\n",
      "    pixman-0.40.0              |       h2bbff1b_1         402 KB  defaults\n",
      "    poppler-22.12.0            |       h268424c_0         2.4 MB  defaults\n",
      "    poppler-data-0.4.11        |       haa95532_1         432 KB  defaults\n",
      "    tqdm-4.65.0                |   py38hd4e2768_0         149 KB  defaults\n",
      "    ------------------------------------------------------------\n",
      "                                           Total:        44.1 MB\n",
      "\n",
      "The following NEW packages will be INSTALLED:\n",
      "\n",
      "  boost-cpp          pkgs/main/win-64::boost-cpp-1.82.0-h59b6b97_1\n",
      "  cairo              pkgs/main/win-64::cairo-1.16.0-h1c23506_3\n",
      "  decorator          pkgs/main/noarch::decorator-5.1.1-pyhd3eb1b0_0\n",
      "  expat              pkgs/main/win-64::expat-2.5.0-hd77b12b_0\n",
      "  font-ttf-dejavu-s~ pkgs/main/noarch::font-ttf-dejavu-sans-mono-2.37-hd3eb1b0_0\n",
      "  font-ttf-inconsol~ pkgs/main/noarch::font-ttf-inconsolata-2.001-hcb22688_0\n",
      "  font-ttf-source-c~ pkgs/main/noarch::font-ttf-source-code-pro-2.030-hd3eb1b0_0\n",
      "  font-ttf-ubuntu    pkgs/main/noarch::font-ttf-ubuntu-0.83-h8b1ccd4_0\n",
      "  fontconfig         pkgs/main/win-64::fontconfig-2.14.1-h9c4af85_2\n",
      "  fonts-anaconda     pkgs/main/noarch::fonts-anaconda-1-h8fa9717_0\n",
      "  fonts-conda-ecosy~ pkgs/main/noarch::fonts-conda-ecosystem-1-hd3eb1b0_0\n",
      "  freetype           pkgs/main/win-64::freetype-2.12.1-ha860e81_0\n",
      "  fribidi            pkgs/main/win-64::fribidi-1.0.10-h62dcd97_0\n",
      "  getopt-win32       pkgs/main/win-64::getopt-win32-0.1-h2bbff1b_0\n",
      "  giflib             pkgs/main/win-64::giflib-5.2.1-h8cc25b3_3\n",
      "  glib               pkgs/main/win-64::glib-2.69.1-h5dc1a3c_2\n",
      "  graphite2          pkgs/main/win-64::graphite2-1.3.14-hd77b12b_1\n",
      "  graphviz           pkgs/main/win-64::graphviz-2.50.0-h7eca76f_1\n",
      "  gts                pkgs/main/win-64::gts-0.7.6-h63ab5a1_3\n",
      "  harfbuzz           pkgs/main/win-64::harfbuzz-4.3.0-hb646838_1\n",
      "  lcms2              pkgs/main/win-64::lcms2-2.12-h83e58a3_0\n",
      "  lerc               pkgs/main/win-64::lerc-3.0-hd77b12b_0\n",
      "  libboost           pkgs/main/win-64::libboost-1.82.0-hae598e9_1\n",
      "  libcurl            pkgs/main/win-64::libcurl-8.2.1-h86230a5_0\n",
      "  libdeflate         pkgs/main/win-64::libdeflate-1.17-h2bbff1b_0\n",
      "  libffi             pkgs/main/win-64::libffi-3.4.4-hd77b12b_0\n",
      "  libgd              pkgs/main/win-64::libgd-2.3.3-hd77b12b_2\n",
      "  libiconv           pkgs/main/win-64::libiconv-1.16-h2bbff1b_2\n",
      "  libssh2            pkgs/main/win-64::libssh2-1.10.0-hcd4344a_2\n",
      "  libtiff            pkgs/main/win-64::libtiff-4.5.1-hd77b12b_0\n",
      "  libwebp            pkgs/main/win-64::libwebp-1.2.4-hbc33d0d_1\n",
      "  libwebp-base       pkgs/main/win-64::libwebp-base-1.2.4-h2bbff1b_1\n",
      "  libxml2            pkgs/main/win-64::libxml2-2.10.4-h0ad7f3c_1\n",
      "  lz4-c              pkgs/main/win-64::lz4-c-1.9.4-h2bbff1b_0\n",
      "  openjpeg           pkgs/main/win-64::openjpeg-2.4.0-h4fc8c34_0\n",
      "  pango              pkgs/main/win-64::pango-1.50.7-h78c2152_0\n",
      "  pcre               pkgs/main/win-64::pcre-8.45-hd77b12b_0\n",
      "  pixman             pkgs/main/win-64::pixman-0.40.0-h2bbff1b_1\n",
      "  poppler            pkgs/main/win-64::poppler-22.12.0-h268424c_0\n",
      "  poppler-data       pkgs/main/win-64::poppler-data-0.4.11-haa95532_1\n",
      "  tqdm               pkgs/main/win-64::tqdm-4.65.0-py38hd4e2768_0\n",
      "  xz                 pkgs/main/win-64::xz-5.4.2-h8cc25b3_0\n",
      "  zstd               pkgs/main/win-64::zstd-1.5.5-hd43e919_0\n",
      "\n",
      "The following packages will be UPDATED:\n",
      "\n",
      "  ca-certificates    conda-forge::ca-certificates-2022.6.1~ --> pkgs/main::ca-certificates-2023.08.22-haa95532_0\n",
      "  certifi            conda-forge/noarch::certifi-2022.6.15~ --> pkgs/main/win-64::certifi-2023.7.22-py38haa95532_0\n",
      "  openssl            conda-forge::openssl-1.1.1q-h8ffe710_0 --> pkgs/main::openssl-1.1.1w-h2bbff1b_0\n",
      "  zlib                                    1.2.12-h8cc25b3_2 --> 1.2.13-h8cc25b3_0\n",
      "\n",
      "\n",
      "\n",
      "Downloading and Extracting Packages\n",
      "\n",
      "fonts-conda-ecosyste | 5 KB      |            |   0% \n",
      "fonts-conda-ecosyste | 5 KB      | ########## | 100% \n",
      "fonts-conda-ecosyste | 5 KB      | ########## | 100% \n",
      "\n",
      "pixman-0.40.0        | 402 KB    |            |   0% \n",
      "pixman-0.40.0        | 402 KB    | 3          |   4% \n",
      "pixman-0.40.0        | 402 KB    | #5         |  16% \n",
      "pixman-0.40.0        | 402 KB    | ###9       |  40% \n",
      "pixman-0.40.0        | 402 KB    | #####1     |  52% \n",
      "pixman-0.40.0        | 402 KB    | ######7    |  68% \n",
      "pixman-0.40.0        | 402 KB    | #######5   |  76% \n",
      "pixman-0.40.0        | 402 KB    | ########7  |  87% \n",
      "pixman-0.40.0        | 402 KB    | ########## | 100% \n",
      "pixman-0.40.0        | 402 KB    | ########## | 100% \n",
      "\n",
      "harfbuzz-4.3.0       | 855 KB    |            |   0% \n",
      "harfbuzz-4.3.0       | 855 KB    | 1          |   2% \n",
      "harfbuzz-4.3.0       | 855 KB    | 5          |   6% \n",
      "harfbuzz-4.3.0       | 855 KB    | #4         |  15% \n",
      "harfbuzz-4.3.0       | 855 KB    | ##6        |  26% \n",
      "harfbuzz-4.3.0       | 855 KB    | ###1       |  32% \n",
      "harfbuzz-4.3.0       | 855 KB    | ###9       |  39% \n",
      "harfbuzz-4.3.0       | 855 KB    | ####8      |  49% \n",
      "harfbuzz-4.3.0       | 855 KB    | #####4     |  54% \n",
      "harfbuzz-4.3.0       | 855 KB    | #######2   |  73% \n",
      "harfbuzz-4.3.0       | 855 KB    | ########   |  80% \n",
      "harfbuzz-4.3.0       | 855 KB    | ########7  |  88% \n",
      "harfbuzz-4.3.0       | 855 KB    | #########7 |  97% \n",
      "harfbuzz-4.3.0       | 855 KB    | ########## | 100% \n",
      "\n",
      "libboost-1.82.0      | 22.6 MB   |            |   0% \n",
      "libboost-1.82.0      | 22.6 MB   |            |   0% \n",
      "libboost-1.82.0      | 22.6 MB   |            |   0% \n",
      "libboost-1.82.0      | 22.6 MB   |            |   1% \n",
      "libboost-1.82.0      | 22.6 MB   | 1          |   1% \n",
      "libboost-1.82.0      | 22.6 MB   | 1          |   2% \n",
      "libboost-1.82.0      | 22.6 MB   | 1          |   2% \n",
      "libboost-1.82.0      | 22.6 MB   | 2          |   2% \n",
      "libboost-1.82.0      | 22.6 MB   | 2          |   2% \n",
      "libboost-1.82.0      | 22.6 MB   | 2          |   3% \n",
      "libboost-1.82.0      | 22.6 MB   | 3          |   3% \n",
      "libboost-1.82.0      | 22.6 MB   | 3          |   4% \n",
      "libboost-1.82.0      | 22.6 MB   | 3          |   4% \n",
      "libboost-1.82.0      | 22.6 MB   | 3          |   4% \n",
      "libboost-1.82.0      | 22.6 MB   | 4          |   4% \n",
      "libboost-1.82.0      | 22.6 MB   | 4          |   5% \n",
      "libboost-1.82.0      | 22.6 MB   | 5          |   5% \n",
      "libboost-1.82.0      | 22.6 MB   | 5          |   6% \n",
      "libboost-1.82.0      | 22.6 MB   | 6          |   6% \n",
      "libboost-1.82.0      | 22.6 MB   | 6          |   7% \n",
      "libboost-1.82.0      | 22.6 MB   | 7          |   7% \n",
      "libboost-1.82.0      | 22.6 MB   | 7          |   7% \n",
      "libboost-1.82.0      | 22.6 MB   | 7          |   7% \n",
      "libboost-1.82.0      | 22.6 MB   | 7          |   8% \n",
      "libboost-1.82.0      | 22.6 MB   | 7          |   8% \n",
      "libboost-1.82.0      | 22.6 MB   | 8          |   8% \n",
      "libboost-1.82.0      | 22.6 MB   | 8          |   9% \n",
      "libboost-1.82.0      | 22.6 MB   | 8          |   9% \n",
      "libboost-1.82.0      | 22.6 MB   | 9          |   9% \n",
      "libboost-1.82.0      | 22.6 MB   | 9          |  10% \n",
      "libboost-1.82.0      | 22.6 MB   | 9          |  10% \n",
      "libboost-1.82.0      | 22.6 MB   | #          |  10% \n",
      "libboost-1.82.0      | 22.6 MB   | #          |  10% \n",
      "libboost-1.82.0      | 22.6 MB   | #          |  11% \n",
      "libboost-1.82.0      | 22.6 MB   | #1         |  11% \n",
      "libboost-1.82.0      | 22.6 MB   | #1         |  11% \n",
      "libboost-1.82.0      | 22.6 MB   | #1         |  12% \n",
      "libboost-1.82.0      | 22.6 MB   | #1         |  12% \n",
      "libboost-1.82.0      | 22.6 MB   | #2         |  12% \n",
      "libboost-1.82.0      | 22.6 MB   | #2         |  13% \n",
      "libboost-1.82.0      | 22.6 MB   | #3         |  13% \n",
      "libboost-1.82.0      | 22.6 MB   | #3         |  14% \n",
      "libboost-1.82.0      | 22.6 MB   | #3         |  14% \n",
      "libboost-1.82.0      | 22.6 MB   | #4         |  14% \n",
      "libboost-1.82.0      | 22.6 MB   | #4         |  15% \n",
      "libboost-1.82.0      | 22.6 MB   | #5         |  15% \n",
      "libboost-1.82.0      | 22.6 MB   | #5         |  16% \n",
      "libboost-1.82.0      | 22.6 MB   | #5         |  16% \n",
      "libboost-1.82.0      | 22.6 MB   | #6         |  16% \n",
      "libboost-1.82.0      | 22.6 MB   | #6         |  16% \n",
      "libboost-1.82.0      | 22.6 MB   | #6         |  17% \n",
      "libboost-1.82.0      | 22.6 MB   | #7         |  17% \n",
      "libboost-1.82.0      | 22.6 MB   | #7         |  17% \n",
      "libboost-1.82.0      | 22.6 MB   | #7         |  18% \n",
      "libboost-1.82.0      | 22.6 MB   | #7         |  18% \n",
      "libboost-1.82.0      | 22.6 MB   | #8         |  18% \n",
      "libboost-1.82.0      | 22.6 MB   | #8         |  19% \n",
      "libboost-1.82.0      | 22.6 MB   | #8         |  19% \n",
      "libboost-1.82.0      | 22.6 MB   | #9         |  19% \n",
      "libboost-1.82.0      | 22.6 MB   | #9         |  19% \n",
      "libboost-1.82.0      | 22.6 MB   | #9         |  20% \n",
      "libboost-1.82.0      | 22.6 MB   | #9         |  20% \n",
      "libboost-1.82.0      | 22.6 MB   | ##         |  20% \n",
      "libboost-1.82.0      | 22.6 MB   | ##         |  21% \n",
      "libboost-1.82.0      | 22.6 MB   | ##         |  21% \n",
      "libboost-1.82.0      | 22.6 MB   | ##1        |  21% \n",
      "libboost-1.82.0      | 22.6 MB   | ##1        |  22% \n",
      "libboost-1.82.0      | 22.6 MB   | ##1        |  22% \n",
      "libboost-1.82.0      | 22.6 MB   | ##2        |  22% \n",
      "libboost-1.82.0      | 22.6 MB   | ##2        |  22% \n",
      "libboost-1.82.0      | 22.6 MB   | ##2        |  23% \n",
      "libboost-1.82.0      | 22.6 MB   | ##3        |  23% \n",
      "libboost-1.82.0      | 22.6 MB   | ##3        |  24% \n",
      "libboost-1.82.0      | 22.6 MB   | ##3        |  24% \n",
      "libboost-1.82.0      | 22.6 MB   | ##4        |  24% \n",
      "libboost-1.82.0      | 22.6 MB   | ##4        |  25% \n",
      "libboost-1.82.0      | 22.6 MB   | ##5        |  25% \n",
      "libboost-1.82.0      | 22.6 MB   | ##6        |  26% \n",
      "libboost-1.82.0      | 22.6 MB   | ##6        |  26% \n",
      "libboost-1.82.0      | 22.6 MB   | ##7        |  27% \n",
      "libboost-1.82.0      | 22.6 MB   | ##8        |  28% \n",
      "libboost-1.82.0      | 22.6 MB   | ##8        |  29% \n",
      "libboost-1.82.0      | 22.6 MB   | ##9        |  29% \n",
      "libboost-1.82.0      | 22.6 MB   | ###        |  30% \n",
      "libboost-1.82.0      | 22.6 MB   | ###        |  30% \n",
      "libboost-1.82.0      | 22.6 MB   | ###1       |  31% \n",
      "libboost-1.82.0      | 22.6 MB   | ###2       |  32% \n",
      "libboost-1.82.0      | 22.6 MB   | ###2       |  33% \n",
      "libboost-1.82.0      | 22.6 MB   | ###3       |  33% \n",
      "libboost-1.82.0      | 22.6 MB   | ###3       |  34% \n",
      "libboost-1.82.0      | 22.6 MB   | ###4       |  34% \n",
      "libboost-1.82.0      | 22.6 MB   | ###4       |  34% \n",
      "libboost-1.82.0      | 22.6 MB   | ###4       |  35% \n",
      "libboost-1.82.0      | 22.6 MB   | ###5       |  35% \n",
      "libboost-1.82.0      | 22.6 MB   | ###5       |  36% \n",
      "libboost-1.82.0      | 22.6 MB   | ###6       |  36% \n",
      "libboost-1.82.0      | 22.6 MB   | ###6       |  37% \n",
      "libboost-1.82.0      | 22.6 MB   | ###6       |  37% \n",
      "libboost-1.82.0      | 22.6 MB   | ###7       |  37% \n",
      "libboost-1.82.0      | 22.6 MB   | ###7       |  38% \n",
      "libboost-1.82.0      | 22.6 MB   | ###8       |  38% \n",
      "libboost-1.82.0      | 22.6 MB   | ###8       |  38% \n",
      "libboost-1.82.0      | 22.6 MB   | ###9       |  40% \n",
      "libboost-1.82.0      | 22.6 MB   | ###9       |  40% \n",
      "libboost-1.82.0      | 22.6 MB   | ####       |  40% \n",
      "libboost-1.82.0      | 22.6 MB   | ####       |  41% \n",
      "libboost-1.82.0      | 22.6 MB   | ####1      |  41% \n",
      "libboost-1.82.0      | 22.6 MB   | ####1      |  42% \n",
      "libboost-1.82.0      | 22.6 MB   | ####2      |  43% \n",
      "libboost-1.82.0      | 22.6 MB   | ####3      |  44% \n",
      "libboost-1.82.0      | 22.6 MB   | ####4      |  44% \n",
      "libboost-1.82.0      | 22.6 MB   | ####4      |  45% \n",
      "libboost-1.82.0      | 22.6 MB   | ####6      |  46% \n",
      "libboost-1.82.0      | 22.6 MB   | ####7      |  47% \n",
      "libboost-1.82.0      | 22.6 MB   | ####7      |  48% \n",
      "libboost-1.82.0      | 22.6 MB   | ####8      |  48% \n",
      "libboost-1.82.0      | 22.6 MB   | ####8      |  49% \n",
      "libboost-1.82.0      | 22.6 MB   | ####9      |  49% \n",
      "libboost-1.82.0      | 22.6 MB   | ####9      |  50% \n",
      "libboost-1.82.0      | 22.6 MB   | ####9      |  50% \n",
      "libboost-1.82.0      | 22.6 MB   | #####      |  50% \n",
      "libboost-1.82.0      | 22.6 MB   | #####1     |  52% \n",
      "libboost-1.82.0      | 22.6 MB   | #####2     |  52% \n",
      "libboost-1.82.0      | 22.6 MB   | #####2     |  53% \n",
      "libboost-1.82.0      | 22.6 MB   | #####3     |  54% \n",
      "libboost-1.82.0      | 22.6 MB   | #####4     |  54% \n",
      "libboost-1.82.0      | 22.6 MB   | #####4     |  55% \n",
      "libboost-1.82.0      | 22.6 MB   | #####6     |  56% \n",
      "libboost-1.82.0      | 22.6 MB   | #####6     |  57% \n",
      "libboost-1.82.0      | 22.6 MB   | #####7     |  57% \n",
      "libboost-1.82.0      | 22.6 MB   | #####8     |  58% \n",
      "libboost-1.82.0      | 22.6 MB   | #####8     |  59% \n",
      "libboost-1.82.0      | 22.6 MB   | #####8     |  59% \n",
      "libboost-1.82.0      | 22.6 MB   | ######     |  61% \n",
      "libboost-1.82.0      | 22.6 MB   | ######1    |  61% \n",
      "libboost-1.82.0      | 22.6 MB   | ######1    |  62% \n",
      "libboost-1.82.0      | 22.6 MB   | ######2    |  62% "
     ]
    },
    {
     "name": "stderr",
     "output_type": "stream",
     "text": [
      "\n",
      "The environment is inconsistent, please check the package plan carefully\n",
      "The following packages are causing the inconsistency:\n",
      "\n",
      "  - conda-forge/win-64::conda==4.14.0=py38haa244fe_0\n",
      "  - defaults/win-64::conda-package-handling==1.7.3=py38h8cc25b3_1\n",
      "  - defaults/win-64::ipykernel==6.9.1=py38haa95532_0\n",
      "  - defaults/win-64::ipython==8.4.0=py38haa95532_0\n",
      "  - defaults/noarch::ipywidgets==7.6.5=pyhd3eb1b0_1\n",
      "  - defaults/win-64::jupyter==1.0.0=py38haa95532_8\n",
      "  - conda-forge/noarch::jupyterlab==3.4.5=pyhd8ed1ab_0\n",
      "  - defaults/noarch::jupyter_console==6.4.3=pyhd3eb1b0_0\n",
      "  - defaults/noarch::nbclassic==0.3.5=pyhd3eb1b0_0\n",
      "  - defaults/win-64::notebook==6.4.12=py38haa95532_0\n",
      "  - defaults/win-64::qtconsole==5.3.1=py38haa95532_1\n",
      "  - defaults/win-64::widgetsnbextension==3.5.2=py38haa95532_0\n"
     ]
    },
    {
     "name": "stdout",
     "output_type": "stream",
     "text": [
      "\n",
      "libboost-1.82.0      | 22.6 MB   | ######2    |  63% \n",
      "libboost-1.82.0      | 22.6 MB   | ######2    |  63% \n",
      "libboost-1.82.0      | 22.6 MB   | ######3    |  64% \n",
      "libboost-1.82.0      | 22.6 MB   | ######5    |  65% \n",
      "libboost-1.82.0      | 22.6 MB   | ######5    |  65% \n",
      "libboost-1.82.0      | 22.6 MB   | ######6    |  66% \n",
      "libboost-1.82.0      | 22.6 MB   | ######6    |  67% \n",
      "libboost-1.82.0      | 22.6 MB   | ######7    |  67% \n",
      "libboost-1.82.0      | 22.6 MB   | ######7    |  67% \n",
      "libboost-1.82.0      | 22.6 MB   | ######7    |  68% \n",
      "libboost-1.82.0      | 22.6 MB   | ######8    |  68% \n",
      "libboost-1.82.0      | 22.6 MB   | ######8    |  69% \n",
      "libboost-1.82.0      | 22.6 MB   | ######8    |  69% \n",
      "libboost-1.82.0      | 22.6 MB   | ######9    |  70% \n",
      "libboost-1.82.0      | 22.6 MB   | #######    |  70% \n",
      "libboost-1.82.0      | 22.6 MB   | #######    |  70% \n",
      "libboost-1.82.0      | 22.6 MB   | #######    |  71% \n",
      "libboost-1.82.0      | 22.6 MB   | #######1   |  71% \n",
      "libboost-1.82.0      | 22.6 MB   | #######1   |  72% \n",
      "libboost-1.82.0      | 22.6 MB   | #######2   |  72% \n",
      "libboost-1.82.0      | 22.6 MB   | #######2   |  73% \n",
      "libboost-1.82.0      | 22.6 MB   | #######3   |  73% \n",
      "libboost-1.82.0      | 22.6 MB   | #######3   |  74% \n",
      "libboost-1.82.0      | 22.6 MB   | #######3   |  74% \n",
      "libboost-1.82.0      | 22.6 MB   | #######4   |  74% \n",
      "libboost-1.82.0      | 22.6 MB   | #######4   |  75% \n",
      "libboost-1.82.0      | 22.6 MB   | #######4   |  75% \n",
      "libboost-1.82.0      | 22.6 MB   | #######4   |  75% \n",
      "libboost-1.82.0      | 22.6 MB   | #######5   |  76% \n",
      "libboost-1.82.0      | 22.6 MB   | #######6   |  76% \n",
      "libboost-1.82.0      | 22.6 MB   | #######6   |  77% \n",
      "libboost-1.82.0      | 22.6 MB   | #######7   |  77% \n",
      "libboost-1.82.0      | 22.6 MB   | #######7   |  78% \n",
      "libboost-1.82.0      | 22.6 MB   | #######7   |  78% \n",
      "libboost-1.82.0      | 22.6 MB   | #######8   |  78% \n",
      "libboost-1.82.0      | 22.6 MB   | #######8   |  78% \n",
      "libboost-1.82.0      | 22.6 MB   | #######8   |  79% \n",
      "libboost-1.82.0      | 22.6 MB   | #######9   |  79% \n",
      "libboost-1.82.0      | 22.6 MB   | #######9   |  80% \n",
      "libboost-1.82.0      | 22.6 MB   | ########   |  80% \n",
      "libboost-1.82.0      | 22.6 MB   | ########   |  81% \n",
      "libboost-1.82.0      | 22.6 MB   | ########   |  81% \n",
      "libboost-1.82.0      | 22.6 MB   | ########1  |  81% \n",
      "libboost-1.82.0      | 22.6 MB   | ########1  |  81% \n",
      "libboost-1.82.0      | 22.6 MB   | ########1  |  82% \n",
      "libboost-1.82.0      | 22.6 MB   | ########2  |  82% \n",
      "libboost-1.82.0      | 22.6 MB   | ########2  |  83% \n",
      "libboost-1.82.0      | 22.6 MB   | ########3  |  83% \n",
      "libboost-1.82.0      | 22.6 MB   | ########3  |  84% \n",
      "libboost-1.82.0      | 22.6 MB   | ########4  |  84% \n",
      "libboost-1.82.0      | 22.6 MB   | ########4  |  85% \n",
      "libboost-1.82.0      | 22.6 MB   | ########5  |  85% \n",
      "libboost-1.82.0      | 22.6 MB   | ########5  |  86% \n",
      "libboost-1.82.0      | 22.6 MB   | ########6  |  86% \n",
      "libboost-1.82.0      | 22.6 MB   | ########6  |  86% \n",
      "libboost-1.82.0      | 22.6 MB   | ########7  |  88% \n",
      "libboost-1.82.0      | 22.6 MB   | ########8  |  88% \n",
      "libboost-1.82.0      | 22.6 MB   | ########8  |  89% \n",
      "libboost-1.82.0      | 22.6 MB   | ########9  |  89% \n",
      "libboost-1.82.0      | 22.6 MB   | #########  |  90% \n",
      "libboost-1.82.0      | 22.6 MB   | #########  |  91% \n",
      "libboost-1.82.0      | 22.6 MB   | #########1 |  91% \n",
      "libboost-1.82.0      | 22.6 MB   | #########1 |  92% \n",
      "libboost-1.82.0      | 22.6 MB   | #########2 |  92% \n",
      "libboost-1.82.0      | 22.6 MB   | #########2 |  93% \n",
      "libboost-1.82.0      | 22.6 MB   | #########2 |  93% \n",
      "libboost-1.82.0      | 22.6 MB   | #########3 |  94% \n",
      "libboost-1.82.0      | 22.6 MB   | #########3 |  94% \n",
      "libboost-1.82.0      | 22.6 MB   | #########4 |  94% \n",
      "libboost-1.82.0      | 22.6 MB   | #########4 |  95% \n",
      "libboost-1.82.0      | 22.6 MB   | #########5 |  95% \n",
      "libboost-1.82.0      | 22.6 MB   | #########5 |  95% \n",
      "libboost-1.82.0      | 22.6 MB   | #########5 |  96% \n",
      "libboost-1.82.0      | 22.6 MB   | #########6 |  96% \n",
      "libboost-1.82.0      | 22.6 MB   | #########6 |  96% \n",
      "libboost-1.82.0      | 22.6 MB   | #########7 |  97% \n",
      "libboost-1.82.0      | 22.6 MB   | #########7 |  98% \n",
      "libboost-1.82.0      | 22.6 MB   | #########8 |  98% \n",
      "libboost-1.82.0      | 22.6 MB   | #########8 |  99% \n",
      "libboost-1.82.0      | 22.6 MB   | #########9 |  99% \n",
      "libboost-1.82.0      | 22.6 MB   | #########9 | 100% \n",
      "libboost-1.82.0      | 22.6 MB   | ########## | 100% \n",
      "\n",
      "lcms2-2.12           | 454 KB    |            |   0% \n",
      "lcms2-2.12           | 454 KB    | 3          |   4% \n",
      "lcms2-2.12           | 454 KB    | ####2      |  42% \n",
      "lcms2-2.12           | 454 KB    | ######3    |  63% \n",
      "lcms2-2.12           | 454 KB    | ########   |  81% \n",
      "lcms2-2.12           | 454 KB    | ########## | 100% \n",
      "\n",
      "graphviz-2.50.0      | 1007 KB   |            |   0% \n",
      "graphviz-2.50.0      | 1007 KB   | 1          |   2% \n",
      "graphviz-2.50.0      | 1007 KB   | #4         |  14% \n",
      "graphviz-2.50.0      | 1007 KB   | #7         |  17% \n",
      "graphviz-2.50.0      | 1007 KB   | ##5        |  25% \n",
      "graphviz-2.50.0      | 1007 KB   | ####2      |  43% \n",
      "graphviz-2.50.0      | 1007 KB   | #####8     |  59% \n",
      "graphviz-2.50.0      | 1007 KB   | ######5    |  65% \n",
      "graphviz-2.50.0      | 1007 KB   | ######9    |  70% \n",
      "graphviz-2.50.0      | 1007 KB   | #######4   |  75% \n",
      "graphviz-2.50.0      | 1007 KB   | ########4  |  84% \n",
      "graphviz-2.50.0      | 1007 KB   | ########## | 100% \n",
      "graphviz-2.50.0      | 1007 KB   | ########## | 100% \n",
      "\n",
      "tqdm-4.65.0          | 149 KB    |            |   0% \n",
      "tqdm-4.65.0          | 149 KB    | #          |  11% \n",
      "tqdm-4.65.0          | 149 KB    | ###2       |  32% \n",
      "tqdm-4.65.0          | 149 KB    | #######5   |  75% \n",
      "tqdm-4.65.0          | 149 KB    | ########## | 100% \n",
      "\n",
      "getopt-win32-0.1     | 19 KB     |            |   0% \n",
      "getopt-win32-0.1     | 19 KB     | ########6  |  86% \n",
      "getopt-win32-0.1     | 19 KB     | ########## | 100% \n",
      "\n",
      "poppler-data-0.4.11  | 432 KB    |            |   0% \n",
      "poppler-data-0.4.11  | 432 KB    | 3          |   4% \n",
      "poppler-data-0.4.11  | 432 KB    | #4         |  15% \n",
      "poppler-data-0.4.11  | 432 KB    | ###3       |  33% \n",
      "poppler-data-0.4.11  | 432 KB    | ####8      |  48% \n",
      "poppler-data-0.4.11  | 432 KB    | ########5  |  85% \n",
      "poppler-data-0.4.11  | 432 KB    | #########6 |  96% \n",
      "poppler-data-0.4.11  | 432 KB    | ########## | 100% \n",
      "\n",
      "libxml2-2.10.4       | 2.8 MB    |            |   0% \n",
      "libxml2-2.10.4       | 2.8 MB    |            |   1% \n",
      "libxml2-2.10.4       | 2.8 MB    | 4          |   4% \n",
      "libxml2-2.10.4       | 2.8 MB    | 6          |   6% \n",
      "libxml2-2.10.4       | 2.8 MB    | 7          |   8% \n",
      "libxml2-2.10.4       | 2.8 MB    | 9          |   9% \n",
      "libxml2-2.10.4       | 2.8 MB    | #1         |  12% \n",
      "libxml2-2.10.4       | 2.8 MB    | #4         |  14% \n",
      "libxml2-2.10.4       | 2.8 MB    | #5         |  16% \n",
      "libxml2-2.10.4       | 2.8 MB    | #7         |  18% \n",
      "libxml2-2.10.4       | 2.8 MB    | #9         |  19% \n",
      "libxml2-2.10.4       | 2.8 MB    | ##1        |  21% \n",
      "libxml2-2.10.4       | 2.8 MB    | ##3        |  23% \n",
      "libxml2-2.10.4       | 2.8 MB    | ##4        |  24% \n",
      "libxml2-2.10.4       | 2.8 MB    | ##8        |  29% \n",
      "libxml2-2.10.4       | 2.8 MB    | ###        |  31% \n",
      "libxml2-2.10.4       | 2.8 MB    | ###2       |  32% \n",
      "libxml2-2.10.4       | 2.8 MB    | ###6       |  37% \n",
      "libxml2-2.10.4       | 2.8 MB    | ###8       |  39% \n",
      "libxml2-2.10.4       | 2.8 MB    | ###9       |  40% \n",
      "libxml2-2.10.4       | 2.8 MB    | ####1      |  41% \n",
      "libxml2-2.10.4       | 2.8 MB    | ####2      |  42% \n",
      "libxml2-2.10.4       | 2.8 MB    | ####3      |  43% \n",
      "libxml2-2.10.4       | 2.8 MB    | ####4      |  45% \n",
      "libxml2-2.10.4       | 2.8 MB    | ####5      |  46% \n",
      "libxml2-2.10.4       | 2.8 MB    | ####7      |  48% \n",
      "libxml2-2.10.4       | 2.8 MB    | ####8      |  49% \n",
      "libxml2-2.10.4       | 2.8 MB    | #####      |  50% \n",
      "libxml2-2.10.4       | 2.8 MB    | #####1     |  51% \n",
      "libxml2-2.10.4       | 2.8 MB    | #####2     |  52% \n",
      "libxml2-2.10.4       | 2.8 MB    | #####3     |  53% \n",
      "libxml2-2.10.4       | 2.8 MB    | #####4     |  54% \n",
      "libxml2-2.10.4       | 2.8 MB    | #####5     |  55% \n",
      "libxml2-2.10.4       | 2.8 MB    | #####5     |  56% \n",
      "libxml2-2.10.4       | 2.8 MB    | #####7     |  58% \n",
      "libxml2-2.10.4       | 2.8 MB    | #####8     |  58% \n",
      "libxml2-2.10.4       | 2.8 MB    | #####8     |  59% \n",
      "libxml2-2.10.4       | 2.8 MB    | #####9     |  59% \n",
      "libxml2-2.10.4       | 2.8 MB    | #####9     |  60% \n",
      "libxml2-2.10.4       | 2.8 MB    | ######1    |  61% \n",
      "libxml2-2.10.4       | 2.8 MB    | ######2    |  63% \n",
      "libxml2-2.10.4       | 2.8 MB    | ######3    |  64% \n",
      "libxml2-2.10.4       | 2.8 MB    | ######4    |  65% \n",
      "libxml2-2.10.4       | 2.8 MB    | ######6    |  66% \n",
      "libxml2-2.10.4       | 2.8 MB    | ######6    |  67% \n",
      "libxml2-2.10.4       | 2.8 MB    | ######7    |  67% \n",
      "libxml2-2.10.4       | 2.8 MB    | ######7    |  68% \n",
      "libxml2-2.10.4       | 2.8 MB    | ######8    |  68% \n",
      "libxml2-2.10.4       | 2.8 MB    | ######8    |  69% \n",
      "libxml2-2.10.4       | 2.8 MB    | ######9    |  70% \n",
      "libxml2-2.10.4       | 2.8 MB    | #######    |  70% \n",
      "libxml2-2.10.4       | 2.8 MB    | #######    |  71% \n",
      "libxml2-2.10.4       | 2.8 MB    | #######1   |  72% \n",
      "libxml2-2.10.4       | 2.8 MB    | #######2   |  72% \n",
      "libxml2-2.10.4       | 2.8 MB    | #######2   |  73% \n",
      "libxml2-2.10.4       | 2.8 MB    | #######3   |  73% \n",
      "libxml2-2.10.4       | 2.8 MB    | #######4   |  74% \n",
      "libxml2-2.10.4       | 2.8 MB    | #######4   |  75% \n",
      "libxml2-2.10.4       | 2.8 MB    | #######5   |  75% \n",
      "libxml2-2.10.4       | 2.8 MB    | #######5   |  76% \n",
      "libxml2-2.10.4       | 2.8 MB    | #######6   |  77% \n",
      "libxml2-2.10.4       | 2.8 MB    | #######7   |  77% \n",
      "libxml2-2.10.4       | 2.8 MB    | #######7   |  78% \n",
      "libxml2-2.10.4       | 2.8 MB    | #######8   |  78% \n",
      "libxml2-2.10.4       | 2.8 MB    | #######8   |  79% \n",
      "libxml2-2.10.4       | 2.8 MB    | #######9   |  79% \n",
      "libxml2-2.10.4       | 2.8 MB    | #######9   |  80% \n",
      "libxml2-2.10.4       | 2.8 MB    | ########   |  80% \n",
      "libxml2-2.10.4       | 2.8 MB    | ########   |  81% \n",
      "libxml2-2.10.4       | 2.8 MB    | ########1  |  81% \n",
      "libxml2-2.10.4       | 2.8 MB    | ########2  |  82% \n",
      "libxml2-2.10.4       | 2.8 MB    | ########2  |  83% \n",
      "libxml2-2.10.4       | 2.8 MB    | ########3  |  83% \n",
      "libxml2-2.10.4       | 2.8 MB    | ########3  |  84% \n",
      "libxml2-2.10.4       | 2.8 MB    | ########4  |  84% \n",
      "libxml2-2.10.4       | 2.8 MB    | ########4  |  85% \n",
      "libxml2-2.10.4       | 2.8 MB    | ########5  |  85% \n",
      "libxml2-2.10.4       | 2.8 MB    | ########5  |  86% \n",
      "libxml2-2.10.4       | 2.8 MB    | ########6  |  86% \n",
      "libxml2-2.10.4       | 2.8 MB    | ########6  |  87% \n",
      "libxml2-2.10.4       | 2.8 MB    | ########7  |  88% \n",
      "libxml2-2.10.4       | 2.8 MB    | ########8  |  88% \n",
      "libxml2-2.10.4       | 2.8 MB    | ########8  |  89% \n",
      "libxml2-2.10.4       | 2.8 MB    | ########9  |  89% \n",
      "libxml2-2.10.4       | 2.8 MB    | ########9  |  90% \n",
      "libxml2-2.10.4       | 2.8 MB    | #########  |  91% \n",
      "libxml2-2.10.4       | 2.8 MB    | #########1 |  91% \n",
      "libxml2-2.10.4       | 2.8 MB    | #########1 |  92% \n",
      "libxml2-2.10.4       | 2.8 MB    | #########2 |  92% \n",
      "libxml2-2.10.4       | 2.8 MB    | #########3 |  93% \n",
      "libxml2-2.10.4       | 2.8 MB    | #########3 |  94% \n",
      "libxml2-2.10.4       | 2.8 MB    | #########4 |  94% \n",
      "libxml2-2.10.4       | 2.8 MB    | #########4 |  95% \n",
      "libxml2-2.10.4       | 2.8 MB    | #########5 |  95% \n",
      "libxml2-2.10.4       | 2.8 MB    | #########5 |  96% \n",
      "libxml2-2.10.4       | 2.8 MB    | #########6 |  96% \n",
      "libxml2-2.10.4       | 2.8 MB    | #########6 |  97% \n",
      "libxml2-2.10.4       | 2.8 MB    | #########7 |  97% \n",
      "libxml2-2.10.4       | 2.8 MB    | #########7 |  98% \n",
      "libxml2-2.10.4       | 2.8 MB    | #########8 |  99% \n",
      "libxml2-2.10.4       | 2.8 MB    | #########9 |  99% \n",
      "libxml2-2.10.4       | 2.8 MB    | #########9 | 100% \n",
      "libxml2-2.10.4       | 2.8 MB    | ########## | 100% \n",
      "libxml2-2.10.4       | 2.8 MB    | ########## | 100% \n",
      "\n",
      "fribidi-1.0.10       | 63 KB     |            |   0% \n",
      "fribidi-1.0.10       | 63 KB     | ##5        |  25% \n",
      "fribidi-1.0.10       | 63 KB     | #####      |  51% \n",
      "fribidi-1.0.10       | 63 KB     | #######6   |  76% \n",
      "fribidi-1.0.10       | 63 KB     | ########## | 100% \n",
      "\n",
      "expat-2.5.0          | 225 KB    |            |   0% \n",
      "expat-2.5.0          | 225 KB    | 7          |   7% \n",
      "expat-2.5.0          | 225 KB    | #4         |  14% \n",
      "expat-2.5.0          | 225 KB    | ##1        |  21% \n",
      "expat-2.5.0          | 225 KB    | ##8        |  28% \n",
      "expat-2.5.0          | 225 KB    | ###5       |  36% \n",
      "expat-2.5.0          | 225 KB    | ####2      |  43% \n",
      "expat-2.5.0          | 225 KB    | ####9      |  50% \n",
      "expat-2.5.0          | 225 KB    | #####6     |  57% \n",
      "expat-2.5.0          | 225 KB    | #########2 |  92% \n",
      "expat-2.5.0          | 225 KB    | ########## | 100% \n",
      "\n",
      "graphite2-1.3.14     | 91 KB     |            |   0% \n",
      "graphite2-1.3.14     | 91 KB     | #7         |  18% \n",
      "graphite2-1.3.14     | 91 KB     | ###5       |  35% \n",
      "graphite2-1.3.14     | 91 KB     | #######    |  71% \n",
      "graphite2-1.3.14     | 91 KB     | ########## | 100% \n",
      "\n",
      "font-ttf-inconsolata | 83 KB     |            |   0% \n",
      "font-ttf-inconsolata | 83 KB     | #9         |  19% \n",
      "font-ttf-inconsolata | 83 KB     | #####7     |  57% \n",
      "font-ttf-inconsolata | 83 KB     | #######6   |  77% \n",
      "font-ttf-inconsolata | 83 KB     | ########## | 100% \n",
      "\n",
      "libgd-2.3.3          | 350 KB    |            |   0% \n",
      "libgd-2.3.3          | 350 KB    | 4          |   5% \n",
      "libgd-2.3.3          | 350 KB    | #8         |  18% \n",
      "libgd-2.3.3          | 350 KB    | ##7        |  27% \n",
      "libgd-2.3.3          | 350 KB    | ####1      |  41% \n",
      "libgd-2.3.3          | 350 KB    | #####      |  50% \n",
      "libgd-2.3.3          | 350 KB    | #####9     |  59% \n",
      "libgd-2.3.3          | 350 KB    | ######3    |  64% \n",
      "libgd-2.3.3          | 350 KB    | #######7   |  78% \n",
      "libgd-2.3.3          | 350 KB    | ########2  |  82% \n",
      "libgd-2.3.3          | 350 KB    | ########6  |  87% \n",
      "libgd-2.3.3          | 350 KB    | #########1 |  91% \n",
      "libgd-2.3.3          | 350 KB    | ########## | 100% \n",
      "\n",
      "pango-1.50.7         | 279 KB    |            |   0% \n",
      "pango-1.50.7         | 279 KB    | 5          |   6% \n",
      "pango-1.50.7         | 279 KB    | #1         |  11% \n",
      "pango-1.50.7         | 279 KB    | ##2        |  23% \n",
      "pango-1.50.7         | 279 KB    | ##8        |  29% \n",
      "pango-1.50.7         | 279 KB    | ###4       |  34% \n",
      "pango-1.50.7         | 279 KB    | #####1     |  52% \n",
      "pango-1.50.7         | 279 KB    | ######3    |  63% \n",
      "pango-1.50.7         | 279 KB    | ######8    |  69% \n",
      "pango-1.50.7         | 279 KB    | #######4   |  75% \n",
      "pango-1.50.7         | 279 KB    | ########   |  80% \n",
      "pango-1.50.7         | 279 KB    | ########5  |  86% \n",
      "pango-1.50.7         | 279 KB    | #########1 |  92% \n",
      "pango-1.50.7         | 279 KB    | #########7 |  97% \n",
      "pango-1.50.7         | 279 KB    | ########## | 100% \n",
      "\n",
      "font-ttf-dejavu-sans | 335 KB    |            |   0% \n",
      "font-ttf-dejavu-sans | 335 KB    | 4          |   5% \n",
      "font-ttf-dejavu-sans | 335 KB    | #4         |  14% \n",
      "font-ttf-dejavu-sans | 335 KB    | #9         |  19% \n",
      "font-ttf-dejavu-sans | 335 KB    | ##3        |  24% \n",
      "font-ttf-dejavu-sans | 335 KB    | ##8        |  29% \n",
      "font-ttf-dejavu-sans | 335 KB    | ###8       |  38% \n",
      "font-ttf-dejavu-sans | 335 KB    | ####7      |  48% \n",
      "font-ttf-dejavu-sans | 335 KB    | #####2     |  53% \n",
      "font-ttf-dejavu-sans | 335 KB    | #####7     |  57% \n",
      "font-ttf-dejavu-sans | 335 KB    | ######2    |  62% \n",
      "font-ttf-dejavu-sans | 335 KB    | ######6    |  67% \n",
      "font-ttf-dejavu-sans | 335 KB    | #######1   |  72% \n",
      "font-ttf-dejavu-sans | 335 KB    | #######6   |  76% \n",
      "font-ttf-dejavu-sans | 335 KB    | ########1  |  81% \n",
      "font-ttf-dejavu-sans | 335 KB    | ########6  |  86% \n",
      "font-ttf-dejavu-sans | 335 KB    | #########5 |  96% \n",
      "font-ttf-dejavu-sans | 335 KB    | ########## | 100% \n",
      "\n",
      "openssl-1.1.1w       | 5.5 MB    |            |   0% \n",
      "openssl-1.1.1w       | 5.5 MB    |            |   0% \n",
      "openssl-1.1.1w       | 5.5 MB    |            |   1% \n",
      "openssl-1.1.1w       | 5.5 MB    |            |   1% \n",
      "openssl-1.1.1w       | 5.5 MB    | 1          |   1% \n",
      "openssl-1.1.1w       | 5.5 MB    | 1          |   1% \n",
      "openssl-1.1.1w       | 5.5 MB    | 1          |   2% \n",
      "openssl-1.1.1w       | 5.5 MB    | 1          |   2% \n",
      "openssl-1.1.1w       | 5.5 MB    | 2          |   2% \n",
      "openssl-1.1.1w       | 5.5 MB    | 2          |   3% \n",
      "openssl-1.1.1w       | 5.5 MB    | 2          |   3% \n",
      "openssl-1.1.1w       | 5.5 MB    | 3          |   3% \n",
      "openssl-1.1.1w       | 5.5 MB    | 3          |   3% \n",
      "openssl-1.1.1w       | 5.5 MB    | 3          |   4% \n",
      "openssl-1.1.1w       | 5.5 MB    | 3          |   4% \n",
      "openssl-1.1.1w       | 5.5 MB    | 4          |   4% \n",
      "openssl-1.1.1w       | 5.5 MB    | 4          |   5% \n",
      "openssl-1.1.1w       | 5.5 MB    | 4          |   5% \n",
      "openssl-1.1.1w       | 5.5 MB    | 5          |   5% \n",
      "openssl-1.1.1w       | 5.5 MB    | 5          |   5% \n",
      "openssl-1.1.1w       | 5.5 MB    | 5          |   6% \n",
      "openssl-1.1.1w       | 5.5 MB    | 5          |   6% \n",
      "openssl-1.1.1w       | 5.5 MB    | 6          |   6% \n",
      "openssl-1.1.1w       | 5.5 MB    | 6          |   7% \n",
      "openssl-1.1.1w       | 5.5 MB    | 6          |   7% \n",
      "openssl-1.1.1w       | 5.5 MB    | 7          |   7% \n",
      "openssl-1.1.1w       | 5.5 MB    | 7          |   7% \n",
      "openssl-1.1.1w       | 5.5 MB    | 7          |   8% \n",
      "openssl-1.1.1w       | 5.5 MB    | 8          |   8% \n",
      "openssl-1.1.1w       | 5.5 MB    | 8          |   9% \n",
      "openssl-1.1.1w       | 5.5 MB    | 8          |   9% \n",
      "openssl-1.1.1w       | 5.5 MB    | 9          |   9% \n",
      "openssl-1.1.1w       | 5.5 MB    | 9          |   9% \n",
      "openssl-1.1.1w       | 5.5 MB    | 9          |  10% \n",
      "openssl-1.1.1w       | 5.5 MB    | 9          |  10% \n",
      "openssl-1.1.1w       | 5.5 MB    | #          |  10% \n",
      "openssl-1.1.1w       | 5.5 MB    | #          |  11% \n",
      "openssl-1.1.1w       | 5.5 MB    | #          |  11% \n",
      "openssl-1.1.1w       | 5.5 MB    | #1         |  11% \n",
      "openssl-1.1.1w       | 5.5 MB    | #1         |  11% \n",
      "openssl-1.1.1w       | 5.5 MB    | #1         |  12% \n",
      "openssl-1.1.1w       | 5.5 MB    | #1         |  12% \n",
      "openssl-1.1.1w       | 5.5 MB    | #2         |  12% \n",
      "openssl-1.1.1w       | 5.5 MB    | #2         |  13% \n",
      "openssl-1.1.1w       | 5.5 MB    | #2         |  13% \n",
      "openssl-1.1.1w       | 5.5 MB    | #3         |  13% \n",
      "openssl-1.1.1w       | 5.5 MB    | #3         |  13% \n",
      "openssl-1.1.1w       | 5.5 MB    | #3         |  14% \n",
      "openssl-1.1.1w       | 5.5 MB    | #4         |  14% \n",
      "openssl-1.1.1w       | 5.5 MB    | #4         |  14% \n",
      "openssl-1.1.1w       | 5.5 MB    | #5         |  15% \n",
      "openssl-1.1.1w       | 5.5 MB    | #5         |  15% \n",
      "openssl-1.1.1w       | 5.5 MB    | #5         |  16% \n",
      "openssl-1.1.1w       | 5.5 MB    | #5         |  16% \n",
      "openssl-1.1.1w       | 5.5 MB    | #6         |  16% \n",
      "openssl-1.1.1w       | 5.5 MB    | #6         |  17% \n",
      "openssl-1.1.1w       | 5.5 MB    | #7         |  17% \n",
      "openssl-1.1.1w       | 5.5 MB    | #7         |  17% \n",
      "openssl-1.1.1w       | 5.5 MB    | #7         |  18% \n",
      "openssl-1.1.1w       | 5.5 MB    | #7         |  18% \n",
      "openssl-1.1.1w       | 5.5 MB    | #8         |  18% \n",
      "openssl-1.1.1w       | 5.5 MB    | #8         |  18% \n",
      "openssl-1.1.1w       | 5.5 MB    | #8         |  19% \n",
      "openssl-1.1.1w       | 5.5 MB    | #9         |  19% \n",
      "openssl-1.1.1w       | 5.5 MB    | #9         |  19% \n",
      "openssl-1.1.1w       | 5.5 MB    | #9         |  20% \n",
      "openssl-1.1.1w       | 5.5 MB    | ##         |  20% \n",
      "openssl-1.1.1w       | 5.5 MB    | ##         |  20% \n",
      "openssl-1.1.1w       | 5.5 MB    | ##1        |  21% \n",
      "openssl-1.1.1w       | 5.5 MB    | ##1        |  21% \n",
      "openssl-1.1.1w       | 5.5 MB    | ##1        |  22% \n",
      "openssl-1.1.1w       | 5.5 MB    | ##2        |  22% \n",
      "openssl-1.1.1w       | 5.5 MB    | ##2        |  23% \n",
      "openssl-1.1.1w       | 5.5 MB    | ##3        |  23% \n",
      "openssl-1.1.1w       | 5.5 MB    | ##3        |  23% \n",
      "openssl-1.1.1w       | 5.5 MB    | ##3        |  24% \n",
      "openssl-1.1.1w       | 5.5 MB    | ##3        |  24% \n",
      "openssl-1.1.1w       | 5.5 MB    | ##4        |  24% \n",
      "openssl-1.1.1w       | 5.5 MB    | ##4        |  24% \n",
      "openssl-1.1.1w       | 5.5 MB    | ##4        |  25% \n",
      "openssl-1.1.1w       | 5.5 MB    | ##5        |  25% \n",
      "openssl-1.1.1w       | 5.5 MB    | ##5        |  25% \n",
      "openssl-1.1.1w       | 5.5 MB    | ##5        |  26% \n",
      "openssl-1.1.1w       | 5.5 MB    | ##5        |  26% \n",
      "openssl-1.1.1w       | 5.5 MB    | ##6        |  26% \n",
      "openssl-1.1.1w       | 5.5 MB    | ##6        |  26% \n",
      "openssl-1.1.1w       | 5.5 MB    | ##6        |  27% \n",
      "openssl-1.1.1w       | 5.5 MB    | ##7        |  27% \n",
      "openssl-1.1.1w       | 5.5 MB    | ##7        |  28% \n",
      "openssl-1.1.1w       | 5.5 MB    | ##7        |  28% \n",
      "openssl-1.1.1w       | 5.5 MB    | ##8        |  28% \n",
      "openssl-1.1.1w       | 5.5 MB    | ##8        |  28% \n",
      "openssl-1.1.1w       | 5.5 MB    | ##8        |  29% \n",
      "openssl-1.1.1w       | 5.5 MB    | ##8        |  29% \n",
      "openssl-1.1.1w       | 5.5 MB    | ##9        |  29% \n",
      "openssl-1.1.1w       | 5.5 MB    | ##9        |  30% \n",
      "openssl-1.1.1w       | 5.5 MB    | ##9        |  30% \n",
      "openssl-1.1.1w       | 5.5 MB    | ###        |  30% \n",
      "openssl-1.1.1w       | 5.5 MB    | ###        |  30% \n",
      "openssl-1.1.1w       | 5.5 MB    | ###        |  31% \n",
      "openssl-1.1.1w       | 5.5 MB    | ###        |  31% \n",
      "openssl-1.1.1w       | 5.5 MB    | ###1       |  31% \n",
      "openssl-1.1.1w       | 5.5 MB    | ###1       |  32% \n",
      "openssl-1.1.1w       | 5.5 MB    | ###1       |  32% \n",
      "openssl-1.1.1w       | 5.5 MB    | ###3       |  33% \n",
      "openssl-1.1.1w       | 5.5 MB    | ###3       |  34% \n",
      "openssl-1.1.1w       | 5.5 MB    | ###4       |  34% \n",
      "openssl-1.1.1w       | 5.5 MB    | ###4       |  34% \n",
      "openssl-1.1.1w       | 5.5 MB    | ###4       |  35% \n",
      "openssl-1.1.1w       | 5.5 MB    | ###4       |  35% \n",
      "openssl-1.1.1w       | 5.5 MB    | ###5       |  36% \n",
      "openssl-1.1.1w       | 5.5 MB    | ###5       |  36% \n",
      "openssl-1.1.1w       | 5.5 MB    | ###6       |  36% \n",
      "openssl-1.1.1w       | 5.5 MB    | ###6       |  36% \n",
      "openssl-1.1.1w       | 5.5 MB    | ###6       |  37% \n",
      "openssl-1.1.1w       | 5.5 MB    | ###6       |  37% \n",
      "openssl-1.1.1w       | 5.5 MB    | ###7       |  37% \n",
      "openssl-1.1.1w       | 5.5 MB    | ###7       |  38% \n",
      "openssl-1.1.1w       | 5.5 MB    | ###7       |  38% \n",
      "openssl-1.1.1w       | 5.5 MB    | ###8       |  38% \n",
      "openssl-1.1.1w       | 5.5 MB    | ###8       |  38% \n",
      "openssl-1.1.1w       | 5.5 MB    | ###8       |  39% \n",
      "openssl-1.1.1w       | 5.5 MB    | ###8       |  39% \n",
      "openssl-1.1.1w       | 5.5 MB    | ###9       |  39% \n",
      "openssl-1.1.1w       | 5.5 MB    | ###9       |  40% \n",
      "openssl-1.1.1w       | 5.5 MB    | ###9       |  40% \n",
      "openssl-1.1.1w       | 5.5 MB    | ####       |  40% \n",
      "openssl-1.1.1w       | 5.5 MB    | ####       |  40% \n",
      "openssl-1.1.1w       | 5.5 MB    | ####       |  41% \n",
      "openssl-1.1.1w       | 5.5 MB    | ####       |  41% \n",
      "openssl-1.1.1w       | 5.5 MB    | ####1      |  41% \n",
      "openssl-1.1.1w       | 5.5 MB    | ####1      |  42% \n",
      "openssl-1.1.1w       | 5.5 MB    | ####1      |  42% \n",
      "openssl-1.1.1w       | 5.5 MB    | ####2      |  42% \n",
      "openssl-1.1.1w       | 5.5 MB    | ####2      |  42% \n",
      "openssl-1.1.1w       | 5.5 MB    | ####3      |  43% \n",
      "openssl-1.1.1w       | 5.5 MB    | ####3      |  44% \n",
      "openssl-1.1.1w       | 5.5 MB    | ####4      |  44% \n",
      "openssl-1.1.1w       | 5.5 MB    | ####4      |  44% \n",
      "openssl-1.1.1w       | 5.5 MB    | ####4      |  45% \n",
      "openssl-1.1.1w       | 5.5 MB    | ####4      |  45% \n",
      "openssl-1.1.1w       | 5.5 MB    | ####5      |  45% \n",
      "openssl-1.1.1w       | 5.5 MB    | ####5      |  46% \n",
      "openssl-1.1.1w       | 5.5 MB    | ####6      |  46% \n",
      "openssl-1.1.1w       | 5.5 MB    | ####6      |  46% \n",
      "openssl-1.1.1w       | 5.5 MB    | ####6      |  47% \n",
      "openssl-1.1.1w       | 5.5 MB    | ####6      |  47% \n",
      "openssl-1.1.1w       | 5.5 MB    | ####7      |  47% \n",
      "openssl-1.1.1w       | 5.5 MB    | ####7      |  47% \n",
      "openssl-1.1.1w       | 5.5 MB    | ####7      |  48% \n",
      "openssl-1.1.1w       | 5.5 MB    | ####8      |  48% \n",
      "openssl-1.1.1w       | 5.5 MB    | ####8      |  48% \n",
      "openssl-1.1.1w       | 5.5 MB    | ####8      |  49% \n",
      "openssl-1.1.1w       | 5.5 MB    | ####8      |  49% \n",
      "openssl-1.1.1w       | 5.5 MB    | ####9      |  49% \n",
      "openssl-1.1.1w       | 5.5 MB    | ####9      |  49% \n",
      "openssl-1.1.1w       | 5.5 MB    | ####9      |  50% \n",
      "openssl-1.1.1w       | 5.5 MB    | #####      |  50% \n",
      "openssl-1.1.1w       | 5.5 MB    | #####      |  50% \n",
      "openssl-1.1.1w       | 5.5 MB    | #####      |  51% \n",
      "openssl-1.1.1w       | 5.5 MB    | #####      |  51% \n",
      "openssl-1.1.1w       | 5.5 MB    | #####1     |  51% \n",
      "openssl-1.1.1w       | 5.5 MB    | #####1     |  51% \n",
      "openssl-1.1.1w       | 5.5 MB    | #####1     |  52% \n",
      "openssl-1.1.1w       | 5.5 MB    | #####2     |  52% \n",
      "openssl-1.1.1w       | 5.5 MB    | #####2     |  52% \n",
      "openssl-1.1.1w       | 5.5 MB    | #####2     |  53% \n",
      "openssl-1.1.1w       | 5.5 MB    | #####3     |  53% \n",
      "openssl-1.1.1w       | 5.5 MB    | #####3     |  53% \n",
      "openssl-1.1.1w       | 5.5 MB    | #####3     |  54% \n",
      "openssl-1.1.1w       | 5.5 MB    | #####4     |  54% \n",
      "openssl-1.1.1w       | 5.5 MB    | #####4     |  54% \n",
      "openssl-1.1.1w       | 5.5 MB    | #####4     |  55% \n",
      "openssl-1.1.1w       | 5.5 MB    | #####5     |  55% \n",
      "openssl-1.1.1w       | 5.5 MB    | #####5     |  55% \n",
      "openssl-1.1.1w       | 5.5 MB    | #####5     |  56% \n",
      "openssl-1.1.1w       | 5.5 MB    | #####5     |  56% \n",
      "openssl-1.1.1w       | 5.5 MB    | #####6     |  56% \n",
      "openssl-1.1.1w       | 5.5 MB    | #####6     |  57% \n",
      "openssl-1.1.1w       | 5.5 MB    | #####6     |  57% \n",
      "openssl-1.1.1w       | 5.5 MB    | #####7     |  57% \n",
      "openssl-1.1.1w       | 5.5 MB    | #####7     |  57% \n",
      "openssl-1.1.1w       | 5.5 MB    | #####7     |  58% \n",
      "openssl-1.1.1w       | 5.5 MB    | #####7     |  58% \n",
      "openssl-1.1.1w       | 5.5 MB    | #####8     |  58% \n",
      "openssl-1.1.1w       | 5.5 MB    | #####8     |  59% \n",
      "openssl-1.1.1w       | 5.5 MB    | #####8     |  59% \n",
      "openssl-1.1.1w       | 5.5 MB    | #####9     |  59% \n",
      "openssl-1.1.1w       | 5.5 MB    | #####9     |  59% \n",
      "openssl-1.1.1w       | 5.5 MB    | #####9     |  60% \n",
      "openssl-1.1.1w       | 5.5 MB    | #####9     |  60% \n",
      "openssl-1.1.1w       | 5.5 MB    | ######     |  60% \n",
      "openssl-1.1.1w       | 5.5 MB    | ######     |  61% \n",
      "openssl-1.1.1w       | 5.5 MB    | ######     |  61% \n",
      "openssl-1.1.1w       | 5.5 MB    | ######1    |  61% \n",
      "openssl-1.1.1w       | 5.5 MB    | ######1    |  61% \n",
      "openssl-1.1.1w       | 5.5 MB    | ######1    |  62% \n",
      "openssl-1.1.1w       | 5.5 MB    | ######1    |  62% \n",
      "openssl-1.1.1w       | 5.5 MB    | ######2    |  62% \n",
      "openssl-1.1.1w       | 5.5 MB    | ######2    |  63% \n",
      "openssl-1.1.1w       | 5.5 MB    | ######2    |  63% \n",
      "openssl-1.1.1w       | 5.5 MB    | ######3    |  64% \n",
      "openssl-1.1.1w       | 5.5 MB    | ######3    |  64% \n",
      "openssl-1.1.1w       | 5.5 MB    | ######4    |  65% \n",
      "openssl-1.1.1w       | 5.5 MB    | ######4    |  65% \n",
      "openssl-1.1.1w       | 5.5 MB    | ######5    |  65% \n",
      "openssl-1.1.1w       | 5.5 MB    | ######5    |  65% \n",
      "openssl-1.1.1w       | 5.5 MB    | ######5    |  66% \n",
      "openssl-1.1.1w       | 5.5 MB    | ######5    |  66% \n",
      "openssl-1.1.1w       | 5.5 MB    | ######6    |  66% \n",
      "openssl-1.1.1w       | 5.5 MB    | ######6    |  67% \n",
      "openssl-1.1.1w       | 5.5 MB    | ######6    |  67% \n",
      "openssl-1.1.1w       | 5.5 MB    | ######7    |  67% \n",
      "openssl-1.1.1w       | 5.5 MB    | ######7    |  67% \n",
      "openssl-1.1.1w       | 5.5 MB    | ######7    |  68% \n",
      "openssl-1.1.1w       | 5.5 MB    | ######7    |  68% \n",
      "openssl-1.1.1w       | 5.5 MB    | ######8    |  68% \n",
      "openssl-1.1.1w       | 5.5 MB    | ######8    |  69% \n",
      "openssl-1.1.1w       | 5.5 MB    | ######8    |  69% \n",
      "openssl-1.1.1w       | 5.5 MB    | ######9    |  69% \n",
      "openssl-1.1.1w       | 5.5 MB    | ######9    |  69% \n",
      "openssl-1.1.1w       | 5.5 MB    | ######9    |  70% \n",
      "openssl-1.1.1w       | 5.5 MB    | ######9    |  70% \n",
      "openssl-1.1.1w       | 5.5 MB    | #######    |  70% \n",
      "openssl-1.1.1w       | 5.5 MB    | #######    |  71% \n",
      "openssl-1.1.1w       | 5.5 MB    | #######1   |  71% \n",
      "openssl-1.1.1w       | 5.5 MB    | #######1   |  72% \n",
      "openssl-1.1.1w       | 5.5 MB    | #######1   |  72% \n",
      "openssl-1.1.1w       | 5.5 MB    | #######2   |  72% \n",
      "openssl-1.1.1w       | 5.5 MB    | #######2   |  72% \n",
      "openssl-1.1.1w       | 5.5 MB    | #######2   |  73% \n",
      "openssl-1.1.1w       | 5.5 MB    | #######3   |  73% \n",
      "openssl-1.1.1w       | 5.5 MB    | #######3   |  73% \n",
      "openssl-1.1.1w       | 5.5 MB    | #######3   |  74% \n",
      "openssl-1.1.1w       | 5.5 MB    | #######3   |  74% \n",
      "openssl-1.1.1w       | 5.5 MB    | #######4   |  74% \n",
      "openssl-1.1.1w       | 5.5 MB    | #######4   |  74% \n",
      "openssl-1.1.1w       | 5.5 MB    | #######4   |  75% \n",
      "openssl-1.1.1w       | 5.5 MB    | #######5   |  75% \n",
      "openssl-1.1.1w       | 5.5 MB    | #######5   |  76% \n",
      "openssl-1.1.1w       | 5.5 MB    | #######5   |  76% \n",
      "openssl-1.1.1w       | 5.5 MB    | #######6   |  76% \n",
      "openssl-1.1.1w       | 5.5 MB    | #######6   |  76% \n",
      "openssl-1.1.1w       | 5.5 MB    | #######7   |  77% \n",
      "openssl-1.1.1w       | 5.5 MB    | #######7   |  77% \n",
      "openssl-1.1.1w       | 5.5 MB    | #######7   |  78% \n",
      "openssl-1.1.1w       | 5.5 MB    | #######7   |  78% \n",
      "openssl-1.1.1w       | 5.5 MB    | #######8   |  78% \n",
      "openssl-1.1.1w       | 5.5 MB    | #######8   |  78% \n",
      "openssl-1.1.1w       | 5.5 MB    | #######9   |  79% \n",
      "openssl-1.1.1w       | 5.5 MB    | #######9   |  79% \n",
      "openssl-1.1.1w       | 5.5 MB    | #######9   |  80% \n",
      "openssl-1.1.1w       | 5.5 MB    | ########   |  80% \n",
      "openssl-1.1.1w       | 5.5 MB    | ########   |  80% \n",
      "openssl-1.1.1w       | 5.5 MB    | ########   |  81% \n",
      "openssl-1.1.1w       | 5.5 MB    | ########1  |  81% \n",
      "openssl-1.1.1w       | 5.5 MB    | ########1  |  81% \n",
      "openssl-1.1.1w       | 5.5 MB    | ########1  |  82% \n",
      "openssl-1.1.1w       | 5.5 MB    | ########1  |  82% \n",
      "openssl-1.1.1w       | 5.5 MB    | ########2  |  82% \n",
      "openssl-1.1.1w       | 5.5 MB    | ########2  |  82% \n",
      "openssl-1.1.1w       | 5.5 MB    | ########2  |  83% \n",
      "openssl-1.1.1w       | 5.5 MB    | ########3  |  83% \n",
      "openssl-1.1.1w       | 5.5 MB    | ########3  |  83% \n",
      "openssl-1.1.1w       | 5.5 MB    | ########3  |  84% \n",
      "openssl-1.1.1w       | 5.5 MB    | ########3  |  84% \n",
      "openssl-1.1.1w       | 5.5 MB    | ########4  |  84% \n",
      "openssl-1.1.1w       | 5.5 MB    | ########4  |  84% \n",
      "openssl-1.1.1w       | 5.5 MB    | ########4  |  85% \n",
      "openssl-1.1.1w       | 5.5 MB    | ########4  |  85% \n",
      "openssl-1.1.1w       | 5.5 MB    | ########5  |  85% \n",
      "openssl-1.1.1w       | 5.5 MB    | ########5  |  86% \n",
      "openssl-1.1.1w       | 5.5 MB    | ########5  |  86% \n",
      "openssl-1.1.1w       | 5.5 MB    | ########6  |  86% \n",
      "openssl-1.1.1w       | 5.5 MB    | ########6  |  86% \n",
      "openssl-1.1.1w       | 5.5 MB    | ########6  |  87% \n",
      "openssl-1.1.1w       | 5.5 MB    | ########6  |  87% \n",
      "openssl-1.1.1w       | 5.5 MB    | ########7  |  87% \n",
      "openssl-1.1.1w       | 5.5 MB    | ########7  |  88% \n",
      "openssl-1.1.1w       | 5.5 MB    | ########7  |  88% \n",
      "openssl-1.1.1w       | 5.5 MB    | ########8  |  88% \n",
      "openssl-1.1.1w       | 5.5 MB    | ########8  |  88% \n",
      "openssl-1.1.1w       | 5.5 MB    | ########8  |  89% \n",
      "openssl-1.1.1w       | 5.5 MB    | ########8  |  89% \n",
      "openssl-1.1.1w       | 5.5 MB    | ########9  |  89% \n",
      "openssl-1.1.1w       | 5.5 MB    | ########9  |  90% \n",
      "openssl-1.1.1w       | 5.5 MB    | ########9  |  90% \n",
      "openssl-1.1.1w       | 5.5 MB    | #########  |  90% \n",
      "openssl-1.1.1w       | 5.5 MB    | #########  |  90% \n",
      "openssl-1.1.1w       | 5.5 MB    | #########  |  91% \n",
      "openssl-1.1.1w       | 5.5 MB    | #########  |  91% \n",
      "openssl-1.1.1w       | 5.5 MB    | #########1 |  91% \n",
      "openssl-1.1.1w       | 5.5 MB    | #########1 |  92% \n",
      "openssl-1.1.1w       | 5.5 MB    | #########1 |  92% \n",
      "openssl-1.1.1w       | 5.5 MB    | #########2 |  92% \n",
      "openssl-1.1.1w       | 5.5 MB    | #########2 |  92% \n",
      "openssl-1.1.1w       | 5.5 MB    | #########2 |  93% \n",
      "openssl-1.1.1w       | 5.5 MB    | #########2 |  93% \n",
      "openssl-1.1.1w       | 5.5 MB    | #########3 |  94% \n",
      "openssl-1.1.1w       | 5.5 MB    | #########3 |  94% \n",
      "openssl-1.1.1w       | 5.5 MB    | #########4 |  94% \n",
      "openssl-1.1.1w       | 5.5 MB    | #########4 |  95% \n",
      "openssl-1.1.1w       | 5.5 MB    | #########4 |  95% \n",
      "openssl-1.1.1w       | 5.5 MB    | #########5 |  95% \n",
      "openssl-1.1.1w       | 5.5 MB    | #########5 |  96% \n",
      "openssl-1.1.1w       | 5.5 MB    | #########5 |  96% \n",
      "openssl-1.1.1w       | 5.5 MB    | #########6 |  96% \n",
      "openssl-1.1.1w       | 5.5 MB    | #########6 |  96% \n",
      "openssl-1.1.1w       | 5.5 MB    | #########6 |  97% \n",
      "openssl-1.1.1w       | 5.5 MB    | #########6 |  97% \n",
      "openssl-1.1.1w       | 5.5 MB    | #########7 |  97% \n",
      "openssl-1.1.1w       | 5.5 MB    | #########7 |  97% \n",
      "openssl-1.1.1w       | 5.5 MB    | #########8 |  98% \n",
      "openssl-1.1.1w       | 5.5 MB    | #########8 |  98% \n",
      "openssl-1.1.1w       | 5.5 MB    | #########8 |  99% \n",
      "openssl-1.1.1w       | 5.5 MB    | #########8 |  99% \n",
      "openssl-1.1.1w       | 5.5 MB    | #########9 |  99% \n",
      "openssl-1.1.1w       | 5.5 MB    | #########9 | 100% \n",
      "openssl-1.1.1w       | 5.5 MB    | ########## | 100% \n",
      "openssl-1.1.1w       | 5.5 MB    | ########## | 100% \n",
      "\n",
      "libtiff-4.5.1        | 1.1 MB    |            |   0% \n",
      "libtiff-4.5.1        | 1.1 MB    | 1          |   1% \n",
      "libtiff-4.5.1        | 1.1 MB    | 4          |   4% \n",
      "libtiff-4.5.1        | 1.1 MB    | 5          |   6% \n",
      "libtiff-4.5.1        | 1.1 MB    | 7          |   7% \n",
      "libtiff-4.5.1        | 1.1 MB    | 8          |   9% \n",
      "libtiff-4.5.1        | 1.1 MB    | #1         |  12% \n",
      "libtiff-4.5.1        | 1.1 MB    | #3         |  13% \n",
      "libtiff-4.5.1        | 1.1 MB    | #4         |  15% \n",
      "libtiff-4.5.1        | 1.1 MB    | #6         |  16% \n",
      "libtiff-4.5.1        | 1.1 MB    | #7         |  18% \n",
      "libtiff-4.5.1        | 1.1 MB    | #9         |  19% \n",
      "libtiff-4.5.1        | 1.1 MB    | ##         |  21% \n",
      "libtiff-4.5.1        | 1.1 MB    | ##3        |  24% \n",
      "libtiff-4.5.1        | 1.1 MB    | ##6        |  27% \n",
      "libtiff-4.5.1        | 1.1 MB    | ##7        |  28% \n",
      "libtiff-4.5.1        | 1.1 MB    | ##9        |  29% \n",
      "libtiff-4.5.1        | 1.1 MB    | ###        |  31% \n",
      "libtiff-4.5.1        | 1.1 MB    | ###2       |  32% \n",
      "libtiff-4.5.1        | 1.1 MB    | ###3       |  34% \n",
      "libtiff-4.5.1        | 1.1 MB    | ###5       |  35% \n",
      "libtiff-4.5.1        | 1.1 MB    | ###6       |  37% \n",
      "libtiff-4.5.1        | 1.1 MB    | ###8       |  38% \n",
      "libtiff-4.5.1        | 1.1 MB    | ###9       |  40% \n",
      "libtiff-4.5.1        | 1.1 MB    | ####1      |  41% \n",
      "libtiff-4.5.1        | 1.1 MB    | ####2      |  43% \n",
      "libtiff-4.5.1        | 1.1 MB    | ####4      |  44% \n",
      "libtiff-4.5.1        | 1.1 MB    | ####5      |  46% \n",
      "libtiff-4.5.1        | 1.1 MB    | ####7      |  47% \n",
      "libtiff-4.5.1        | 1.1 MB    | ####8      |  49% \n",
      "libtiff-4.5.1        | 1.1 MB    | #####1     |  52% \n",
      "libtiff-4.5.1        | 1.1 MB    | #####3     |  53% \n",
      "libtiff-4.5.1        | 1.1 MB    | #####4     |  55% \n",
      "libtiff-4.5.1        | 1.1 MB    | #####7     |  57% \n",
      "libtiff-4.5.1        | 1.1 MB    | ######     |  60% \n",
      "libtiff-4.5.1        | 1.1 MB    | ######1    |  62% \n",
      "libtiff-4.5.1        | 1.1 MB    | ######3    |  63% \n",
      "libtiff-4.5.1        | 1.1 MB    | ######4    |  65% \n",
      "libtiff-4.5.1        | 1.1 MB    | ######6    |  66% \n",
      "libtiff-4.5.1        | 1.1 MB    | ######7    |  68% \n",
      "libtiff-4.5.1        | 1.1 MB    | ######9    |  69% \n",
      "libtiff-4.5.1        | 1.1 MB    | #######    |  71% \n",
      "libtiff-4.5.1        | 1.1 MB    | #######2   |  72% \n",
      "libtiff-4.5.1        | 1.1 MB    | #######3   |  74% \n",
      "libtiff-4.5.1        | 1.1 MB    | ########## | 100% \n",
      "libtiff-4.5.1        | 1.1 MB    | ########## | 100% \n",
      "\n",
      "fonts-anaconda-1     | 3 KB      |            |   0% \n",
      "fonts-anaconda-1     | 3 KB      | ########## | 100% \n",
      "fonts-anaconda-1     | 3 KB      | ########## | 100% \n",
      "\n",
      "boost-cpp-1.82.0     | 12 KB     |            |   0% \n",
      "boost-cpp-1.82.0     | 12 KB     | ########## | 100% \n",
      "boost-cpp-1.82.0     | 12 KB     | ########## | 100% \n",
      "\n",
      "gts-0.7.6            | 181 KB    |            |   0% \n",
      "gts-0.7.6            | 181 KB    | 8          |   9% \n",
      "gts-0.7.6            | 181 KB    | #7         |  18% \n",
      "gts-0.7.6            | 181 KB    | #####3     |  53% \n",
      "gts-0.7.6            | 181 KB    | ########## | 100% \n",
      "gts-0.7.6            | 181 KB    | ########## | 100% \n",
      "\n",
      "font-ttf-source-code | 654 KB    |            |   0% \n",
      "font-ttf-source-code | 654 KB    | 2          |   2% \n",
      "font-ttf-source-code | 654 KB    | #7         |  17% \n",
      "font-ttf-source-code | 654 KB    | ##6        |  27% \n",
      "font-ttf-source-code | 654 KB    | ###6       |  37% \n",
      "font-ttf-source-code | 654 KB    | ####8      |  49% \n",
      "font-ttf-source-code | 654 KB    | #####6     |  56% \n",
      "font-ttf-source-code | 654 KB    | ######3    |  64% \n",
      "font-ttf-source-code | 654 KB    | #######3   |  73% \n",
      "font-ttf-source-code | 654 KB    | ########## | 100% \n",
      "font-ttf-source-code | 654 KB    | ########## | 100% \n",
      "\n",
      "libcurl-8.2.1        | 336 KB    |            |   0% \n",
      "libcurl-8.2.1        | 336 KB    | 4          |   5% \n",
      "libcurl-8.2.1        | 336 KB    | #4         |  14% \n",
      "libcurl-8.2.1        | 336 KB    | #########5 |  95% \n",
      "libcurl-8.2.1        | 336 KB    | ########## | 100% \n",
      "\n",
      "certifi-2023.7.22    | 154 KB    |            |   0% \n",
      "certifi-2023.7.22    | 154 KB    | #          |  10% \n",
      "certifi-2023.7.22    | 154 KB    | ########## | 100% \n",
      "\n"
     ]
    },
    {
     "name": "stdout",
     "output_type": "stream",
     "text": [
      "font-ttf-ubuntu-0.83 | 1.5 MB    |            |   0% \n",
      "font-ttf-ubuntu-0.83 | 1.5 MB    | 1          |   1% \n",
      "font-ttf-ubuntu-0.83 | 1.5 MB    | 7          |   7% \n",
      "font-ttf-ubuntu-0.83 | 1.5 MB    | #2         |  13% \n",
      "font-ttf-ubuntu-0.83 | 1.5 MB    | ##3        |  23% \n",
      "font-ttf-ubuntu-0.83 | 1.5 MB    | ##9        |  29% \n",
      "font-ttf-ubuntu-0.83 | 1.5 MB    | ###4       |  35% \n",
      "font-ttf-ubuntu-0.83 | 1.5 MB    | ####2      |  43% \n",
      "font-ttf-ubuntu-0.83 | 1.5 MB    | #####4     |  54% \n",
      "font-ttf-ubuntu-0.83 | 1.5 MB    | ######     |  61% \n",
      "font-ttf-ubuntu-0.83 | 1.5 MB    | ######5    |  66% \n",
      "font-ttf-ubuntu-0.83 | 1.5 MB    | #######2   |  72% \n",
      "font-ttf-ubuntu-0.83 | 1.5 MB    | ########3  |  84% \n",
      "font-ttf-ubuntu-0.83 | 1.5 MB    | #########  |  90% \n",
      "font-ttf-ubuntu-0.83 | 1.5 MB    | #########6 |  96% \n",
      "font-ttf-ubuntu-0.83 | 1.5 MB    | ########## | 100% \n",
      "\n",
      "cairo-1.16.0         | 1.9 MB    |            |   0% \n",
      "cairo-1.16.0         | 1.9 MB    |            |   1% \n",
      "cairo-1.16.0         | 1.9 MB    | 3          |   3% \n",
      "cairo-1.16.0         | 1.9 MB    | 8          |   8% \n",
      "cairo-1.16.0         | 1.9 MB    | #2         |  12% \n",
      "cairo-1.16.0         | 1.9 MB    | #7         |  17% \n",
      "cairo-1.16.0         | 1.9 MB    | ##9        |  29% \n",
      "cairo-1.16.0         | 1.9 MB    | ###4       |  35% \n",
      "cairo-1.16.0         | 1.9 MB    | ####       |  40% \n",
      "cairo-1.16.0         | 1.9 MB    | ####6      |  46% \n",
      "cairo-1.16.0         | 1.9 MB    | #####7     |  57% \n",
      "cairo-1.16.0         | 1.9 MB    | #######1   |  71% \n",
      "cairo-1.16.0         | 1.9 MB    | #######9   |  79% \n",
      "cairo-1.16.0         | 1.9 MB    | ########7  |  87% \n",
      "cairo-1.16.0         | 1.9 MB    | ########## | 100% \n",
      "cairo-1.16.0         | 1.9 MB    | ########## | 100% \n",
      "\n",
      "poppler-22.12.0      | 2.4 MB    |            |   0% \n",
      "poppler-22.12.0      | 2.4 MB    |            |   1% \n",
      "poppler-22.12.0      | 2.4 MB    | 4          |   4% \n",
      "poppler-22.12.0      | 2.4 MB    | 5          |   6% \n",
      "poppler-22.12.0      | 2.4 MB    | #7         |  18% \n",
      "poppler-22.12.0      | 2.4 MB    | ###3       |  34% \n",
      "poppler-22.12.0      | 2.4 MB    | ####4      |  44% \n",
      "poppler-22.12.0      | 2.4 MB    | #####      |  50% \n",
      "poppler-22.12.0      | 2.4 MB    | ######3    |  63% \n",
      "poppler-22.12.0      | 2.4 MB    | #######8   |  79% \n",
      "poppler-22.12.0      | 2.4 MB    | #########6 |  96% \n",
      "poppler-22.12.0      | 2.4 MB    | ########## | 100% \n",
      "\n",
      "fontconfig-2.14.1    | 198 KB    |            |   0% \n",
      "fontconfig-2.14.1    | 198 KB    | 8          |   8% \n",
      "fontconfig-2.14.1    | 198 KB    | ###2       |  32% \n",
      "fontconfig-2.14.1    | 198 KB    | ########## | 100% \n",
      "fontconfig-2.14.1    | 198 KB    | ########## | 100% \n",
      "\n",
      "ca-certificates-2023 | 123 KB    |            |   0% \n",
      "ca-certificates-2023 | 123 KB    | #2         |  13% \n",
      "ca-certificates-2023 | 123 KB    | ###8       |  39% \n",
      "ca-certificates-2023 | 123 KB    | ########## | 100% \n",
      "Preparing transaction: ...working... done\n",
      "Verifying transaction: ...working... done\n",
      "Executing transaction: ...working... done\n",
      "Retrieving notices: ...working... done\n"
     ]
    }
   ],
   "source": [
    "! pip install pydot\n",
    "! conda install graphviz -y"
   ]
  },
  {
   "cell_type": "code",
   "execution_count": 60,
   "metadata": {
    "id": "9vNyKGdJH7Lr"
   },
   "outputs": [],
   "source": [
    "import pydot\n",
    "(graph,) = pydot.graph_from_dot_file(file_name)\n",
    "graph.write_png('results/image_tree.png')"
   ]
  },
  {
   "cell_type": "markdown",
   "metadata": {
    "id": "wB97IqCAH7Lr"
   },
   "source": [
    "- Let's display the ```image_tree.png``` in markdown:\n",
    "\n",
    "Markdown: ```![title](img/image_tree.png)```. The result:\n",
    "\n",
    "![title](img/image_tree.png)\n",
    "\n",
    "*Question:* Do you think this tree is interpretable?"
   ]
  },
  {
   "cell_type": "markdown",
   "metadata": {
    "id": "gv35t2AzH7Lr"
   },
   "source": [
    "\n",
    "--------\n",
    "\n",
    "\n",
    "# Decision Tree on a cancer dataset\n",
    "\n",
    "Let's try out decision tree models on a cancer dataset. Click <a href = \"https://towardsdatascience.com/building-a-simple-machine-learning-model-on-breast-cancer-data-eca4b3b99fa3\">here </a> for another example with this dataset and more information.\n",
    "\n",
    "This is a copy of UCI ML Breast Cancer Wisconsin (Diagnostic) datasets.\n",
    "\n",
    "Features:\n",
    "- radius (mean of distances from center to points on the perimeter)\n",
    "- texture (standard deviation of gray-scale values)\n",
    "- perimeter\n",
    "- area\n",
    "- smoothness (local variation in radius lengths)\n",
    "- compactness (perimeter^2 / area - 1.0)\n",
    "- concavity (severity of concave portions of the contour)\n",
    "- concave points (number of concave portions of the contour)\n",
    "- symmetry\n",
    "- fractal dimension (\"coastline approximation\" - 1)\n",
    "\n",
    "Target:\n",
    "    2) Diagnosis (M = malignant, B = benign)"
   ]
  },
  {
   "cell_type": "code",
   "execution_count": 28,
   "metadata": {
    "id": "_rD2QXK5H7Lr"
   },
   "outputs": [],
   "source": [
    "import numpy as np\n",
    "import pandas as pd\n",
    "import matplotlib\n",
    "import matplotlib.pyplot as plt\n",
    "import seaborn as sns\n",
    "import sklearn.metrics as metrics\n",
    "from sklearn.model_selection import cross_val_score\n",
    "from sklearn.metrics import accuracy_score\n",
    "from sklearn import tree\n",
    "from sklearn.tree import DecisionTreeClassifier\n",
    "from sklearn.ensemble import RandomForestClassifier\n",
    "from sklearn.ensemble import AdaBoostClassifier\n",
    "from sklearn.linear_model import LogisticRegressionCV\n",
    "from sklearn.model_selection import KFold\n",
    "from sklearn.metrics import confusion_matrix\n",
    "from sklearn import datasets\n",
    "from sklearn.datasets import load_breast_cancer\n",
    "from sklearn.preprocessing import StandardScaler\n",
    "\n",
    "\n",
    "def load_cancer_dataset(num_samples=10, random_seed=4):\n",
    "    \"\"\"\n",
    "    Load a subset of the breast cancer dataset from sklearn, scale it, and return it.\n",
    "    \n",
    "    Parameters:\n",
    "    - num_samples (int): Number of samples to select from the dataset.\n",
    "    - random_seed (int): Random seed for reproducibility.\n",
    "    \n",
    "    Returns:\n",
    "    - tuple: Scaled feature matrix and target vector.\n",
    "    \"\"\"\n",
    "    data = load_breast_cancer()\n",
    "    X, y = data.data, data.target\n",
    "    \n",
    "    # Scale the dataset\n",
    "    scaler = StandardScaler()\n",
    "    X_scaled = scaler.fit_transform(X)\n",
    "    \n",
    "    # Use random seed for reproducibility\n",
    "    np.random.seed(random_seed)\n",
    "    indices = np.random.choice(len(X), num_samples, replace=False)\n",
    "    return X_scaled[indices], y[indices]\n",
    "\n",
    "def get_tree_pd(x_train, y_train, model, tree_depth_range):\n",
    "    \"\"\"\n",
    "    Conduct cross-validation for a DecisionTreeClassifier model over different depths.\n",
    "    \n",
    "    Parameters:\n",
    "    - x_train (array-like): Training feature matrix.\n",
    "    - y_train (array-like): Training target vector.\n",
    "    - model (DecisionTreeClassifier): Decision Tree model to evaluate.\n",
    "    - tree_depth_range (range): Range of depths to evaluate the model on.\n",
    "    \n",
    "    Returns:\n",
    "    - DataFrame: Contains the depth and corresponding cross-validation accuracy scores.\n",
    "    \"\"\"\n",
    "    scores_data = {\"depth\": [], \"cv_acc_score\": []}\n",
    "    \n",
    "    for depth in tree_depth_range:\n",
    "        model.set_params(max_depth=depth)\n",
    "        scores = cross_val_score(model, x_train, y_train, cv=5)\n",
    "        scores_data[\"depth\"].extend([depth] * len(scores))\n",
    "        scores_data[\"cv_acc_score\"].extend(scores)\n",
    "    \n",
    "    return pd.DataFrame(scores_data)\n",
    "\n",
    "\n",
    "%matplotlib inline\n",
    "\n",
    "pd.set_option('display.width', 1500)\n",
    "pd.set_option('display.max_columns', 100)\n",
    "\n",
    "from sklearn.model_selection import learning_curve\n",
    "\n",
    "cancer_scaled, target = load_cancer_dataset(300, 4)"
   ]
  },
  {
   "cell_type": "code",
   "execution_count": 29,
   "metadata": {
    "id": "VmYUFwBrH7Lr"
   },
   "outputs": [
    {
     "name": "stdout",
     "output_type": "stream",
     "text": [
      "Shape of Training Set : (239, 30)\n",
      "Shape of Testing Set : (61, 30)\n"
     ]
    }
   ],
   "source": [
    "################################### Train Test split\n",
    "np.random.seed(40)\n",
    "\n",
    "#test_proportion\n",
    "test_prop = 0.2\n",
    "msk = np.random.uniform(0, 1, len(cancer_scaled)) > test_prop\n",
    "\n",
    "#Split predictor and response columns\n",
    "x_train, y_train =  cancer_scaled[msk], target[msk]\n",
    "x_test , y_test  = cancer_scaled[~msk], target[~msk]\n",
    "\n",
    "print(\"Shape of Training Set :\", x_train.shape)\n",
    "print(\"Shape of Testing Set :\" , x_test.shape)"
   ]
  },
  {
   "cell_type": "markdown",
   "metadata": {
    "id": "jZKbVlaEH7Ls"
   },
   "source": [
    "## Your tasks are as follows:\n",
    "1) Use the `get_tree_pd` function to assign a dataframe of cross-validation scores for different depths of a `DecisionTreeClassifier`. Specifically feed the function a class instance with random_state=42.  This function takes four arguments (x_train, y_train, model, tree_depth_range).\n",
    "\n",
    "2) Visualize the mean cross validation accuracy scores using `sns.boxenplot` or another function of your choice similar to `sns.catplot`\n",
    "\n",
    "3) Use pandas groupby function to to get the mean cross-validation accuracy for specific depths. Assign to a new dataframe `cv_acc_mean`.\n",
    "\n",
    "4) Visualize the mean cross validation accuracy scores using `sns.lineplot` in combination with `cv_acc_mean`. Discuss what you see with your group."
   ]
  },
  {
   "cell_type": "code",
   "execution_count": 102,
   "metadata": {},
   "outputs": [
    {
     "data": {
      "text/plain": [
       "<matplotlib.collections.PolyCollection at 0x21b436adea0>"
      ]
     },
     "execution_count": 102,
     "metadata": {},
     "output_type": "execute_result"
    },
    {
     "data": {
      "image/png": "[encoded data removed]",
      "text/plain": [
       "<Figure size 640x480 with 1 Axes>"
      ]
     },
     "metadata": {},
     "output_type": "display_data"
    },
    {
     "data": {
      "image/png": "[encoded data removed]",
      "text/plain": [
       "<Figure size 640x480 with 1 Axes>"
      ]
     },
     "metadata": {},
     "output_type": "display_data"
    }
   ],
   "source": [
    "trees = get_tree_pd(x_train=x_train,y_train=y_train,model=DecisionTreeClassifier(random_state=42),tree_depth_range=[ i + 1 for i in range(7)])\n",
    "sns.boxplot(data=trees,x='depth',y='cv_acc_score')\n",
    "trees\n",
    "stds = trees.groupby('depth').std()\n",
    "trees = trees.groupby('depth').mean()\n",
    "\n",
    "#Your code here\n",
    "plt.figure()\n",
    "plt.plot(trees.index,trees['cv_acc_score'])\n",
    "plt.fill_between(trees.index,y1=(trees - stds)['cv_acc_score'],y2=(trees + stds)['cv_acc_score'],alpha=0.2)"
   ]
  },
  {
   "cell_type": "markdown",
   "metadata": {
    "id": "Lg6qF86gH7Ls"
   },
   "source": [
    "### once you have successfully completed the code above, this code should run without a problem."
   ]
  },
  {
   "cell_type": "code",
   "execution_count": 107,
   "metadata": {
    "id": "sGpGMdUxH7Ls"
   },
   "outputs": [
    {
     "name": "stdout",
     "output_type": "stream",
     "text": [
      "best depth 3\n",
      "Testing set accuracy 0.9672\n"
     ]
    }
   ],
   "source": [
    "trees.reset_index(inplace=True)\n",
    "cv_acc_mean = trees\n",
    "max_idx = cv_acc_mean[\"cv_acc_score\"].idxmax()\n",
    "best_depth = cv_acc_mean[\"depth\"][max_idx]\n",
    "print(\"best depth {:}\".format(best_depth))\n",
    "\n",
    "model = DecisionTreeClassifier(max_depth=best_depth)\n",
    "model.fit(x_train, y_train)\n",
    "\n",
    "cancer_tree_accuracy = model.score(x_test, y_test)\n",
    "\n",
    "print(\"Testing set accuracy {:.4f}\".format(cancer_tree_accuracy))\n"
   ]
  },
  {
   "cell_type": "markdown",
   "metadata": {
    "id": "dndi3i5-H7Lt"
   },
   "source": [
    "Now, consider the following questions:\n",
    "\n",
    "$\\bullet$ Why is the best depth the value that it is?\n",
    "\n",
    "$\\bullet$ Why might the deeper trees be over or under fitting on this particular dataset?"
   ]
  },
  {
   "cell_type": "markdown",
   "metadata": {
    "id": "YsWmr1djH7Lt"
   },
   "source": [
    "### Try feeding the get_tree_pd an additional \"bootstraps\" argument and comment on what happens to the validation accuracy."
   ]
  },
  {
   "cell_type": "code",
   "execution_count": 108,
   "metadata": {
    "id": "h1rM0ZMxH7Lt"
   },
   "outputs": [],
   "source": [
    "tree.export_graphviz(model, \"results/example_tree.dot\")\n",
    "import pydot\n",
    "(graph,) = pydot.graph_from_dot_file(\"results/example_tree.dot\")\n",
    "graph.write_png('results/small_tree.png')"
   ]
  },
  {
   "cell_type": "markdown",
   "metadata": {
    "id": "-NNBaRxVH7Lt"
   },
   "source": [
    "- Let's display the ```small_tree.png``` in markdown:\n",
    "\n",
    "Markdown: ```![title](img/small_tree.png)```. The result:\n",
    "\n",
    "![title](img/small_tree.png)\n",
    "\n",
    "*Question:* Do you think this tree is interpretable?"
   ]
  },
  {
   "cell_type": "markdown",
   "metadata": {
    "id": "HrIioyI5H7Lt"
   },
   "source": [
    "\n",
    "--------\n",
    "\n",
    "\n",
    "# Bagging and Voting\n",
    "\n",
    "Where does the word \"Bagging\" come from?\n",
    "\n",
    "## Some Theory: What is bagging?\n",
    "  1. Bootstrapping: resample with replacements to get different datasets and built different models.\n",
    "  2. Do something smart to combine the different models.\n",
    "  \n",
    "One way to adjust for the high variance of the output of an experiment is to perform the experiment multiple times and then average the results.\n",
    "\n",
    " 1. **Bootstrap:** we generate multiple samples of training data, via bootstrapping. We train a full decision tree on each sample of data.\n",
    " 2. **AGgregatiING** for a given input, we output the averaged outputs of all the models for that input.\n",
    "\n",
    "This method is called **Bagging: B**ootstrap + **AGG**regat**ING**.\n",
    "\n",
    "-----------\n",
    "\n",
    "Let's bootstrap our training dataset to create multiple datasets and fit Decision Tree models to each.\n",
    "\n",
    "(Resampling: we showed live that different samples give different results for things like sums, varying more when the things we sum over have high variance themselves.)\n",
    "\n"
   ]
  },
  {
   "cell_type": "code",
   "execution_count": 109,
   "metadata": {
    "id": "SksZ7r6kH7Lu"
   },
   "outputs": [
    {
     "data": {
      "text/html": [
       "<div>\n",
       "<style scoped>\n",
       "    .dataframe tbody tr th:only-of-type {\n",
       "        vertical-align: middle;\n",
       "    }\n",
       "\n",
       "    .dataframe tbody tr th {\n",
       "        vertical-align: top;\n",
       "    }\n",
       "\n",
       "    .dataframe thead th {\n",
       "        text-align: right;\n",
       "    }\n",
       "</style>\n",
       "<table border=\"1\" class=\"dataframe\">\n",
       "  <thead>\n",
       "    <tr style=\"text-align: right;\">\n",
       "      <th></th>\n",
       "      <th>Column_1</th>\n",
       "      <th>Column_2</th>\n",
       "      <th>Column_3</th>\n",
       "      <th>Column_4</th>\n",
       "      <th>Column_5</th>\n",
       "      <th>Column_6</th>\n",
       "      <th>Column_7</th>\n",
       "      <th>Column_8</th>\n",
       "      <th>Column_9</th>\n",
       "      <th>Column_10</th>\n",
       "      <th>Column_11</th>\n",
       "      <th>Column_12</th>\n",
       "      <th>Column_13</th>\n",
       "      <th>Column_14</th>\n",
       "      <th>Column_15</th>\n",
       "      <th>Column_16</th>\n",
       "      <th>Column_17</th>\n",
       "      <th>Column_18</th>\n",
       "      <th>Column_19</th>\n",
       "      <th>Column_20</th>\n",
       "      <th>Column_21</th>\n",
       "      <th>Column_22</th>\n",
       "      <th>Column_23</th>\n",
       "      <th>Column_24</th>\n",
       "      <th>Column_25</th>\n",
       "      <th>Column_26</th>\n",
       "      <th>Column_27</th>\n",
       "      <th>Column_28</th>\n",
       "      <th>Column_29</th>\n",
       "      <th>Column_30</th>\n",
       "      <th>Column_31</th>\n",
       "      <th>Column_32</th>\n",
       "      <th>Column_33</th>\n",
       "      <th>Column_34</th>\n",
       "      <th>Column_35</th>\n",
       "      <th>Column_36</th>\n",
       "      <th>Column_37</th>\n",
       "      <th>Column_38</th>\n",
       "      <th>Column_39</th>\n",
       "      <th>Column_40</th>\n",
       "      <th>Column_41</th>\n",
       "      <th>Column_42</th>\n",
       "      <th>Column_43</th>\n",
       "      <th>Column_44</th>\n",
       "      <th>Column_45</th>\n",
       "      <th>Column_46</th>\n",
       "      <th>Column_47</th>\n",
       "      <th>Column_48</th>\n",
       "      <th>Column_49</th>\n",
       "      <th>Column_50</th>\n",
       "      <th>Column_51</th>\n",
       "      <th>Column_52</th>\n",
       "      <th>Column_53</th>\n",
       "      <th>Column_54</th>\n",
       "      <th>Column_55</th>\n",
       "      <th>Column_56</th>\n",
       "      <th>Column_57</th>\n",
       "      <th>Spam</th>\n",
       "    </tr>\n",
       "  </thead>\n",
       "  <tbody>\n",
       "    <tr>\n",
       "      <th>mean</th>\n",
       "      <td>0.105984</td>\n",
       "      <td>0.206603</td>\n",
       "      <td>0.284908</td>\n",
       "      <td>0.06607</td>\n",
       "      <td>0.309537</td>\n",
       "      <td>0.096462</td>\n",
       "      <td>0.11218</td>\n",
       "      <td>0.110368</td>\n",
       "      <td>0.088734</td>\n",
       "      <td>0.243182</td>\n",
       "      <td>0.062624</td>\n",
       "      <td>0.537961</td>\n",
       "      <td>0.096045</td>\n",
       "      <td>0.056395</td>\n",
       "      <td>0.049942</td>\n",
       "      <td>0.265929</td>\n",
       "      <td>0.139779</td>\n",
       "      <td>0.188832</td>\n",
       "      <td>1.691186</td>\n",
       "      <td>0.097235</td>\n",
       "      <td>0.81599</td>\n",
       "      <td>0.120224</td>\n",
       "      <td>0.097961</td>\n",
       "      <td>0.088694</td>\n",
       "      <td>0.528384</td>\n",
       "      <td>0.256327</td>\n",
       "      <td>0.776444</td>\n",
       "      <td>0.128697</td>\n",
       "      <td>0.097863</td>\n",
       "      <td>0.110806</td>\n",
       "      <td>0.064712</td>\n",
       "      <td>0.050377</td>\n",
       "      <td>0.102446</td>\n",
       "      <td>0.050635</td>\n",
       "      <td>0.112554</td>\n",
       "      <td>0.102541</td>\n",
       "      <td>0.135935</td>\n",
       "      <td>0.014834</td>\n",
       "      <td>0.081824</td>\n",
       "      <td>0.06897</td>\n",
       "      <td>0.039641</td>\n",
       "      <td>0.123467</td>\n",
       "      <td>0.045371</td>\n",
       "      <td>0.072471</td>\n",
       "      <td>0.308231</td>\n",
       "      <td>0.182955</td>\n",
       "      <td>0.005607</td>\n",
       "      <td>0.03191</td>\n",
       "      <td>0.036318</td>\n",
       "      <td>0.141634</td>\n",
       "      <td>0.018758</td>\n",
       "      <td>0.277636</td>\n",
       "      <td>0.071341</td>\n",
       "      <td>0.051376</td>\n",
       "      <td>5.300716</td>\n",
       "      <td>52.760883</td>\n",
       "      <td>278.253525</td>\n",
       "      <td>0.391784</td>\n",
       "    </tr>\n",
       "  </tbody>\n",
       "</table>\n",
       "</div>"
      ],
      "text/plain": [
       "      Column_1  Column_2  Column_3  Column_4  Column_5  Column_6  Column_7  Column_8  Column_9  Column_10  Column_11  Column_12  Column_13  Column_14  Column_15  Column_16  Column_17  Column_18  Column_19  Column_20  Column_21  Column_22  Column_23  Column_24  Column_25  Column_26  Column_27  Column_28  Column_29  Column_30  Column_31  Column_32  Column_33  Column_34  Column_35  Column_36  Column_37  Column_38  Column_39  Column_40  Column_41  Column_42  Column_43  Column_44  Column_45  Column_46  Column_47  Column_48  Column_49  Column_50  Column_51  Column_52  Column_53  Column_54  Column_55  Column_56   Column_57      Spam\n",
       "mean  0.105984  0.206603  0.284908   0.06607  0.309537  0.096462   0.11218  0.110368  0.088734   0.243182   0.062624   0.537961   0.096045   0.056395   0.049942   0.265929   0.139779   0.188832   1.691186   0.097235    0.81599   0.120224   0.097961   0.088694   0.528384   0.256327   0.776444   0.128697   0.097863   0.110806   0.064712   0.050377   0.102446   0.050635   0.112554   0.102541   0.135935   0.014834   0.081824    0.06897   0.039641   0.123467   0.045371   0.072471   0.308231   0.182955   0.005607    0.03191   0.036318   0.141634   0.018758   0.277636   0.071341   0.051376   5.300716  52.760883  278.253525  0.391784"
      ]
     },
     "execution_count": 109,
     "metadata": {},
     "output_type": "execute_result"
    }
   ],
   "source": [
    "# Stat on all data\n",
    "data_train.mean(axis=0).to_frame('mean').T"
   ]
  },
  {
   "cell_type": "code",
   "execution_count": 110,
   "metadata": {
    "id": "mHu-pRFLH7Lu"
   },
   "outputs": [],
   "source": [
    "x_train, y_train = data_train.drop(['Spam'], axis=1), data_train['Spam']\n",
    "x_test , y_test  = data_test.drop(['Spam'] , axis=1), data_test['Spam']"
   ]
  },
  {
   "cell_type": "code",
   "execution_count": 150,
   "metadata": {
    "id": "k6i2msFHH7Lu"
   },
   "outputs": [
    {
     "data": {
      "text/html": [
       "<div>\n",
       "<style scoped>\n",
       "    .dataframe tbody tr th:only-of-type {\n",
       "        vertical-align: middle;\n",
       "    }\n",
       "\n",
       "    .dataframe tbody tr th {\n",
       "        vertical-align: top;\n",
       "    }\n",
       "\n",
       "    .dataframe thead th {\n",
       "        text-align: right;\n",
       "    }\n",
       "</style>\n",
       "<table border=\"1\" class=\"dataframe\">\n",
       "  <thead>\n",
       "    <tr style=\"text-align: right;\">\n",
       "      <th></th>\n",
       "      <th>Column_1</th>\n",
       "      <th>Column_2</th>\n",
       "      <th>Column_3</th>\n",
       "      <th>Column_4</th>\n",
       "      <th>Column_5</th>\n",
       "      <th>Column_6</th>\n",
       "      <th>Column_7</th>\n",
       "      <th>Column_8</th>\n",
       "      <th>Column_9</th>\n",
       "      <th>Column_10</th>\n",
       "      <th>Column_11</th>\n",
       "      <th>Column_12</th>\n",
       "      <th>Column_13</th>\n",
       "      <th>Column_14</th>\n",
       "      <th>Column_15</th>\n",
       "      <th>Column_16</th>\n",
       "      <th>Column_17</th>\n",
       "      <th>Column_18</th>\n",
       "      <th>Column_19</th>\n",
       "      <th>Column_20</th>\n",
       "      <th>Column_21</th>\n",
       "      <th>Column_22</th>\n",
       "      <th>Column_23</th>\n",
       "      <th>Column_24</th>\n",
       "      <th>Column_25</th>\n",
       "      <th>Column_26</th>\n",
       "      <th>Column_27</th>\n",
       "      <th>Column_28</th>\n",
       "      <th>Column_29</th>\n",
       "      <th>Column_30</th>\n",
       "      <th>Column_31</th>\n",
       "      <th>Column_32</th>\n",
       "      <th>Column_33</th>\n",
       "      <th>Column_34</th>\n",
       "      <th>Column_35</th>\n",
       "      <th>Column_36</th>\n",
       "      <th>Column_37</th>\n",
       "      <th>Column_38</th>\n",
       "      <th>Column_39</th>\n",
       "      <th>Column_40</th>\n",
       "      <th>Column_41</th>\n",
       "      <th>Column_42</th>\n",
       "      <th>Column_43</th>\n",
       "      <th>Column_44</th>\n",
       "      <th>Column_45</th>\n",
       "      <th>Column_46</th>\n",
       "      <th>Column_47</th>\n",
       "      <th>Column_48</th>\n",
       "      <th>Column_49</th>\n",
       "      <th>Column_50</th>\n",
       "      <th>Column_51</th>\n",
       "      <th>Column_52</th>\n",
       "      <th>Column_53</th>\n",
       "      <th>Column_54</th>\n",
       "      <th>Column_55</th>\n",
       "      <th>Column_56</th>\n",
       "      <th>Column_57</th>\n",
       "      <th>Spam</th>\n",
       "    </tr>\n",
       "  </thead>\n",
       "  <tbody>\n",
       "    <tr>\n",
       "      <th>mean</th>\n",
       "      <td>0.100025</td>\n",
       "      <td>0.24641</td>\n",
       "      <td>0.283151</td>\n",
       "      <td>0.07504</td>\n",
       "      <td>0.282272</td>\n",
       "      <td>0.084307</td>\n",
       "      <td>0.103795</td>\n",
       "      <td>0.096248</td>\n",
       "      <td>0.081239</td>\n",
       "      <td>0.219108</td>\n",
       "      <td>0.061107</td>\n",
       "      <td>0.523118</td>\n",
       "      <td>0.091916</td>\n",
       "      <td>0.064442</td>\n",
       "      <td>0.042928</td>\n",
       "      <td>0.277305</td>\n",
       "      <td>0.13214</td>\n",
       "      <td>0.187235</td>\n",
       "      <td>1.67904</td>\n",
       "      <td>0.095303</td>\n",
       "      <td>0.836888</td>\n",
       "      <td>0.116471</td>\n",
       "      <td>0.090291</td>\n",
       "      <td>0.087459</td>\n",
       "      <td>0.515849</td>\n",
       "      <td>0.244758</td>\n",
       "      <td>0.865098</td>\n",
       "      <td>0.138614</td>\n",
       "      <td>0.102664</td>\n",
       "      <td>0.112747</td>\n",
       "      <td>0.073627</td>\n",
       "      <td>0.060291</td>\n",
       "      <td>0.098038</td>\n",
       "      <td>0.060487</td>\n",
       "      <td>0.135162</td>\n",
       "      <td>0.121514</td>\n",
       "      <td>0.148464</td>\n",
       "      <td>0.012361</td>\n",
       "      <td>0.084212</td>\n",
       "      <td>0.072548</td>\n",
       "      <td>0.034727</td>\n",
       "      <td>0.117909</td>\n",
       "      <td>0.049936</td>\n",
       "      <td>0.072922</td>\n",
       "      <td>0.324099</td>\n",
       "      <td>0.196603</td>\n",
       "      <td>0.004804</td>\n",
       "      <td>0.035677</td>\n",
       "      <td>0.043086</td>\n",
       "      <td>0.134091</td>\n",
       "      <td>0.02041</td>\n",
       "      <td>0.267659</td>\n",
       "      <td>0.059906</td>\n",
       "      <td>0.054376</td>\n",
       "      <td>4.617349</td>\n",
       "      <td>46.853464</td>\n",
       "      <td>282.067137</td>\n",
       "      <td>0.373084</td>\n",
       "    </tr>\n",
       "  </tbody>\n",
       "</table>\n",
       "</div>"
      ],
      "text/plain": [
       "      Column_1  Column_2  Column_3  Column_4  Column_5  Column_6  Column_7  Column_8  Column_9  Column_10  Column_11  Column_12  Column_13  Column_14  Column_15  Column_16  Column_17  Column_18  Column_19  Column_20  Column_21  Column_22  Column_23  Column_24  Column_25  Column_26  Column_27  Column_28  Column_29  Column_30  Column_31  Column_32  Column_33  Column_34  Column_35  Column_36  Column_37  Column_38  Column_39  Column_40  Column_41  Column_42  Column_43  Column_44  Column_45  Column_46  Column_47  Column_48  Column_49  Column_50  Column_51  Column_52  Column_53  Column_54  Column_55  Column_56   Column_57      Spam\n",
       "mean  0.100025   0.24641  0.283151   0.07504  0.282272  0.084307  0.103795  0.096248  0.081239   0.219108   0.061107   0.523118   0.091916   0.064442   0.042928   0.277305    0.13214   0.187235    1.67904   0.095303   0.836888   0.116471   0.090291   0.087459   0.515849   0.244758   0.865098   0.138614   0.102664   0.112747   0.073627   0.060291   0.098038   0.060487   0.135162   0.121514   0.148464   0.012361   0.084212   0.072548   0.034727   0.117909   0.049936   0.072922   0.324099   0.196603   0.004804   0.035677   0.043086   0.134091    0.02041   0.267659   0.059906   0.054376   4.617349  46.853464  282.067137  0.373084"
      ]
     },
     "execution_count": 150,
     "metadata": {},
     "output_type": "execute_result"
    }
   ],
   "source": [
    "data_train.sample(frac=1., replace=True).mean(axis=0).to_frame('mean').T"
   ]
  },
  {
   "cell_type": "markdown",
   "metadata": {
    "id": "-uYHcALSH7Lu"
   },
   "source": [
    "Now we actually fit the samples"
   ]
  },
  {
   "cell_type": "code",
   "execution_count": 153,
   "metadata": {
    "id": "YSHRUaOZH7Lu"
   },
   "outputs": [],
   "source": [
    "n_trees = 100 # we tried a variety of numbers here\n",
    "choosen_depth = 5"
   ]
  },
  {
   "cell_type": "code",
   "execution_count": 151,
   "metadata": {},
   "outputs": [
    {
     "data": {
      "text/plain": [
       "array([[0., 0., 0.],\n",
       "       [0., 0., 0.]])"
      ]
     },
     "execution_count": 151,
     "metadata": {},
     "output_type": "execute_result"
    }
   ],
   "source": [
    "np.zeros((2,3))"
   ]
  },
  {
   "cell_type": "code",
   "execution_count": 157,
   "metadata": {
    "id": "prhq6yOgH7Lu"
   },
   "outputs": [],
   "source": [
    "#Creating model\n",
    "np.random.seed(0)\n",
    "model = DecisionTreeClassifier(max_depth=choosen_depth)\n",
    "\n",
    "#Initializing variables\n",
    "predictions_train = np.zeros((data_train.shape[0], n_trees))\n",
    "predictions_test = np.zeros((data_test.shape[0], n_trees))\n",
    "\n",
    "#Conduct bootstraping iterations\n",
    "for i in range(n_trees):\n",
    "    temp = data_train.sample(frac=1, replace=True)\n",
    "    response_variable = temp['Spam']\n",
    "    temp = temp.drop(['Spam'],axis=1)\n",
    "\n",
    "    model.fit(temp, response_variable)\n",
    "    predictions_train[:,i] = model.predict(x_train)\n",
    "    predictions_test[:,i] = model.predict(x_test)\n",
    "\n",
    "#Make Predictions Dataframe\n",
    "columns = [\"Bootstrap-Model_\"+str(i+1) for i in range(n_trees)]\n",
    "predictions_train = pd.DataFrame(predictions_train, columns=columns)\n",
    "predictions_test = pd.DataFrame(predictions_test, columns=columns)"
   ]
  },
  {
   "cell_type": "code",
   "execution_count": 158,
   "metadata": {
    "id": "RQjIbVUxH7Lv"
   },
   "outputs": [],
   "source": [
    "y_train = data_train['Spam'].values\n",
    "y_test = data_test['Spam'].values"
   ]
  },
  {
   "cell_type": "code",
   "execution_count": 84,
   "metadata": {
    "id": "nfkZ-NdAH7Lv"
   },
   "outputs": [
    {
     "data": {
      "text/plain": [
       "False"
      ]
     },
     "execution_count": 84,
     "metadata": {},
     "output_type": "execute_result"
    }
   ],
   "source": [
    "## Example Bolean for locating the Non Spam\n",
    "y == 0\n",
    "## Example Bolean for locating the Spam\n",
    "y == 1"
   ]
  },
  {
   "cell_type": "code",
   "execution_count": 166,
   "metadata": {
    "id": "CzCiX9xhH7Lv"
   },
   "outputs": [
    {
     "data": {
      "image/png": "[encoded data removed]",
      "text/plain": [
       "<Figure size 1600x700 with 2 Axes>"
      ]
     },
     "metadata": {},
     "output_type": "display_data"
    }
   ],
   "source": [
    "num_to_avg = 100\n",
    "fig, axs = plt.subplots(1, 2, figsize=(16, 7))\n",
    "for (ax, label, predictions, y) in [\n",
    "    (axs[0], 'Training Set', predictions_train, y_train),\n",
    "    (axs[1], 'Test Set' , predictions_test , y_test ) ]:\n",
    "\n",
    "    # Take the average\n",
    "    mean_predictions = predictions.iloc[:,:num_to_avg].mean(axis=1)\n",
    "    #print(mean_predictions[y==0])\n",
    "    # Plot the Spam\n",
    "    mean_predictions[y == 1].hist(density=True, histtype='step',\n",
    "                                  range=[0,1], label='Spam', lw=2, ax=ax)\n",
    "\n",
    "    # Plot the non Spam\n",
    "    mean_predictions[y == 0].hist(density=True, histtype='step',\n",
    "                                  range=[0,1], label='Not-Spam', lw=2, ax=ax)\n",
    "    ax.legend(loc='upper center');\n",
    "    ax.set_xlabel(\"Mean of ensemble predictions (0.5=50 True - 50 False)\")\n",
    "    ax.set_title(label)\n"
   ]
  },
  {
   "cell_type": "markdown",
   "metadata": {
    "id": "NrzNrB5aH7Lv"
   },
   "source": [
    "And now get final predictions: majority voting!"
   ]
  },
  {
   "cell_type": "code",
   "execution_count": 86,
   "metadata": {
    "id": "FduIXCDpH7Lv"
   },
   "outputs": [
    {
     "name": "stdout",
     "output_type": "stream",
     "text": [
      "Bagging: \tAccuracy, Training Set \t: 94.11%\n",
      "Bagging: \tAccuracy, Testing Set \t: 92.01%\n"
     ]
    }
   ],
   "source": [
    "#Function to ensemble the prediction of each bagged decision tree model\n",
    "def get_prediction(df, count=-1):\n",
    "    count = df.shape[1] if count==-1 else count\n",
    "    temp = df.iloc[:,0:count]\n",
    "    return np.mean(temp, axis=1)>0.5\n",
    "\n",
    "#Check Accuracy of Spam Detection in Train and Test Set\n",
    "acc_bagging_training = 100*accuracy_score(y_train, get_prediction(predictions_train, count=-1))\n",
    "acc_bagging_testing  = 100*accuracy_score(y_test, get_prediction(predictions_test, count=-1))\n",
    "\n",
    "print(\"Bagging: \\tAccuracy, Training Set \\t: {:0.2f}%\".format(acc_bagging_training))\n",
    "print(\"Bagging: \\tAccuracy, Testing Set \\t: {:0.2f}%\".format( acc_bagging_testing))"
   ]
  },
  {
   "cell_type": "markdown",
   "metadata": {
    "id": "ZfxhjdMDH7Lv"
   },
   "source": [
    "Count in the above code can be use to define the number of models the voting in the dataframe should be based on."
   ]
  },
  {
   "cell_type": "code",
   "execution_count": 87,
   "metadata": {
    "id": "StPnzF7AH7Lw"
   },
   "outputs": [
    {
     "data": {
      "text/html": [
       "<div>\n",
       "<style scoped>\n",
       "    .dataframe tbody tr th:only-of-type {\n",
       "        vertical-align: middle;\n",
       "    }\n",
       "\n",
       "    .dataframe tbody tr th {\n",
       "        vertical-align: top;\n",
       "    }\n",
       "\n",
       "    .dataframe thead th {\n",
       "        text-align: right;\n",
       "    }\n",
       "</style>\n",
       "<table border=\"1\" class=\"dataframe\">\n",
       "  <thead>\n",
       "    <tr style=\"text-align: right;\">\n",
       "      <th>Predicted</th>\n",
       "      <th>0</th>\n",
       "      <th>1</th>\n",
       "      <th>All</th>\n",
       "    </tr>\n",
       "    <tr>\n",
       "      <th>Actual</th>\n",
       "      <th></th>\n",
       "      <th></th>\n",
       "      <th></th>\n",
       "    </tr>\n",
       "  </thead>\n",
       "  <tbody>\n",
       "    <tr>\n",
       "      <th>0</th>\n",
       "      <td>766</td>\n",
       "      <td>38</td>\n",
       "      <td>804</td>\n",
       "    </tr>\n",
       "    <tr>\n",
       "      <th>1</th>\n",
       "      <td>94</td>\n",
       "      <td>441</td>\n",
       "      <td>535</td>\n",
       "    </tr>\n",
       "    <tr>\n",
       "      <th>All</th>\n",
       "      <td>860</td>\n",
       "      <td>479</td>\n",
       "      <td>1339</td>\n",
       "    </tr>\n",
       "  </tbody>\n",
       "</table>\n",
       "</div>"
      ],
      "text/plain": [
       "Predicted    0    1   All\n",
       "Actual                   \n",
       "0          766   38   804\n",
       "1           94  441   535\n",
       "All        860  479  1339"
      ]
     },
     "execution_count": 87,
     "metadata": {},
     "output_type": "execute_result"
    }
   ],
   "source": [
    "#Get Performance by Class (Lookup Confusion Matrix)\n",
    "pd.crosstab(np.array(y_test), model.predict(x_test), margins=True, rownames=['Actual'], colnames=['Predicted'])"
   ]
  },
  {
   "cell_type": "markdown",
   "metadata": {
    "id": "pmGUl4_QH7Lw"
   },
   "source": [
    "\n",
    "**Food for Thought :** Are these bagging models independent of each other, can they be trained in a parallel fashion?"
   ]
  },
  {
   "cell_type": "markdown",
   "metadata": {
    "id": "rN0we-keH7Lw"
   },
   "source": [
    "# Random Forest vs Bagging"
   ]
  },
  {
   "cell_type": "markdown",
   "metadata": {
    "id": "laCYGuBvH7Lw"
   },
   "source": [
    "## What is Random Forest?\n",
    "\n",
    "- **Many trees** make a **forest**.\n",
    "- **Many random trees** make a **random forest**.\n",
    "\n",
    "\n",
    "Random Forest is a modified form of bagging that creates ensembles of independent decision trees.\n",
    "To *de-correlate the trees*, we:\n",
    "1. train each tree on a separate bootstrap **random sample** of the full training set (same as in bagging)\n",
    "2. for each tree, at each split, we **randomly select a set of 𝐽′ predictors from the full set of predictors.** (not done in bagging)\n",
    "3. From amongst the 𝐽′  predictors, we select the optimal predictor and the optimal corresponding threshold for the split.\n",
    "\n",
    "*Question:* Why would this second step help (only considering random sub-group of features)?"
   ]
  },
  {
   "cell_type": "markdown",
   "metadata": {
    "id": "DmKn3FgMH7Lw"
   },
   "source": [
    "Now, we will fit an ensemble method, the Random Forest technique, which is different from the decision tree. Let's use ```n_estimators = predictor_count/2``` and ```max_depth = best_depth```."
   ]
  },
  {
   "cell_type": "code",
   "execution_count": 88,
   "metadata": {
    "id": "D0iCmZ5wH7Lw"
   },
   "outputs": [
    {
     "name": "stdout",
     "output_type": "stream",
     "text": [
      "Random Forest: Accuracy, Training Set : 94.79%\n",
      "Random Forest: Accuracy, Testing Set :  93.43%\n"
     ]
    }
   ],
   "source": [
    "#Fit a Random Forest Model\n",
    "best_depth = 7\n",
    "#Training\n",
    "model = RandomForestClassifier(n_estimators=int(x_train.shape[1]/2), max_depth=best_depth)\n",
    "model.fit(x_train, y_train)\n",
    "\n",
    "#Predict\n",
    "y_pred_train = model.predict(x_train)\n",
    "y_pred_test = model.predict(x_test)\n",
    "\n",
    "#Perfromance Evaluation\n",
    "acc_random_forest_training = accuracy_score(y_train, y_pred_train)*100\n",
    "acc_random_forest_testing = accuracy_score(y_test, y_pred_test)*100\n",
    "\n",
    "print(\"Random Forest: Accuracy, Training Set : {:0.2f}%\".format(acc_random_forest_training))\n",
    "print(\"Random Forest: Accuracy, Testing Set :  {:0.2f}%\".format(acc_random_forest_testing))"
   ]
  },
  {
   "cell_type": "markdown",
   "metadata": {
    "id": "_49IHZdZH7Lx"
   },
   "source": [
    "## Let's compare the performance of our 3 models:"
   ]
  },
  {
   "cell_type": "code",
   "execution_count": 89,
   "metadata": {
    "id": "I9iCiiaFH7Lx"
   },
   "outputs": [
    {
     "name": "stdout",
     "output_type": "stream",
     "text": [
      "Decision Trees:\tAccuracy, Training Set \t: 94.39%\n",
      "Decision Trees:\tAccuracy, Testing Set \t: 90.81%\n",
      "\n",
      "Bagging: \tAccuracy, Training Set \t: 94.11%\n",
      "Bagging: \tAccuracy, Testing Set \t: 92.01%\n",
      "\n",
      "Random Forest: \tAccuracy, Training Set \t: 94.79%\n",
      "Random Forest: \tAccuracy, Testing Set \t: 93.43%\n"
     ]
    }
   ],
   "source": [
    "print(\"Decision Trees:\\tAccuracy, Training Set \\t: {:.2%}\".format(acc_trees_training))\n",
    "print(\"Decision Trees:\\tAccuracy, Testing Set \\t: {:.2%}\".format(acc_trees_testing))\n",
    "\n",
    "print(\"\\nBagging: \\tAccuracy, Training Set \\t: {:0.2f}%\".format(acc_bagging_training))\n",
    "print(\"Bagging: \\tAccuracy, Testing Set \\t: {:0.2f}%\".format( acc_bagging_testing))\n",
    "\n",
    "print(\"\\nRandom Forest: \\tAccuracy, Training Set \\t: {:0.2f}%\".format(acc_random_forest_training))\n",
    "print(\"Random Forest: \\tAccuracy, Testing Set \\t: {:0.2f}%\".format(acc_random_forest_testing))"
   ]
  },
  {
   "cell_type": "markdown",
   "metadata": {
    "id": "yZ6cqXEbH7Lx"
   },
   "source": [
    "## As we see above, the performance of both Bagging and Random Forest was similar, so what is the difference? Do both overfit the data just as much?\n",
    "\n",
    "Hints :\n",
    "\n",
    "- What is the only extra parameter we declared when defining a Random Forest Model vs Bagging? Does it have an impact on overfitting?"
   ]
  },
  {
   "cell_type": "code",
   "execution_count": 90,
   "metadata": {
    "id": "We7zi_V3H7Lx"
   },
   "outputs": [
    {
     "name": "stdout",
     "output_type": "stream",
     "text": [
      "Random Forest: Accuracy, Training Set (Deeper): 99.82%\n",
      "Random Forest: Accuracy, Testing Set (Deeper):  94.47%\n"
     ]
    }
   ],
   "source": [
    "#Fit a Random Forest Model\n",
    "\n",
    "new_depth = best_depth + 20\n",
    "\n",
    "#Training\n",
    "model = RandomForestClassifier(n_estimators=int(x_train.shape[1]/2), max_depth=new_depth)\n",
    "model.fit(x_train, y_train)\n",
    "\n",
    "#Predict\n",
    "y_pred_train = model.predict(x_train)\n",
    "y_pred_test = model.predict(x_test)\n",
    "\n",
    "#Perfromance Evaluation\n",
    "acc_random_forest_deeper_training = accuracy_score(y_train, y_pred_train)*100\n",
    "acc_random_forest_deeper_testing = accuracy_score(y_test, y_pred_test)*100\n",
    "\n",
    "print(\"Random Forest: Accuracy, Training Set (Deeper): {:0.2f}%\".format(acc_random_forest_deeper_training))\n",
    "print(\"Random Forest: Accuracy, Testing Set (Deeper):  {:0.2f}%\".format(acc_random_forest_deeper_testing))"
   ]
  },
  {
   "cell_type": "markdown",
   "metadata": {
    "id": "TdhC6Dq9H7Lx"
   },
   "source": [
    "## Training accuracies:"
   ]
  },
  {
   "cell_type": "code",
   "execution_count": 91,
   "metadata": {
    "id": "yAlL1c7oH7Lx"
   },
   "outputs": [
    {
     "name": "stdout",
     "output_type": "stream",
     "text": [
      "Training Accuracies:\n",
      "Decision Trees:\tAccuracy, Training Set \t: 94.39%\n",
      "Bagging: \tAccuracy, Training Set \t: 94.11%\n",
      "Random Forest: \tAccuracy, Training Set \t: 94.79%\n",
      "RF Deeper: \tAccuracy, Training Set \t: 99.82%\n"
     ]
    }
   ],
   "source": [
    "print(\"Training Accuracies:\")\n",
    "print(\"Decision Trees:\\tAccuracy, Training Set \\t: {:.2%}\".format(acc_trees_training))\n",
    "print(\"Bagging: \\tAccuracy, Training Set \\t: {:0.2f}%\".format(acc_bagging_training))\n",
    "print(\"Random Forest: \\tAccuracy, Training Set \\t: {:0.2f}%\".format(acc_random_forest_training))\n",
    "print(\"RF Deeper: \\tAccuracy, Training Set \\t: {:0.2f}%\".format(acc_random_forest_deeper_training))"
   ]
  },
  {
   "cell_type": "markdown",
   "metadata": {
    "id": "hEG0Ym32H7Ly"
   },
   "source": [
    "## Testing accuracies:"
   ]
  },
  {
   "cell_type": "code",
   "execution_count": 92,
   "metadata": {
    "id": "CA2choJEH7Ly"
   },
   "outputs": [
    {
     "name": "stdout",
     "output_type": "stream",
     "text": [
      "Testing Accuracies:\n",
      "Decision Trees:\tAccuracy, Testing Set \t: 90.81%\n",
      "Bagging: \tAccuracy, Testing Set \t: 92.01%\n",
      "Random Forest: \tAccuracy, Testing Set \t: 93.43%\n",
      "RF Deeper:  \tAccuracy, Testing Set \t: 94.47%\n"
     ]
    }
   ],
   "source": [
    "print(\"Testing Accuracies:\")\n",
    "print(\"Decision Trees:\\tAccuracy, Testing Set \\t: {:.2%}\".format(acc_trees_testing))\n",
    "print(\"Bagging: \\tAccuracy, Testing Set \\t: {:0.2f}%\".format( acc_bagging_testing))\n",
    "print(\"Random Forest: \\tAccuracy, Testing Set \\t: {:0.2f}%\".format(acc_random_forest_testing))\n",
    "print(\"RF Deeper:  \\tAccuracy, Testing Set \\t: {:0.2f}%\".format(acc_random_forest_deeper_testing))"
   ]
  },
  {
   "cell_type": "markdown",
   "metadata": {
    "id": "GR-GHoEIH7Ly"
   },
   "source": [
    "## Feature Importance\n",
    "Random Forest gives the above values as ```feature_importance``` where it normalizes the impact of a predictor to the number of times it is useful and thus gives overvall significance for free. Explore the attributes of the Random Forest model object for the best nodes."
   ]
  },
  {
   "cell_type": "code",
   "execution_count": 93,
   "metadata": {
    "id": "wRl6wFV_H7Ly"
   },
   "outputs": [
    {
     "data": {
      "image/png": "[encoded data removed]",
      "text/plain": [
       "<Figure size 720x864 with 1 Axes>"
      ]
     },
     "metadata": {
      "needs_background": "light"
     },
     "output_type": "display_data"
    }
   ],
   "source": [
    "#Top Features\n",
    "feature_importance = model.feature_importances_\n",
    "feature_importance = 100.0 * (feature_importance / feature_importance.max())\n",
    "sorted_idx = np.argsort(feature_importance)\n",
    "pos = np.arange(sorted_idx.shape[0]) + .5\n",
    "\n",
    "#Plot\n",
    "plt.figure(figsize=(10,12))\n",
    "plt.barh(pos, feature_importance[sorted_idx], align='center')\n",
    "plt.yticks(pos, x_train.columns[sorted_idx])\n",
    "plt.xlabel('Relative Importance')\n",
    "plt.title('Variable Importance')\n",
    "plt.show()"
   ]
  },
  {
   "cell_type": "markdown",
   "metadata": {
    "id": "OE4gxZdgH7Ly"
   },
   "source": [
    "## Our Initial Questions:\n",
    "\n",
    "- What are decision tree models?\n",
    "- How do we construct them?\n",
    "- How do we vizualize them?\n",
    "- What is the idea of bagging?\n",
    "- Why does bagging help with overfitting?\n",
    "- Why does bagging help to built more expressive trees?\n",
    "\n",
    "## End of Standard Lab.\n",
    "\n",
    "[Source Medion: \"XGBoost Algorithm: Long May She Reign!\"](https://towardsdatascience.com/https-medium-com-vishalmorde-xgboost-algorithm-long-she-may-rein-edd9f99be63d)"
   ]
  },
  {
   "cell_type": "markdown",
   "metadata": {
    "id": "I3sR9qABH7Ly"
   },
   "source": [
    "\n",
    "--------\n",
    "\n",
    "\n",
    "# Optional Lab: Random Forests\n",
    "\n",
    "*Let's try to improve our accuracy scores on the cancer dataset.\n"
   ]
  },
  {
   "cell_type": "code",
   "execution_count": 94,
   "metadata": {
    "id": "aICs7FX9H7Ly"
   },
   "outputs": [
    {
     "name": "stdout",
     "output_type": "stream",
     "text": [
      "Shape of Training Set : (239, 30)\n",
      "Shape of Testing Set : (61, 30)\n"
     ]
    }
   ],
   "source": [
    "################################### Train Test split\n",
    "np.random.seed(40)\n",
    "\n",
    "#test_proportion\n",
    "test_prop = 0.2\n",
    "msk = np.random.uniform(0, 1, len(cancer_scaled)) > test_prop\n",
    "\n",
    "#Split predictor and response columns\n",
    "x_train, y_train =  cancer_scaled[msk], target[msk]\n",
    "x_test , y_test  = cancer_scaled[~msk], target[~msk]\n",
    "\n",
    "print(\"Shape of Training Set :\", x_train.shape)\n",
    "print(\"Shape of Testing Set :\" , x_test.shape)"
   ]
  },
  {
   "cell_type": "markdown",
   "metadata": {
    "id": "XZnquqshH7Lz"
   },
   "source": [
    "## Your tasks:\n",
    "1) Use the `get_tree_pd` function to assign a dataframe `rf_val_acc` using a class instance of `RandomForestClassifier`. As a reminder this function takes four arguments (x_train, y_train, model, tree_depth_range). This time don't feed a random state.\n",
    "\n",
    "2) Use pandas groupby function to to get the mean cross-validation accuracy for specific depths. Assign to a new dataframe `rf_mean_acc`.\n",
    "\n",
    "3) Visualize the mean cross validation accuracy scores by running the cell provided. Answer the subsequent questions."
   ]
  },
  {
   "cell_type": "code",
   "execution_count": 99,
   "metadata": {
    "id": "tZOIBlP2H7Lz"
   },
   "outputs": [
    {
     "data": {
      "image/png": "[encoded data removed]",
      "text/plain": [
       "<Figure size 864x432 with 1 Axes>"
      ]
     },
     "metadata": {
      "needs_background": "light"
     },
     "output_type": "display_data"
    }
   ],
   "source": [
    "#Your code here\n"
   ]
  },
  {
   "cell_type": "markdown",
   "metadata": {
    "id": "2d-b1QPiH7Lz"
   },
   "source": [
    "### Run this code when you are finished with the first exercise to compare random forests and simple decision trees. More questions and one final task lie below."
   ]
  },
  {
   "cell_type": "code",
   "execution_count": 100,
   "metadata": {
    "id": "Ib_ArRNIH7Lz"
   },
   "outputs": [
    {
     "name": "stdout",
     "output_type": "stream",
     "text": [
      "Decision Tree max depth 7\n",
      "Random Forest max depth 9\n",
      "Best Decision Tree test set accuracy:  95.08%\n",
      "Best Random Forest test set accuracy:  96.72%\n"
     ]
    },
    {
     "data": {
      "image/png": "[encoded data removed]",
      "text/plain": [
       "<Figure size 864x216 with 1 Axes>"
      ]
     },
     "metadata": {
      "needs_background": "light"
     },
     "output_type": "display_data"
    }
   ],
   "source": [
    "### add a decision tree classifier for comparison.\n",
    "tree_val_acc = get_tree_pd(x_train,\n",
    "                        y_train,\n",
    "                        DecisionTreeClassifier(),\n",
    "                        tree_depth_range)\n",
    "\n",
    "tree_mean_acc  = tree_val_acc.groupby(\"depth\").mean()\n",
    "tree_mean_acc[\"depth\"] = list(tree_depth_range)\n",
    "\n",
    "### Make the plot\n",
    "plt.figure(figsize=(12, 3))\n",
    "plt.title('Variation of Accuracy on Validation set with Depth - Simple Decision Tree')\n",
    "sns.lineplot(x = \"depth\", y = \"cv_acc_score\", data = rf_val_acc,\n",
    "             label = \"random forest\");\n",
    "sns.lineplot(x = \"depth\", y = \"cv_acc_score\", data = tree_val_acc,\n",
    "             label = \"simple decision tree\");\n",
    "plt.xlabel(\"max_depth\")\n",
    "plt.ylabel(\"validation set accuracy score\")\n",
    "\n",
    "\n",
    "max_idx = tree_mean_acc[\"cv_acc_score\"].idxmax()\n",
    "best_depth_tree = tree_mean_acc[\"depth\"][max_idx]\n",
    "\n",
    "\n",
    "best_tree_model = DecisionTreeClassifier(max_depth=best_depth)\n",
    "best_tree_model.fit(x_train, y_train)\n",
    "tree_test_accuracy = best_tree_model.score(x_test, y_test.reshape(-1,))\n",
    "\n",
    "max_idx = rf_mean_acc[\"cv_acc_score\"].idxmax()\n",
    "best_depth_rf = rf_mean_acc[\"depth\"][max_idx]\n",
    "\n",
    "\n",
    "best_rf_model = RandomForestClassifier(max_depth=best_depth_rf, random_state = 42)\n",
    "best_rf_model.fit(x_train, y_train.reshape(-1,))\n",
    "tree_rf_accuracy = best_rf_model.score(x_test, y_test.reshape(-1,))\n",
    "\n",
    "print(\"Decision Tree max depth {:}\".format(best_depth))\n",
    "print(\"Random Forest max depth {:}\".format(best_depth_rf))\n",
    "\n",
    "print(\"Best Decision Tree test set accuracy:  {:0.2f}%\".format(tree_test_accuracy*100))\n",
    "print(\"Best Random Forest test set accuracy:  {:0.2f}%\".format(tree_rf_accuracy*100))"
   ]
  },
  {
   "cell_type": "markdown",
   "metadata": {
    "id": "kjWgZ-QwH7L0"
   },
   "source": [
    "\n",
    "$\\bullet$ Why doesn't the random forest accuracy score deteriorate in the same way that the decision tree does for deeper trees?\n",
    "\n",
    "\n",
    "$\\bullet$ What are the two kinds of stochasticity that lead to the robustness of random forests?\n",
    "\n",
    "$\\bullet$ How do random forests differ from Bagging?"
   ]
  }
 ],
 "metadata": {
  "colab": {
   "provenance": [],
   "toc_visible": true
  },
  "jupytext": {},
  "kernelspec": {
   "display_name": "Python 3 (ipykernel)",
   "language": "python",
   "name": "python3"
  },
  "language_info": {
   "codemirror_mode": {
    "name": "ipython",
    "version": 3
   },
   "file_extension": ".py",
   "mimetype": "text/x-python",
   "name": "python",
   "nbconvert_exporter": "python",
   "pygments_lexer": "ipython3",
   "version": "3.10.9"
  },
  "latex_envs": {
   "LaTeX_envs_menu_present": true,
   "autoclose": false,
   "autocomplete": true,
   "bibliofile": "biblio.bib",
   "cite_by": "apalike",
   "current_citInitial": 1,
   "eqLabelWithNumbers": true,
   "eqNumInitial": 1,
   "hotkeys": {
    "equation": "Ctrl-E",
    "itemize": "Ctrl-I"
   },
   "labels_anchors": false,
   "latex_user_defs": false,
   "report_style_numbering": false,
   "user_envs_cfg": false
  },
  "toc": {
   "base_numbering": 1,
   "nav_menu": {},
   "number_sections": true,
   "sideBar": true,
   "skip_h1_title": false,
   "title_cell": "Table of Contents",
   "title_sidebar": "Contents",
   "toc_cell": false,
   "toc_position": {
    "height": "calc(100% - 180px)",
    "left": "10px",
    "top": "150px",
    "width": "372.352px"
   },
   "toc_section_display": true,
   "toc_window_display": true
  },
  "varInspector": {
   "cols": {
    "lenName": 16,
    "lenType": 16,
    "lenVar": 40
   },
   "kernels_config": {
    "python": {
     "delete_cmd_postfix": "",
     "delete_cmd_prefix": "del ",
     "library": "var_list.py",
     "varRefreshCmd": "print(var_dic_list())"
    },
    "r": {
     "delete_cmd_postfix": ") ",
     "delete_cmd_prefix": "rm(",
     "library": "var_list.r",
     "varRefreshCmd": "cat(var_dic_list()) "
    }
   },
   "types_to_exclude": [
    "module",
    "function",
    "builtin_function_or_method",
    "instance",
    "_Feature"
   ],
   "window_display": false
  }
 },
 "nbformat": 4,
 "nbformat_minor": 1
}
