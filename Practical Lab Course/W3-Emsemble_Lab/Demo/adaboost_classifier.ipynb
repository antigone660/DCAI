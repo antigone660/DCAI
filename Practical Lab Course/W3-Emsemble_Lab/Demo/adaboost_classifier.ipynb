{
 "cells": [
  {
   "cell_type": "markdown",
   "metadata": {},
   "source": [
    "**Play the notebook: Boosting Classification**\n",
    "\n",
    "# Description\n",
    "\n",
    "The aim of this exercise to understand classification using boosting by plotting the decision boundary after each stump. "
   ]
  },
  {
   "cell_type": "markdown",
   "metadata": {},
   "source": [
    "# Instructions:\n",
    "- Read the dataset `boostingclassifier.csv` as pandas dataframe and take a quick look.\n",
    "- All columns except `landtype` are predictors. `landtype` is the response variable.\n",
    "- Define the AdaBoost classifier from scratch within the function `AdaBoost_scratch`:\n",
    "    - Define a Decision Tree classifier stump\n",
    "    - Fit and predict the classifier on the entire data.\n",
    "    - Compute the number of incorrect predictions.\n",
    "    - Compute the error and new weights.\n",
    "    - Update the weights\n",
    "- Call the `AdaBoost_scratch` function with the predictor and response variables for 6 stumps.\n",
    "- Use the helper code provided to visualize the classification decision boundary for 6 stumps.\n",
    "\n",
    "# Hints:\n",
    "<a href=\"http://scikit-learn.org/stable/modules/generated/sklearn.tree.DecisionTreeClassifier.html\" target=\"_blank\">DecisionTreeClassifier()</a> : A decision tree classifier.\n",
    "\n",
    "<a href=\"https://scikit-learn.org/stable/modules/generated/sklearn.tree.DecisionTreeClassifier.html#sklearn.tree.DecisionTreeClassifier.fit\" target=\"_blank\">sklearn.fit()</a> : Builds a model from the training set.\n",
    "\n",
    "<a href=\"https://numpy.org/doc/stable/reference/generated/numpy.average.html\" target=\"_blank\">np.average()</a> : Computes the weighted average along the specified axis.\n",
    "\n",
    "<a href=\"https://numpy.org/doc/stable/reference/generated/numpy.mean.html?highlight=mean#numpy.mean\" target=\"_blank\">np.mean()</a> : Computes the arithmetic mean along the specified axis.\n",
    "\n",
    "<a href=\"https://numpy.org/doc/stable/reference/generated/numpy.log.html?highlight=log#numpy.log\" target=\"_blank\">np.log()</a> : Natural logarithm, element-wise.\n",
    "\n",
    "<a href=\"https://numpy.org/doc/stable/reference/generated/numpy.exp.html?highlight=exp#numpy.exp\" target=\"_blank\">np.exp()</a> : Calculates the exponential of all elements in the input array.\n",
    "\n",
    "<a href=\"https://scikit-learn.org/stable/modules/generated/sklearn.ensemble.AdaBoostClassifier.html?highlight=adaboost#sklearn.ensemble.AdaBoostClassifier\" target=\"_blank\">sklearn.AdaBoostClassifier()</a> : An AdaBoost classifier."
   ]
  },
  {
   "cell_type": "code",
   "execution_count": 8,
   "metadata": {},
   "outputs": [],
   "source": [
    "# Import necessary libraries\n",
    "\n",
    "import matplotlib.pyplot as plt\n",
    "from matplotlib.colors import ListedColormap\n",
    "import numpy as np\n",
    "import seaborn as sns\n",
    "sns.set_style('white')\n",
    "import pandas as pd\n",
    "from sklearn.tree import DecisionTreeClassifier\n",
    "from sklearn.ensemble import AdaBoostClassifier\n",
    "from helper import plot_decision_boundary\n",
    "%matplotlib inline"
   ]
  },
  {
   "cell_type": "code",
   "execution_count": 5,
   "metadata": {
    "jupyter": {
     "outputs_hidden": true
    }
   },
   "outputs": [],
   "source": [
    "# Read the dataset as a pandas dataframe\n",
    "df = pd.read_csv(\"data/boostingclassifier.csv\")\n",
    "\n",
    "# Read the columns latitude and longitude as the predictor variables\n",
    "X = df[['latitude','longitude']].values\n",
    "\n",
    "# Landtype is the response variable\n",
    "y = df['landtype'].values"
   ]
  },
  {
   "cell_type": "code",
   "execution_count": 3,
   "metadata": {
    "collapsed": true,
    "jupyter": {
     "outputs_hidden": true
    }
   },
   "outputs": [],
   "source": [
    "# AdaBoost algorithm implementation from scratch\n",
    "\n",
    "def AdaBoost_scratch(X,y, M=10, learning_rate = 1):\n",
    "    #Initialization of utility variables\n",
    "    N = len(y)\n",
    "    estimator_list, y_predict_list, estimator_error_list, estimator_weight_list, sample_weight_list = [], [],[],[],[]\n",
    "\n",
    "    #Initialize the sample weights\n",
    "    sample_weight = np.ones(N) / N\n",
    "    \n",
    "    # Cooy the sample weights to another list\n",
    "    sample_weight_list.append(sample_weight.copy())\n",
    "\n",
    "    #For m = 1 to M where M is the number of stumps\n",
    "    for m in range(M):   \n",
    "\n",
    "        #Fit a Decision Tree classifier stump with a maximum of 2 leaf nodes\n",
    "        estimator = ___\n",
    "        \n",
    "        # Fit the model on the entire data with the sample weight initialise before\n",
    "        estimator.fit(___)\n",
    "        \n",
    "        # Predict on the entire data\n",
    "        y_predict = estimator.predict(X)\n",
    "\n",
    "        # Compute the number of misclassifications\n",
    "        incorrect = (y_predict != y)\n",
    "\n",
    "        # Compute the error as the mean of the weighted sum of the number of incorrect predictions given the sample weight\n",
    "        estimator_error = ___\n",
    "        \n",
    "        # Compute the new weights using the learning rate and estimator error\n",
    "        estimator_weight =  ___\n",
    "\n",
    "        # Boost the sample weights\n",
    "        sample_weight *= np.exp(estimator_weight * incorrect * ((sample_weight > 0) | (estimator_weight < 0)))\n",
    "\n",
    "        # Save the iteration values\n",
    "        estimator_list.append(estimator)\n",
    "        y_predict_list.append(y_predict.copy())\n",
    "        estimator_error_list.append(estimator_error.copy())\n",
    "        estimator_weight_list.append(estimator_weight.copy())\n",
    "        sample_weight_list.append(sample_weight.copy())\n",
    "        \n",
    "\n",
    "    #Convert to np array for convenience   \n",
    "    estimator_list = np.asarray(estimator_list)\n",
    "    y_predict_list = np.asarray(y_predict_list)\n",
    "    estimator_error_list = np.asarray(estimator_error_list)\n",
    "    estimator_weight_list = np.asarray(estimator_weight_list)\n",
    "    sample_weight_list = np.asarray(sample_weight_list)\n",
    "\n",
    "    # Compute the predictions\n",
    "    preds = (np.array([np.sign((y_predict_list[:,point] * estimator_weight_list).sum()) for point in range(N)]))\n",
    "    \n",
    "    # Return the model, estimated weights and sample weights\n",
    "    return estimator_list, estimator_weight_list, sample_weight_list"
   ]
  },
  {
   "cell_type": "code",
   "execution_count": 11,
   "metadata": {},
   "outputs": [],
   "source": [
    "### edTest(test_adaboost) ###\n",
    "# Call the AdaBoost function to perform boosting classification\n",
    "estimator_list, estimator_weight_list, sample_weight_list  = AdaBoost_scratch(X,y, M=6, learning_rate = 1)\n"
   ]
  },
  {
   "cell_type": "code",
   "execution_count": null,
   "metadata": {
    "collapsed": true,
    "jupyter": {
     "outputs_hidden": true
    }
   },
   "outputs": [],
   "source": [
    "# Helper code to plot the AdaBoost Decision Boundary stumps\n",
    "fig = plt.figure(figsize = (14,14))\n",
    "for m in range(0,6):\n",
    "    fig.add_subplot(3,2,m+1)\n",
    "\n",
    "    s_weights = (sample_weight_list[m,:] / sample_weight_list[m,:].sum() ) * 300\n",
    "    plot_decision_boundary(estimator_list[m], X,y,N = 50, scatter_weights =s_weights,counter=m)\n",
    "    plt.tight_layout()"
   ]
  },
  {
   "cell_type": "code",
   "execution_count": 9,
   "metadata": {
    "scrolled": true
   },
   "outputs": [
    {
     "data": {
      "image/png": "[encoded data removed]",
      "text/plain": [
       "<Figure size 432x288 with 1 Axes>"
      ]
     },
     "metadata": {
      "needs_background": "light"
     },
     "output_type": "display_data"
    }
   ],
   "source": [
    "# Use sklearn's AdaBoostClassifier to take a look at the final decision boundary \n",
    "\n",
    "# Initialise the model with Decision Tree classifier as the base model same as above\n",
    "# Use SAMME as the algorithm and 6 estimators with learning rate as 1\n",
    "boost = AdaBoostClassifier( base_estimator = DecisionTreeClassifier(max_depth = 1, max_leaf_nodes=2), \n",
    "                            algorithm = 'SAMME',n_estimators=6, learning_rate=1.0)\n",
    "\n",
    "# Fit on the entire data\n",
    "boost.fit(X,y)\n",
    "\n",
    "# Call the plot_decision_boundary function to plot the decision boundary of the model \n",
    "plot_decision_boundary(boost, X,y, N = 50)\n",
    "\n",
    "plt.title('AdaBoost Decision Boundary', fontsize=16)\n",
    "plt.show()"
   ]
  }
 ],
 "metadata": {
  "kernelspec": {
   "display_name": "Python 3 (ipykernel)",
   "language": "python",
   "name": "python3"
  },
  "language_info": {
   "codemirror_mode": {
    "name": "ipython",
    "version": 3
   },
   "file_extension": ".py",
   "mimetype": "text/x-python",
   "name": "python",
   "nbconvert_exporter": "python",
   "pygments_lexer": "ipython3",
   "version": "3.8.12"
  },
  "latex_envs": {
   "LaTeX_envs_menu_present": true,
   "autoclose": false,
   "autocomplete": true,
   "bibliofile": "biblio.bib",
   "cite_by": "apalike",
   "current_citInitial": 1,
   "eqLabelWithNumbers": true,
   "eqNumInitial": 1,
   "hotkeys": {
    "equation": "Ctrl-E",
    "itemize": "Ctrl-I"
   },
   "labels_anchors": false,
   "latex_user_defs": false,
   "report_style_numbering": false,
   "user_envs_cfg": false
  },
  "toc": {
   "base_numbering": 1,
   "nav_menu": {},
   "number_sections": true,
   "sideBar": true,
   "skip_h1_title": false,
   "title_cell": "Table of Contents",
   "title_sidebar": "Contents",
   "toc_cell": false,
   "toc_position": {
    "height": "calc(100% - 180px)",
    "left": "10px",
    "top": "150px",
    "width": "259px"
   },
   "toc_section_display": true,
   "toc_window_display": true
  }
 },
 "nbformat": 4,
 "nbformat_minor": 4
}
