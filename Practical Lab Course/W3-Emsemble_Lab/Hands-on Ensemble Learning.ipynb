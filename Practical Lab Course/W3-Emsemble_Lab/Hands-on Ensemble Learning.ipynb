{
 "cells": [
  {
   "cell_type": "markdown",
   "metadata": {
    "id": "qs0yamHN-dY0"
   },
   "source": [
    "**DSAA6100 Week3 - Ensemble Learning - Lab1**\n",
    "\n",
    "<ul>\n",
    "    <b>Content</b>:\n",
    "    <li>AdaBoost</li>\n",
    "    <li>XGBoost</li>\n",
    "</ul>"
   ]
  },
  {
   "cell_type": "code",
   "execution_count": 1,
   "metadata": {
    "id": "Rb-WLp5Z-cdy"
   },
   "outputs": [],
   "source": [
    "import random\n",
    "import numpy as np\n",
    "import pandas as pd\n",
    "import os\n",
    "import sys\n",
    "import matplotlib.pyplot as plt\n",
    "from numpy.linalg import *\n",
    "from sklearn.preprocessing import StandardScaler\n",
    "np.random.seed(6100)\n",
    "\n",
    "import base64"
   ]
  },
  {
   "cell_type": "markdown",
   "metadata": {
    "id": "_5aRm2cWbgxD"
   },
   "source": [
    "# **Importing the dataset**\n"
   ]
  },
  {
   "cell_type": "markdown",
   "metadata": {
    "id": "OEtfpvmx-bJs"
   },
   "source": [
    "We will be focusing on a dataset of Brazilian weather station observations."
   ]
  },
  {
   "cell_type": "code",
   "execution_count": 30,
   "metadata": {
    "colab": {
     "base_uri": "https://localhost:8080/"
    },
    "id": "H1PCOKsv_5mT",
    "outputId": "45fc368c-9fbf-4c52-db6e-5551a3523d28"
   },
   "outputs": [
    {
     "name": "stdout",
     "output_type": "stream",
     "text": [
      "   wsid                 mdct  prcp    stp   smax   smin  gbrd  temp  dewp  \\\n",
      "0   178  2007-11-06 00:00:00   NaN  982.5  982.5  981.3   NaN  29.3  12.1   \n",
      "1   178  2007-11-06 01:00:00   NaN  983.2  983.2  982.5   NaN  29.0  13.5   \n",
      "2   178  2007-11-06 02:00:00   NaN  983.5  983.5  983.2   NaN  27.4  14.0   \n",
      "3   178  2007-11-06 03:00:00   NaN  983.7  983.7  983.4   NaN  25.8  16.9   \n",
      "4   178  2007-11-06 04:00:00   NaN  983.7  983.8  983.6   NaN  25.4  16.4   \n",
      "\n",
      "   tmax  dmax  tmin  dmin  hmdy  hmax  hmin  wdsp   wdct  gust  \n",
      "0  29.7  16.8  25.5  10.8  35.0  58.0  32.0   3.2  101.0   6.5  \n",
      "1  29.9  13.6  29.0  12.2  39.0  39.0  35.0   3.6   94.0   6.4  \n",
      "2  29.0  14.0  27.4  13.6  44.0  44.0  39.0   2.5   93.0   6.9  \n",
      "3  27.4  16.9  25.8  14.1  58.0  58.0  44.0   1.7   96.0   5.8  \n",
      "4  26.3  17.0  25.3  16.4  57.0  58.0  56.0   3.1  110.0   7.5  \n"
     ]
    }
   ],
   "source": [
    "df = pd.read_csv(\"data/observations.csv\")\n",
    "df = df.drop([\"Unnamed: 0\"], axis=1)\n",
    "print(df.head())"
   ]
  },
  {
   "cell_type": "code",
   "execution_count": null,
   "metadata": {
    "colab": {
     "base_uri": "https://localhost:8080/"
    },
    "id": "7Oh6P-FAA1GY",
    "outputId": "8af3b770-8fe5-4607-deaf-e6aa5aa3ffeb"
   },
   "outputs": [
    {
     "name": "stdout",
     "output_type": "stream",
     "text": [
      "(122000, 19)\n"
     ]
    }
   ],
   "source": [
    "#Check that this outputs the data frame with 122000 rows and 19 columns\n",
    "print(df.shape)"
   ]
  },
  {
   "cell_type": "markdown",
   "metadata": {
    "id": "f4f1XfY0W7YJ"
   },
   "source": [
    "# **Data preprocessing**\n"
   ]
  },
  {
   "cell_type": "markdown",
   "metadata": {
    "id": "uG4GdAu-I1jF"
   },
   "source": [
    "First let us start by converting the \"mdct\" column from the weather dataset into a datetime. Look into to_datetime() function in pandas."
   ]
  },
  {
   "cell_type": "code",
   "execution_count": 13,
   "metadata": {
    "id": "PfADjpbUXUdY"
   },
   "outputs": [
    {
     "name": "stdout",
     "output_type": "stream",
     "text": [
      "<class 'pandas.core.series.Series'>\n",
      "RangeIndex: 122000 entries, 0 to 121999\n",
      "Series name: mdct\n",
      "Non-Null Count   Dtype         \n",
      "--------------   -----         \n",
      "122000 non-null  datetime64[ns]\n",
      "dtypes: datetime64[ns](1)\n",
      "memory usage: 953.2 KB\n"
     ]
    }
   ],
   "source": [
    "# STUDENT TODO: Convert the data type of the `mcdt` column in df to datetime\n",
    "\n",
    "df['mdct'] = df['mdct'].apply(lambda x:pd.to_datetime(x))\n",
    "df.loc[:,'mdct'].info()"
   ]
  },
  {
   "cell_type": "markdown",
   "metadata": {
    "id": "dPlibce4n-S9"
   },
   "source": [
    "1.   Replace the missing values in the columns `gust, gbrd, wdsp, dewp, dmin, dmax` with 0.\n",
    "\n",
    "2. Drop the rows where temp is 0.\n",
    "\n",
    "3. Drop the column `prcp`."
   ]
  },
  {
   "cell_type": "code",
   "execution_count": 57,
   "metadata": {
    "id": "HfjA9VRkoZn8"
   },
   "outputs": [
    {
     "name": "stdout",
     "output_type": "stream",
     "text": [
      "<class 'pandas.core.series.Series'>\n",
      "RangeIndex: 122000 entries, 0 to 121999\n",
      "Series name: mdct\n",
      "Non-Null Count   Dtype         \n",
      "--------------   -----         \n",
      "122000 non-null  datetime64[ns]\n",
      "dtypes: datetime64[ns](1)\n",
      "memory usage: 953.2 KB\n"
     ]
    },
    {
     "data": {
      "text/plain": [
       "['stp',\n",
       " 'smax',\n",
       " 'smin',\n",
       " 'gbrd',\n",
       " 'temp',\n",
       " 'dewp',\n",
       " 'tmax',\n",
       " 'dmax',\n",
       " 'tmin',\n",
       " 'dmin',\n",
       " 'hmdy',\n",
       " 'hmax',\n",
       " 'hmin',\n",
       " 'wdsp',\n",
       " 'wdct',\n",
       " 'gust']"
      ]
     },
     "execution_count": 57,
     "metadata": {},
     "output_type": "execute_result"
    }
   ],
   "source": [
    "# STUDENT TODO:\n",
    "\n",
    "df = pd.read_csv(\"data/observations.csv\")\n",
    "df = df.drop([\"Unnamed: 0\"], axis=1)\n",
    "\n",
    "df['mdct'] = df['mdct'].apply(lambda x:pd.to_datetime(x))\n",
    "df.loc[:,'mdct'].info()\n",
    "\n",
    "replace_columns = ['gust', 'gbrd', 'wdsp', 'dewp', 'dmin', 'dmax']\n",
    "df[replace_columns] = df[replace_columns].fillna(0)\n",
    "df = df.drop(df.index[df['temp']==0])\n",
    "df = df.drop('prcp',axis=1)\n",
    "origin_cols = list(df.columns)[2:]\n",
    "origin_cols"
   ]
  },
  {
   "cell_type": "markdown",
   "metadata": {
    "id": "BkiR5_lPpQmz"
   },
   "source": [
    "We want to calculate the difference in each metric over 1 hour. So basically if the temperature goes from 19.4 at 1200 hrs to 19.1 at 1300 hrs on a certain date we want the value to be -0.3."
   ]
  },
  {
   "cell_type": "markdown",
   "metadata": {
    "id": "f93mlhWWwAVB"
   },
   "source": [
    "Create two copies of the dataframe and shift the datetime by +1 hour on the right copy."
   ]
  },
  {
   "cell_type": "code",
   "execution_count": 60,
   "metadata": {
    "id": "3UWYKMRswAdW"
   },
   "outputs": [
    {
     "name": "stdout",
     "output_type": "stream",
     "text": [
      "<class 'pandas.core.frame.DataFrame'>\n",
      "Int64Index: 104366 entries, 1 to 105199\n",
      "Data columns (total 16 columns):\n",
      " #   Column  Non-Null Count   Dtype  \n",
      "---  ------  --------------   -----  \n",
      " 0   stp     104366 non-null  float64\n",
      " 1   smax    104366 non-null  float64\n",
      " 2   smin    104366 non-null  float64\n",
      " 3   gbrd    104366 non-null  float64\n",
      " 4   temp    104366 non-null  float64\n",
      " 5   dewp    104366 non-null  float64\n",
      " 6   tmax    104366 non-null  float64\n",
      " 7   dmax    104366 non-null  float64\n",
      " 8   tmin    104366 non-null  float64\n",
      " 9   dmin    104366 non-null  float64\n",
      " 10  hmdy    104366 non-null  float64\n",
      " 11  hmax    104366 non-null  float64\n",
      " 12  hmin    104366 non-null  float64\n",
      " 13  wdsp    104366 non-null  float64\n",
      " 14  wdct    104366 non-null  float64\n",
      " 15  gust    104366 non-null  float64\n",
      "dtypes: float64(16)\n",
      "memory usage: 13.5 MB\n"
     ]
    }
   ],
   "source": [
    "import datetime\n",
    "# STUDENT TODO:\n",
    "left_df = df.copy()\n",
    "right_df = df.copy()\n",
    "right_df['mdct'] = right_df['mdct'] + pd.Timedelta(hours=1)\n",
    "\n",
    "merged_df = pd.merge(left_df, right_df, on=['wsid', 'mdct'], how='left', indicator=True)\n",
    "merged_df = merged_df[merged_df['_merge']=='both']\n",
    "merged_df = merged_df.drop('_merge',axis=1)\n",
    "\n",
    "\n",
    "for col in origin_cols:\n",
    "    merged_df[col] = merged_df[col+'_x'] - merged_df[col+'_y']\n",
    "    merged_df.drop([col+'_x',col+'_y'],axis=1,inplace=True)\n",
    "merged_df.drop(['mdct','wsid'],axis=1,inplace=True)\n",
    "merged_df.info()\n"
   ]
  },
  {
   "cell_type": "markdown",
   "metadata": {
    "id": "jcRF416coWCX"
   },
   "source": [
    "1. Perform a left join between `left_df` and `right_df` on the `wsid` and `mcdt` columns. In the `merged_df` retain only the rows which have values from both `left_df` and `right_df`. (Clue: set `indicator` to be `True` while performing the merge and filter using the `_merge` column in the `merged_df`)\n",
    "\n",
    "Understand how `merged_df` looks like using `.head(), .describe(), .info(), etc.` before proceeding further.\n",
    "\n",
    "2. For the variables `stp, smax, smin, gbrd, dewp, tmax, dmax, tmin, dmin, hmdy, hmax, hmin, wdsp, wdct, gust, temp` (stored in the `columns` list), subtract the \"_y\" columns from their corresponding \"_x\" columns. For example, you should be subtracting `stp_y` column from the `stp_x` column in merged_df.\n",
    "\n",
    "3. Store each of these subtraction results in a new column in `merged_df`. For example, store the result of `merged_df[\"stp_x\"] - merged_df[\"stp_y\"]` in `merged_df[\"stp\"]`.\n",
    "\n",
    "```\n",
    "merged_df[\"stp\"] = merged_df[\"stp_x\"] - merged_df[\"stp_y\"]\n",
    "```\n",
    "\n",
    "> Do this for all the variables in `columns`.\n",
    "\n",
    "4. Drop the columns with \"_x\" and \"_y\" in their name from `merged_df`.\n",
    "\n",
    "5. Drop the columns `['_merge', 'mdct', 'wsid']` from `merged_df`."
   ]
  },
  {
   "cell_type": "code",
   "execution_count": null,
   "metadata": {
    "id": "c6y0Ne2lofbL"
   },
   "outputs": [],
   "source": [
    "columns = [\"stp\", \"smax\", \"smin\", \"gbrd\", \"dewp\", \"tmax\",\n",
    "            \"dmax\", \"tmin\", \"dmin\", \"hmdy\", \"hmax\",\n",
    "            \"hmin\", \"wdsp\", \"wdct\", \"gust\", \"temp\"]\n",
    "\n",
    "# STUDENT TODO:\n",
    "..."
   ]
  },
  {
   "cell_type": "markdown",
   "metadata": {
    "id": "6RmOwYxMz6Va"
   },
   "source": [
    "We have created a copy of `merged_df` for you (`final_cleaned_df`).\n",
    "\n",
    "1. Replace any non-negative `temp` value (`temp` >= 0) in `final_cleaned_df` with 1.\n",
    "2. Replace any negative `temp` value (`temp` < 0) in `final_cleaned_df` with 0."
   ]
  },
  {
   "cell_type": "code",
   "execution_count": 66,
   "metadata": {
    "id": "7Rnanafi14Nn"
   },
   "outputs": [
    {
     "data": {
      "text/html": [
       "<div>\n",
       "<style scoped>\n",
       "    .dataframe tbody tr th:only-of-type {\n",
       "        vertical-align: middle;\n",
       "    }\n",
       "\n",
       "    .dataframe tbody tr th {\n",
       "        vertical-align: top;\n",
       "    }\n",
       "\n",
       "    .dataframe thead th {\n",
       "        text-align: right;\n",
       "    }\n",
       "</style>\n",
       "<table border=\"1\" class=\"dataframe\">\n",
       "  <thead>\n",
       "    <tr style=\"text-align: right;\">\n",
       "      <th></th>\n",
       "      <th>stp</th>\n",
       "      <th>smax</th>\n",
       "      <th>smin</th>\n",
       "      <th>gbrd</th>\n",
       "      <th>temp</th>\n",
       "      <th>dewp</th>\n",
       "      <th>tmax</th>\n",
       "      <th>dmax</th>\n",
       "      <th>tmin</th>\n",
       "      <th>dmin</th>\n",
       "      <th>hmdy</th>\n",
       "      <th>hmax</th>\n",
       "      <th>hmin</th>\n",
       "      <th>wdsp</th>\n",
       "      <th>wdct</th>\n",
       "      <th>gust</th>\n",
       "    </tr>\n",
       "  </thead>\n",
       "  <tbody>\n",
       "    <tr>\n",
       "      <th>1</th>\n",
       "      <td>0.7</td>\n",
       "      <td>0.7</td>\n",
       "      <td>1.2</td>\n",
       "      <td>0.000</td>\n",
       "      <td>0.0</td>\n",
       "      <td>1.4</td>\n",
       "      <td>0.2</td>\n",
       "      <td>-3.2</td>\n",
       "      <td>3.5</td>\n",
       "      <td>1.4</td>\n",
       "      <td>4.0</td>\n",
       "      <td>-19.0</td>\n",
       "      <td>3.0</td>\n",
       "      <td>0.4</td>\n",
       "      <td>-7.0</td>\n",
       "      <td>-0.1</td>\n",
       "    </tr>\n",
       "    <tr>\n",
       "      <th>2</th>\n",
       "      <td>0.3</td>\n",
       "      <td>0.3</td>\n",
       "      <td>0.7</td>\n",
       "      <td>0.000</td>\n",
       "      <td>0.0</td>\n",
       "      <td>0.5</td>\n",
       "      <td>-0.9</td>\n",
       "      <td>0.4</td>\n",
       "      <td>-1.6</td>\n",
       "      <td>1.4</td>\n",
       "      <td>5.0</td>\n",
       "      <td>5.0</td>\n",
       "      <td>4.0</td>\n",
       "      <td>-1.1</td>\n",
       "      <td>-1.0</td>\n",
       "      <td>0.5</td>\n",
       "    </tr>\n",
       "    <tr>\n",
       "      <th>3</th>\n",
       "      <td>0.2</td>\n",
       "      <td>0.2</td>\n",
       "      <td>0.2</td>\n",
       "      <td>0.000</td>\n",
       "      <td>0.0</td>\n",
       "      <td>2.9</td>\n",
       "      <td>-1.6</td>\n",
       "      <td>2.9</td>\n",
       "      <td>-1.6</td>\n",
       "      <td>0.5</td>\n",
       "      <td>14.0</td>\n",
       "      <td>14.0</td>\n",
       "      <td>5.0</td>\n",
       "      <td>-0.8</td>\n",
       "      <td>3.0</td>\n",
       "      <td>-1.1</td>\n",
       "    </tr>\n",
       "    <tr>\n",
       "      <th>4</th>\n",
       "      <td>0.0</td>\n",
       "      <td>0.1</td>\n",
       "      <td>0.2</td>\n",
       "      <td>0.000</td>\n",
       "      <td>0.0</td>\n",
       "      <td>-0.5</td>\n",
       "      <td>-1.1</td>\n",
       "      <td>0.1</td>\n",
       "      <td>-0.5</td>\n",
       "      <td>2.3</td>\n",
       "      <td>-1.0</td>\n",
       "      <td>0.0</td>\n",
       "      <td>12.0</td>\n",
       "      <td>1.4</td>\n",
       "      <td>14.0</td>\n",
       "      <td>1.7</td>\n",
       "    </tr>\n",
       "    <tr>\n",
       "      <th>5</th>\n",
       "      <td>0.0</td>\n",
       "      <td>0.0</td>\n",
       "      <td>0.0</td>\n",
       "      <td>0.000</td>\n",
       "      <td>0.0</td>\n",
       "      <td>-0.2</td>\n",
       "      <td>-0.9</td>\n",
       "      <td>-0.6</td>\n",
       "      <td>-1.5</td>\n",
       "      <td>-0.4</td>\n",
       "      <td>5.0</td>\n",
       "      <td>4.0</td>\n",
       "      <td>1.0</td>\n",
       "      <td>-1.1</td>\n",
       "      <td>-11.0</td>\n",
       "      <td>-0.7</td>\n",
       "    </tr>\n",
       "    <tr>\n",
       "      <th>...</th>\n",
       "      <td>...</td>\n",
       "      <td>...</td>\n",
       "      <td>...</td>\n",
       "      <td>...</td>\n",
       "      <td>...</td>\n",
       "      <td>...</td>\n",
       "      <td>...</td>\n",
       "      <td>...</td>\n",
       "      <td>...</td>\n",
       "      <td>...</td>\n",
       "      <td>...</td>\n",
       "      <td>...</td>\n",
       "      <td>...</td>\n",
       "      <td>...</td>\n",
       "      <td>...</td>\n",
       "      <td>...</td>\n",
       "    </tr>\n",
       "    <tr>\n",
       "      <th>105195</th>\n",
       "      <td>0.5</td>\n",
       "      <td>0.5</td>\n",
       "      <td>0.9</td>\n",
       "      <td>216.395</td>\n",
       "      <td>1.0</td>\n",
       "      <td>1.1</td>\n",
       "      <td>1.9</td>\n",
       "      <td>1.3</td>\n",
       "      <td>0.9</td>\n",
       "      <td>0.5</td>\n",
       "      <td>-4.0</td>\n",
       "      <td>-3.0</td>\n",
       "      <td>-4.0</td>\n",
       "      <td>-0.7</td>\n",
       "      <td>16.0</td>\n",
       "      <td>0.0</td>\n",
       "    </tr>\n",
       "    <tr>\n",
       "      <th>105196</th>\n",
       "      <td>0.6</td>\n",
       "      <td>0.8</td>\n",
       "      <td>0.5</td>\n",
       "      <td>335.969</td>\n",
       "      <td>1.0</td>\n",
       "      <td>1.2</td>\n",
       "      <td>1.8</td>\n",
       "      <td>0.9</td>\n",
       "      <td>1.5</td>\n",
       "      <td>1.0</td>\n",
       "      <td>-3.0</td>\n",
       "      <td>-1.0</td>\n",
       "      <td>-3.0</td>\n",
       "      <td>0.2</td>\n",
       "      <td>-46.0</td>\n",
       "      <td>0.4</td>\n",
       "    </tr>\n",
       "    <tr>\n",
       "      <th>105197</th>\n",
       "      <td>-0.1</td>\n",
       "      <td>-0.2</td>\n",
       "      <td>0.4</td>\n",
       "      <td>1012.706</td>\n",
       "      <td>1.0</td>\n",
       "      <td>0.2</td>\n",
       "      <td>3.2</td>\n",
       "      <td>1.1</td>\n",
       "      <td>2.2</td>\n",
       "      <td>0.9</td>\n",
       "      <td>-12.0</td>\n",
       "      <td>-6.0</td>\n",
       "      <td>-15.0</td>\n",
       "      <td>1.3</td>\n",
       "      <td>-49.0</td>\n",
       "      <td>2.9</td>\n",
       "    </tr>\n",
       "    <tr>\n",
       "      <th>105198</th>\n",
       "      <td>-0.2</td>\n",
       "      <td>0.1</td>\n",
       "      <td>-0.1</td>\n",
       "      <td>-464.506</td>\n",
       "      <td>1.0</td>\n",
       "      <td>0.5</td>\n",
       "      <td>0.0</td>\n",
       "      <td>-0.2</td>\n",
       "      <td>2.1</td>\n",
       "      <td>0.6</td>\n",
       "      <td>0.0</td>\n",
       "      <td>-8.0</td>\n",
       "      <td>2.0</td>\n",
       "      <td>0.7</td>\n",
       "      <td>32.0</td>\n",
       "      <td>1.4</td>\n",
       "    </tr>\n",
       "    <tr>\n",
       "      <th>105199</th>\n",
       "      <td>-0.3</td>\n",
       "      <td>-0.4</td>\n",
       "      <td>-0.4</td>\n",
       "      <td>583.866</td>\n",
       "      <td>1.0</td>\n",
       "      <td>-0.1</td>\n",
       "      <td>1.1</td>\n",
       "      <td>0.5</td>\n",
       "      <td>0.9</td>\n",
       "      <td>-0.1</td>\n",
       "      <td>-3.0</td>\n",
       "      <td>-3.0</td>\n",
       "      <td>-6.0</td>\n",
       "      <td>-0.8</td>\n",
       "      <td>-28.0</td>\n",
       "      <td>-1.4</td>\n",
       "    </tr>\n",
       "  </tbody>\n",
       "</table>\n",
       "<p>104366 rows × 16 columns</p>\n",
       "</div>"
      ],
      "text/plain": [
       "        stp  smax  smin      gbrd  temp  dewp  tmax  dmax  tmin  dmin  hmdy  \\\n",
       "1       0.7   0.7   1.2     0.000   0.0   1.4   0.2  -3.2   3.5   1.4   4.0   \n",
       "2       0.3   0.3   0.7     0.000   0.0   0.5  -0.9   0.4  -1.6   1.4   5.0   \n",
       "3       0.2   0.2   0.2     0.000   0.0   2.9  -1.6   2.9  -1.6   0.5  14.0   \n",
       "4       0.0   0.1   0.2     0.000   0.0  -0.5  -1.1   0.1  -0.5   2.3  -1.0   \n",
       "5       0.0   0.0   0.0     0.000   0.0  -0.2  -0.9  -0.6  -1.5  -0.4   5.0   \n",
       "...     ...   ...   ...       ...   ...   ...   ...   ...   ...   ...   ...   \n",
       "105195  0.5   0.5   0.9   216.395   1.0   1.1   1.9   1.3   0.9   0.5  -4.0   \n",
       "105196  0.6   0.8   0.5   335.969   1.0   1.2   1.8   0.9   1.5   1.0  -3.0   \n",
       "105197 -0.1  -0.2   0.4  1012.706   1.0   0.2   3.2   1.1   2.2   0.9 -12.0   \n",
       "105198 -0.2   0.1  -0.1  -464.506   1.0   0.5   0.0  -0.2   2.1   0.6   0.0   \n",
       "105199 -0.3  -0.4  -0.4   583.866   1.0  -0.1   1.1   0.5   0.9  -0.1  -3.0   \n",
       "\n",
       "        hmax  hmin  wdsp  wdct  gust  \n",
       "1      -19.0   3.0   0.4  -7.0  -0.1  \n",
       "2        5.0   4.0  -1.1  -1.0   0.5  \n",
       "3       14.0   5.0  -0.8   3.0  -1.1  \n",
       "4        0.0  12.0   1.4  14.0   1.7  \n",
       "5        4.0   1.0  -1.1 -11.0  -0.7  \n",
       "...      ...   ...   ...   ...   ...  \n",
       "105195  -3.0  -4.0  -0.7  16.0   0.0  \n",
       "105196  -1.0  -3.0   0.2 -46.0   0.4  \n",
       "105197  -6.0 -15.0   1.3 -49.0   2.9  \n",
       "105198  -8.0   2.0   0.7  32.0   1.4  \n",
       "105199  -3.0  -6.0  -0.8 -28.0  -1.4  \n",
       "\n",
       "[104366 rows x 16 columns]"
      ]
     },
     "execution_count": 66,
     "metadata": {},
     "output_type": "execute_result"
    }
   ],
   "source": [
    "final_cleaned_df = merged_df.copy()\n",
    "# STUDENT TODO:\n",
    "final_cleaned_df['temp'][final_cleaned_df['temp']>=0] = 1\n",
    "final_cleaned_df['temp'][final_cleaned_df['temp']<0] = 0\n",
    "final_cleaned_df"
   ]
  },
  {
   "cell_type": "markdown",
   "metadata": {
    "id": "Fz_bGjWTOewG"
   },
   "source": [
    "# **AdaBoost**"
   ]
  },
  {
   "cell_type": "markdown",
   "metadata": {
    "id": "VYgUBn3BX9ol"
   },
   "source": [
    "## **Logistic regression with sample weights**\n",
    "\n",
    "As you will have learnt from the lectures, AdaBoost fits weak learners (here, logistic regression model)  in each iteration, to a dataset with weights $w_i$ attached to each sample $(x_i, y_i)$. The loss function now becomes:\n",
    "\n",
    "> $\n",
    "\\mathcal{L}({\\theta}) = -\\sum_{i =1}^N w_{i} \\times [ y_i\\log(h_{{\\theta}}({x}_i)) + (1 - y_i)\\log(1 - h_{{\\theta}}({x}_i))]\n",
    "$\n",
    "\n",
    "where $h_\\theta(x)$ is the logistic regression hypothesis function.\n",
    "\n",
    "The gradient of this weighted loss function with respect to the weight $\\theta_j$ is given by:\n",
    "\n",
    "> $\\frac{\\partial \\mathcal{L}({\\theta})}{\\partial \\theta_j} = \\sum_{i=1}^{N}w_{i}(h_{{\\theta}}({x}_i) - y_i)x_{ij}$\n",
    "\n",
    "Using this information, complete the `compute_gradient` method in the `LogisticRegression` class to account for sample weights."
   ]
  },
  {
   "cell_type": "code",
   "execution_count": null,
   "metadata": {
    "id": "Rpa6o-m5hS0T"
   },
   "outputs": [],
   "source": [
    "import numpy as np"
   ]
  },
  {
   "cell_type": "code",
   "execution_count": null,
   "metadata": {
    "id": "h1PEAbJ7-Q4r"
   },
   "outputs": [],
   "source": [
    "class LogisticRegression:\n",
    "    \"\"\"\n",
    "    Logistic Regression (aka logit, MaxEnt) classifier.\n",
    "\n",
    "    Parameters\n",
    "    ----------\n",
    "    alpha: float, default=0.1\n",
    "        Learning rate\n",
    "    tol : float, default=0.01\n",
    "        Tolerance for stopping criteria\n",
    "    max_iter : int, default=1000\n",
    "        Maximum number of iterations of gradient descent\n",
    "\n",
    "    Attributes\n",
    "    ----------\n",
    "    theta_ : numpy.ndarray of shape (D + 1,)\n",
    "        The value of the coefficients after gradient descent has converged\n",
    "        or the number of iterations hit the maximum limit\n",
    "    converged_: boolean\n",
    "        Boolean value indicating whether gradient descent converged or not\n",
    "    \"\"\"\n",
    "\n",
    "    def __init__(self, alpha=0.1, tol=0.01, max_iter=1000):\n",
    "\n",
    "        self.alpha = alpha\n",
    "        self.tol = tol\n",
    "        self.max_iter = max_iter\n",
    "\n",
    "        self.theta_ = None\n",
    "        self.converged_ = False\n",
    "\n",
    "    def compute_gradient(self, theta, X, y, sample_weight):\n",
    "        \"\"\"\n",
    "        Compute the gradient of the cost function.\n",
    "\n",
    "        Parameters\n",
    "        ----------\n",
    "        theta: numpy.ndarray of shape (D + 1,)\n",
    "            The coefficients\n",
    "        X: numpy.ndarray of shape (N, D + 1)\n",
    "            The features matrix\n",
    "        y: numpy.ndarray of shape (N,)\n",
    "            The target variable array\n",
    "        sample_weight: numpy.ndarray of shape (N,)\n",
    "            The sample weight array\n",
    "\n",
    "        Returns\n",
    "        -------\n",
    "        gradient: numpy.ndarray of shape (D + 1,)\n",
    "            The gradient values\n",
    "        \"\"\"\n",
    "\n",
    "        sigmoid = lambda x: 1 / (1 + np.exp(-x))\n",
    "        y_hat = sigmoid(X.dot(theta))\n",
    "\n",
    "        # STUDENT TODO: Compute the gradient\n",
    "        ...\n",
    "        # STUDENT TODO END\n",
    "\n",
    "    def fit(self, X, y, sample_weight):\n",
    "        \"\"\"\n",
    "        Compute the coefficients using gradient descent and store them as theta_.\n",
    "\n",
    "        Parameters\n",
    "        ----------\n",
    "        X: numpy.ndarray of shape (N, D)\n",
    "            The features matrix\n",
    "        y: numpy.ndarray of shape (N,)\n",
    "            The target variable array\n",
    "        sample_weight: numpy.ndarray of shape (N,)\n",
    "            The sample weight array\n",
    "\n",
    "        Returns\n",
    "        -------\n",
    "        Nothing\n",
    "        \"\"\"\n",
    "\n",
    "        N, D = X.shape\n",
    "\n",
    "        # Adding a column of ones at the beginning for the bias term\n",
    "        ones_col = np.ones((N, 1))\n",
    "        X = np.hstack((ones_col, X))\n",
    "\n",
    "        # Initializing the weights\n",
    "        theta_old = np.zeros((D + 1,))\n",
    "        theta_new = theta_old.copy()\n",
    "\n",
    "        for i in range(self.max_iter):\n",
    "            theta_new = theta_old - self.alpha * self.compute_gradient(theta_old, X, y, sample_weight)\n",
    "\n",
    "            if np.linalg.norm(theta_new - theta_old) / (np.linalg.norm(theta_old) + self.tol) <= self.tol:\n",
    "                self.converged_ = True\n",
    "                break\n",
    "\n",
    "            theta_old = theta_new.copy()\n",
    "\n",
    "        self.theta_ = theta_new\n",
    "\n",
    "    def predict_proba(self, X):\n",
    "        \"\"\"\n",
    "        Predict the probabilities that the data points in X belong to class 1.\n",
    "\n",
    "        Parameters\n",
    "        ----------\n",
    "        X: numpy.ndarray of shape (N, D)\n",
    "            The features matrix\n",
    "\n",
    "        Returns\n",
    "        -------\n",
    "        y_hat: numpy.ndarray of shape (N,)\n",
    "            The predicted probabilities that the data points in X belong to class 1\n",
    "        \"\"\"\n",
    "\n",
    "        N = X.shape[0]\n",
    "\n",
    "        # Adding a column of ones at the beginning for the bias term\n",
    "        ones_col = np.ones((N, 1))\n",
    "        X = np.hstack((ones_col, X))\n",
    "\n",
    "        sigmoid = lambda x: 1 / (1 + np.exp(-x))\n",
    "        y_hat = sigmoid(X.dot(self.theta_))\n",
    "        return y_hat\n",
    "\n",
    "    def predict(self, X):\n",
    "        \"\"\"\n",
    "        Predict the classes of the data points in X.\n",
    "\n",
    "        Parameters\n",
    "        ----------\n",
    "        X: numpy.ndarray of shape (N, D)\n",
    "            The features matrix\n",
    "\n",
    "        Returns\n",
    "        -------\n",
    "        y_pred: numpy.ndarray of shape (N,)\n",
    "            The predicted class of the data points in X\n",
    "        \"\"\"\n",
    "\n",
    "        y_hat = self.predict_proba(X)\n",
    "        y_pred = y_hat.copy()\n",
    "        y_pred[y_pred >= 0.5] = 1\n",
    "        y_pred[y_pred < 0.5] = 0\n",
    "        return y_pred"
   ]
  },
  {
   "cell_type": "markdown",
   "metadata": {
    "id": "UMnnQw5BVv-J"
   },
   "source": [
    "### Test case for the `compute_gradient` method"
   ]
  },
  {
   "cell_type": "code",
   "execution_count": null,
   "metadata": {
    "id": "EWn_IBKZ9NWv"
   },
   "outputs": [],
   "source": [
    "def test_compute_gradient(StudentLogisticRegression):\n",
    "\n",
    "    student_lr_clf = StudentLogisticRegression()\n",
    "    np.random.seed(0)\n",
    "    theta_tc = np.random.randn(2)\n",
    "    X_tc = np.random.randn(100, 2)\n",
    "    y_tc = np.random.randint(0, 2, 100)\n",
    "    sample_weight_tc = np.random.uniform(0, 1, 100)\n",
    "    student_ans = student_lr_clf.compute_gradient(theta_tc, X_tc, y_tc, sample_weight_tc)\n",
    "    required_ans = np.array([12.903225675830651, -1.0829605960182223])\n",
    "\n",
    "    assert np.linalg.norm(student_ans - required_ans) < 1e-2 * required_ans.size\n",
    "\n",
    "test_compute_gradient(LogisticRegression)"
   ]
  },
  {
   "cell_type": "markdown",
   "metadata": {
    "id": "UTuNHGX35ulA"
   },
   "source": [
    "## **AdaBoostClassifier Implementation**\n",
    "\n",
    "In this section, you will be implementing the AdaBoost classifier with the logistic regression weak learner from above.\n",
    "\n",
    "### **Follow the hints in the `fit` method in the `AdaBoostClassifier` class to implement the following algorithm.**\n",
    "\n",
    "Use the following Adaboost pseudocode as a reference.\n",
    "\n",
    "**INPUT:**\n",
    "\n",
    "1. training data $X, y = \\{(x_{i}, y_{i})\\}_{i=1}^N$\n",
    "\n",
    "2. number of iterations $T$\n",
    "\n",
    "**ALGORITHM:**\n",
    "\n",
    "1.   Initialize $N$ uniform weights, i.e., $w_{1} = [1/N, 1/N, ..., 1/N]$\n",
    "\n",
    "2.   `For` $t = 1, 2, ... T$:\n",
    "\n",
    "> 2.1. Train model $h_t$ on $X$ and $y$ with instance weights $w_{t}$\n",
    "\n",
    "> 2.2. Compute the weighted training error rate of $h_{t}$: $\\epsilon_{t} = \\sum_{i: y_i \\ne h_t(x_i)} w_{t,i}$\n",
    "\n",
    "> 2.3. If $\\epsilon_{t} > 0.5$, flip $h_t$'s predictions\n",
    "\n",
    "> 2.4. Set $\\beta_{t} = \\frac{1}{2}\\text{ln}\\left(\\frac{1 - \\epsilon_t}{\\epsilon_t}\\right)$\n",
    "\n",
    "> 2.5. Update all instance weights: $w_{t + 1,i} = w_{t,i}\\times\\text{exp}(-\\beta_{t}y_{i}h_{t}(x_{i}))$ $\\forall i = 1, 2, ..., N$\n",
    "\n",
    "> 2.6. Normalize $w_{t+1}$ such that the elements sum to 1\n",
    "\n",
    "> `End For`\n",
    "\n",
    "### **Follow the hints in the `predict` method in the `AdaBoostClassifier` class for obtaining the predictions of the trained AdaBoost classifier.**\n",
    "\n",
    "> $H(x) = \\text{sign}\\left(\\sum_{t=1}^{T}\\beta_{t}h_{t}(x)\\right)$"
   ]
  },
  {
   "cell_type": "code",
   "execution_count": null,
   "metadata": {
    "id": "l-ep_MeohVZM"
   },
   "outputs": [],
   "source": [
    "class AdaBoostClassifier:\n",
    "    \"\"\"\n",
    "    AdaBoost classifier based on logistic regression\n",
    "\n",
    "    Parameters\n",
    "    ----------\n",
    "    T: int, default=100\n",
    "        The number of logistic regression models in the boosting model\n",
    "\n",
    "    Attributes\n",
    "    ----------\n",
    "    beta_arr_ : list of length T\n",
    "        The list of beta values in the boosting model\n",
    "\n",
    "    h_arr_: list of length T\n",
    "        The list of logistic regression models in the boosting model\n",
    "    \"\"\"\n",
    "\n",
    "    def __init__(self, T=100):\n",
    "\n",
    "        self.T = T\n",
    "\n",
    "        self.beta_arr_ = []\n",
    "        self.h_arr_ = []\n",
    "\n",
    "    def fit(self, X, y):\n",
    "        \"\"\"\n",
    "        Train the logistic regression models (h) and compute their coefficients (beta),\n",
    "        and store them in h_arr_ and beta_arr_ respectively.\n",
    "\n",
    "        Parameters\n",
    "        ----------\n",
    "        X: numpy.ndarray of shape (N, D)\n",
    "            The features matrix\n",
    "        y: numpy.ndarray of shape (N,)\n",
    "            The target variable array\n",
    "\n",
    "        Returns\n",
    "        -------\n",
    "        Nothing\n",
    "        \"\"\"\n",
    "\n",
    "        N = X.shape[0]\n",
    "\n",
    "        # STUDENT TODO: Initialize w with appropriate values\n",
    "        w = ...\n",
    "        # STUDENT TODO END\n",
    "\n",
    "        y_ = y.copy()\n",
    "        # STUDENT TODO: Update y_ such that the 0's in y_ are replaced by -1\n",
    "        ...\n",
    "        # STUDENT TODO END\n",
    "\n",
    "        for t in range(self.T):\n",
    "            h = LogisticRegression()\n",
    "\n",
    "            # STUDENT TODO: Fit h to X and y using w as the sample weights\n",
    "            ...\n",
    "            # STUDENT TODO END\n",
    "\n",
    "            # STUDENT TODO: Obtain the predictions from h and compute epsilon\n",
    "            y_pred = ...\n",
    "            epsilon = ...\n",
    "            # STUDENT TODO END\n",
    "\n",
    "            # STUDENT TODO: If epsilon > 0.5:\n",
    "            # 1. flip the predictions, i.e., replace 1's with 0's and 0's with 1's\n",
    "            # 2. invert the model (h), i.e., make it predict 1 for what it predicted 0 earlier and vice-versa (clue: think about modifying h.theta_)\n",
    "            ...\n",
    "            # STUDENT TODO END\n",
    "\n",
    "            self.h_arr_.append(h)\n",
    "\n",
    "            if epsilon == 0:\n",
    "                beta = np.inf\n",
    "                self.beta_arr_.append(beta)\n",
    "                break\n",
    "\n",
    "            # STUDENT TODO: Compute beta\n",
    "            beta = ...\n",
    "            # STUDENT TODO END\n",
    "\n",
    "            self.beta_arr_.append(beta)\n",
    "\n",
    "            y_pred_ = y_pred.copy()\n",
    "\n",
    "            # STUDENT TODO: Update y_pred_ such that the 0's in y_pred_ are replaced by -1\n",
    "            ...\n",
    "            # STUDENT TODO END\n",
    "\n",
    "            # STUDENT TODO: Update w and normalize it such that the values in w sum to 1\n",
    "            ...\n",
    "            # STUDENT TODO END\n",
    "\n",
    "    def predict(self, X):\n",
    "        \"\"\"\n",
    "        Predict the classes of the data points in X.\n",
    "\n",
    "        Parameters\n",
    "        ----------\n",
    "        X: numpy.ndarray of shape (N, D)\n",
    "            The features matrix\n",
    "\n",
    "        Returns\n",
    "        -------\n",
    "        y_pred: numpy.ndarray of shape (N,)\n",
    "            The predicted class of the data points in X\n",
    "        \"\"\"\n",
    "\n",
    "        N = X.shape[0]\n",
    "\n",
    "        # Initialize the summation of beta times h for each x_i\n",
    "        sum_beta_times_h = np.zeros((N,))\n",
    "\n",
    "        for t in range(len(self.h_arr_)):\n",
    "\n",
    "            # STUDENT TODO: Obtain the predictions of the t-th model in self.h_arr_\n",
    "            # Replace the 0's in the array with -1\n",
    "            ...\n",
    "            # STUDENT TODO END\n",
    "\n",
    "            # STUDENT TODO: Update sum_beta_times_h\n",
    "            ...\n",
    "            # STUDENT TODO END\n",
    "\n",
    "        # STUDENT TODO: Create an array `y_pred` for the final predictions\n",
    "        # Fill 0's and 1's in `y_pred` depending on the sum_beta_time_h value in the corresponding location\n",
    "        ...\n",
    "        # STUDENT TODO END\n"
   ]
  },
  {
   "cell_type": "markdown",
   "metadata": {
    "id": "EICaCxuHUY2j"
   },
   "source": [
    "### Test case for the `fit` method"
   ]
  },
  {
   "cell_type": "code",
   "execution_count": null,
   "metadata": {
    "id": "w30orkoA8w5A"
   },
   "outputs": [],
   "source": [
    "def test_adaboost_fit(StudentAdaBoostClassifier):\n",
    "\n",
    "    T = 4\n",
    "    N = 100\n",
    "    D = 2\n",
    "\n",
    "    student_ab_clf = StudentAdaBoostClassifier(T=T)\n",
    "    np.random.seed(0)\n",
    "    X_tc = np.random.randn(N, D)\n",
    "    y_tc = np.random.randint(0, 2, N)\n",
    "    student_ab_clf.fit(X_tc, y_tc)\n",
    "\n",
    "    beta_arr_student_ans = student_ab_clf.beta_arr_\n",
    "    beta_arr_required_ans = np.array([0.08017132503758954, 0.046732864002838985,\n",
    "                                      0.022808008179707476, 0.07012335626140642])\n",
    "    assert np.linalg.norm(beta_arr_student_ans - beta_arr_required_ans) < 1e-2 * beta_arr_required_ans.size\n",
    "\n",
    "    h_arr_student_ans = np.zeros([T, D + 1])\n",
    "\n",
    "    for indx, h in enumerate(student_ab_clf.h_arr_):\n",
    "        h_arr_student_ans[indx] = h.theta_\n",
    "\n",
    "    h_arr_required_ans = np.array([[-0.01514967, -0.01713051,  0.21344566],\n",
    "                                   [-0.01738886, -0.00656722,  0.12035635],\n",
    "                                   [-0.0132557,  -0.00428943, 0.06616284],\n",
    "                                   [-0.01037174, -0.00334141,  0.03943088]])\n",
    "\n",
    "    assert np.linalg.norm(h_arr_student_ans - h_arr_required_ans) < 1e-2 * h_arr_required_ans.size\n",
    "\n",
    "test_adaboost_fit(AdaBoostClassifier)"
   ]
  },
  {
   "cell_type": "markdown",
   "metadata": {
    "id": "_6NG8KfQUg1c"
   },
   "source": [
    "### Test case for the `predict` method"
   ]
  },
  {
   "cell_type": "code",
   "execution_count": null,
   "metadata": {
    "id": "WGB1aPLgWtfT"
   },
   "outputs": [],
   "source": [
    "def test_adaboost_predict(StudentAdaBoostClassifier):\n",
    "\n",
    "    T = 4\n",
    "    N = 100\n",
    "    D = 2\n",
    "\n",
    "    student_ab_clf = StudentAdaBoostClassifier(T=T)\n",
    "    np.random.seed(0)\n",
    "    X_tc = np.random.randn(N, D)\n",
    "    y_tc = np.random.randint(0, 2, N)\n",
    "    student_ab_clf.fit(X_tc, y_tc)\n",
    "\n",
    "    student_ans = student_ab_clf.predict(X_tc)\n",
    "    required_ans = [1, 1, 0, 0, 1, 1, 0, 1, 0, 0, 1, 0, 0, 0, 1, 1, 0, 1, 1, 0,\n",
    "                    0, 1, 0, 1, 0, 1, 0, 1, 1, 0, 0, 0, 0, 1, 0, 0, 0, 0, 0, 0,\n",
    "                    1, 0, 1, 0, 1, 1, 1, 1, 1, 1, 0, 1, 1, 0, 1, 1, 1, 1, 0, 1,\n",
    "                    0, 1, 0, 1, 1, 1, 0, 1, 0, 0, 1, 1, 1, 1, 0, 1, 0, 0, 0, 0,\n",
    "                    1, 0, 1, 0, 1, 1, 0, 1, 0, 0, 0, 0, 0, 0, 1, 1, 0, 0, 1, 1]\n",
    "\n",
    "    assert np.mean(student_ans == required_ans) >= 0.98\n",
    "\n",
    "test_adaboost_predict(AdaBoostClassifier)"
   ]
  },
  {
   "cell_type": "markdown",
   "metadata": {
    "id": "_sFtGKi_WQBm"
   },
   "source": [
    "## **AdaBoost on the dataset**\n",
    "\n",
    "Follow the hints in the `adaboost_on_dataset` method in the below cell to run `AdaBoostClassifier` on the dataset you prepared in section 1."
   ]
  },
  {
   "cell_type": "code",
   "execution_count": null,
   "metadata": {
    "id": "gwXKNBEiYPX3"
   },
   "outputs": [],
   "source": [
    "from sklearn.model_selection import train_test_split\n",
    "from sklearn.metrics import accuracy_score\n",
    "\n",
    "# Splitting the final_cleaned_df into training and testing datasets\n",
    "train_df, test_df = train_test_split(final_cleaned_df, test_size=0.2, random_state=6100)\n",
    "\n",
    "def adaboost_on_dataset():\n",
    "    \"\"\"\n",
    "    Trains the AdaBoostClassifier on a real-world dataset.\n",
    "\n",
    "    Parameters\n",
    "    ----------\n",
    "    Nothing\n",
    "\n",
    "    Returns\n",
    "    -------\n",
    "    y_test_pred: numpy.ndarray\n",
    "        The predicted classes of the datapoints in test_df\n",
    "    \"\"\"\n",
    "\n",
    "    # STUDENT TODO START: Initialize X_train and y_train with appropriate values (clue: use .iloc followed by .values of the DataFrame class)\n",
    "    ...\n",
    "    # STUDENT TODO END\n",
    "\n",
    "    # STUDENT TODO START: Initialize X_test\n",
    "    ...\n",
    "    # STUDENT TODO END\n",
    "\n",
    "    scaler = StandardScaler()\n",
    "    # STUDENT TODO START: Scale the features of X_train and X_test using scaler\n",
    "    ...\n",
    "    # STUDENT TODO END\n",
    "\n",
    "    clf = AdaBoostClassifier(T=10)\n",
    "    # STUDENT TODO START: Now fit clf to the entire training data, i.e., X_train and y_train after feature scaling\n",
    "    ...\n",
    "    # STUDENT TODO END\n",
    "\n",
    "    # STUDENT TODO START: Predict the classes of the datapoints in X_test and return the result\n",
    "    ...\n",
    "    # STUDENT TODO END\n",
    "    return y_test_pred\n",
    "\n",
    "\n",
    "# Calling the function\n",
    "y_test_pred = adaboost_on_dataset()\n",
    "# Calculate the accuracy\n",
    "accuracy = accuracy_score(test_df['temp'], y_test_pred)\n",
    "print(f\"Accuracy: {accuracy * 100:.2f}%\")"
   ]
  },
  {
   "cell_type": "markdown",
   "metadata": {
    "id": "HK4vJh-wDbdC"
   },
   "source": [
    "# **XGBoost**"
   ]
  },
  {
   "cell_type": "markdown",
   "metadata": {
    "id": "TdO8f_FWRLt5"
   },
   "source": [
    "## TODOs for this section:\n",
    "- You'll use xgboost library to build a classifier for the above problem. XGBoost is a popular library for gradient boosting, and you can find its documentation [here](https://xgboost.readthedocs.io/en/latest/)."
   ]
  },
  {
   "cell_type": "code",
   "execution_count": null,
   "metadata": {
    "id": "JimlDZbFDsX0"
   },
   "outputs": [],
   "source": [
    "import xgboost as xgb\n",
    "from sklearn.model_selection import train_test_split\n",
    "from sklearn.metrics import accuracy_score\n",
    "\n",
    "# Splitting the final_cleaned_df into training and testing datasets\n",
    "train_df, test_df = train_test_split(final_cleaned_df, test_size=0.2, random_state=6100)\n",
    "\n",
    "# STUDENT TODO STARTS:\n",
    "# 1. Fit an xgboost classifier to the training data (train_df, target variable is temp)\n",
    "# 2. Obtain the predictions of the trained model on test_df in the variable y_test_pred\n",
    "y_test_pred = ...\n",
    "# STUDENT TODO ENDS\n",
    "\n",
    "# Calculate the accuracy\n",
    "accuracy = accuracy_score(test_df['temp'], y_test_pred)\n",
    "print(f\"Accuracy: {accuracy * 100:.2f}%\")"
   ]
  }
 ],
 "metadata": {
  "colab": {
   "provenance": []
  },
  "kernelspec": {
   "display_name": "Python 3 (ipykernel)",
   "language": "python",
   "name": "python3"
  },
  "language_info": {
   "codemirror_mode": {
    "name": "ipython",
    "version": 3
   },
   "file_extension": ".py",
   "mimetype": "text/x-python",
   "name": "python",
   "nbconvert_exporter": "python",
   "pygments_lexer": "ipython3",
   "version": "3.10.9"
  },
  "latex_envs": {
   "LaTeX_envs_menu_present": true,
   "autoclose": false,
   "autocomplete": true,
   "bibliofile": "biblio.bib",
   "cite_by": "apalike",
   "current_citInitial": 1,
   "eqLabelWithNumbers": true,
   "eqNumInitial": 1,
   "hotkeys": {
    "equation": "Ctrl-E",
    "itemize": "Ctrl-I"
   },
   "labels_anchors": false,
   "latex_user_defs": false,
   "report_style_numbering": false,
   "user_envs_cfg": false
  },
  "toc": {
   "base_numbering": 1,
   "nav_menu": {},
   "number_sections": true,
   "sideBar": true,
   "skip_h1_title": false,
   "title_cell": "Table of Contents",
   "title_sidebar": "Contents",
   "toc_cell": false,
   "toc_position": {},
   "toc_section_display": true,
   "toc_window_display": true
  },
  "vscode": {
   "interpreter": {
    "hash": "377c3e77380f886ab555d62b93e59a1648fc55affccd8d0220be3281f77f4c6d"
   }
  }
 },
 "nbformat": 4,
 "nbformat_minor": 1
}
