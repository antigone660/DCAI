{
 "cells": [
  {
   "cell_type": "code",
   "execution_count": 4,
   "id": "0fecaab9",
   "metadata": {},
   "outputs": [],
   "source": [
    "import numpy as np\n",
    "import pandas as pd\n",
    "import re\n",
    "from sklearn.model_selection import train_test_split\n",
    "np.random.seed(0)"
   ]
  },
  {
   "cell_type": "markdown",
   "id": "4746bef1",
   "metadata": {},
   "source": [
    "## Movie Review Classifier 🍿📽️"
   ]
  },
  {
   "cell_type": "markdown",
   "id": "9c58cd71",
   "metadata": {},
   "source": [
    "In this assignment, we'll be training a model to classify movie reviews as 'good' or 'bad.'\\\n",
    "The data consists of 40,000 real move reviews from IMBD.\\\n"
   ]
  },
  {
   "cell_type": "markdown",
   "id": "3ba6bc9b",
   "metadata": {},
   "source": [
    "We'll load the data as a zipped csv. \\\n",
    "Notice that `pd.read_csv()` can take a URL as the path argument and that we can read in a compressed file without first expanding it if we specify the `compression` format!"
   ]
  },
  {
   "cell_type": "code",
   "execution_count": 5,
   "id": "65d14744",
   "metadata": {},
   "outputs": [],
   "source": [
    "data_url = './data/movie_reviews.zip'\n",
    "df = pd.read_csv(data_url, compression='zip')"
   ]
  },
  {
   "cell_type": "code",
   "execution_count": 6,
   "id": "29fd2bbd",
   "metadata": {},
   "outputs": [
    {
     "data": {
      "text/html": [
       "<div>\n",
       "<style scoped>\n",
       "    .dataframe tbody tr th:only-of-type {\n",
       "        vertical-align: middle;\n",
       "    }\n",
       "\n",
       "    .dataframe tbody tr th {\n",
       "        vertical-align: top;\n",
       "    }\n",
       "\n",
       "    .dataframe thead th {\n",
       "        text-align: right;\n",
       "    }\n",
       "</style>\n",
       "<table border=\"1\" class=\"dataframe\">\n",
       "  <thead>\n",
       "    <tr style=\"text-align: right;\">\n",
       "      <th></th>\n",
       "      <th>text</th>\n",
       "      <th>label</th>\n",
       "    </tr>\n",
       "  </thead>\n",
       "  <tbody>\n",
       "    <tr>\n",
       "      <th>0</th>\n",
       "      <td>If you haven't seen this movie than you need t...</td>\n",
       "      <td>1</td>\n",
       "    </tr>\n",
       "    <tr>\n",
       "      <th>1</th>\n",
       "      <td>but \"Cinderella\" gets my vote, not only for th...</td>\n",
       "      <td>0</td>\n",
       "    </tr>\n",
       "    <tr>\n",
       "      <th>2</th>\n",
       "      <td>This movie is pretty cheesy, but I do give it ...</td>\n",
       "      <td>1</td>\n",
       "    </tr>\n",
       "    <tr>\n",
       "      <th>3</th>\n",
       "      <td>I have not seen a Van Damme flick for a while,...</td>\n",
       "      <td>1</td>\n",
       "    </tr>\n",
       "    <tr>\n",
       "      <th>4</th>\n",
       "      <td>This is a 'sleeper'. It defines Nicholas Cage....</td>\n",
       "      <td>1</td>\n",
       "    </tr>\n",
       "  </tbody>\n",
       "</table>\n",
       "</div>"
      ],
      "text/plain": [
       "                                                text  label\n",
       "0  If you haven't seen this movie than you need t...      1\n",
       "1  but \"Cinderella\" gets my vote, not only for th...      0\n",
       "2  This movie is pretty cheesy, but I do give it ...      1\n",
       "3  I have not seen a Van Damme flick for a while,...      1\n",
       "4  This is a 'sleeper'. It defines Nicholas Cage....      1"
      ]
     },
     "execution_count": 6,
     "metadata": {},
     "output_type": "execute_result"
    }
   ],
   "source": [
    "df.head()"
   ]
  },
  {
   "cell_type": "code",
   "execution_count": 7,
   "id": "cb303695",
   "metadata": {},
   "outputs": [
    {
     "data": {
      "text/plain": [
       "\"If you haven't seen this movie than you need to. It rocks and you have to watch it. It is so funny and will make you laugh your guts out!! so you have to watch it and i saw it about a billion and a half times and still think it is funny. so you have to. yes i have memorized the whole movie and could quote it to you from start to finish. you must see this move. it is also cute because it is half a chick flick. if you don't watch it then you are really missing out.this movie even has cute guys in it and that is always a bonus. so in summary watch the movie now and trust me you will not be making a mistake. did i mention the music is good too. So you should like it if you enjoy music. This is a movie that they rated correctly and it will work for anyone.\""
      ]
     },
     "execution_count": 7,
     "metadata": {},
     "output_type": "execute_result"
    }
   ],
   "source": [
    "df.text[0]"
   ]
  },
  {
   "cell_type": "code",
   "execution_count": 8,
   "id": "3fae19e0",
   "metadata": {},
   "outputs": [
    {
     "data": {
      "text/plain": [
       "array([1, 0], dtype=int64)"
      ]
     },
     "execution_count": 8,
     "metadata": {},
     "output_type": "execute_result"
    }
   ],
   "source": [
    "df.label.unique()"
   ]
  },
  {
   "cell_type": "markdown",
   "id": "8de24367",
   "metadata": {},
   "source": [
    "We see that the dataset consists of text reviews and binary labels. Intuitively, the positive class is \"good\" while the negative is \"bad.\""
   ]
  },
  {
   "cell_type": "markdown",
   "id": "7e51a555",
   "metadata": {},
   "source": [
    "Here are two examples from the dataset:"
   ]
  },
  {
   "cell_type": "code",
   "execution_count": 9,
   "id": "14999480",
   "metadata": {},
   "outputs": [
    {
     "data": {
      "text/plain": [
       "\"If you haven't seen this movie than you need to. It rocks and you have to watch it. It is so funny and will make you laugh your guts out!! so you have to watch it and i saw it about a billion and a half times and still think it is funny. so you have to. yes i have memorized the whole movie and could quote it to you from start to finish. you must see this move. it is also cute because it is half a chick flick. if you don't watch it then you are really missing out.this movie even has cute guys in it and that is always a bonus. so in summary watch the movie now and trust me you will not be making a mistake. did i mention the music is good too. So you should like it if you enjoy music. This is a movie that they rated correctly and it will work for anyone.\""
      ]
     },
     "metadata": {},
     "output_type": "display_data"
    },
    {
     "name": "stdout",
     "output_type": "stream",
     "text": [
      "\n"
     ]
    },
    {
     "data": {
      "text/plain": [
       "'label: good'"
      ]
     },
     "metadata": {},
     "output_type": "display_data"
    },
    {
     "name": "stdout",
     "output_type": "stream",
     "text": [
      "\n"
     ]
    },
    {
     "data": {
      "text/plain": [
       "'but \"Cinderella\" gets my vote, not only for the worst of Disney\\'s princess movies, but for the worst movie the company made during Walt\\'s lifetime. The music is genuinely pretty, and the story deserves to be called \"classic.\" What fails in this movie are the characters, particularly the title character, who could only be called \"the heroine\" in the loosest sense of the term.<br /><br />After a brief prologue, the audience is introduced to Cinderella. She is waking up in the morning and singing \"A Dream is A wish Your Heart Makes.\" This establishes her as an idealist (and thus deserving of our sympathy). Unfortunately, the script gives us no clue as to what she is dreaming about. Freedom from her servant role? The respect of her step-family? Someone to talk to besides mice and birds? In one song (cut from the movie but presented in the special features section of the latest DVD) Cinderella relates her wish that there could be many of her so she could do her work more efficiently. You go girlfriend! In short, Cinderella is a very bland character. She passively accepts her step-family\\'s abuse, escaping into her unspoken dreams for relief. She only asserts herself once by reminding her stepmother that she is still a member of the family. For this, she is given permission to go the ball if she completes her housework and finds something to wear, a token gesture that is clearly absurd to everyone except, of course, Cinderella. Can anyone see Belle or Jasmine being such a doormat? If Cinderella is dull, her male counterpart is nothing short of lifeless. The Prince in Cinderella gets no dialog and almost no screen time. We are given no indication if he is a good man, if he respects Cinderella or anything. All we know is 1) he is a prince and 2) he dances well. Heck, even the prince from \"Snow White\" got to sing a romantic song at least. Not only does this lack of development make the romance less interesting, it makes Cinderella look like either a social climber or an idiot, weakening her already tenuous appeal.<br /><br />Perhaps realizing how dull the main characters were, the animators chose to give excessive screen time to the movie\\'s comic relief, Cinderella\\'s friends, the mice. Granted, these characters are amusing. Even so, when the comic relief steals the show from the principals, well, let\\'s just say your story has some problems.<br /><br />Dinsey loves to proclaim all its animated features as \"masterpieces.\" While many of them are, there are some that do not deserve this appellate in any way. Cinderella is a prime example of this fact.'"
      ]
     },
     "metadata": {},
     "output_type": "display_data"
    },
    {
     "name": "stdout",
     "output_type": "stream",
     "text": [
      "\n"
     ]
    },
    {
     "data": {
      "text/plain": [
       "'label: bad'"
      ]
     },
     "metadata": {},
     "output_type": "display_data"
    },
    {
     "name": "stdout",
     "output_type": "stream",
     "text": [
      "\n"
     ]
    }
   ],
   "source": [
    "labels = {0: 'bad', 1: 'good'}\n",
    "seen = {'bad': False, 'good': False}\n",
    "for i in range(df.shape[0]):\n",
    "    label = df.loc[i,'label']\n",
    "    if not seen[labels[label]]:         #为了表示这俩标签是否都被遍历到过\n",
    "        # display/print combination used to appease Ed's strange output behavior\n",
    "        display(df.loc[i, 'text'])\n",
    "        print()\n",
    "        display(f\"label: {labels[label]}\")\n",
    "        print()\n",
    "        seen[labels[label]] = True\n",
    "    if all(val == True for val in seen.values()):\n",
    "        break"
   ]
  },
  {
   "cell_type": "markdown",
   "id": "c1ee4ceb",
   "metadata": {},
   "source": [
    "**Some Preprocessing**"
   ]
  },
  {
   "cell_type": "markdown",
   "id": "c9326a9b",
   "metadata": {},
   "source": [
    "In the 2nd example, we can see some html tags inside the review text.\n",
    "\n",
    "Complete the `remove_br()` function by providing its call to `re.sub()` with a regex that removes those pesky \"\\<br />\" tags from an input string, `x`.\\\n",
    "Speciffically, we should replace 2 consecutive occurances of \"\\<br />\" with a single space (can you see why?).\n",
    "\n",
    "**Hint:** It is good practice to use 'raw' string when writing regular expressions to ensure that special characters are treated correctly. Raw strings are appended with an 'r' like this: `r'this is a raw string'`"
   ]
  },
  {
   "cell_type": "code",
   "execution_count": 10,
   "id": "5b94fbca",
   "metadata": {},
   "outputs": [],
   "source": [
    "# please fill this code block!\n",
    "# fill in the regular expression\n",
    "# Define the regular expression to match two consecutive \"<br />\" tags and replace them with a space.\n",
    "remove_br = lambda x: re.sub(r'<br />\\s*<br />', ' ', x)\n"
   ]
  },
  {
   "cell_type": "markdown",
   "id": "2ff4edfe",
   "metadata": {},
   "source": [
    "Use the dataframe's `apply()` method to apply `remove_br` to each review in both train and test."
   ]
  },
  {
   "cell_type": "code",
   "execution_count": 11,
   "id": "fb9893c2",
   "metadata": {},
   "outputs": [],
   "source": [
    "# please fill this code block!\n",
    "# Apply the function on the 'text' column of the dataframe\n",
    "df['text'] = df['text'].apply(remove_br)"
   ]
  },
  {
   "cell_type": "markdown",
   "id": "05013853",
   "metadata": {},
   "source": [
    "And we can see that the tags have been removed!"
   ]
  },
  {
   "cell_type": "code",
   "execution_count": 12,
   "id": "30134871",
   "metadata": {},
   "outputs": [
    {
     "data": {
      "text/plain": [
       "\"This is a 'sleeper'. It defines Nicholas Cage. The plot is intricate and totally absorbing. The ending will blow you away. See it whenever you have the opportunity.\""
      ]
     },
     "execution_count": 12,
     "metadata": {},
     "output_type": "execute_result"
    }
   ],
   "source": [
    "df.loc[4,'text']"
   ]
  },
  {
   "cell_type": "markdown",
   "id": "57e4770d",
   "metadata": {},
   "source": [
    "Don't worry about any newline characters or backslashes you may see before apostrophes in the examples above. This is just a quirk of how Jupyter displays strings by default.\\\n",
    "We don't see that these characters if we explicitly `print` the string."
   ]
  },
  {
   "cell_type": "code",
   "execution_count": 13,
   "id": "77fe245e",
   "metadata": {},
   "outputs": [
    {
     "name": "stdout",
     "output_type": "stream",
     "text": [
      "This is a 'sleeper'. It defines Nicholas Cage. The plot is intricate and totally absorbing. The ending will blow you away. See it whenever you have the opportunity.\n"
     ]
    }
   ],
   "source": [
    "example_str = df.loc[4,'text']\n",
    "print(example_str)"
   ]
  },
  {
   "cell_type": "markdown",
   "id": "1e105db9",
   "metadata": {},
   "source": [
    "We'll continue our preprocessing by next **removing punctuation**.\\\n",
    "But first, let's keep a copy of the data *with* punctuation. This will be useful at the end of the notebook when we want to display the original text of specific observations."
   ]
  },
  {
   "cell_type": "code",
   "execution_count": 14,
   "id": "63e3b9d6",
   "metadata": {},
   "outputs": [],
   "source": [
    "# store copy of data with punctuation\n",
    "df_raw = df.copy()"
   ]
  },
  {
   "cell_type": "markdown",
   "id": "73aa28d4",
   "metadata": {},
   "source": [
    "The next regex we need is a bit more involved.\\\n",
    "**This should match any non-whitespace, any non-alphanumeric characters, and underscores** (strangly, underscores are not covered by the first 2 conditions).\n",
    "\n",
    "**Hints:**\n",
    "- `\\w` matches alphanumeric characters\n",
    "- `\\s` matches whitespace\n",
    "- `[]` can be used to denote a set of characters. ex: `r'[ab]'` will match on 'a' *or* 'b'\n",
    "- `^` at the beginning of a character set denotes *negation*. ex: `r'[^0-9]'` will matching any non-integer\n",
    "- `|` is the *logical or* operator. ex: `r'cat|dog'` will match the strings 'cat' *or* 'dog' \n",
    "- There are many helpful sites for testing regexes. [Here's a nice one](https://www.regextester.com/)."
   ]
  },
  {
   "cell_type": "code",
   "execution_count": 15,
   "id": "1c714b28",
   "metadata": {},
   "outputs": [],
   "source": [
    "# please fill this code block!\n",
    "# create a regex that will match the characters described above \n",
    "punc_regex = r'[^\\w\\s]'"
   ]
  },
  {
   "cell_type": "markdown",
   "id": "09b57e39",
   "metadata": {},
   "source": [
    "Here we'll use an alternative to the `apply` approach we saw above.\\\n",
    "Pandas has its own set of built-in string methods which includes a version of `replace`. But unlike Python's `str.replace()` this can actually use regexes!"
   ]
  },
  {
   "cell_type": "code",
   "execution_count": 16,
   "id": "8a874d3f",
   "metadata": {},
   "outputs": [],
   "source": [
    "df['text'] = df.text.str.replace(punc_regex, '', regex=True) # remove punctuation"
   ]
  },
  {
   "cell_type": "markdown",
   "id": "562cbd2e",
   "metadata": {},
   "source": [
    "If all went well we can see that punctuation has been removed from our dataset."
   ]
  },
  {
   "cell_type": "code",
   "execution_count": 17,
   "id": "a82b9bcb",
   "metadata": {},
   "outputs": [
    {
     "name": "stdout",
     "output_type": "stream",
     "text": [
      "This is a sleeper It defines Nicholas Cage The plot is intricate and totally absorbing The ending will blow you away See it whenever you have the opportunity\n"
     ]
    }
   ],
   "source": [
    "example_str = df.loc[4,'text']\n",
    "print(example_str)"
   ]
  },
  {
   "cell_type": "markdown",
   "id": "d23d4105",
   "metadata": {},
   "source": [
    "**Train/Test Split**\n",
    "\n",
    "Rather than splitting the data directly with `train_test_split` we'll instead use it to generate indices for the train and test data.\\\n",
    "This may seem strange, but there is a good reason for it. These indices will later allow us to recover the original, unprocessed text from `df_raw` for any given training and test observations. \n",
    "\n",
    "Notice too that we are stratifying on the label. This will help ensure that good and bad reviews appear in the same proportions in both train and test."
   ]
  },
  {
   "cell_type": "code",
   "execution_count": 18,
   "id": "41b691ae",
   "metadata": {},
   "outputs": [],
   "source": [
    "# generate indices to designate train and test observations\n",
    "# 保证标签均衡satisfy\n",
    "train_idx, test_idx = train_test_split(range(df.shape[0]), test_size=0.2, random_state=0, stratify=df['label'])"
   ]
  },
  {
   "cell_type": "code",
   "execution_count": 19,
   "id": "a22a946e",
   "metadata": {},
   "outputs": [],
   "source": [
    "# Separate the predictor from the response\n",
    "x = df.text.values\n",
    "y = df.label.values"
   ]
  },
  {
   "cell_type": "code",
   "execution_count": 20,
   "id": "9e3d9de1",
   "metadata": {},
   "outputs": [],
   "source": [
    "# Create train and test sets using the generated indices\n",
    "x_train = x[train_idx]\n",
    "y_train = y[train_idx]\n",
    "x_test = x[test_idx]\n",
    "y_test = y[test_idx]"
   ]
  },
  {
   "cell_type": "markdown",
   "id": "3886b9b5",
   "metadata": {},
   "source": [
    "**Building the Classifier Pipeline**\\\n",
    "**Step 1: Vectorizor**\n",
    "\n",
    "It's true that there are still several preprocessing steps to be done such as converting to lowercase and tokenizing the reviews, but these can be done for using sklearn's [TfidfVectorizer](https://scikit-learn.org/stable/modules/generated/sklearn.feature_extraction.text.TfidfVectorizer.html). "
   ]
  },
  {
   "cell_type": "code",
   "execution_count": 21,
   "id": "1d88b818",
   "metadata": {},
   "outputs": [],
   "source": [
    "from sklearn.feature_extraction.text import TfidfVectorizer"
   ]
  },
  {
   "cell_type": "markdown",
   "id": "df712db2",
   "metadata": {},
   "source": [
    "Instantiate a `TfidfVectorizer` with parameters such that it will:\n",
    "- set all reviews to lowercase\n",
    "- remove english stopwords\n",
    "- exclude words that occur in less than 1 review in 10,000\n",
    "- exclude words that occur in more than 90% of reviews\n",
    "\n",
    "**Hint:** Reading the documentation, you'll see the arguments you need are `lowercase`, `stop_words`, `min_df`, and `max_df`"
   ]
  },
  {
   "cell_type": "code",
   "execution_count": 22,
   "id": "2e236cc8",
   "metadata": {},
   "outputs": [],
   "source": [
    "# please fill this code block!\n",
    "#通过TF-IDF来确认单词在某个文本中的重要程度，TF是term frequency而idf是iverse document frequency,一个是在单句中的出现频率，一个是在所有文档中出现的反频率\n",
    "vec = TfidfVectorizer(\n",
    "    lowercase=True,\n",
    "    stop_words='english',\n",
    "    min_df=0.0001,\n",
    "    max_df=0.9\n",
    ")\n",
    "newx = vec.fit_transform(x_train)"
   ]
  },
  {
   "cell_type": "code",
   "execution_count": null,
   "id": "5a56896d",
   "metadata": {},
   "outputs": [],
   "source": []
  },
  {
   "cell_type": "markdown",
   "id": "0a24c836",
   "metadata": {},
   "source": [
    "**Step 2: Classifier**\n",
    "\n",
    "We'll use logistic regression with l2 regularization as our classifier model. The [LogisticRegressionCV](https://scikit-learn.org/stable/modules/generated/sklearn.linear_model.LogisticRegressionCV.html?highlight=logisticregressioncv#sklearn.linear_model.LogisticRegressionCV) object allows us to easily tune for the best regularization parameter."
   ]
  },
  {
   "cell_type": "code",
   "execution_count": 23,
   "id": "078f881f",
   "metadata": {},
   "outputs": [],
   "source": [
    "from sklearn.linear_model import LogisticRegressionCV"
   ]
  },
  {
   "cell_type": "markdown",
   "id": "97f66e5e",
   "metadata": {},
   "source": [
    "With 40,000 training observations and each word in the vectorizer's vocabulary counting acting as a predictor training could be slow.\\\n",
    "This issue is exacerbated when using cross validation as we need fit the model multiple times!\\\n",
    "We'll set our classifier CV parameters so as to help keep the training time down to around 30 seconds or so.\n",
    "- l2 penalty (e.g., Ridge)\n",
    "- 10 iterations per fit (remember, logistic regression has no closed form solution for the betas!)\n",
    "- 5-fold CV\n",
    "- random state of 0 (the fitting can be stochastic)"
   ]
  },
  {
   "cell_type": "code",
   "execution_count": 139,
   "id": "317752aa",
   "metadata": {},
   "outputs": [],
   "source": [
    "# please fill this code block!\n",
    "# Instantiate our Classifier\n",
    "clf = LogisticRegressionCV(penalty='l2',max_iter=20,random_state=0,cv=5)"
   ]
  },
  {
   "cell_type": "markdown",
   "id": "90ef7e1f",
   "metadata": {},
   "source": [
    "**Step 3: Pipeline**\n",
    "\n",
    "Any text data going into our classifier will have to first be converted to numerical data by our vectorizer.\\\n",
    "One way to do this would be to:\n",
    "1. fit the vectorizor on the training data\n",
    "2. transform a dataset with the fitted vectorizer\n",
    "3. pass the transformed data to the classifier\n",
    "\n",
    "(1) only needs to be done once, but (2) & (3) would need to be done manually for train, test, and any other data we want to give them model.\\\n",
    "This would be tedious! Luckily, sklearn's [Pipline](https://scikit-learn.org/stable/modules/generated/sklearn.pipeline.Pipeline.html?highlight=pipeline#sklearn.pipeline.Pipeline) object allow use to connect one more 'transformers' (such as a scaler or vectorizer) with a model."
   ]
  },
  {
   "cell_type": "code",
   "execution_count": 25,
   "id": "c7897ac0",
   "metadata": {},
   "outputs": [],
   "source": [
    "from sklearn.pipeline import make_pipeline"
   ]
  },
  {
   "cell_type": "markdown",
   "id": "15be90c9",
   "metadata": {},
   "source": [
    "Use [make_pipeline()](https://scikit-learn.org/stable/modules/generated/sklearn.pipeline.make_pipeline.html?highlight=make_pipeline#sklearn.pipeline.make_pipeline) to connect the vectorizor, `vec`, and our classifier, `clf`, into a single pipeline.\n",
    "\n",
    "**Hint:** You can set `verbose=True` to see the individual steps during the fit process later."
   ]
  },
  {
   "cell_type": "code",
   "execution_count": 148,
   "id": "9f7a47d1",
   "metadata": {},
   "outputs": [
    {
     "name": "stdout",
     "output_type": "stream",
     "text": [
      "test accuracy: 0.894\n"
     ]
    }
   ],
   "source": [
    "# please fill this code block!\n",
    "# Construct the pipeline\n",
    "vec = TfidfVectorizer(\n",
    "    lowercase=True,\n",
    "    stop_words='english',\n",
    "    min_df=0.00001,\n",
    "    max_df=0.9\n",
    ")\n",
    "clf = LogisticRegressionCV(penalty='l2',max_iter=10,random_state=0,cv=5)\n",
    "pipe = make_pipeline(vec,clf)\n",
    "\n",
    "pipe.fit(x_train, y_train)\n",
    "\n",
    "# please fill this code block!\n",
    "# Predict class labels on test data\n",
    "y_pred = pipe.predict(x_test)\n",
    "\n",
    "# Predict probabilities of the positive on the test data\n",
    "y_pred_proba = pipe.predict_proba(x_test)[:,1]\n",
    "\n",
    "# Calculate test accuracy (there are several ways to do this)\n",
    "from sklearn.metrics import accuracy_score\n",
    "test_acc = accuracy_score(y_test, y_pred)\n",
    "\n",
    "print(f\"test accuracy: {test_acc:0.3f}\")"
   ]
  },
  {
   "cell_type": "markdown",
   "id": "20fe0b5d",
   "metadata": {},
   "source": [
    "**Step 4: Fitting**\n",
    "\n",
    "When it comes to fitting, we can treat the pipeline object as if it were the classifier object itself, and simply call `fit` on the pipeline."
   ]
  },
  {
   "cell_type": "code",
   "execution_count": 123,
   "id": "32a3d208",
   "metadata": {},
   "outputs": [],
   "source": [
    "# For the sake of time, we are fitting quickly and we may not converge\n",
    "# We'll supress those pesky warnings\n",
    "from warnings import simplefilter\n",
    "from sklearn.exceptions import ConvergenceWarning\n",
    "# We also ignore FutureWarnings due to version issues on Ed\n",
    "simplefilter(\"ignore\", category=(ConvergenceWarning, FutureWarning))"
   ]
  },
  {
   "cell_type": "code",
   "execution_count": 137,
   "id": "95a8355d",
   "metadata": {},
   "outputs": [
    {
     "data": {
      "text/html": [
       "<style>#sk-container-id-7 {color: black;background-color: white;}#sk-container-id-7 pre{padding: 0;}#sk-container-id-7 div.sk-toggleable {background-color: white;}#sk-container-id-7 label.sk-toggleable__label {cursor: pointer;display: block;width: 100%;margin-bottom: 0;padding: 0.3em;box-sizing: border-box;text-align: center;}#sk-container-id-7 label.sk-toggleable__label-arrow:before {content: \"▸\";float: left;margin-right: 0.25em;color: #696969;}#sk-container-id-7 label.sk-toggleable__label-arrow:hover:before {color: black;}#sk-container-id-7 div.sk-estimator:hover label.sk-toggleable__label-arrow:before {color: black;}#sk-container-id-7 div.sk-toggleable__content {max-height: 0;max-width: 0;overflow: hidden;text-align: left;background-color: #f0f8ff;}#sk-container-id-7 div.sk-toggleable__content pre {margin: 0.2em;color: black;border-radius: 0.25em;background-color: #f0f8ff;}#sk-container-id-7 input.sk-toggleable__control:checked~div.sk-toggleable__content {max-height: 200px;max-width: 100%;overflow: auto;}#sk-container-id-7 input.sk-toggleable__control:checked~label.sk-toggleable__label-arrow:before {content: \"▾\";}#sk-container-id-7 div.sk-estimator input.sk-toggleable__control:checked~label.sk-toggleable__label {background-color: #d4ebff;}#sk-container-id-7 div.sk-label input.sk-toggleable__control:checked~label.sk-toggleable__label {background-color: #d4ebff;}#sk-container-id-7 input.sk-hidden--visually {border: 0;clip: rect(1px 1px 1px 1px);clip: rect(1px, 1px, 1px, 1px);height: 1px;margin: -1px;overflow: hidden;padding: 0;position: absolute;width: 1px;}#sk-container-id-7 div.sk-estimator {font-family: monospace;background-color: #f0f8ff;border: 1px dotted black;border-radius: 0.25em;box-sizing: border-box;margin-bottom: 0.5em;}#sk-container-id-7 div.sk-estimator:hover {background-color: #d4ebff;}#sk-container-id-7 div.sk-parallel-item::after {content: \"\";width: 100%;border-bottom: 1px solid gray;flex-grow: 1;}#sk-container-id-7 div.sk-label:hover label.sk-toggleable__label {background-color: #d4ebff;}#sk-container-id-7 div.sk-serial::before {content: \"\";position: absolute;border-left: 1px solid gray;box-sizing: border-box;top: 0;bottom: 0;left: 50%;z-index: 0;}#sk-container-id-7 div.sk-serial {display: flex;flex-direction: column;align-items: center;background-color: white;padding-right: 0.2em;padding-left: 0.2em;position: relative;}#sk-container-id-7 div.sk-item {position: relative;z-index: 1;}#sk-container-id-7 div.sk-parallel {display: flex;align-items: stretch;justify-content: center;background-color: white;position: relative;}#sk-container-id-7 div.sk-item::before, #sk-container-id-7 div.sk-parallel-item::before {content: \"\";position: absolute;border-left: 1px solid gray;box-sizing: border-box;top: 0;bottom: 0;left: 50%;z-index: -1;}#sk-container-id-7 div.sk-parallel-item {display: flex;flex-direction: column;z-index: 1;position: relative;background-color: white;}#sk-container-id-7 div.sk-parallel-item:first-child::after {align-self: flex-end;width: 50%;}#sk-container-id-7 div.sk-parallel-item:last-child::after {align-self: flex-start;width: 50%;}#sk-container-id-7 div.sk-parallel-item:only-child::after {width: 0;}#sk-container-id-7 div.sk-dashed-wrapped {border: 1px dashed gray;margin: 0 0.4em 0.5em 0.4em;box-sizing: border-box;padding-bottom: 0.4em;background-color: white;}#sk-container-id-7 div.sk-label label {font-family: monospace;font-weight: bold;display: inline-block;line-height: 1.2em;}#sk-container-id-7 div.sk-label-container {text-align: center;}#sk-container-id-7 div.sk-container {/* jupyter's `normalize.less` sets `[hidden] { display: none; }` but bootstrap.min.css set `[hidden] { display: none !important; }` so we also need the `!important` here to be able to override the default hidden behavior on the sphinx rendered scikit-learn.org. See: https://github.com/scikit-learn/scikit-learn/issues/21755 */display: inline-block !important;position: relative;}#sk-container-id-7 div.sk-text-repr-fallback {display: none;}</style><div id=\"sk-container-id-7\" class=\"sk-top-container\"><div class=\"sk-text-repr-fallback\"><pre>Pipeline(steps=[(&#x27;tfidfvectorizer&#x27;,\n",
       "                 TfidfVectorizer(max_df=0.9, min_df=1e-05,\n",
       "                                 stop_words=&#x27;english&#x27;)),\n",
       "                (&#x27;logisticregressioncv&#x27;,\n",
       "                 LogisticRegressionCV(cv=5, max_iter=10, random_state=0))])</pre><b>In a Jupyter environment, please rerun this cell to show the HTML representation or trust the notebook. <br />On GitHub, the HTML representation is unable to render, please try loading this page with nbviewer.org.</b></div><div class=\"sk-container\" hidden><div class=\"sk-item sk-dashed-wrapped\"><div class=\"sk-label-container\"><div class=\"sk-label sk-toggleable\"><input class=\"sk-toggleable__control sk-hidden--visually\" id=\"sk-estimator-id-19\" type=\"checkbox\" ><label for=\"sk-estimator-id-19\" class=\"sk-toggleable__label sk-toggleable__label-arrow\">Pipeline</label><div class=\"sk-toggleable__content\"><pre>Pipeline(steps=[(&#x27;tfidfvectorizer&#x27;,\n",
       "                 TfidfVectorizer(max_df=0.9, min_df=1e-05,\n",
       "                                 stop_words=&#x27;english&#x27;)),\n",
       "                (&#x27;logisticregressioncv&#x27;,\n",
       "                 LogisticRegressionCV(cv=5, max_iter=10, random_state=0))])</pre></div></div></div><div class=\"sk-serial\"><div class=\"sk-item\"><div class=\"sk-estimator sk-toggleable\"><input class=\"sk-toggleable__control sk-hidden--visually\" id=\"sk-estimator-id-20\" type=\"checkbox\" ><label for=\"sk-estimator-id-20\" class=\"sk-toggleable__label sk-toggleable__label-arrow\">TfidfVectorizer</label><div class=\"sk-toggleable__content\"><pre>TfidfVectorizer(max_df=0.9, min_df=1e-05, stop_words=&#x27;english&#x27;)</pre></div></div></div><div class=\"sk-item\"><div class=\"sk-estimator sk-toggleable\"><input class=\"sk-toggleable__control sk-hidden--visually\" id=\"sk-estimator-id-21\" type=\"checkbox\" ><label for=\"sk-estimator-id-21\" class=\"sk-toggleable__label sk-toggleable__label-arrow\">LogisticRegressionCV</label><div class=\"sk-toggleable__content\"><pre>LogisticRegressionCV(cv=5, max_iter=10, random_state=0)</pre></div></div></div></div></div></div></div>"
      ],
      "text/plain": [
       "Pipeline(steps=[('tfidfvectorizer',\n",
       "                 TfidfVectorizer(max_df=0.9, min_df=1e-05,\n",
       "                                 stop_words='english')),\n",
       "                ('logisticregressioncv',\n",
       "                 LogisticRegressionCV(cv=5, max_iter=10, random_state=0))])"
      ]
     },
     "execution_count": 137,
     "metadata": {},
     "output_type": "execute_result"
    }
   ],
   "source": [
    "### edTest(test_fit) ###\n",
    "# Fit the model via the pipeline\n",
    "# fit对于模型来讲，就是train了，而对于其他的预处理则是，形成一个预处理器\n",
    "pipe.fit(x_train, y_train)"
   ]
  },
  {
   "cell_type": "markdown",
   "id": "b5e449d2",
   "metadata": {},
   "source": [
    "We can inspect the steps of the pipeline."
   ]
  },
  {
   "cell_type": "code",
   "execution_count": 29,
   "id": "feb94be9",
   "metadata": {},
   "outputs": [
    {
     "data": {
      "text/plain": [
       "[('tfidfvectorizer',\n",
       "  TfidfVectorizer(max_df=0.9, min_df=0.0001, stop_words='english')),\n",
       " ('logisticregressioncv',\n",
       "  LogisticRegressionCV(cv=5, max_iter=10, random_state=0))]"
      ]
     },
     "execution_count": 29,
     "metadata": {},
     "output_type": "execute_result"
    }
   ],
   "source": [
    "pipe.get_params()['steps']"
   ]
  },
  {
   "cell_type": "markdown",
   "id": "41580761",
   "metadata": {},
   "source": [
    "By default they are named using the all lowercase class name of each object.\\\n",
    "We can use these names to access the fitted objects inside. Here we see the size of our vectorizer's vocabulary."
   ]
  },
  {
   "cell_type": "code",
   "execution_count": 30,
   "id": "ccca2cec",
   "metadata": {
    "scrolled": true
   },
   "outputs": [
    {
     "name": "stdout",
     "output_type": "stream",
     "text": [
      "# of features: 36657\n"
     ]
    }
   ],
   "source": [
    "features = pipe.get_params()['tfidfvectorizer'].get_feature_names_out()\n",
    "print('# of features:', len(features))"
   ]
  },
  {
   "cell_type": "markdown",
   "id": "8706fcf1",
   "metadata": {},
   "source": [
    "There are too many to print, but we can peek at a random sample."
   ]
  },
  {
   "cell_type": "code",
   "execution_count": 31,
   "id": "929a8397",
   "metadata": {},
   "outputs": [
    {
     "name": "stdout",
     "output_type": "stream",
     "text": [
      "['marco' 'goodit' 'rabbit' 'ration' 'april' 'teutonic' 'talbot' 'hdtv'\n",
      " 'tensely' 'wikipedia' 'rhythms' 'invokes' 'drew' 'meyer' 'lestrade'\n",
      " 'snorting' 'thenwife' 'seasonal' 'hardships' 'grilled' 'norm' 'harry'\n",
      " 'pomp' 'dissapointment' 'broccoli' 'taunt' 'sherlock' '10000000' 'genx'\n",
      " 'helsings' 'animosity' 'os' 'ethical' 'evacuated' 'dryers' 'sue'\n",
      " 'belushi' 'parenting' 'reloading' 'travolta']\n"
     ]
    }
   ],
   "source": [
    "sample_size = 40\n",
    "feature_sample_idx = np.random.choice(len(features), size=sample_size, replace=False)\n",
    "print(np.array(features)[feature_sample_idx])"
   ]
  },
  {
   "cell_type": "markdown",
   "id": "97f3f2e8",
   "metadata": {},
   "source": [
    "Similarly, we can access the fitted logistic model and see what regularization parameter was used."
   ]
  },
  {
   "cell_type": "code",
   "execution_count": 32,
   "id": "86399e47",
   "metadata": {
    "scrolled": true
   },
   "outputs": [
    {
     "name": "stdout",
     "output_type": "stream",
     "text": [
      "Best C from cross-validation: 2.7826\n"
     ]
    }
   ],
   "source": [
    "best_C = pipe.get_params()['logisticregressioncv'].C_[0]\n",
    "print(f'Best C from cross-validation: {best_C:.4f}')"
   ]
  },
  {
   "cell_type": "markdown",
   "id": "0cab190d",
   "metadata": {},
   "source": [
    "**Step 5: Prediction**\n",
    "\n",
    "Just like we did when fitting, we can treat the pipeline object as the classifier when making predictions.\\\n",
    "Predict on the test data to get:\n",
    "1. class labels\n",
    "2. probabilities of being the positive class (i.e., 'good' reviews)\n",
    "3. test accuracy"
   ]
  },
  {
   "cell_type": "code",
   "execution_count": 149,
   "id": "0b0d084b",
   "metadata": {},
   "outputs": [
    {
     "name": "stdout",
     "output_type": "stream",
     "text": [
      "test accuracy: 0.894\n"
     ]
    }
   ],
   "source": [
    "# please fill this code block!\n",
    "# Predict class labels on test data\n",
    "y_pred = pipe.predict(x_test)\n",
    "\n",
    "# Predict probabilities of the positive on the test data\n",
    "y_pred_proba = pipe.predict_proba(x_test)[:,1]\n",
    "\n",
    "# Calculate test accuracy (there are several ways to do this)\n",
    "from sklearn.metrics import accuracy_score\n",
    "test_acc = accuracy_score(y_test, y_pred)\n",
    "\n",
    "print(f\"test accuracy: {test_acc:0.3f}\")"
   ]
  },
  {
   "cell_type": "markdown",
   "id": "0ae3f289",
   "metadata": {},
   "source": [
    "Can you get better than 0.893 by tweaking the preprocessing, or vetorizer and classifier parameters? Perhaps inspecting how our model makes its predictions may help us decide how we might improve the model in the future."
   ]
  },
  {
   "cell_type": "markdown",
   "id": "3ccc9200",
   "metadata": {},
   "source": [
    "### Kaggle Submission Process for Movie Review Classification\n",
    "\n",
    "In the subsequent steps, we'll process the test dataset provided on Kaggle, produce a predicted output, and generate a CSV file suitable for submission. This will allow us to evaluate our model's predictions on Kaggle. Access the competition through this [link](https://www.kaggle.com/competitions/dsaa-6100-movie-review-classification/): **DSAA 6100 Movie Review Classification**.\n",
    "\n",
    "When participating in the competition on Kaggle, please ensure your displayed username follows the format \"StudentID_Name\". This will help the teaching assistants to easily identify and verify your scores. For instance, change your Kaggle display name to a format similar to \"50013772_Yupeng Xie\" before submitting."
   ]
  },
  {
   "cell_type": "code",
   "execution_count": 34,
   "id": "1ee8aecd",
   "metadata": {},
   "outputs": [
    {
     "name": "stdout",
     "output_type": "stream",
     "text": [
      "Kaggle submission file saved as 'kaggle_submission.csv'\n"
     ]
    }
   ],
   "source": [
    "# 1. Load the 'test_data.csv' file\n",
    "test_data = pd.read_csv('data/test_data.csv')\n",
    "\n",
    "# Extract reviews from 'test_data.csv' assuming the column name is \"text\"\n",
    "test_reviews = test_data['text']\n",
    "\n",
    "# 2. Predict sentiments using the trained model\n",
    "y_pred_kaggle = pipe.predict(test_reviews)\n",
    "\n",
    "# 3. Create a dataframe for Kaggle submission\n",
    "# Assuming 'test_data' has a column named 'Id' for identifying each review\n",
    "submission = pd.DataFrame({'Id': test_data['Id'], 'Category': y_pred_kaggle})\n",
    "\n",
    "# 4. Save the predictions to a .csv file for submission\n",
    "submission.to_csv('kaggle_submission.csv', index=False)\n",
    "\n",
    "print(\"Kaggle submission file saved as 'kaggle_submission.csv'\")"
   ]
  },
  {
   "cell_type": "markdown",
   "id": "ea0203db",
   "metadata": {},
   "source": [
    "### Interpretation\n",
    "\n",
    "Below we'll use the `eli5` library to have some fun interpreting what is driving our model's predictions on specific test observations.\n",
    "\n",
    "- [ELI5](https://eli5.readthedocs.io/en/latest/) is a Python library which allows to visualize and debug various Machine Learning models using unified API. It has built-in support for several ML frameworks and provides a way to explain black-box models."
   ]
  },
  {
   "cell_type": "code",
   "execution_count": 35,
   "id": "c65b9d8c",
   "metadata": {},
   "outputs": [],
   "source": [
    "# please fill this code block!\n",
    "# Install ELI5"
   ]
  },
  {
   "cell_type": "code",
   "execution_count": 36,
   "id": "fb097024",
   "metadata": {},
   "outputs": [],
   "source": [
    "# For interpretation\n",
    "import eli5\n",
    "# for parsing/formating eli5's HTML output\n",
    "from bs4 import BeautifulSoup\n",
    "# for displaying formatted HTML output\n",
    "from IPython.display import HTML"
   ]
  },
  {
   "cell_type": "markdown",
   "id": "bf8566b4",
   "metadata": {},
   "source": [
    "Here are the words driving positive class predictions."
   ]
  },
  {
   "cell_type": "code",
   "execution_count": 37,
   "id": "303414ee",
   "metadata": {},
   "outputs": [
    {
     "data": {
      "text/html": [
       "\n",
       "    <style>\n",
       "    table.eli5-weights tr:hover {\n",
       "        filter: brightness(85%);\n",
       "    }\n",
       "</style>\n",
       "\n",
       "\n",
       "\n",
       "    \n",
       "\n",
       "    \n",
       "\n",
       "    \n",
       "\n",
       "    \n",
       "\n",
       "    \n",
       "\n",
       "    \n",
       "\n",
       "\n",
       "    \n",
       "\n",
       "    \n",
       "\n",
       "    \n",
       "\n",
       "    \n",
       "        \n",
       "\n",
       "    \n",
       "\n",
       "        \n",
       "            \n",
       "                \n",
       "                \n",
       "    \n",
       "        <p style=\"margin-bottom: 0.5em; margin-top: 0em\">\n",
       "            <b>\n",
       "    \n",
       "        y=1\n",
       "    \n",
       "</b>\n",
       "\n",
       "top features\n",
       "        </p>\n",
       "    \n",
       "    <table class=\"eli5-weights\"\n",
       "           style=\"border-collapse: collapse; border: none; margin-top: 0em; table-layout: auto; margin-bottom: 2em;\">\n",
       "        <thead>\n",
       "        <tr style=\"border: none;\">\n",
       "            \n",
       "                <th style=\"padding: 0 1em 0 0.5em; text-align: right; border: none;\" title=\"Feature weights. Note that weights do not account for feature value scales, so if feature values have different scales, features with highest weights might not be the most important.\">\n",
       "                    Weight<sup>?</sup>\n",
       "                </th>\n",
       "            \n",
       "            <th style=\"padding: 0 0.5em 0 0.5em; text-align: left; border: none;\">Feature</th>\n",
       "            \n",
       "        </tr>\n",
       "        </thead>\n",
       "        <tbody>\n",
       "        \n",
       "            <tr style=\"background-color: hsl(120, 100.00%, 84.34%); border: none;\">\n",
       "    <td style=\"padding: 0 1em 0 0.5em; text-align: right; border: none;\">\n",
       "        +9.181\n",
       "    </td>\n",
       "    <td style=\"padding: 0 0.5em 0 0.5em; text-align: left; border: none;\">\n",
       "        excellent\n",
       "    </td>\n",
       "    \n",
       "</tr>\n",
       "        \n",
       "            <tr style=\"background-color: hsl(120, 100.00%, 84.85%); border: none;\">\n",
       "    <td style=\"padding: 0 1em 0 0.5em; text-align: right; border: none;\">\n",
       "        +8.755\n",
       "    </td>\n",
       "    <td style=\"padding: 0 0.5em 0 0.5em; text-align: left; border: none;\">\n",
       "        710\n",
       "    </td>\n",
       "    \n",
       "</tr>\n",
       "        \n",
       "            <tr style=\"background-color: hsl(120, 100.00%, 85.06%); border: none;\">\n",
       "    <td style=\"padding: 0 1em 0 0.5em; text-align: right; border: none;\">\n",
       "        +8.585\n",
       "    </td>\n",
       "    <td style=\"padding: 0 0.5em 0 0.5em; text-align: left; border: none;\">\n",
       "        great\n",
       "    </td>\n",
       "    \n",
       "</tr>\n",
       "        \n",
       "            <tr style=\"background-color: hsl(120, 100.00%, 86.71%); border: none;\">\n",
       "    <td style=\"padding: 0 1em 0 0.5em; text-align: right; border: none;\">\n",
       "        +7.259\n",
       "    </td>\n",
       "    <td style=\"padding: 0 0.5em 0 0.5em; text-align: left; border: none;\">\n",
       "        amazing\n",
       "    </td>\n",
       "    \n",
       "</tr>\n",
       "        \n",
       "            <tr style=\"background-color: hsl(120, 100.00%, 86.99%); border: none;\">\n",
       "    <td style=\"padding: 0 1em 0 0.5em; text-align: right; border: none;\">\n",
       "        +7.041\n",
       "    </td>\n",
       "    <td style=\"padding: 0 0.5em 0 0.5em; text-align: left; border: none;\">\n",
       "        wonderful\n",
       "    </td>\n",
       "    \n",
       "</tr>\n",
       "        \n",
       "            <tr style=\"background-color: hsl(120, 100.00%, 87.17%); border: none;\">\n",
       "    <td style=\"padding: 0 1em 0 0.5em; text-align: right; border: none;\">\n",
       "        +6.905\n",
       "    </td>\n",
       "    <td style=\"padding: 0 0.5em 0 0.5em; text-align: left; border: none;\">\n",
       "        best\n",
       "    </td>\n",
       "    \n",
       "</tr>\n",
       "        \n",
       "            <tr style=\"background-color: hsl(120, 100.00%, 87.44%); border: none;\">\n",
       "    <td style=\"padding: 0 1em 0 0.5em; text-align: right; border: none;\">\n",
       "        +6.701\n",
       "    </td>\n",
       "    <td style=\"padding: 0 0.5em 0 0.5em; text-align: left; border: none;\">\n",
       "        perfect\n",
       "    </td>\n",
       "    \n",
       "</tr>\n",
       "        \n",
       "            <tr style=\"background-color: hsl(120, 100.00%, 88.06%); border: none;\">\n",
       "    <td style=\"padding: 0 1em 0 0.5em; text-align: right; border: none;\">\n",
       "        +6.234\n",
       "    </td>\n",
       "    <td style=\"padding: 0 0.5em 0 0.5em; text-align: left; border: none;\">\n",
       "        favorite\n",
       "    </td>\n",
       "    \n",
       "</tr>\n",
       "        \n",
       "            <tr style=\"background-color: hsl(120, 100.00%, 88.31%); border: none;\">\n",
       "    <td style=\"padding: 0 1em 0 0.5em; text-align: right; border: none;\">\n",
       "        +6.048\n",
       "    </td>\n",
       "    <td style=\"padding: 0 0.5em 0 0.5em; text-align: left; border: none;\">\n",
       "        brilliant\n",
       "    </td>\n",
       "    \n",
       "</tr>\n",
       "        \n",
       "        \n",
       "            <tr style=\"background-color: hsl(120, 100.00%, 88.31%); border: none;\">\n",
       "                <td colspan=\"2\" style=\"padding: 0 0.5em 0 0.5em; text-align: center; border: none; white-space: nowrap;\">\n",
       "                    <i>&hellip; 18540 more positive &hellip;</i>\n",
       "                </td>\n",
       "            </tr>\n",
       "        \n",
       "\n",
       "        \n",
       "            <tr style=\"background-color: hsl(0, 100.00%, 88.55%); border: none;\">\n",
       "                <td colspan=\"2\" style=\"padding: 0 0.5em 0 0.5em; text-align: center; border: none; white-space: nowrap;\">\n",
       "                    <i>&hellip; 18093 more negative &hellip;</i>\n",
       "                </td>\n",
       "            </tr>\n",
       "        \n",
       "        \n",
       "            <tr style=\"background-color: hsl(0, 100.00%, 88.55%); border: none;\">\n",
       "    <td style=\"padding: 0 1em 0 0.5em; text-align: right; border: none;\">\n",
       "        -5.868\n",
       "    </td>\n",
       "    <td style=\"padding: 0 0.5em 0 0.5em; text-align: left; border: none;\">\n",
       "        disappointing\n",
       "    </td>\n",
       "    \n",
       "</tr>\n",
       "        \n",
       "            <tr style=\"background-color: hsl(0, 100.00%, 88.51%); border: none;\">\n",
       "    <td style=\"padding: 0 1em 0 0.5em; text-align: right; border: none;\">\n",
       "        -5.899\n",
       "    </td>\n",
       "    <td style=\"padding: 0 0.5em 0 0.5em; text-align: left; border: none;\">\n",
       "        lame\n",
       "    </td>\n",
       "    \n",
       "</tr>\n",
       "        \n",
       "            <tr style=\"background-color: hsl(0, 100.00%, 88.36%); border: none;\">\n",
       "    <td style=\"padding: 0 1em 0 0.5em; text-align: right; border: none;\">\n",
       "        -6.010\n",
       "    </td>\n",
       "    <td style=\"padding: 0 0.5em 0 0.5em; text-align: left; border: none;\">\n",
       "        410\n",
       "    </td>\n",
       "    \n",
       "</tr>\n",
       "        \n",
       "            <tr style=\"background-color: hsl(0, 100.00%, 88.10%); border: none;\">\n",
       "    <td style=\"padding: 0 1em 0 0.5em; text-align: right; border: none;\">\n",
       "        -6.201\n",
       "    </td>\n",
       "    <td style=\"padding: 0 0.5em 0 0.5em; text-align: left; border: none;\">\n",
       "        poorly\n",
       "    </td>\n",
       "    \n",
       "</tr>\n",
       "        \n",
       "            <tr style=\"background-color: hsl(0, 100.00%, 88.02%); border: none;\">\n",
       "    <td style=\"padding: 0 1em 0 0.5em; text-align: right; border: none;\">\n",
       "        -6.263\n",
       "    </td>\n",
       "    <td style=\"padding: 0 0.5em 0 0.5em; text-align: left; border: none;\">\n",
       "        disappointment\n",
       "    </td>\n",
       "    \n",
       "</tr>\n",
       "        \n",
       "            <tr style=\"background-color: hsl(0, 100.00%, 87.72%); border: none;\">\n",
       "    <td style=\"padding: 0 1em 0 0.5em; text-align: right; border: none;\">\n",
       "        -6.487\n",
       "    </td>\n",
       "    <td style=\"padding: 0 0.5em 0 0.5em; text-align: left; border: none;\">\n",
       "        dull\n",
       "    </td>\n",
       "    \n",
       "</tr>\n",
       "        \n",
       "            <tr style=\"background-color: hsl(0, 100.00%, 87.52%); border: none;\">\n",
       "    <td style=\"padding: 0 1em 0 0.5em; text-align: right; border: none;\">\n",
       "        -6.635\n",
       "    </td>\n",
       "    <td style=\"padding: 0 0.5em 0 0.5em; text-align: left; border: none;\">\n",
       "        horrible\n",
       "    </td>\n",
       "    \n",
       "</tr>\n",
       "        \n",
       "            <tr style=\"background-color: hsl(0, 100.00%, 87.40%); border: none;\">\n",
       "    <td style=\"padding: 0 1em 0 0.5em; text-align: right; border: none;\">\n",
       "        -6.730\n",
       "    </td>\n",
       "    <td style=\"padding: 0 0.5em 0 0.5em; text-align: left; border: none;\">\n",
       "        fails\n",
       "    </td>\n",
       "    \n",
       "</tr>\n",
       "        \n",
       "            <tr style=\"background-color: hsl(0, 100.00%, 87.36%); border: none;\">\n",
       "    <td style=\"padding: 0 1em 0 0.5em; text-align: right; border: none;\">\n",
       "        -6.757\n",
       "    </td>\n",
       "    <td style=\"padding: 0 0.5em 0 0.5em; text-align: left; border: none;\">\n",
       "        worse\n",
       "    </td>\n",
       "    \n",
       "</tr>\n",
       "        \n",
       "            <tr style=\"background-color: hsl(0, 100.00%, 87.00%); border: none;\">\n",
       "    <td style=\"padding: 0 1em 0 0.5em; text-align: right; border: none;\">\n",
       "        -7.038\n",
       "    </td>\n",
       "    <td style=\"padding: 0 0.5em 0 0.5em; text-align: left; border: none;\">\n",
       "        poor\n",
       "    </td>\n",
       "    \n",
       "</tr>\n",
       "        \n",
       "            <tr style=\"background-color: hsl(0, 100.00%, 86.99%); border: none;\">\n",
       "    <td style=\"padding: 0 1em 0 0.5em; text-align: right; border: none;\">\n",
       "        -7.045\n",
       "    </td>\n",
       "    <td style=\"padding: 0 0.5em 0 0.5em; text-align: left; border: none;\">\n",
       "        terrible\n",
       "    </td>\n",
       "    \n",
       "</tr>\n",
       "        \n",
       "            <tr style=\"background-color: hsl(0, 100.00%, 85.94%); border: none;\">\n",
       "    <td style=\"padding: 0 1em 0 0.5em; text-align: right; border: none;\">\n",
       "        -7.865\n",
       "    </td>\n",
       "    <td style=\"padding: 0 0.5em 0 0.5em; text-align: left; border: none;\">\n",
       "        boring\n",
       "    </td>\n",
       "    \n",
       "</tr>\n",
       "        \n",
       "            <tr style=\"background-color: hsl(0, 100.00%, 84.59%); border: none;\">\n",
       "    <td style=\"padding: 0 1em 0 0.5em; text-align: right; border: none;\">\n",
       "        -8.974\n",
       "    </td>\n",
       "    <td style=\"padding: 0 0.5em 0 0.5em; text-align: left; border: none;\">\n",
       "        bad\n",
       "    </td>\n",
       "    \n",
       "</tr>\n",
       "        \n",
       "            <tr style=\"background-color: hsl(0, 100.00%, 83.54%); border: none;\">\n",
       "    <td style=\"padding: 0 1em 0 0.5em; text-align: right; border: none;\">\n",
       "        -9.859\n",
       "    </td>\n",
       "    <td style=\"padding: 0 0.5em 0 0.5em; text-align: left; border: none;\">\n",
       "        awful\n",
       "    </td>\n",
       "    \n",
       "</tr>\n",
       "        \n",
       "            <tr style=\"background-color: hsl(0, 100.00%, 82.88%); border: none;\">\n",
       "    <td style=\"padding: 0 1em 0 0.5em; text-align: right; border: none;\">\n",
       "        -10.421\n",
       "    </td>\n",
       "    <td style=\"padding: 0 0.5em 0 0.5em; text-align: left; border: none;\">\n",
       "        waste\n",
       "    </td>\n",
       "    \n",
       "</tr>\n",
       "        \n",
       "            <tr style=\"background-color: hsl(0, 100.00%, 80.00%); border: none;\">\n",
       "    <td style=\"padding: 0 1em 0 0.5em; text-align: right; border: none;\">\n",
       "        -13.018\n",
       "    </td>\n",
       "    <td style=\"padding: 0 0.5em 0 0.5em; text-align: left; border: none;\">\n",
       "        worst\n",
       "    </td>\n",
       "    \n",
       "</tr>\n",
       "        \n",
       "\n",
       "        </tbody>\n",
       "    </table>\n",
       "\n",
       "            \n",
       "        \n",
       "\n",
       "        \n",
       "\n",
       "\n",
       "\n",
       "    \n",
       "\n",
       "    \n",
       "\n",
       "    \n",
       "\n",
       "    \n",
       "\n",
       "\n",
       "    \n",
       "\n",
       "    \n",
       "\n",
       "    \n",
       "\n",
       "    \n",
       "\n",
       "    \n",
       "\n",
       "    \n",
       "\n",
       "\n",
       "    \n",
       "\n",
       "    \n",
       "\n",
       "    \n",
       "\n",
       "    \n",
       "\n",
       "    \n",
       "\n",
       "    \n",
       "\n",
       "\n",
       "\n"
      ],
      "text/plain": [
       "<IPython.core.display.HTML object>"
      ]
     },
     "execution_count": 37,
     "metadata": {},
     "output_type": "execute_result"
    }
   ],
   "source": [
    "eli5.show_weights(clf,feature_names=vec.get_feature_names_out(), top=25)"
   ]
  },
  {
   "cell_type": "markdown",
   "id": "9bec2b7a",
   "metadata": {},
   "source": [
    "Hmm, those digits like 710, 810, and 410 driving predictions seems strange. What might they represent?\\"
   ]
  },
  {
   "cell_type": "markdown",
   "id": "a5c0d164",
   "metadata": {},
   "source": [
    "We'll use the 'raw' data with punctuation when inspecting the data (See! It is coming in handy!)"
   ]
  },
  {
   "cell_type": "code",
   "execution_count": 38,
   "id": "3289273b",
   "metadata": {},
   "outputs": [],
   "source": [
    "x_train_raw = df_raw.text[train_idx].values\n",
    "x_test_raw = df_raw.text[test_idx].values"
   ]
  },
  {
   "cell_type": "code",
   "execution_count": 39,
   "id": "08afdf62",
   "metadata": {},
   "outputs": [
    {
     "data": {
      "text/plain": [
       "\"I have seen a lot of PPV's in the past but this is the most entertaining, intense PPV and the most complete DVD i have ever seen. The DVD extras are worth it because they it gives a different view of how the wrestlers act after the show (such as the chris benoit interview/edge interview), some glimpse into the Monday Night Wars era,the first match of Hogan winning tag title gold and some promotional talk. Additionally there is a good music video. 1. Tag Team Table match: Bubby Ray and Spike Dudley vs. Eddie Guerro and Chris benoit 7/10 This was a pretty good intense match to start off the show. Not too many holds and just pure raw physicallity. Spike can hold his own in tables matches and Guerro and Benoit gave good pure wrestling skills on the mat.  2. WWE Crusierweight championship: Jamie Noble w/ Nidia v. Billy Kidman 3/10 The crowd really didn't care about either wrestler and didn't get interested until Kidman did a shooting star press. Usually people expect a lot of high flying in a cruiser weight championship, but this had very little. In fact it was so bad that when Noble hit his finisher, no one even cared or knew (you can tell by the lack of camera's flashing). The ending was quick though.  3. WWE European Championship: Jeff hardy v. William Regal 5/10 I've never really liked regal as a wrestler, he lacks intensity and style. Hardy was impressive but really didn't get a chance to show off his high flying act, although he still performed some good counters and added that needed fast pace to the match. It ended off quickly which was perfect for this match.  4. John Cena v. Chris Jericho 6/10 It's funny looking back at Cena's very first PPV, how he used to act, how he used to dress, and how he used to look (watch his interview, it's pretty funny). This was a good intense match with Cena showing a nice variety of holds, suplexes, counters and some aerial. Jericho was sub-par but definitely helped Cena launch his career. Cena Wins. 5. WWE Intercontenital championship: RVD v. Brock Lesnar 8/10 This was a very intense and good match. Both wrestlers styles really matched up well on the screen, with Brocks pure power and raw energy vs. RVDs skill full moves and quickness. RVD looked great in this match (better than his later matches with edge and cena)and the entire match was fast pace. The ending worked perfectly because it still preserved Brock's undefeated streak while giving RVD his just desserts in his home state. 6. No disqualification match: Booker T v. Big Show 7/10 Another solid match that lacked a certain intensity as the RVD match but still a good follow up. Although it started off kinda slow (which it always is with big show) Booker T was impressive and did a sick move on the announcers table. The finisher was awesome, the ending was a great upset and big move up for Booker T. 7. WWE Tag Team Championship: Hogan and Edge v. Christian and Lance storm 5/10 This was a mediocre match. Hogan comes out like usual to a huge pop but his variety of moves lacks that intensity and energy. Then again Christian doesn't exactly have the greatest athletic abilities himself. This ended up being a mediocre match at best but was still OK for PPV.  8. Triple Threat Match for the Undisputed Championship: 10/10. Rock v. Undertaker v. Kurt Angle. Easily the match of the year. This is by far the best triple threat match i have ever seen. It had close falls, plenty of finishers, stolen finishers, raw energy, intensity and fast pace. No one could predict who would come out of this one. If your going to buy this DVD i would buy it strictly for this match. (ending? watch for yourself!) Overall this was a solid PPV with plenty of extra goodies to keep you watching again and again. Although this is hard to find (i had to pay a little more than usual for this DVD) it is definitely worth your money.\""
      ]
     },
     "execution_count": 39,
     "metadata": {},
     "output_type": "execute_result"
    }
   ],
   "source": [
    "df_raw[df.text.str.contains(' 710 ')].iloc[0].text"
   ]
  },
  {
   "cell_type": "code",
   "execution_count": 73,
   "id": "39151aae",
   "metadata": {},
   "outputs": [
    {
     "data": {
      "text/plain": [
       "{'bad': 2707,\n",
       " 'feeling': 12033,\n",
       " 'seconds': 28735,\n",
       " 'film': 12209,\n",
       " 'pair': 23504,\n",
       " 'overworked': 23404,\n",
       " 'probably': 25374,\n",
       " 'left': 18763,\n",
       " 'western': 35736,\n",
       " 'blew': 3751,\n",
       " 'scene': 28420,\n",
       " 'grew': 14225,\n",
       " 'later': 18591,\n",
       " 'obligatory': 22634,\n",
       " 'opening': 22966,\n",
       " 'apparent': 1904,\n",
       " 'reason': 26372,\n",
       " 'lowered': 19486,\n",
       " 'rear': 26365,\n",
       " 'view': 35018,\n",
       " 'mirror': 21024,\n",
       " 'shadow': 29120,\n",
       " 'seat': 28715,\n",
       " 'minutes': 21005,\n",
       " 'credits': 7664,\n",
       " 'treated': 33523,\n",
       " 'overhead': 23314,\n",
       " 'shot': 29424,\n",
       " 'car': 5112,\n",
       " 'rocking': 27665,\n",
       " 'forth': 12822,\n",
       " 'dramatic': 9922,\n",
       " 'music': 21722,\n",
       " 'informs': 16663,\n",
       " 'killing': 18088,\n",
       " 'taking': 32229,\n",
       " 'place': 24525,\n",
       " 'makeout': 19826,\n",
       " 'session': 29039,\n",
       " '27': 308,\n",
       " 'hours': 15765,\n",
       " 'idiotic': 16089,\n",
       " 'psychotics': 25693,\n",
       " 'compelled': 6692,\n",
       " 'drive': 10020,\n",
       " 'desert': 8821,\n",
       " 'southwest': 30485,\n",
       " 'going': 13868,\n",
       " 'like': 19034,\n",
       " 'demented': 8642,\n",
       " 'abbot': 535,\n",
       " 'costello': 7407,\n",
       " 'shocking': 29360,\n",
       " 'twists': 33863,\n",
       " 'end': 10782,\n",
       " 'merely': 20680,\n",
       " 'shake': 29138,\n",
       " 'heads': 14994,\n",
       " 'wonder': 36117,\n",
       " 'producers': 25413,\n",
       " 'directorwriter': 9217,\n",
       " 'feel': 12031,\n",
       " 'ashamed': 2197,\n",
       " 'embarrassed': 10637,\n",
       " 'creating': 7643,\n",
       " 'inconsistent': 16457,\n",
       " 'incoherent': 16435,\n",
       " 'nonsense': 22388,\n",
       " 'terrible': 32579,\n",
       " 'movie': 21529,\n",
       " 'acting': 757,\n",
       " 'pacing': 23448,\n",
       " 'cinematography': 6026,\n",
       " 'directing': 9205,\n",
       " 'special': 30573,\n",
       " 'effects': 10433,\n",
       " 'expect': 11485,\n",
       " 'certain': 5499,\n",
       " 'degree': 8554,\n",
       " 'badness': 2728,\n",
       " 'slasher': 29895,\n",
       " 'killings': 18089,\n",
       " 'past': 23773,\n",
       " 'event': 11263,\n",
       " 'set': 29041,\n",
       " 'motive': 21484,\n",
       " 'slaughter': 29905,\n",
       " 'went': 35724,\n",
       " '15': 78,\n",
       " '20': 250,\n",
       " 'thought': 32810,\n",
       " 'removed': 26896,\n",
       " '80': 462,\n",
       " 'explained': 11523,\n",
       " 'happened': 14750,\n",
       " 'victims': 34987,\n",
       " 'invited': 17147,\n",
       " 'reunion': 27270,\n",
       " 'abandoned': 527,\n",
       " 'school': 28478,\n",
       " 'turned': 33793,\n",
       " 'little': 19178,\n",
       " 'odd': 22723,\n",
       " 'dismissed': 9405,\n",
       " 'decided': 8414,\n",
       " 'break': 4318,\n",
       " 'finally': 12270,\n",
       " 'fake': 11765,\n",
       " 'virtually': 35109,\n",
       " 'unwatchable': 34546,\n",
       " 'watch': 35471,\n",
       " 'unless': 34367,\n",
       " 'want': 35375,\n",
       " 'breasts': 4335,\n",
       " 'good': 13914,\n",
       " 'makes': 19831,\n",
       " 'showgirls': 29459,\n",
       " 'indistinguishable': 16534,\n",
       " 'citizen': 6049,\n",
       " 'kane': 17880,\n",
       " 'mulder': 21626,\n",
       " 'looking': 19353,\n",
       " 'real': 26328,\n",
       " 'father': 11925,\n",
       " 'darren': 8228,\n",
       " 'mcgavin': 20424,\n",
       " 'files': 12199,\n",
       " 'pity': 24516,\n",
       " 'season': 28710,\n",
       " 'long': 19321,\n",
       " 'didnt': 9082,\n",
       " 'know': 18230,\n",
       " 'makings': 19837,\n",
       " 'classic': 6113,\n",
       " 'hands': 14710,\n",
       " '1993': 229,\n",
       " 'came': 4965,\n",
       " 'chris': 5926,\n",
       " 'carter': 5239,\n",
       " 'follow': 12669,\n",
       " 'night': 22220,\n",
       " 'stalker': 30936,\n",
       " 'classics': 6118,\n",
       " 'opinion': 22989,\n",
       " 'shows': 29468,\n",
       " 'viewers': 35022,\n",
       " 'level': 18908,\n",
       " 'experience': 11504,\n",
       " 'comes': 6577,\n",
       " 'appear': 1913,\n",
       " 'years': 36428,\n",
       " 'agent': 1086,\n",
       " 'arthur': 2156,\n",
       " 'helping': 15154,\n",
       " 'favorite': 11963,\n",
       " 'heros': 15236,\n",
       " 'solving': 30354,\n",
       " 'cases': 5264,\n",
       " 'paying': 23890,\n",
       " 'homage': 15552,\n",
       " 'man': 19902,\n",
       " 'think': 32756,\n",
       " 'bringing': 4435,\n",
       " 'forgotten': 12786,\n",
       " 'tv': 33817,\n",
       " 'form': 12792,\n",
       " 'david': 8266,\n",
       " 'duchovny': 10111,\n",
       " 'wasnt': 35455,\n",
       " 'watching': 35482,\n",
       " 'particular': 23719,\n",
       " 'known': 18239,\n",
       " 'bait': 2762,\n",
       " 'cable': 4870,\n",
       " 'just': 17831,\n",
       " 'started': 31022,\n",
       " 'eh': 10466,\n",
       " 'im': 16164,\n",
       " 'glad': 13726,\n",
       " 'gave': 13430,\n",
       " 'chance': 5558,\n",
       " 'aint': 1158,\n",
       " 'perfect': 24072,\n",
       " 'suffers': 31678,\n",
       " 'unnecessarily': 34395,\n",
       " 'flashy': 12450,\n",
       " 'direction': 9206,\n",
       " 'occasional': 22689,\n",
       " 'dumbness': 10161,\n",
       " 'overall': 23268,\n",
       " 'worked': 36172,\n",
       " 'elements': 10535,\n",
       " 'aligned': 1295,\n",
       " 'right': 27479,\n",
       " 'pulled': 25740,\n",
       " 'pretty': 25277,\n",
       " 'ugly': 33936,\n",
       " 'jamie': 17407,\n",
       " 'foxx': 12871,\n",
       " 'dont': 9752,\n",
       " 'tagged': 32194,\n",
       " 'lead': 18695,\n",
       " 'did': 9079,\n",
       " 'big': 3517,\n",
       " 'favor': 11958,\n",
       " 'believable': 3274,\n",
       " 'amazingly': 1466,\n",
       " 'likeable': 19035,\n",
       " 'glides': 13771,\n",
       " 'smooth': 30125,\n",
       " 'butter': 4820,\n",
       " 'funnier': 13183,\n",
       " 'hell': 15126,\n",
       " 'tell': 32482,\n",
       " 'hes': 15248,\n",
       " 'working': 36176,\n",
       " 'instinct': 16862,\n",
       " 'doesnt': 9654,\n",
       " 'fail': 11733,\n",
       " 'plot': 24641,\n",
       " 'unimportant': 34312,\n",
       " 'actually': 799,\n",
       " 'ties': 32940,\n",
       " 'theres': 32721,\n",
       " 'character': 5602,\n",
       " 'arc': 2001,\n",
       " 'foxxs': 12872,\n",
       " 'grows': 14347,\n",
       " 'person': 24152,\n",
       " 'couldve': 7435,\n",
       " 'slipped': 29987,\n",
       " 'things': 32753,\n",
       " 'better': 3453,\n",
       " 'surprised': 31878,\n",
       " 'low': 19473,\n",
       " 'rating': 26244,\n",
       " 'maybe': 20358,\n",
       " 'caught': 5380,\n",
       " 'vice': 34970,\n",
       " 'versa': 34927,\n",
       " 'id': 16057,\n",
       " '710': 447,\n",
       " 'bravo': 4304,\n",
       " 'time': 32970,\n",
       " 'ive': 17325,\n",
       " 'seen': 28782,\n",
       " 'impression': 16335,\n",
       " 'parts': 23734,\n",
       " 'crack': 7548,\n",
       " 'arent': 2041,\n",
       " 'intentional': 16936,\n",
       " 'lot': 19410,\n",
       " 'rest': 27168,\n",
       " 'plain': 24539,\n",
       " 'stupid': 31515,\n",
       " 'andor': 1628,\n",
       " 'irrelevant': 17213,\n",
       " 'evil': 11296,\n",
       " 'dead': 8311,\n",
       " 'gets': 13596,\n",
       " 'credit': 7659,\n",
       " 'expense': 11501,\n",
       " 'intended': 16924,\n",
       " 'cheesy': 5747,\n",
       " 'sam': 28151,\n",
       " 'raimi': 26088,\n",
       " 'succeeded': 31637,\n",
       " 'trying': 33721,\n",
       " 'excuse': 11405,\n",
       " 'filmmakers': 12234,\n",
       " 'failed': 11734,\n",
       " 'miserably': 21058,\n",
       " 'crap': 7587,\n",
       " 'result': 27196,\n",
       " 'heaped': 15007,\n",
       " 'writing': 36298,\n",
       " 'performances': 24081,\n",
       " 'make': 19824,\n",
       " 'shame': 29159,\n",
       " 'lowest': 19491,\n",
       " 'given': 13719,\n",
       " 'awful': 2600,\n",
       " 'effect': 10427,\n",
       " 'listening': 19153,\n",
       " 'billy': 3560,\n",
       " 'madison': 19730,\n",
       " 'room': 27767,\n",
       " 'dumber': 10156,\n",
       " 'having': 14924,\n",
       " 'listened': 19150,\n",
       " 'able': 565,\n",
       " 'let': 18890,\n",
       " 'start': 31021,\n",
       " 'saying': 28345,\n",
       " 'enjoy': 10871,\n",
       " 'italian': 17283,\n",
       " 'horror': 15696,\n",
       " 'jungle': 17816,\n",
       " 'exploitation': 11539,\n",
       " 'flick': 12510,\n",
       " '1970s': 197,\n",
       " 'seriously': 29010,\n",
       " 'downright': 9869,\n",
       " 'way': 35524,\n",
       " 'martino': 20170,\n",
       " 'tries': 33590,\n",
       " 'inject': 16724,\n",
       " 'work': 36168,\n",
       " 'thing': 32752,\n",
       " 'ignorant': 16109,\n",
       " 'westerners': 35738,\n",
       " 'course': 7486,\n",
       " 'resort': 27134,\n",
       " 'remember': 26862,\n",
       " 'takes': 32227,\n",
       " 'sad': 28052,\n",
       " 'basically': 2993,\n",
       " 'people': 24036,\n",
       " 'come': 6557,\n",
       " 'native': 21935,\n",
       " 'tribe': 33568,\n",
       " 'ceremonies': 5496,\n",
       " 'eventually': 11267,\n",
       " 'upset': 34607,\n",
       " 'alligator': 1342,\n",
       " 'god': 13841,\n",
       " 'river': 27575,\n",
       " 'proceeds': 25390,\n",
       " 'rampage': 26146,\n",
       " 'said': 28096,\n",
       " 'tribesmen': 33571,\n",
       " 'sounds': 30466,\n",
       " 'yeah': 36418,\n",
       " 'hopes': 15654,\n",
       " 'minimal': 20966,\n",
       " 'violence': 35088,\n",
       " 'kindergarten': 18111,\n",
       " 'class': 6109,\n",
       " 'performed': 24083,\n",
       " 'love': 19446,\n",
       " 'story': 31288,\n",
       " 'thrown': 32876,\n",
       " 'laughable': 18612,\n",
       " 'scenes': 28424,\n",
       " 'appears': 1918,\n",
       " 'camera': 4970,\n",
       " 'underwater': 34169,\n",
       " 'pool': 24834,\n",
       " 'threw': 32848,\n",
       " 'toy': 33314,\n",
       " 'dart': 8232,\n",
       " 'water': 35486,\n",
       " 'supposed': 31834,\n",
       " 'gator': 13422,\n",
       " 'attacking': 2390,\n",
       " 'kidding': 18060,\n",
       " 'wonderfully': 36121,\n",
       " 'crafted': 7561,\n",
       " 'van': 34772,\n",
       " 'targeted': 32322,\n",
       " 'incredible': 16472,\n",
       " 'sinking': 29715,\n",
       " 'plastic': 24566,\n",
       " 'sudden': 31666,\n",
       " 'times': 32990,\n",
       " 'size': 29770,\n",
       " 'ago': 1106,\n",
       " 'eat': 10326,\n",
       " 'human': 15843,\n",
       " 'dwarfs': 10239,\n",
       " 'cargo': 5153,\n",
       " 'really': 26347,\n",
       " 'pathetic': 23802,\n",
       " 'bruno': 4550,\n",
       " 'matteis': 20309,\n",
       " 'masterpiece': 20244,\n",
       " 'rats': 26256,\n",
       " 'conveyor': 7229,\n",
       " 'belt': 3312,\n",
       " 'terrified': 32587,\n",
       " 'normally': 22424,\n",
       " 'say': 28342,\n",
       " 'sergio': 29002,\n",
       " 'solid': 30334,\n",
       " 'mustsee': 21751,\n",
       " 'waste': 35461,\n",
       " 'definitely': 8529,\n",
       " 'worth': 36218,\n",
       " 'buying': 4835,\n",
       " 'sticker': 31170,\n",
       " 'price': 25296,\n",
       " '10': 12,\n",
       " 'kids': 18072,\n",
       " 'importantly': 16309,\n",
       " 'decision': 8421,\n",
       " 'richard': 27408,\n",
       " 'attenborough': 2401,\n",
       " 'direct': 9202,\n",
       " 'singular': 29709,\n",
       " 'sensation': 28927,\n",
       " 'hit': 15429,\n",
       " 'broadway': 4475,\n",
       " 'academy': 638,\n",
       " 'award': 2582,\n",
       " 'winning': 35986,\n",
       " 'director': 9211,\n",
       " 'yes': 36446,\n",
       " 'won': 36116,\n",
       " 'ghandi': 13604,\n",
       " 'moron': 21414,\n",
       " 'jeremy': 17533,\n",
       " 'irons': 17201,\n",
       " 'actor': 784,\n",
       " 'play': 24583,\n",
       " 'rocky': 27672,\n",
       " 'balboa': 2781,\n",
       " 'musicals': 21726,\n",
       " 'oh': 22800,\n",
       " 'lovely': 19461,\n",
       " 'war': 35381,\n",
       " 'answer': 1757,\n",
       " 'question': 25937,\n",
       " 'disappointment': 9254,\n",
       " 'clear': 6157,\n",
       " 'simple': 29659,\n",
       " 'ounce': 23168,\n",
       " 'live': 19186,\n",
       " 'energy': 10824,\n",
       " 'survived': 31902,\n",
       " 'heavy': 15066,\n",
       " 'proceedings': 25389,\n",
       " 'danced': 8139,\n",
       " 'beautifully': 3151,\n",
       " 'charming': 5655,\n",
       " 'projection': 25472,\n",
       " 'theatrical': 32678,\n",
       " 'felt': 12060,\n",
       " 'saw': 28332,\n",
       " 'stage': 30897,\n",
       " 'cast': 5298,\n",
       " 'stars': 31016,\n",
       " 'unknown': 34360,\n",
       " 'newcomers': 22149,\n",
       " 'compelling': 6693,\n",
       " 'unforgettable': 34266,\n",
       " 'faces': 11696,\n",
       " 'invisible': 17143,\n",
       " 'group': 14330,\n",
       " 'great': 14165,\n",
       " 'actors': 787,\n",
       " 'dance': 8138,\n",
       " 'michael': 20779,\n",
       " 'douglas': 9841,\n",
       " 'true': 33689,\n",
       " 'forgot': 12785,\n",
       " 'absolutely': 603,\n",
       " 'wrong': 36301,\n",
       " 'musical': 21723,\n",
       " 'hadnt': 14548,\n",
       " 'planned': 24554,\n",
       " 'seeing': 28774,\n",
       " 'disappointed': 9251,\n",
       " 'friend': 13034,\n",
       " 'dragged': 9900,\n",
       " 'surprises': 31879,\n",
       " 'guys': 14498,\n",
       " 'reasonably': 26374,\n",
       " 'obviously': 22683,\n",
       " 'modest': 21198,\n",
       " 'budget': 4607,\n",
       " 'youve': 36506,\n",
       " 'trailer': 33361,\n",
       " 'type': 33895,\n",
       " 'constant': 7066,\n",
       " 'stream': 31368,\n",
       " 'jokes': 17672,\n",
       " 'couple': 7475,\n",
       " 'moments': 21248,\n",
       " 'highpoint': 15315,\n",
       " 'excellent': 11356,\n",
       " 'flashback': 12439,\n",
       " '1980s': 211,\n",
       " 'read': 26315,\n",
       " 'ending': 10800,\n",
       " 'refreshingly': 26642,\n",
       " 'different': 9102,\n",
       " 'expected': 11489,\n",
       " 'genre': 13527,\n",
       " 'wont': 36132,\n",
       " 'change': 5569,\n",
       " 'life': 18983,\n",
       " 'got': 14000,\n",
       " 'laughs': 18624,\n",
       " 'entertained': 10942,\n",
       " 'rented': 26935,\n",
       " 'hearing': 15012,\n",
       " 'gore': 13970,\n",
       " 'attack': 2386,\n",
       " 'dvd': 10229,\n",
       " 'showed': 29453,\n",
       " 'stages': 30902,\n",
       " 'buy': 4832,\n",
       " 'spectacle': 30593,\n",
       " 'mother': 21463,\n",
       " 'yelling': 36436,\n",
       " 'son': 30374,\n",
       " 'drop': 10040,\n",
       " 'flaming': 12427,\n",
       " 'pit': 24493,\n",
       " 'expecting': 11491,\n",
       " 'hour': 15761,\n",
       " 'eighteen': 10470,\n",
       " 'summarized': 31731,\n",
       " 'version': 34935,\n",
       " 'main': 19800,\n",
       " 'highlight': 15309,\n",
       " 'sadly': 28071,\n",
       " 'death': 8343,\n",
       " 'happens': 14753,\n",
       " 'beginning': 3223,\n",
       " 'downhill': 9861,\n",
       " 'documentary': 9634,\n",
       " 'raw': 26283,\n",
       " 'bare': 2906,\n",
       " 'unbiased': 34027,\n",
       " 'narrator': 21890,\n",
       " 'youd': 36485,\n",
       " 'opinions': 22991,\n",
       " 'subject': 31561,\n",
       " 'nice': 22180,\n",
       " 'message': 20715,\n",
       " 'text': 32636,\n",
       " 'explaining': 11524,\n",
       " 'obvious': 22682,\n",
       " 'explain': 11521,\n",
       " 'lives': 19199,\n",
       " 'wrestlers': 36268,\n",
       " 'sound': 30462,\n",
       " 'interesting': 16960,\n",
       " 'reality': 26340,\n",
       " 'isnt': 17263,\n",
       " 'instance': 16851,\n",
       " 'mom': 21242,\n",
       " 'wrestle': 36263,\n",
       " 'light': 19012,\n",
       " 'bulbs': 4654,\n",
       " 'public': 25703,\n",
       " 'park': 23677,\n",
       " 'instead': 16857,\n",
       " 'reaction': 26309,\n",
       " 'wrestling': 36270,\n",
       " 'reacting': 26308,\n",
       " 'interview': 17033,\n",
       " 'witnessing': 36066,\n",
       " 'reactions': 26311,\n",
       " 'document': 9631,\n",
       " 'wise': 36015,\n",
       " 'source': 30474,\n",
       " 'material': 20270,\n",
       " 'flimsy': 12526,\n",
       " 'begin': 3219,\n",
       " 'truly': 33697,\n",
       " 'profound': 25444,\n",
       " 'conclusion': 6853,\n",
       " 'stories': 31279,\n",
       " 'point': 24721,\n",
       " 'final': 12266,\n",
       " 'backyard': 2703,\n",
       " 'edited': 10394,\n",
       " 'badly': 2725,\n",
       " 'cheap': 5694,\n",
       " 'rip': 27525,\n",
       " 'mat': 20258,\n",
       " 'boring': 4107,\n",
       " 'bumps': 4701,\n",
       " 'slowly': 30026,\n",
       " 'amazing': 1463,\n",
       " 'japanese': 17435,\n",
       " 'indie': 16518,\n",
       " 'dvds': 10233,\n",
       " 'shock': 29356,\n",
       " 'awe': 2592,\n",
       " 'mistake': 21110,\n",
       " 'supporting': 31830,\n",
       " 'self': 28821,\n",
       " 'mutilation': 21764,\n",
       " 'doing': 9673,\n",
       " 'dangerous': 8157,\n",
       " 'stunts': 31511,\n",
       " 'reasoning': 26376,\n",
       " 'committing': 6645,\n",
       " 'acts': 796,\n",
       " 'jobless': 17626,\n",
       " 'issues': 17276,\n",
       " 'head': 14971,\n",
       " 'therapy': 32713,\n",
       " 'supporters': 31829,\n",
       " 'mothers': 21471,\n",
       " 'ya': 36367,\n",
       " 'beat': 3130,\n",
       " 'em': 10622,\n",
       " 'join': 17661,\n",
       " 'cope': 7279,\n",
       " 'fact': 11707,\n",
       " 'sons': 30392,\n",
       " 'authority': 2508,\n",
       " 'figures': 12195,\n",
       " 'support': 31826,\n",
       " 'students': 31476,\n",
       " 'alternative': 1421,\n",
       " 'joining': 17663,\n",
       " 'gangs': 13331,\n",
       " 'lesser': 18880,\n",
       " 'extend': 11585,\n",
       " 'drugs': 10071,\n",
       " 'kinda': 18109,\n",
       " 'funny': 13186,\n",
       " 'segment': 28796,\n",
       " 'took': 33164,\n",
       " 'rural': 27973,\n",
       " 'town': 33304,\n",
       " 'miles': 20876,\n",
       " 'thats': 32669,\n",
       " 'extracted': 11613,\n",
       " 'thoughts': 32818,\n",
       " 'promises': 25495,\n",
       " 'nick': 22192,\n",
       " 'mondo': 21269,\n",
       " 'entertaining': 10945,\n",
       " 'unfortunate': 34272,\n",
       " 'films': 12241,\n",
       " 'suffered': 31674,\n",
       " 'box': 4202,\n",
       " 'office': 22772,\n",
       " 'local': 19241,\n",
       " 'art': 2146,\n",
       " 'revival': 27326,\n",
       " 'tanked': 32291,\n",
       " 'mainstream': 19806,\n",
       " 'cinemas': 6018,\n",
       " 'certainly': 5500,\n",
       " 'deserves': 8830,\n",
       " 'approached': 1963,\n",
       " 'second': 28729,\n",
       " 'sandra': 28201,\n",
       " 'limit': 19068,\n",
       " 'spoken': 30727,\n",
       " 'word': 36159,\n",
       " 'songs': 30382,\n",
       " 'piece': 24379,\n",
       " 'hank': 14733,\n",
       " 'williams': 35929,\n",
       " 'lonesome': 19319,\n",
       " 'easily': 10315,\n",
       " 'tears': 32414,\n",
       " 'someday': 30360,\n",
       " 'audiences': 2450,\n",
       " 'ready': 26323,\n",
       " 'bit': 3615,\n",
       " 'placed': 24526,\n",
       " 'moves': 21528,\n",
       " 'brisk': 4442,\n",
       " 'pace': 23439,\n",
       " 'thanks': 32660,\n",
       " 'stale': 30929,\n",
       " 'pipeline': 24473,\n",
       " 'inside': 16799,\n",
       " 'dancing': 8145,\n",
       " 'rory': 27785,\n",
       " 'oshea': 23136,\n",
       " 'handicapped': 14699,\n",
       " 'young': 36490,\n",
       " 'men': 20629,\n",
       " 'completely': 6731,\n",
       " 'confined': 6915,\n",
       " 'wheelchair': 35762,\n",
       " 'connelly': 6982,\n",
       " 'ms': 21589,\n",
       " 'ireland': 17182,\n",
       " 'opens': 22970,\n",
       " 'arriving': 2135,\n",
       " 'assisted': 2287,\n",
       " 'living': 19204,\n",
       " 'center': 5474,\n",
       " 'befriends': 3210,\n",
       " 'tense': 32542,\n",
       " 'rebels': 26396,\n",
       " 'staff': 30895,\n",
       " 'patients': 23812,\n",
       " 'usual': 34681,\n",
       " 'playing': 24595,\n",
       " 'loud': 19420,\n",
       " 'metal': 20730,\n",
       " 'using': 34675,\n",
       " 'profanity': 25424,\n",
       " 'general': 13489,\n",
       " 'budding': 4603,\n",
       " 'friendship': 13039,\n",
       " 'cemented': 5463,\n",
       " 'understands': 34155,\n",
       " 'willing': 35934,\n",
       " 'try': 33720,\n",
       " 'trial': 33563,\n",
       " 'tribulation': 33572,\n",
       " 'petition': 24224,\n",
       " 'granted': 14111,\n",
       " 'specially': 30580,\n",
       " 'adapted': 816,\n",
       " 'apartment': 1868,\n",
       " 'paid': 23482,\n",
       " 'michaels': 20780,\n",
       " 'essentially': 11157,\n",
       " 'disability': 9231,\n",
       " 'hire': 15402,\n",
       " 'attractive': 2427,\n",
       " 'assistant': 2285,\n",
       " 'named': 21843,\n",
       " 'siobhan': 29722,\n",
       " 'played': 24587,\n",
       " 'romola': 27744,\n",
       " 'help': 15148,\n",
       " 'day': 8285,\n",
       " 'crux': 7860,\n",
       " 'develops': 8954,\n",
       " 'develop': 8947,\n",
       " 'feelings': 12034,\n",
       " 'struck': 31449,\n",
       " 'particularly': 23721,\n",
       " 'hard': 14774,\n",
       " 'unfortunately': 34273,\n",
       " 'especially': 11142,\n",
       " 'does': 9653,\n",
       " 'results': 27200,\n",
       " 'leave': 18735,\n",
       " 'temporarily': 32507,\n",
       " 'wants': 35379,\n",
       " 'return': 27264,\n",
       " 'convinces': 7238,\n",
       " 'continue': 7150,\n",
       " 'ends': 10810,\n",
       " 'note': 22465,\n",
       " 'coming': 6595,\n",
       " 'ultimately': 33957,\n",
       " 'independent': 16495,\n",
       " 'future': 13221,\n",
       " 'pointed': 24724,\n",
       " 'considered': 7037,\n",
       " 'specific': 30584,\n",
       " 'formula': 12806,\n",
       " 'unwilling': 34553,\n",
       " 'illness': 16136,\n",
       " 'liberating': 18949,\n",
       " 'force': 12724,\n",
       " 'compels': 6695,\n",
       " 'himher': 15366,\n",
       " 'works': 36183,\n",
       " 'subtle': 31616,\n",
       " 'peaks': 23921,\n",
       " 'valleys': 34756,\n",
       " 'intentionally': 16937,\n",
       " 'gratuitous': 14141,\n",
       " 'stand': 30958,\n",
       " 'cheer': 5727,\n",
       " 'manipulations': 19971,\n",
       " 'recoil': 26468,\n",
       " 'haired': 14582,\n",
       " 'punk': 25786,\n",
       " 'earing': 10281,\n",
       " 'nose': 22446,\n",
       " 'rebel': 26392,\n",
       " 'cliché': 6191,\n",
       " 'james': 17403,\n",
       " 'mcavoy': 20383,\n",
       " 'steven': 31155,\n",
       " 'robertson': 27630,\n",
       " 'plays': 24600,\n",
       " 'heart': 15020,\n",
       " 'broken': 4487,\n",
       " 'invoked': 17151,\n",
       " 'poor': 24838,\n",
       " 'script': 28632,\n",
       " 'audience': 2449,\n",
       " 'genuinely': 13545,\n",
       " 'pain': 23486,\n",
       " 'unrequited': 34459,\n",
       " 'kind': 18108,\n",
       " 'relate': 26769,\n",
       " 'physical': 24327,\n",
       " 'condition': 6875,\n",
       " 'types': 33899,\n",
       " 'poignant': 24719,\n",
       " 'overbearing': 23273,\n",
       " 'enjoyable': 10873,\n",
       " 'levels': 18911,\n",
       " 'recommended': 26477,\n",
       " 'entry': 10983,\n",
       " 'contain': 7108,\n",
       " 'spoiler': 30721,\n",
       " 'predictable': 25126,\n",
       " 'sunrise': 31766,\n",
       " 'element': 10533,\n",
       " 'alien': 1286,\n",
       " 'movies': 21552,\n",
       " 'suspense': 31923,\n",
       " 'happen': 14749,\n",
       " 'predator': 25113,\n",
       " 'prevalent': 25282,\n",
       " 'requiem': 27050,\n",
       " 'totally': 33253,\n",
       " 'replaced': 26978,\n",
       " 'blood': 3803,\n",
       " 'die': 9083,\n",
       " 'duh': 10137,\n",
       " 'directors': 9215,\n",
       " 'lesson': 18882,\n",
       " 'hitchcock': 15433,\n",
       " 'bomb': 3982,\n",
       " 'table': 32164,\n",
       " 'whats': 35757,\n",
       " 'sense': 28936,\n",
       " 'exactly': 11324,\n",
       " 'wait': 35292,\n",
       " 'video': 35000,\n",
       " 'rent': 26931,\n",
       " 'means': 20492,\n",
       " 'apparently': 1905,\n",
       " 'early': 10286,\n",
       " '2005': 264,\n",
       " 'scifi': 28518,\n",
       " 'channel': 5576,\n",
       " 'threatened': 32833,\n",
       " 'release': 26788,\n",
       " 'incriminating': 16477,\n",
       " 'photos': 24321,\n",
       " 'john': 17649,\n",
       " 'rhysdavies': 27388,\n",
       " 'need': 22021,\n",
       " 'star': 30989,\n",
       " 'original': 23098,\n",
       " 'scary': 28406,\n",
       " 'damn': 8126,\n",
       " 'silly': 29633,\n",
       " 'creature': 7651,\n",
       " 'feature': 12004,\n",
       " 'gotta': 14007,\n",
       " 'order': 23055,\n",
       " 'wellacted': 35649,\n",
       " 'stereotypical': 31145,\n",
       " 'cruise': 7835,\n",
       " 'ship': 29331,\n",
       " 'cryptozoologist': 7869,\n",
       " 'alive': 1307,\n",
       " 'navy': 21969,\n",
       " 'seals': 28688,\n",
       " 'control': 7193,\n",
       " 'theyre': 32735,\n",
       " 'dealing': 8330,\n",
       " 'girl': 13698,\n",
       " 'jumps': 17808,\n",
       " 'sexpot': 29094,\n",
       " 'role': 27703,\n",
       " 'daughter': 8256,\n",
       " '100': 13,\n",
       " 'shipmates': 29332,\n",
       " 'fastpaced': 11911,\n",
       " 'lively': 19194,\n",
       " 'youre': 36497,\n",
       " 'bored': 4099,\n",
       " 'waiting': 35296,\n",
       " 'kill': 18083,\n",
       " 'distinguish': 9516,\n",
       " 'crawls': 7622,\n",
       " 'ceilings': 5430,\n",
       " 'wounded': 36229,\n",
       " 'seal': 28685,\n",
       " 'machine': 19684,\n",
       " 'guns': 14462,\n",
       " 'submission': 31577,\n",
       " 'giving': 13722,\n",
       " 'boy': 4210,\n",
       " 'silliness': 29632,\n",
       " 'pushing': 25848,\n",
       " 'daisies': 8095,\n",
       " 'immediately': 16212,\n",
       " 'fairytale': 11758,\n",
       " 'setting': 29051,\n",
       " 'grimness': 14259,\n",
       " 'cake': 4916,\n",
       " 'ordeal': 23053,\n",
       " 'making': 19835,\n",
       " 'routine': 27856,\n",
       " 'ned': 22019,\n",
       " 'lee': 18752,\n",
       " 'baking': 2773,\n",
       " 'pies': 24391,\n",
       " 'trio': 33610,\n",
       " 'emerson': 10673,\n",
       " 'cod': 6380,\n",
       " 'chi': 5796,\n",
       " 'mcbride': 20386,\n",
       " 'charlotte': 5648,\n",
       " 'chuck': 5960,\n",
       " 'charles': 5640,\n",
       " 'anna': 1713,\n",
       " 'friel': 13032,\n",
       " 'plus': 24688,\n",
       " 'olive': 22847,\n",
       " 'snook': 30209,\n",
       " 'kristin': 18315,\n",
       " 'wicked': 35859,\n",
       " 'delight': 8592,\n",
       " 'fantastic': 11840,\n",
       " 'dialogue': 9031,\n",
       " 'title': 33052,\n",
       " 'romantic': 27732,\n",
       " 'comedydrama': 6568,\n",
       " 'shy': 29525,\n",
       " 'exploring': 11553,\n",
       " 'touch': 33263,\n",
       " 'obstacle': 22674,\n",
       " 'aids': 1143,\n",
       " 'gloves': 13811,\n",
       " 'quirky': 25974,\n",
       " 'schedules': 28436,\n",
       " 'despite': 8864,\n",
       " 'awkwardness': 2606,\n",
       " 'presented': 25212,\n",
       " 'strange': 31328,\n",
       " 'secret': 28740,\n",
       " 'manage': 19903,\n",
       " 'screen': 28605,\n",
       " 'chemistry': 5759,\n",
       " 'touching': 33267,\n",
       " 'gives': 13721,\n",
       " 'presence': 25206,\n",
       " 'pie': 24378,\n",
       " 'shop': 29389,\n",
       " 'unforeseen': 34265,\n",
       " 'complications': 6751,\n",
       " 'sharply': 29207,\n",
       " 'declined': 8436,\n",
       " 'putting': 25861,\n",
       " 'potential': 24984,\n",
       " 'episodes': 11020,\n",
       " 'line': 19097,\n",
       " 'rushed': 27977,\n",
       " 'awkward': 2604,\n",
       " 'ask': 2218,\n",
       " 'overriding': 23354,\n",
       " 'addition': 838,\n",
       " 'chucks': 5966,\n",
       " 'lines': 19104,\n",
       " 'recycled': 26530,\n",
       " 'episode': 11019,\n",
       " 'comfort': 6581,\n",
       " 'food': 12691,\n",
       " 'bitter': 3628,\n",
       " 'sweets': 32019,\n",
       " 'died': 9084,\n",
       " 'advance': 947,\n",
       " 'relationship': 26775,\n",
       " 'close': 6257,\n",
       " 'writers': 36292,\n",
       " 'throw': 32872,\n",
       " 'monkey': 21291,\n",
       " 'wrench': 36259,\n",
       " 'relation': 26773,\n",
       " 'oliver': 22848,\n",
       " 'monastery': 21264,\n",
       " 'picture': 24371,\n",
       " 'concept': 6829,\n",
       " 'surreal': 31882,\n",
       " 'implausible': 16289,\n",
       " 'scenarios': 28418,\n",
       " 'remind': 26869,\n",
       " 'according': 685,\n",
       " 'creator': 7649,\n",
       " 'bryan': 4566,\n",
       " 'fuller': 13142,\n",
       " 'plausible': 24582,\n",
       " 'lasted': 18576,\n",
       " 'longer': 19326,\n",
       " 'wistful': 36034,\n",
       " 'thinking': 32759,\n",
       " 'kudos': 18335,\n",
       " 'new': 22139,\n",
       " 'attempts': 2400,\n",
       " 'replace': 26977,\n",
       " 'shortlived': 29416,\n",
       " 'gem': 13479,\n",
       " '0s': 11,\n",
       " 'christian': 5933,\n",
       " 'slater': 29903,\n",
       " 'tara': 32315,\n",
       " 'reid': 26723,\n",
       " 'stephen': 31129,\n",
       " 'dorff': 9788,\n",
       " 'frank': 12913,\n",
       " 'turner': 33794,\n",
       " 'mathew': 20287,\n",
       " ...}"
      ]
     },
     "execution_count": 73,
     "metadata": {},
     "output_type": "execute_result"
    }
   ],
   "source": [
    "vec.vocabulary_"
   ]
  },
  {
   "cell_type": "markdown",
   "id": "a1cfea85",
   "metadata": {},
   "source": [
    "These are actually numerical ratings embedded in the reviews! Looking at the text without the punctuation made it hard for us to see this at first."
   ]
  },
  {
   "cell_type": "markdown",
   "id": "c3b2fcd6",
   "metadata": {},
   "source": [
    "Here's a helper function used to remove some extraneous things from `eli5`'s output. We just want to see the highlighted text.\\\n",
    "You don't need to read through the function but it is here as a nice resource/example. 🤓"
   ]
  },
  {
   "cell_type": "code",
   "execution_count": 95,
   "id": "eafdf41f",
   "metadata": {},
   "outputs": [],
   "source": [
    "def eli5_html(clf, vec, observation):\n",
    "    \"\"\"\n",
    "    helper function for nicely formatting and displaying eli5 output\n",
    "    \"\"\"\n",
    "    # Get info on is driving a given observation's predictions\n",
    "    eli5_results = eli5.show_prediction(estimator=clf, doc=observation, vec=vec, targets=[True], target_names=['bad', 'good'],feature_names=vec.get_feature_names_out())\n",
    "    #eli5_results = eli5.show_prediction(estimator=clf, doc=observation, vec=vec, targets=[True], target_names=['bad', 'good'])\n",
    "    soup = BeautifulSoup(eli5_results.data, 'html.parser')\n",
    "    #print(soup)\n",
    "    # Remove a table we don't want\n",
    "    soup.table.decompose()\n",
    "    # Remove the first <p> tag with unwanted text\n",
    "    soup.p.decompose()\n",
    "    # Display the newly formatted HTML!\n",
    "    \n",
    "    display(HTML(str(soup)))"
   ]
  },
  {
   "cell_type": "markdown",
   "id": "a026c04a",
   "metadata": {},
   "source": [
    "Now all you need to do is find the specific observations requested.\\\n",
    "You'll need your `y_pred_proba` values for this section to find which elements from `x_test_raw` to select.\n",
    "\n",
    "**Hint:** [np.argsort()](https://numpy.org/doc/stable/reference/generated/numpy.argsort.html), [np.flip()](https://numpy.org/doc/stable/reference/generated/numpy.flip.html?highlight=flip#numpy.flip), and [np.abs()](https://numpy.org/doc/stable/reference/generated/numpy.absolute.html) may be useful here. "
   ]
  },
  {
   "cell_type": "markdown",
   "id": "0fffa9cf",
   "metadata": {},
   "source": [
    "### What are the **5 worst** movie reviews in the test set according to your model? 🍅"
   ]
  },
  {
   "cell_type": "code",
   "execution_count": 75,
   "id": "8d18f27e",
   "metadata": {},
   "outputs": [],
   "source": [
    "# please fill this code block!\n",
    "# Find indices of 5 worst reviews\n",
    "worst5_indices = np.argsort(y_pred_proba)[:5]\n",
    "worst5 = x_test_raw[worst5_indices]"
   ]
  },
  {
   "cell_type": "code",
   "execution_count": 96,
   "id": "1130af96",
   "metadata": {},
   "outputs": [
    {
     "data": {
      "text/html": [
       "<p style=background-color:black;color:white;font-weight:bold;padding:4px>Bad Movie #1 🍅</p>"
      ],
      "text/plain": [
       "<IPython.core.display.HTML object>"
      ]
     },
     "metadata": {},
     "output_type": "display_data"
    },
    {
     "data": {
      "text/html": [
       "\n",
       "<style>\n",
       "    table.eli5-weights tr:hover {\n",
       "        filter: brightness(85%);\n",
       "    }\n",
       "</style>\n",
       "\n",
       "\n",
       "<p style=\"margin-bottom: 2.5em; margin-top:-0.5em;\">\n",
       "<span style=\"opacity: 0.80\">i </span><span style=\"background-color: hsl(0, 100.00%, 89.63%); opacity: 0.83\" title=\"-0.195\">rented</span><span style=\"opacity: 0.80\"> this </span><span style=\"background-color: hsl(0, 100.00%, 98.46%); opacity: 0.80\" title=\"-0.013\">movie</span><span style=\"opacity: 0.80\"> </span><span style=\"background-color: hsl(120, 100.00%, 76.03%); opacity: 0.90\" title=\"0.646\">today</span><span style=\"opacity: 0.80\">... </span><span style=\"background-color: hsl(0, 100.00%, 60.00%); opacity: 1.00\" title=\"-1.343\">worst</span><span style=\"opacity: 0.80\"> </span><span style=\"background-color: hsl(0, 100.00%, 98.46%); opacity: 0.80\" title=\"-0.013\">movie</span><span style=\"opacity: 0.80\"> ever. it was a </span><span style=\"background-color: hsl(0, 100.00%, 83.02%); opacity: 0.86\" title=\"-0.395\">total</span><span style=\"opacity: 0.80\"> </span><span style=\"background-color: hsl(0, 100.00%, 62.02%); opacity: 0.99\" title=\"-1.247\">waste</span><span style=\"opacity: 0.80\"> of </span><span style=\"background-color: hsl(120, 100.00%, 94.05%); opacity: 0.81\" title=\"0.088\">time</span><span style=\"opacity: 0.80\"> and a </span><span style=\"background-color: hsl(0, 100.00%, 71.35%); opacity: 0.92\" title=\"-0.834\">horrible</span><span style=\"opacity: 0.80\"> </span><span style=\"background-color: hsl(120, 100.00%, 95.51%); opacity: 0.81\" title=\"0.059\">story</span><span style=\"opacity: 0.80\">. the </span><span style=\"background-color: hsl(0, 100.00%, 90.65%); opacity: 0.83\" title=\"-0.168\">acting</span><span style=\"opacity: 0.80\"> was </span><span style=\"background-color: hsl(0, 100.00%, 71.35%); opacity: 0.92\" title=\"-0.834\">horrible</span><span style=\"opacity: 0.80\">, </span><span style=\"background-color: hsl(120, 100.00%, 82.70%); opacity: 0.86\" title=\"0.405\">especially</span><span style=\"opacity: 0.80\"> by the </span><span style=\"background-color: hsl(0, 100.00%, 91.12%); opacity: 0.82\" title=\"-0.156\">actress</span><span style=\"opacity: 0.80\"> of \"</span><span style=\"background-color: hsl(0, 100.00%, 96.38%); opacity: 0.81\" title=\"-0.043\">sai</span><span style=\"opacity: 0.80\">\". she was so </span><span style=\"background-color: hsl(0, 100.00%, 75.58%); opacity: 0.90\" title=\"-0.664\">bad</span><span style=\"opacity: 0.80\"> it was </span><span style=\"background-color: hsl(0, 100.00%, 73.04%); opacity: 0.91\" title=\"-0.764\">ridiculous</span><span style=\"opacity: 0.80\">. i can't </span><span style=\"background-color: hsl(0, 100.00%, 94.27%); opacity: 0.81\" title=\"-0.084\">tell</span><span style=\"opacity: 0.80\"> if it was her </span><span style=\"background-color: hsl(0, 100.00%, 75.58%); opacity: 0.90\" title=\"-0.664\">bad</span><span style=\"opacity: 0.80\"> </span><span style=\"background-color: hsl(0, 100.00%, 90.65%); opacity: 0.83\" title=\"-0.168\">acting</span><span style=\"opacity: 0.80\"> or because the </span><span style=\"background-color: hsl(0, 100.00%, 98.73%); opacity: 0.80\" title=\"-0.010\">character</span><span style=\"opacity: 0.80\"> was </span><span style=\"background-color: hsl(0, 100.00%, 89.77%); opacity: 0.83\" title=\"-0.191\">just</span><span style=\"opacity: 0.80\"> that </span><span style=\"background-color: hsl(0, 100.00%, 78.33%); opacity: 0.88\" title=\"-0.559\">stupid</span><span style=\"opacity: 0.80\"> in the first </span><span style=\"background-color: hsl(120, 100.00%, 98.41%); opacity: 0.80\" title=\"0.013\">place</span><span style=\"opacity: 0.80\">. i can't even get my </span><span style=\"background-color: hsl(120, 100.00%, 91.88%); opacity: 0.82\" title=\"0.138\">mind</span><span style=\"opacity: 0.80\"> </span><span style=\"background-color: hsl(120, 100.00%, 87.13%); opacity: 0.84\" title=\"0.266\">wrapped</span><span style=\"opacity: 0.80\"> around </span><span style=\"background-color: hsl(0, 100.00%, 89.77%); opacity: 0.83\" title=\"-0.191\">just</span><span style=\"opacity: 0.80\"> how </span><span style=\"background-color: hsl(0, 100.00%, 64.06%); opacity: 0.97\" title=\"-1.152\">awful</span><span style=\"opacity: 0.80\"> and </span><span style=\"background-color: hsl(0, 100.00%, 74.43%); opacity: 0.91\" title=\"-0.709\">pointless</span><span style=\"opacity: 0.80\"> this whole </span><span style=\"background-color: hsl(0, 100.00%, 98.46%); opacity: 0.80\" title=\"-0.013\">movie</span><span style=\"opacity: 0.80\"> was. i'm </span><span style=\"background-color: hsl(120, 100.00%, 76.03%); opacity: 0.90\" title=\"0.646\">surprised</span><span style=\"opacity: 0.80\"> someone even </span><span style=\"background-color: hsl(120, 100.00%, 92.20%); opacity: 0.82\" title=\"0.130\">thought</span><span style=\"opacity: 0.80\"> it was a </span><span style=\"background-color: hsl(120, 100.00%, 90.36%); opacity: 0.83\" title=\"0.176\">good</span><span style=\"opacity: 0.80\"> </span><span style=\"background-color: hsl(0, 100.00%, 81.14%); opacity: 0.87\" title=\"-0.459\">idea</span><span style=\"opacity: 0.80\"> to </span><span style=\"background-color: hsl(120, 100.00%, 96.80%); opacity: 0.81\" title=\"0.036\">film</span><span style=\"opacity: 0.80\"> this </span><span style=\"background-color: hsl(0, 100.00%, 98.46%); opacity: 0.80\" title=\"-0.013\">movie</span><span style=\"opacity: 0.80\"> and </span><span style=\"background-color: hsl(0, 100.00%, 82.14%); opacity: 0.86\" title=\"-0.425\">bother</span><span style=\"opacity: 0.80\"> to </span><span style=\"background-color: hsl(120, 100.00%, 86.93%); opacity: 0.84\" title=\"0.272\">release</span><span style=\"opacity: 0.80\"> it. if you're </span><span style=\"background-color: hsl(0, 100.00%, 92.11%); opacity: 0.82\" title=\"-0.132\">looking</span><span style=\"opacity: 0.80\"> for a </span><span style=\"background-color: hsl(120, 100.00%, 90.36%); opacity: 0.83\" title=\"0.176\">good</span><span style=\"opacity: 0.80\"> </span><span style=\"background-color: hsl(0, 100.00%, 97.46%); opacity: 0.80\" title=\"-0.026\">vampire</span><span style=\"opacity: 0.80\">/</span><span style=\"background-color: hsl(0, 100.00%, 96.35%); opacity: 0.81\" title=\"-0.044\">horror</span><span style=\"opacity: 0.80\"> </span><span style=\"background-color: hsl(120, 100.00%, 97.73%); opacity: 0.80\" title=\"0.022\">flick</span><span style=\"opacity: 0.80\">.. this is not the </span><span style=\"background-color: hsl(0, 100.00%, 98.46%); opacity: 0.80\" title=\"-0.013\">movie</span><span style=\"opacity: 0.80\"> for you. move </span><span style=\"background-color: hsl(120, 100.00%, 90.77%); opacity: 0.82\" title=\"0.165\">right</span><span style=\"opacity: 0.80\"> along! it's a </span><span style=\"background-color: hsl(0, 100.00%, 62.02%); opacity: 0.99\" title=\"-1.247\">waste</span><span style=\"opacity: 0.80\"> of </span><span style=\"background-color: hsl(120, 100.00%, 94.05%); opacity: 0.81\" title=\"0.088\">time</span><span style=\"opacity: 0.80\"> and </span><span style=\"background-color: hsl(0, 100.00%, 81.20%); opacity: 0.87\" title=\"-0.457\">money</span><span style=\"opacity: 0.80\">. </span><span style=\"background-color: hsl(0, 100.00%, 93.29%); opacity: 0.82\" title=\"-0.105\">heck</span><span style=\"opacity: 0.80\">, i wouldn't even </span><span style=\"background-color: hsl(120, 100.00%, 97.17%); opacity: 0.80\" title=\"0.031\">download</span><span style=\"opacity: 0.80\"> this </span><span style=\"background-color: hsl(0, 100.00%, 98.46%); opacity: 0.80\" title=\"-0.013\">movie</span><span style=\"opacity: 0.80\"> if someone </span><span style=\"background-color: hsl(0, 100.00%, 84.58%); opacity: 0.85\" title=\"-0.344\">paid</span><span style=\"opacity: 0.80\"> me. this </span><span style=\"background-color: hsl(0, 100.00%, 98.46%); opacity: 0.80\" title=\"-0.013\">movie</span><span style=\"opacity: 0.80\"> is so </span><span style=\"background-color: hsl(0, 100.00%, 75.58%); opacity: 0.90\" title=\"-0.664\">bad</span><span style=\"opacity: 0.80\"> it doesn't even </span><span style=\"background-color: hsl(0, 100.00%, 84.89%); opacity: 0.85\" title=\"-0.334\">deserve</span><span style=\"opacity: 0.80\"> a \"1\". i </span><span style=\"background-color: hsl(120, 100.00%, 91.83%); opacity: 0.82\" title=\"0.139\">wish</span><span style=\"opacity: 0.80\"> i could give it a \"0\"!</span>\n",
       "</p>\n"
      ],
      "text/plain": [
       "<IPython.core.display.HTML object>"
      ]
     },
     "metadata": {},
     "output_type": "display_data"
    },
    {
     "data": {
      "text/html": [
       "<p style=background-color:black;color:white;font-weight:bold;padding:4px>Bad Movie #2 🍅</p>"
      ],
      "text/plain": [
       "<IPython.core.display.HTML object>"
      ]
     },
     "metadata": {},
     "output_type": "display_data"
    },
    {
     "data": {
      "text/html": [
       "\n",
       "<style>\n",
       "    table.eli5-weights tr:hover {\n",
       "        filter: brightness(85%);\n",
       "    }\n",
       "</style>\n",
       "\n",
       "\n",
       "<p style=\"margin-bottom: 2.5em; margin-top:-0.5em;\">\n",
       "<span style=\"opacity: 0.80\">i </span><span style=\"background-color: hsl(0, 100.00%, 99.59%); opacity: 0.80\" title=\"-0.001\">really</span><span style=\"opacity: 0.80\"> didn't have </span><span style=\"background-color: hsl(0, 100.00%, 96.52%); opacity: 0.81\" title=\"-0.024\">high</span><span style=\"opacity: 0.80\"> </span><span style=\"background-color: hsl(0, 100.00%, 95.73%); opacity: 0.81\" title=\"-0.032\">expectations</span><span style=\"opacity: 0.80\"> and i must </span><span style=\"background-color: hsl(120, 100.00%, 93.49%); opacity: 0.81\" title=\"0.058\">admit</span><span style=\"opacity: 0.80\"> that i wasn't </span><span style=\"background-color: hsl(0, 100.00%, 76.85%); opacity: 0.89\" title=\"-0.353\">disappointed</span><span style=\"opacity: 0.80\">. this </span><span style=\"background-color: hsl(0, 100.00%, 98.46%); opacity: 0.80\" title=\"-0.007\">movie</span><span style=\"opacity: 0.80\"> is so </span><span style=\"background-color: hsl(0, 100.00%, 71.27%); opacity: 0.92\" title=\"-0.481\">terrible</span><span style=\"opacity: 0.80\"> that i </span><span style=\"background-color: hsl(0, 100.00%, 91.07%); opacity: 0.82\" title=\"-0.091\">felt</span><span style=\"opacity: 0.80\"> </span><span style=\"background-color: hsl(0, 100.00%, 95.94%); opacity: 0.81\" title=\"-0.029\">obligated</span><span style=\"opacity: 0.80\"> to </span><span style=\"background-color: hsl(0, 100.00%, 96.58%); opacity: 0.81\" title=\"-0.023\">register</span><span style=\"opacity: 0.80\"> an </span><span style=\"background-color: hsl(120, 100.00%, 97.68%); opacity: 0.80\" title=\"0.013\">account</span><span style=\"opacity: 0.80\"> here at </span><span style=\"background-color: hsl(0, 100.00%, 95.12%); opacity: 0.81\" title=\"-0.038\">imdb</span><span style=\"opacity: 0.80\"> </span><span style=\"background-color: hsl(0, 100.00%, 89.77%); opacity: 0.83\" title=\"-0.110\">just</span><span style=\"opacity: 0.80\"> to </span><span style=\"background-color: hsl(0, 100.00%, 90.59%); opacity: 0.83\" title=\"-0.098\">warn</span><span style=\"opacity: 0.80\"> others not to </span><span style=\"background-color: hsl(0, 100.00%, 62.02%); opacity: 0.99\" title=\"-0.717\">waste</span><span style=\"opacity: 0.80\"> their </span><span style=\"background-color: hsl(120, 100.00%, 94.05%); opacity: 0.81\" title=\"0.051\">time</span><span style=\"opacity: 0.80\">. the </span><span style=\"background-color: hsl(0, 100.00%, 90.80%); opacity: 0.82\" title=\"-0.095\">storyline</span><span style=\"opacity: 0.80\"> is </span><span style=\"background-color: hsl(0, 100.00%, 71.27%); opacity: 0.92\" title=\"-0.481\">terrible</span><span style=\"opacity: 0.80\"> and you keep </span><span style=\"background-color: hsl(0, 100.00%, 90.96%); opacity: 0.82\" title=\"-0.092\">asking</span><span style=\"opacity: 0.80\"> yourself throughout the </span><span style=\"background-color: hsl(0, 100.00%, 98.46%); opacity: 0.80\" title=\"-0.007\">movie</span><span style=\"opacity: 0.80\"> \"can it get any </span><span style=\"background-color: hsl(0, 100.00%, 72.06%); opacity: 0.92\" title=\"-0.462\">worse</span><span style=\"opacity: 0.80\">?\" </span><span style=\"background-color: hsl(120, 100.00%, 90.82%); opacity: 0.82\" title=\"0.094\">yes</span><span style=\"opacity: 0.80\">, it can! somehow they </span><span style=\"background-color: hsl(0, 100.00%, 93.28%); opacity: 0.82\" title=\"-0.060\">manage</span><span style=\"opacity: 0.80\"> to </span><span style=\"background-color: hsl(0, 100.00%, 89.79%); opacity: 0.83\" title=\"-0.110\">make</span><span style=\"opacity: 0.80\"> it </span><span style=\"background-color: hsl(0, 100.00%, 60.00%); opacity: 1.00\" title=\"-0.772\">worst</span><span style=\"opacity: 0.80\"> by every </span><span style=\"background-color: hsl(0, 100.00%, 92.71%); opacity: 0.82\" title=\"-0.068\">minute</span><span style=\"opacity: 0.80\"> and you </span><span style=\"background-color: hsl(120, 100.00%, 97.89%); opacity: 0.80\" title=\"0.012\">end</span><span style=\"opacity: 0.80\"> up </span><span style=\"background-color: hsl(0, 100.00%, 94.07%); opacity: 0.81\" title=\"-0.050\">thinking</span><span style=\"opacity: 0.80\"> \"i </span><span style=\"background-color: hsl(0, 100.00%, 96.89%); opacity: 0.81\" title=\"-0.020\">want</span><span style=\"opacity: 0.80\"> my 1 </span><span style=\"background-color: hsl(0, 100.00%, 87.99%); opacity: 0.84\" title=\"-0.138\">hour</span><span style=\"opacity: 0.80\"> </span><span style=\"background-color: hsl(0, 100.00%, 96.22%); opacity: 0.81\" title=\"-0.027\">35</span><span style=\"opacity: 0.80\"> </span><span style=\"background-color: hsl(0, 100.00%, 79.11%); opacity: 0.88\" title=\"-0.305\">minutes</span><span style=\"opacity: 0.80\"> back!\". </span><span style=\"background-color: hsl(0, 100.00%, 90.43%); opacity: 0.83\" title=\"-0.100\">somebody</span><span style=\"opacity: 0.80\"> </span><span style=\"background-color: hsl(120, 100.00%, 95.80%); opacity: 0.81\" title=\"0.031\">got</span><span style=\"opacity: 0.80\"> to </span><span style=\"background-color: hsl(0, 100.00%, 95.26%); opacity: 0.81\" title=\"-0.037\">pay</span><span style=\"opacity: 0.80\"> for this!  i </span><span style=\"background-color: hsl(0, 100.00%, 96.80%); opacity: 0.81\" title=\"-0.021\">dare</span><span style=\"opacity: 0.80\"> you to find a </span><span style=\"background-color: hsl(0, 100.00%, 98.46%); opacity: 0.80\" title=\"-0.007\">movie</span><span style=\"opacity: 0.80\"> which is </span><span style=\"background-color: hsl(0, 100.00%, 60.00%); opacity: 1.00\" title=\"-0.772\">worst</span><span style=\"opacity: 0.80\"> that this... i </span><span style=\"background-color: hsl(0, 100.00%, 99.59%); opacity: 0.80\" title=\"-0.001\">really</span><span style=\"opacity: 0.80\"> didn't have </span><span style=\"background-color: hsl(0, 100.00%, 96.52%); opacity: 0.81\" title=\"-0.024\">high</span><span style=\"opacity: 0.80\"> </span><span style=\"background-color: hsl(0, 100.00%, 95.73%); opacity: 0.81\" title=\"-0.032\">expectations</span><span style=\"opacity: 0.80\"> and i must </span><span style=\"background-color: hsl(120, 100.00%, 93.49%); opacity: 0.81\" title=\"0.058\">admit</span><span style=\"opacity: 0.80\"> that i wasn't </span><span style=\"background-color: hsl(0, 100.00%, 76.85%); opacity: 0.89\" title=\"-0.353\">disappointed</span><span style=\"opacity: 0.80\">. this </span><span style=\"background-color: hsl(0, 100.00%, 98.46%); opacity: 0.80\" title=\"-0.007\">movie</span><span style=\"opacity: 0.80\"> is so </span><span style=\"background-color: hsl(0, 100.00%, 71.27%); opacity: 0.92\" title=\"-0.481\">terrible</span><span style=\"opacity: 0.80\"> that i </span><span style=\"background-color: hsl(0, 100.00%, 91.07%); opacity: 0.82\" title=\"-0.091\">felt</span><span style=\"opacity: 0.80\"> </span><span style=\"background-color: hsl(0, 100.00%, 95.94%); opacity: 0.81\" title=\"-0.029\">obligated</span><span style=\"opacity: 0.80\"> to </span><span style=\"background-color: hsl(0, 100.00%, 96.58%); opacity: 0.81\" title=\"-0.023\">register</span><span style=\"opacity: 0.80\"> an </span><span style=\"background-color: hsl(120, 100.00%, 97.68%); opacity: 0.80\" title=\"0.013\">account</span><span style=\"opacity: 0.80\"> here at </span><span style=\"background-color: hsl(0, 100.00%, 95.12%); opacity: 0.81\" title=\"-0.038\">imdb</span><span style=\"opacity: 0.80\"> </span><span style=\"background-color: hsl(0, 100.00%, 89.77%); opacity: 0.83\" title=\"-0.110\">just</span><span style=\"opacity: 0.80\"> to </span><span style=\"background-color: hsl(0, 100.00%, 90.59%); opacity: 0.83\" title=\"-0.098\">warn</span><span style=\"opacity: 0.80\"> others not to </span><span style=\"background-color: hsl(0, 100.00%, 62.02%); opacity: 0.99\" title=\"-0.717\">waste</span><span style=\"opacity: 0.80\"> their </span><span style=\"background-color: hsl(120, 100.00%, 94.05%); opacity: 0.81\" title=\"0.051\">time</span><span style=\"opacity: 0.80\">. the </span><span style=\"background-color: hsl(0, 100.00%, 90.80%); opacity: 0.82\" title=\"-0.095\">storyline</span><span style=\"opacity: 0.80\"> is </span><span style=\"background-color: hsl(0, 100.00%, 71.27%); opacity: 0.92\" title=\"-0.481\">terrible</span><span style=\"opacity: 0.80\"> and you keep </span><span style=\"background-color: hsl(0, 100.00%, 90.96%); opacity: 0.82\" title=\"-0.092\">asking</span><span style=\"opacity: 0.80\"> yourself throughout the </span><span style=\"background-color: hsl(0, 100.00%, 98.46%); opacity: 0.80\" title=\"-0.007\">movie</span><span style=\"opacity: 0.80\"> \"can it get any </span><span style=\"background-color: hsl(0, 100.00%, 72.06%); opacity: 0.92\" title=\"-0.462\">worse</span><span style=\"opacity: 0.80\">?\" </span><span style=\"background-color: hsl(120, 100.00%, 90.82%); opacity: 0.82\" title=\"0.094\">yes</span><span style=\"opacity: 0.80\">, it can! somehow they </span><span style=\"background-color: hsl(0, 100.00%, 93.28%); opacity: 0.82\" title=\"-0.060\">manage</span><span style=\"opacity: 0.80\"> to </span><span style=\"background-color: hsl(0, 100.00%, 89.79%); opacity: 0.83\" title=\"-0.110\">make</span><span style=\"opacity: 0.80\"> it </span><span style=\"background-color: hsl(0, 100.00%, 60.00%); opacity: 1.00\" title=\"-0.772\">worst</span><span style=\"opacity: 0.80\"> by every </span><span style=\"background-color: hsl(0, 100.00%, 92.71%); opacity: 0.82\" title=\"-0.068\">minute</span><span style=\"opacity: 0.80\"> and you </span><span style=\"background-color: hsl(120, 100.00%, 97.89%); opacity: 0.80\" title=\"0.012\">end</span><span style=\"opacity: 0.80\"> up </span><span style=\"background-color: hsl(0, 100.00%, 94.07%); opacity: 0.81\" title=\"-0.050\">thinking</span><span style=\"opacity: 0.80\"> \"i </span><span style=\"background-color: hsl(0, 100.00%, 96.89%); opacity: 0.81\" title=\"-0.020\">want</span><span style=\"opacity: 0.80\"> my 1 </span><span style=\"background-color: hsl(0, 100.00%, 87.99%); opacity: 0.84\" title=\"-0.138\">hour</span><span style=\"opacity: 0.80\"> </span><span style=\"background-color: hsl(0, 100.00%, 96.22%); opacity: 0.81\" title=\"-0.027\">35</span><span style=\"opacity: 0.80\"> </span><span style=\"background-color: hsl(0, 100.00%, 79.11%); opacity: 0.88\" title=\"-0.305\">minutes</span><span style=\"opacity: 0.80\"> back!\". </span><span style=\"background-color: hsl(0, 100.00%, 90.43%); opacity: 0.83\" title=\"-0.100\">somebody</span><span style=\"opacity: 0.80\"> </span><span style=\"background-color: hsl(120, 100.00%, 95.80%); opacity: 0.81\" title=\"0.031\">got</span><span style=\"opacity: 0.80\"> to </span><span style=\"background-color: hsl(0, 100.00%, 95.26%); opacity: 0.81\" title=\"-0.037\">pay</span><span style=\"opacity: 0.80\"> for this!  i </span><span style=\"background-color: hsl(0, 100.00%, 96.80%); opacity: 0.81\" title=\"-0.021\">dare</span><span style=\"opacity: 0.80\"> you to find a </span><span style=\"background-color: hsl(0, 100.00%, 98.46%); opacity: 0.80\" title=\"-0.007\">movie</span><span style=\"opacity: 0.80\"> which is </span><span style=\"background-color: hsl(0, 100.00%, 60.00%); opacity: 1.00\" title=\"-0.772\">worst</span><span style=\"opacity: 0.80\"> that this...</span>\n",
       "</p>\n"
      ],
      "text/plain": [
       "<IPython.core.display.HTML object>"
      ]
     },
     "metadata": {},
     "output_type": "display_data"
    },
    {
     "data": {
      "text/html": [
       "<p style=background-color:black;color:white;font-weight:bold;padding:4px>Bad Movie #3 🍅</p>"
      ],
      "text/plain": [
       "<IPython.core.display.HTML object>"
      ]
     },
     "metadata": {},
     "output_type": "display_data"
    },
    {
     "data": {
      "text/html": [
       "\n",
       "<style>\n",
       "    table.eli5-weights tr:hover {\n",
       "        filter: brightness(85%);\n",
       "    }\n",
       "</style>\n",
       "\n",
       "\n",
       "<p style=\"margin-bottom: 2.5em; margin-top:-0.5em;\">\n",
       "<span style=\"opacity: 0.80\">no </span><span style=\"background-color: hsl(0, 100.00%, 73.67%); opacity: 0.91\" title=\"-0.441\">idea</span><span style=\"opacity: 0.80\"> how this is </span><span style=\"background-color: hsl(0, 100.00%, 96.93%); opacity: 0.81\" title=\"-0.021\">rated</span><span style=\"opacity: 0.80\"> as </span><span style=\"background-color: hsl(0, 100.00%, 95.14%); opacity: 0.81\" title=\"-0.039\">high</span><span style=\"opacity: 0.80\"> as it is (5.8 at the </span><span style=\"background-color: hsl(120, 100.00%, 91.69%); opacity: 0.82\" title=\"0.085\">time</span><span style=\"opacity: 0.80\"> of </span><span style=\"background-color: hsl(0, 100.00%, 83.71%); opacity: 0.86\" title=\"-0.222\">writing</span><span style=\"opacity: 0.80\">) but this </span><span style=\"background-color: hsl(0, 100.00%, 97.85%); opacity: 0.80\" title=\"-0.012\">movie</span><span style=\"opacity: 0.80\"> was </span><span style=\"background-color: hsl(0, 100.00%, 85.35%); opacity: 0.85\" title=\"-0.191\">absolutely</span><span style=\"opacity: 0.80\"> </span><span style=\"background-color: hsl(0, 100.00%, 60.00%); opacity: 1.00\" title=\"-0.801\">horrible</span><span style=\"opacity: 0.80\">. the </span><span style=\"background-color: hsl(0, 100.00%, 86.94%); opacity: 0.84\" title=\"-0.162\">acting</span><span style=\"opacity: 0.80\"> wasn't </span><span style=\"background-color: hsl(0, 100.00%, 83.50%); opacity: 0.86\" title=\"-0.226\">entirely</span><span style=\"opacity: 0.80\"> </span><span style=\"background-color: hsl(0, 100.00%, 65.90%); opacity: 0.96\" title=\"-0.638\">bad</span><span style=\"opacity: 0.80\"> but it </span><span style=\"background-color: hsl(0, 100.00%, 99.42%); opacity: 0.80\" title=\"-0.002\">really</span><span style=\"opacity: 0.80\"> had no </span><span style=\"background-color: hsl(0, 100.00%, 82.73%); opacity: 0.86\" title=\"-0.241\">point</span><span style=\"opacity: 0.80\"> </span><span style=\"background-color: hsl(0, 100.00%, 72.47%); opacity: 0.92\" title=\"-0.470\">whatsoever</span><span style=\"opacity: 0.80\"> and the </span><span style=\"background-color: hsl(120, 100.00%, 84.42%); opacity: 0.85\" title=\"0.208\">overall</span><span style=\"opacity: 0.80\"> </span><span style=\"background-color: hsl(0, 100.00%, 88.87%); opacity: 0.83\" title=\"-0.129\">quality</span><span style=\"opacity: 0.80\"> was </span><span style=\"background-color: hsl(0, 100.00%, 61.44%); opacity: 0.99\" title=\"-0.760\">poor</span><span style=\"opacity: 0.80\">. its </span><span style=\"background-color: hsl(0, 100.00%, 86.36%); opacity: 0.84\" title=\"-0.172\">obviously</span><span style=\"opacity: 0.80\"> a b </span><span style=\"background-color: hsl(0, 100.00%, 97.85%); opacity: 0.80\" title=\"-0.012\">movie</span><span style=\"opacity: 0.80\"> (or a c if such a </span><span style=\"background-color: hsl(0, 100.00%, 83.30%); opacity: 0.86\" title=\"-0.230\">thing</span><span style=\"opacity: 0.80\"> </span><span style=\"background-color: hsl(0, 100.00%, 98.57%); opacity: 0.80\" title=\"-0.007\">exists</span><span style=\"opacity: 0.80\">) and it </span><span style=\"background-color: hsl(0, 100.00%, 79.54%); opacity: 0.88\" title=\"-0.308\">looks</span><span style=\"opacity: 0.80\"> </span><span style=\"background-color: hsl(0, 100.00%, 95.32%); opacity: 0.81\" title=\"-0.037\">like</span><span style=\"opacity: 0.80\"> it was made over a </span><span style=\"background-color: hsl(0, 100.00%, 97.17%); opacity: 0.80\" title=\"-0.018\">weekend</span><span style=\"opacity: 0.80\"> at a </span><span style=\"background-color: hsl(120, 100.00%, 95.17%); opacity: 0.81\" title=\"0.039\">friends</span><span style=\"opacity: 0.80\"> </span><span style=\"background-color: hsl(120, 100.00%, 95.53%); opacity: 0.81\" title=\"0.035\">house</span><span style=\"opacity: 0.80\"> or something. </span><span style=\"background-color: hsl(0, 100.00%, 92.04%); opacity: 0.82\" title=\"-0.080\">im</span><span style=\"opacity: 0.80\"> all for </span><span style=\"background-color: hsl(0, 100.00%, 87.34%); opacity: 0.84\" title=\"-0.155\">low</span><span style=\"opacity: 0.80\"> </span><span style=\"background-color: hsl(0, 100.00%, 96.78%); opacity: 0.81\" title=\"-0.022\">budget</span><span style=\"opacity: 0.80\"> </span><span style=\"background-color: hsl(120, 100.00%, 94.30%); opacity: 0.81\" title=\"0.050\">movies</span><span style=\"opacity: 0.80\"> and i </span><span style=\"background-color: hsl(0, 100.00%, 92.87%); opacity: 0.82\" title=\"-0.068\">generally</span><span style=\"opacity: 0.80\"> </span><span style=\"background-color: hsl(120, 100.00%, 93.50%); opacity: 0.81\" title=\"0.060\">watch</span><span style=\"opacity: 0.80\"> any i </span><span style=\"background-color: hsl(120, 100.00%, 98.58%); opacity: 0.80\" title=\"0.007\">come</span><span style=\"opacity: 0.80\"> across but this one is </span><span style=\"background-color: hsl(0, 100.00%, 99.42%); opacity: 0.80\" title=\"-0.002\">really</span><span style=\"opacity: 0.80\"> </span><span style=\"background-color: hsl(0, 100.00%, 99.42%); opacity: 0.80\" title=\"-0.002\">really</span><span style=\"opacity: 0.80\"> </span><span style=\"background-color: hsl(0, 100.00%, 65.90%); opacity: 0.96\" title=\"-0.638\">bad</span><span style=\"opacity: 0.80\">. i </span><span style=\"background-color: hsl(0, 100.00%, 84.59%); opacity: 0.85\" title=\"-0.205\">mean</span><span style=\"opacity: 0.80\"> </span><span style=\"background-color: hsl(0, 100.00%, 95.32%); opacity: 0.81\" title=\"-0.037\">like</span><span style=\"opacity: 0.80\"> \"the fanglys\" </span><span style=\"background-color: hsl(0, 100.00%, 65.90%); opacity: 0.96\" title=\"-0.638\">bad</span><span style=\"opacity: 0.80\">. i </span><span style=\"background-color: hsl(0, 100.00%, 91.14%); opacity: 0.82\" title=\"-0.093\">don</span><span style=\"opacity: 0.80\">'t </span><span style=\"background-color: hsl(120, 100.00%, 89.62%); opacity: 0.83\" title=\"0.117\">know</span><span style=\"opacity: 0.80\"> what else to </span><span style=\"background-color: hsl(120, 100.00%, 95.19%); opacity: 0.81\" title=\"0.039\">say</span><span style=\"opacity: 0.80\"> but </span><span style=\"background-color: hsl(120, 100.00%, 85.06%); opacity: 0.85\" title=\"0.196\">trust</span><span style=\"opacity: 0.80\"> in this as i have indeed </span><span style=\"background-color: hsl(0, 100.00%, 87.53%); opacity: 0.84\" title=\"-0.152\">sat</span><span style=\"opacity: 0.80\"> thru this </span><span style=\"background-color: hsl(0, 100.00%, 60.00%); opacity: 1.00\" title=\"-0.801\">horrible</span><span style=\"opacity: 0.80\"> </span><span style=\"background-color: hsl(0, 100.00%, 60.00%); opacity: 1.00\" title=\"-0.801\">horrible</span><span style=\"opacity: 0.80\"> </span><span style=\"background-color: hsl(0, 100.00%, 97.85%); opacity: 0.80\" title=\"-0.012\">movie</span><span style=\"opacity: 0.80\"> and i can </span><span style=\"background-color: hsl(0, 100.00%, 63.68%); opacity: 0.97\" title=\"-0.698\">save</span><span style=\"opacity: 0.80\"> you the </span><span style=\"background-color: hsl(0, 100.00%, 74.59%); opacity: 0.90\" title=\"-0.419\">effort</span><span style=\"opacity: 0.80\">... </span><span style=\"background-color: hsl(0, 100.00%, 91.14%); opacity: 0.82\" title=\"-0.093\">don</span><span style=\"opacity: 0.80\">'t </span><span style=\"background-color: hsl(0, 100.00%, 75.06%); opacity: 0.90\" title=\"-0.408\">bother</span><span style=\"opacity: 0.80\">. </span><span style=\"background-color: hsl(0, 100.00%, 83.31%); opacity: 0.86\" title=\"-0.230\">seriously</span><span style=\"opacity: 0.80\">... </span><span style=\"background-color: hsl(0, 100.00%, 85.72%); opacity: 0.85\" title=\"-0.184\">just</span><span style=\"opacity: 0.80\"> </span><span style=\"background-color: hsl(0, 100.00%, 91.14%); opacity: 0.82\" title=\"-0.093\">don</span><span style=\"opacity: 0.80\">'t.</span>\n",
       "</p>\n"
      ],
      "text/plain": [
       "<IPython.core.display.HTML object>"
      ]
     },
     "metadata": {},
     "output_type": "display_data"
    },
    {
     "data": {
      "text/html": [
       "<p style=background-color:black;color:white;font-weight:bold;padding:4px>Bad Movie #4 🍅</p>"
      ],
      "text/plain": [
       "<IPython.core.display.HTML object>"
      ]
     },
     "metadata": {},
     "output_type": "display_data"
    },
    {
     "data": {
      "text/html": [
       "\n",
       "<style>\n",
       "    table.eli5-weights tr:hover {\n",
       "        filter: brightness(85%);\n",
       "    }\n",
       "</style>\n",
       "\n",
       "\n",
       "<p style=\"margin-bottom: 2.5em; margin-top:-0.5em;\">\n",
       "<span style=\"background-color: hsl(0, 100.00%, 69.74%); opacity: 0.93\" title=\"-0.598\">terrible</span><span style=\"opacity: 0.80\"> </span><span style=\"background-color: hsl(0, 100.00%, 98.38%); opacity: 0.80\" title=\"-0.009\">movie</span><span style=\"opacity: 0.80\">. </span><span style=\"background-color: hsl(0, 100.00%, 96.21%); opacity: 0.81\" title=\"-0.031\">nuff</span><span style=\"opacity: 0.80\"> </span><span style=\"background-color: hsl(0, 100.00%, 91.34%); opacity: 0.82\" title=\"-0.100\">said</span><span style=\"opacity: 0.80\">. these </span><span style=\"background-color: hsl(120, 100.00%, 96.18%); opacity: 0.81\" title=\"0.031\">lines</span><span style=\"opacity: 0.80\"> are </span><span style=\"background-color: hsl(0, 100.00%, 89.23%); opacity: 0.83\" title=\"-0.137\">just</span><span style=\"opacity: 0.80\"> </span><span style=\"background-color: hsl(0, 100.00%, 86.06%); opacity: 0.84\" title=\"-0.198\">filler</span><span style=\"opacity: 0.80\">. the </span><span style=\"background-color: hsl(0, 100.00%, 98.38%); opacity: 0.80\" title=\"-0.009\">movie</span><span style=\"opacity: 0.80\"> was </span><span style=\"background-color: hsl(0, 100.00%, 74.28%); opacity: 0.91\" title=\"-0.474\">bad</span><span style=\"opacity: 0.80\">. why i have to </span><span style=\"background-color: hsl(0, 100.00%, 94.67%); opacity: 0.81\" title=\"-0.050\">expand</span><span style=\"opacity: 0.80\"> on that i </span><span style=\"background-color: hsl(0, 100.00%, 93.32%); opacity: 0.82\" title=\"-0.069\">don</span><span style=\"opacity: 0.80\">'t </span><span style=\"background-color: hsl(120, 100.00%, 92.17%); opacity: 0.82\" title=\"0.087\">know</span><span style=\"opacity: 0.80\">. this is already a </span><span style=\"background-color: hsl(0, 100.00%, 60.00%); opacity: 1.00\" title=\"-0.891\">waste</span><span style=\"opacity: 0.80\"> of my </span><span style=\"background-color: hsl(120, 100.00%, 93.73%); opacity: 0.81\" title=\"0.063\">time</span><span style=\"opacity: 0.80\">. i </span><span style=\"background-color: hsl(0, 100.00%, 89.23%); opacity: 0.83\" title=\"-0.137\">just</span><span style=\"opacity: 0.80\"> </span><span style=\"background-color: hsl(0, 100.00%, 91.02%); opacity: 0.82\" title=\"-0.105\">wanted</span><span style=\"opacity: 0.80\"> to </span><span style=\"background-color: hsl(0, 100.00%, 90.09%); opacity: 0.83\" title=\"-0.121\">warn</span><span style=\"opacity: 0.80\"> others. </span><span style=\"background-color: hsl(0, 100.00%, 72.48%); opacity: 0.92\" title=\"-0.522\">avoid</span><span style=\"opacity: 0.80\"> this </span><span style=\"background-color: hsl(0, 100.00%, 98.38%); opacity: 0.80\" title=\"-0.009\">movie</span><span style=\"opacity: 0.80\">. the </span><span style=\"background-color: hsl(0, 100.00%, 90.15%); opacity: 0.83\" title=\"-0.120\">acting</span><span style=\"opacity: 0.80\"> </span><span style=\"background-color: hsl(0, 100.00%, 77.36%); opacity: 0.89\" title=\"-0.395\">sucks</span><span style=\"opacity: 0.80\"> and the </span><span style=\"background-color: hsl(0, 100.00%, 87.71%); opacity: 0.84\" title=\"-0.165\">writing</span><span style=\"opacity: 0.80\"> is </span><span style=\"background-color: hsl(0, 100.00%, 89.23%); opacity: 0.83\" title=\"-0.137\">just</span><span style=\"opacity: 0.80\"> </span><span style=\"background-color: hsl(0, 100.00%, 84.68%); opacity: 0.85\" title=\"-0.226\">moronic</span><span style=\"opacity: 0.80\">. </span><span style=\"background-color: hsl(0, 100.00%, 74.28%); opacity: 0.91\" title=\"-0.474\">bad</span><span style=\"opacity: 0.80\"> in every </span><span style=\"background-color: hsl(120, 100.00%, 97.47%); opacity: 0.80\" title=\"0.017\">way</span><span style=\"opacity: 0.80\">. the only </span><span style=\"background-color: hsl(120, 100.00%, 90.25%); opacity: 0.83\" title=\"0.118\">nice</span><span style=\"opacity: 0.80\"> </span><span style=\"background-color: hsl(0, 100.00%, 87.40%); opacity: 0.84\" title=\"-0.171\">thing</span><span style=\"opacity: 0.80\"> about the </span><span style=\"background-color: hsl(0, 100.00%, 98.38%); opacity: 0.80\" title=\"-0.009\">movie</span><span style=\"opacity: 0.80\"> are deniz akkaya's </span><span style=\"background-color: hsl(0, 100.00%, 93.06%); opacity: 0.82\" title=\"-0.073\">breasts</span><span style=\"opacity: 0.80\">. even that was </span><span style=\"background-color: hsl(0, 100.00%, 78.62%); opacity: 0.88\" title=\"-0.364\">ruined</span><span style=\"opacity: 0.80\"> though by a </span><span style=\"background-color: hsl(0, 100.00%, 69.74%); opacity: 0.93\" title=\"-0.598\">terrible</span><span style=\"opacity: 0.80\"> and </span><span style=\"background-color: hsl(0, 100.00%, 95.94%); opacity: 0.81\" title=\"-0.034\">unneeded</span><span style=\"opacity: 0.80\"> </span><span style=\"background-color: hsl(120, 100.00%, 98.31%); opacity: 0.80\" title=\"0.010\">rape</span><span style=\"opacity: 0.80\"> </span><span style=\"background-color: hsl(0, 100.00%, 94.99%); opacity: 0.81\" title=\"-0.046\">scene</span><span style=\"opacity: 0.80\">. the </span><span style=\"background-color: hsl(0, 100.00%, 98.38%); opacity: 0.80\" title=\"-0.009\">movie</span><span style=\"opacity: 0.80\"> is a </span><span style=\"background-color: hsl(0, 100.00%, 68.76%); opacity: 0.94\" title=\"-0.626\">poorly</span><span style=\"opacity: 0.80\"> </span><span style=\"background-color: hsl(0, 100.00%, 84.73%); opacity: 0.85\" title=\"-0.225\">contrived</span><span style=\"opacity: 0.80\"> and </span><span style=\"background-color: hsl(0, 100.00%, 93.52%); opacity: 0.81\" title=\"-0.066\">totally</span><span style=\"opacity: 0.80\"> </span><span style=\"background-color: hsl(0, 100.00%, 79.45%); opacity: 0.88\" title=\"-0.344\">unbelievable</span><span style=\"opacity: 0.80\"> </span><span style=\"background-color: hsl(0, 100.00%, 92.24%); opacity: 0.82\" title=\"-0.086\">piece</span><span style=\"opacity: 0.80\"> of </span><span style=\"background-color: hsl(0, 100.00%, 77.33%); opacity: 0.89\" title=\"-0.396\">garbage</span><span style=\"opacity: 0.80\">. </span><span style=\"background-color: hsl(0, 100.00%, 85.31%); opacity: 0.85\" title=\"-0.213\">ok</span><span style=\"opacity: 0.80\"> now i am </span><span style=\"background-color: hsl(0, 100.00%, 89.23%); opacity: 0.83\" title=\"-0.137\">just</span><span style=\"opacity: 0.80\"> </span><span style=\"background-color: hsl(120, 100.00%, 97.63%); opacity: 0.80\" title=\"0.016\">going</span><span style=\"opacity: 0.80\"> to </span><span style=\"background-color: hsl(120, 100.00%, 93.42%); opacity: 0.82\" title=\"0.068\">rag</span><span style=\"opacity: 0.80\"> on </span><span style=\"background-color: hsl(0, 100.00%, 94.86%); opacity: 0.81\" title=\"-0.048\">imdb</span><span style=\"opacity: 0.80\"> for this </span><span style=\"background-color: hsl(0, 100.00%, 77.17%); opacity: 0.89\" title=\"-0.400\">stupid</span><span style=\"opacity: 0.80\"> </span><span style=\"background-color: hsl(120, 100.00%, 94.32%); opacity: 0.81\" title=\"0.055\">rule</span><span style=\"opacity: 0.80\"> of </span><span style=\"background-color: hsl(120, 100.00%, 93.47%); opacity: 0.82\" title=\"0.067\">10</span><span style=\"opacity: 0.80\"> </span><span style=\"background-color: hsl(120, 100.00%, 96.18%); opacity: 0.81\" title=\"0.031\">lines</span><span style=\"opacity: 0.80\"> of </span><span style=\"background-color: hsl(0, 100.00%, 97.24%); opacity: 0.80\" title=\"-0.020\">text</span><span style=\"opacity: 0.80\"> </span><span style=\"background-color: hsl(0, 100.00%, 94.67%); opacity: 0.81\" title=\"-0.050\">minimum</span><span style=\"opacity: 0.80\">. first i </span><span style=\"background-color: hsl(0, 100.00%, 60.00%); opacity: 1.00\" title=\"-0.891\">waste</span><span style=\"opacity: 0.80\"> my </span><span style=\"background-color: hsl(120, 100.00%, 93.73%); opacity: 0.81\" title=\"0.063\">time</span><span style=\"opacity: 0.80\"> </span><span style=\"background-color: hsl(0, 100.00%, 92.09%); opacity: 0.82\" title=\"-0.088\">watching</span><span style=\"opacity: 0.80\"> this </span><span style=\"background-color: hsl(120, 100.00%, 95.26%); opacity: 0.81\" title=\"0.042\">offal</span><span style=\"opacity: 0.80\">. then </span><span style=\"background-color: hsl(0, 100.00%, 93.15%); opacity: 0.82\" title=\"-0.072\">feeling</span><span style=\"opacity: 0.80\"> </span><span style=\"background-color: hsl(0, 100.00%, 96.87%); opacity: 0.81\" title=\"-0.023\">compelled</span><span style=\"opacity: 0.80\"> to </span><span style=\"background-color: hsl(0, 100.00%, 90.09%); opacity: 0.83\" title=\"-0.121\">warn</span><span style=\"opacity: 0.80\"> others i </span><span style=\"background-color: hsl(0, 100.00%, 93.69%); opacity: 0.81\" title=\"-0.064\">create</span><span style=\"opacity: 0.80\"> an </span><span style=\"background-color: hsl(120, 100.00%, 97.56%); opacity: 0.80\" title=\"0.016\">account</span><span style=\"opacity: 0.80\"> with </span><span style=\"background-color: hsl(0, 100.00%, 94.86%); opacity: 0.81\" title=\"-0.048\">imdb</span><span style=\"opacity: 0.80\"> only to </span><span style=\"background-color: hsl(120, 100.00%, 97.44%); opacity: 0.80\" title=\"0.018\">discover</span><span style=\"opacity: 0.80\"> that i have to </span><span style=\"background-color: hsl(0, 100.00%, 84.39%); opacity: 0.85\" title=\"-0.232\">write</span><span style=\"opacity: 0.80\"> a </span><span style=\"background-color: hsl(0, 100.00%, 96.36%); opacity: 0.81\" title=\"-0.029\">friggen</span><span style=\"opacity: 0.80\"> </span><span style=\"background-color: hsl(0, 100.00%, 91.03%); opacity: 0.82\" title=\"-0.105\">essay</span><span style=\"opacity: 0.80\"> on the </span><span style=\"background-color: hsl(120, 100.00%, 96.63%); opacity: 0.81\" title=\"0.026\">film</span><span style=\"opacity: 0.80\"> </span><span style=\"background-color: hsl(0, 100.00%, 89.23%); opacity: 0.83\" title=\"-0.137\">just</span><span style=\"opacity: 0.80\"> to </span><span style=\"background-color: hsl(0, 100.00%, 89.79%); opacity: 0.83\" title=\"-0.127\">express</span><span style=\"opacity: 0.80\"> how </span><span style=\"background-color: hsl(0, 100.00%, 74.28%); opacity: 0.91\" title=\"-0.474\">bad</span><span style=\"opacity: 0.80\"> i </span><span style=\"background-color: hsl(120, 100.00%, 89.35%); opacity: 0.83\" title=\"0.135\">think</span><span style=\"opacity: 0.80\"> it is. </span><span style=\"background-color: hsl(0, 100.00%, 93.52%); opacity: 0.81\" title=\"-0.066\">totally</span><span style=\"opacity: 0.80\"> </span><span style=\"background-color: hsl(0, 100.00%, 84.17%); opacity: 0.85\" title=\"-0.237\">unnecessary</span><span style=\"opacity: 0.80\">.</span>\n",
       "</p>\n"
      ],
      "text/plain": [
       "<IPython.core.display.HTML object>"
      ]
     },
     "metadata": {},
     "output_type": "display_data"
    },
    {
     "data": {
      "text/html": [
       "<p style=background-color:black;color:white;font-weight:bold;padding:4px>Bad Movie #5 🍅</p>"
      ],
      "text/plain": [
       "<IPython.core.display.HTML object>"
      ]
     },
     "metadata": {},
     "output_type": "display_data"
    },
    {
     "data": {
      "text/html": [
       "\n",
       "<style>\n",
       "    table.eli5-weights tr:hover {\n",
       "        filter: brightness(85%);\n",
       "    }\n",
       "</style>\n",
       "\n",
       "\n",
       "<p style=\"margin-bottom: 2.5em; margin-top:-0.5em;\">\n",
       "<span style=\"opacity: 0.80\">if it were </span><span style=\"background-color: hsl(0, 100.00%, 93.39%); opacity: 0.82\" title=\"-0.086\">possible</span><span style=\"opacity: 0.80\">, i would have </span><span style=\"background-color: hsl(0, 100.00%, 87.37%); opacity: 0.84\" title=\"-0.218\">given</span><span style=\"opacity: 0.80\"> this </span><span style=\"background-color: hsl(0, 100.00%, 77.67%); opacity: 0.89\" title=\"-0.491\">sorry</span><span style=\"opacity: 0.80\"> </span><span style=\"background-color: hsl(0, 100.00%, 83.54%); opacity: 0.86\" title=\"-0.318\">excuse</span><span style=\"opacity: 0.80\"> for a </span><span style=\"background-color: hsl(0, 100.00%, 98.46%); opacity: 0.80\" title=\"-0.011\">movie</span><span style=\"opacity: 0.80\"> a </span><span style=\"background-color: hsl(0, 100.00%, 84.34%); opacity: 0.85\" title=\"-0.296\">zero</span><span style=\"opacity: 0.80\"> </span><span style=\"background-color: hsl(0, 100.00%, 94.53%); opacity: 0.81\" title=\"-0.066\">star</span><span style=\"opacity: 0.80\">. it was by </span><span style=\"background-color: hsl(0, 100.00%, 86.36%); opacity: 0.84\" title=\"-0.243\">far</span><span style=\"opacity: 0.80\"> the </span><span style=\"background-color: hsl(0, 100.00%, 72.06%); opacity: 0.92\" title=\"-0.677\">worse</span><span style=\"opacity: 0.80\"> i have ever </span><span style=\"background-color: hsl(120, 100.00%, 89.77%); opacity: 0.83\" title=\"0.161\">seen</span><span style=\"opacity: 0.80\">. it was as if it were a </span><span style=\"background-color: hsl(120, 100.00%, 92.47%); opacity: 0.82\" title=\"0.104\">home</span><span style=\"opacity: 0.80\"> </span><span style=\"background-color: hsl(0, 100.00%, 98.46%); opacity: 0.80\" title=\"-0.011\">movie</span><span style=\"opacity: 0.80\"> that some </span><span style=\"background-color: hsl(0, 100.00%, 76.26%); opacity: 0.89\" title=\"-0.536\">bored</span><span style=\"opacity: 0.80\"> highschoolers </span><span style=\"background-color: hsl(0, 100.00%, 89.24%); opacity: 0.83\" title=\"-0.173\">decided</span><span style=\"opacity: 0.80\"> to </span><span style=\"background-color: hsl(0, 100.00%, 89.79%); opacity: 0.83\" title=\"-0.161\">make</span><span style=\"opacity: 0.80\"> as a </span><span style=\"background-color: hsl(0, 100.00%, 79.63%); opacity: 0.88\" title=\"-0.431\">joke</span><span style=\"opacity: 0.80\">. the \"</span><span style=\"background-color: hsl(0, 100.00%, 90.65%); opacity: 0.83\" title=\"-0.142\">acting</span><span style=\"opacity: 0.80\">\" was </span><span style=\"background-color: hsl(120, 100.00%, 96.26%); opacity: 0.81\" title=\"0.038\">horrific</span><span style=\"opacity: 0.80\">. the \"</span><span style=\"background-color: hsl(0, 100.00%, 92.12%); opacity: 0.82\" title=\"-0.111\">actors</span><span style=\"opacity: 0.80\">\" didn't even </span><span style=\"background-color: hsl(120, 100.00%, 95.24%); opacity: 0.81\" title=\"0.054\">react</span><span style=\"opacity: 0.80\"> to the </span><span style=\"background-color: hsl(0, 100.00%, 95.94%); opacity: 0.81\" title=\"-0.043\">fact</span><span style=\"opacity: 0.80\"> that they were being </span><span style=\"background-color: hsl(0, 100.00%, 87.26%); opacity: 0.84\" title=\"-0.220\">murdered</span><span style=\"opacity: 0.80\">. </span><span style=\"background-color: hsl(0, 100.00%, 82.76%); opacity: 0.86\" title=\"-0.339\">honestly</span><span style=\"opacity: 0.80\">, i </span><span style=\"background-color: hsl(0, 100.00%, 91.08%); opacity: 0.82\" title=\"-0.132\">bought</span><span style=\"opacity: 0.80\"> this </span><span style=\"background-color: hsl(0, 100.00%, 98.46%); opacity: 0.80\" title=\"-0.011\">movie</span><span style=\"opacity: 0.80\"> by </span><span style=\"background-color: hsl(0, 100.00%, 88.46%); opacity: 0.83\" title=\"-0.191\">mistake</span><span style=\"opacity: 0.80\">. the </span><span style=\"background-color: hsl(120, 100.00%, 94.78%); opacity: 0.81\" title=\"0.062\">spanish</span><span style=\"opacity: 0.80\"> </span><span style=\"background-color: hsl(0, 100.00%, 92.78%); opacity: 0.82\" title=\"-0.098\">title</span><span style=\"opacity: 0.80\"> </span><span style=\"background-color: hsl(0, 100.00%, 91.78%); opacity: 0.82\" title=\"-0.118\">said</span><span style=\"opacity: 0.80\"> </span><span style=\"background-color: hsl(120, 100.00%, 98.57%); opacity: 0.80\" title=\"0.010\">jeepers</span><span style=\"opacity: 0.80\"> </span><span style=\"background-color: hsl(120, 100.00%, 94.23%); opacity: 0.81\" title=\"0.071\">creepers</span><span style=\"opacity: 0.80\"> 3, so i </span><span style=\"background-color: hsl(120, 100.00%, 92.20%); opacity: 0.82\" title=\"0.109\">thought</span><span style=\"opacity: 0.80\"> </span><span style=\"background-color: hsl(0, 100.00%, 92.65%); opacity: 0.82\" title=\"-0.100\">hmm</span><span style=\"opacity: 0.80\"> </span><span style=\"background-color: hsl(0, 100.00%, 88.81%); opacity: 0.83\" title=\"-0.183\">maybe</span><span style=\"opacity: 0.80\"> it'</span><span style=\"background-color: hsl(0, 100.00%, 88.78%); opacity: 0.83\" title=\"-0.184\">ll</span><span style=\"opacity: 0.80\"> be </span><span style=\"background-color: hsl(0, 100.00%, 86.05%); opacity: 0.84\" title=\"-0.251\">ok</span><span style=\"opacity: 0.80\">. </span><span style=\"background-color: hsl(0, 100.00%, 87.09%); opacity: 0.84\" title=\"-0.225\">wrong</span><span style=\"opacity: 0.80\">. it was </span><span style=\"background-color: hsl(0, 100.00%, 82.76%); opacity: 0.86\" title=\"-0.339\">honestly</span><span style=\"opacity: 0.80\"> the </span><span style=\"background-color: hsl(0, 100.00%, 60.00%); opacity: 1.00\" title=\"-1.130\">worst</span><span style=\"opacity: 0.80\"> ever. i didn't get </span><span style=\"background-color: hsl(120, 100.00%, 93.43%); opacity: 0.82\" title=\"0.086\">past</span><span style=\"opacity: 0.80\"> </span><span style=\"background-color: hsl(0, 100.00%, 95.28%); opacity: 0.81\" title=\"-0.053\">20</span><span style=\"opacity: 0.80\"> </span><span style=\"background-color: hsl(0, 100.00%, 79.11%); opacity: 0.88\" title=\"-0.447\">minutes</span><span style=\"opacity: 0.80\"> of the </span><span style=\"background-color: hsl(0, 100.00%, 78.33%); opacity: 0.88\" title=\"-0.471\">stupid</span><span style=\"opacity: 0.80\"> </span><span style=\"background-color: hsl(0, 100.00%, 98.46%); opacity: 0.80\" title=\"-0.011\">movie</span><span style=\"opacity: 0.80\">. i </span><span style=\"background-color: hsl(0, 100.00%, 97.42%); opacity: 0.80\" title=\"-0.023\">skipped</span><span style=\"opacity: 0.80\"> through </span><span style=\"background-color: hsl(120, 100.00%, 89.76%); opacity: 0.83\" title=\"0.161\">chapters</span><span style=\"opacity: 0.80\"> and nothing </span><span style=\"background-color: hsl(0, 100.00%, 86.49%); opacity: 0.84\" title=\"-0.240\">interesting</span><span style=\"opacity: 0.80\"> ever seemed to </span><span style=\"background-color: hsl(120, 100.00%, 97.17%); opacity: 0.80\" title=\"0.026\">happen</span><span style=\"opacity: 0.80\">. the </span><span style=\"background-color: hsl(0, 100.00%, 96.27%); opacity: 0.81\" title=\"-0.038\">cameramen</span><span style=\"opacity: 0.80\"> were also </span><span style=\"background-color: hsl(0, 100.00%, 71.27%); opacity: 0.92\" title=\"-0.704\">terrible</span><span style=\"opacity: 0.80\">. it was </span><span style=\"background-color: hsl(0, 100.00%, 96.65%); opacity: 0.81\" title=\"-0.033\">like</span><span style=\"opacity: 0.80\"> a </span><span style=\"background-color: hsl(120, 100.00%, 92.47%); opacity: 0.82\" title=\"0.104\">home</span><span style=\"opacity: 0.80\"> </span><span style=\"background-color: hsl(0, 100.00%, 98.46%); opacity: 0.80\" title=\"-0.011\">movie</span><span style=\"opacity: 0.80\">. i would never </span><span style=\"background-color: hsl(120, 100.00%, 89.08%); opacity: 0.83\" title=\"0.177\">recommend</span><span style=\"opacity: 0.80\"> anyone to </span><span style=\"background-color: hsl(120, 100.00%, 95.35%); opacity: 0.81\" title=\"0.052\">watch</span><span style=\"opacity: 0.80\"> this. </span><span style=\"background-color: hsl(0, 100.00%, 71.27%); opacity: 0.92\" title=\"-0.704\">terrible</span><span style=\"opacity: 0.80\"> </span><span style=\"background-color: hsl(0, 100.00%, 71.27%); opacity: 0.92\" title=\"-0.704\">terrible</span><span style=\"opacity: 0.80\"> </span><span style=\"background-color: hsl(0, 100.00%, 85.45%); opacity: 0.85\" title=\"-0.266\">moronic</span><span style=\"opacity: 0.80\"> </span><span style=\"background-color: hsl(0, 100.00%, 98.46%); opacity: 0.80\" title=\"-0.011\">movie</span><span style=\"opacity: 0.80\">.</span>\n",
       "</p>\n"
      ],
      "text/plain": [
       "<IPython.core.display.HTML object>"
      ]
     },
     "metadata": {},
     "output_type": "display_data"
    }
   ],
   "source": [
    "for i, review in enumerate(worst5):\n",
    "    style = 'background-color:black;color:white;font-weight:bold;padding:4px'\n",
    "    display(HTML(f\"<p style={style}>Bad Movie #{i+1} 🍅</p>\"))\n",
    "    eli5_html(clf, vec, review)"
   ]
  },
  {
   "cell_type": "markdown",
   "id": "a9b746bf",
   "metadata": {},
   "source": [
    "### What are the **5 best** movie review in the test set according to your model? 🏆"
   ]
  },
  {
   "cell_type": "code",
   "execution_count": 97,
   "id": "5931802f",
   "metadata": {},
   "outputs": [],
   "source": [
    "# please fill this code block!\n",
    "# Find indices of 5 best reviews\n",
    "best_idx = np.argsort(y_pred_proba)[-5:]\n",
    "best5 = x_test_raw[best_idx]"
   ]
  },
  {
   "cell_type": "code",
   "execution_count": 98,
   "id": "1250cc2a",
   "metadata": {},
   "outputs": [
    {
     "data": {
      "text/html": [
       "<p style=background-color:black;color:white;font-weight:bold;padding:4px>Good Movie #1 🏆</p>"
      ],
      "text/plain": [
       "<IPython.core.display.HTML object>"
      ]
     },
     "metadata": {},
     "output_type": "display_data"
    },
    {
     "data": {
      "text/html": [
       "\n",
       "<style>\n",
       "    table.eli5-weights tr:hover {\n",
       "        filter: brightness(85%);\n",
       "    }\n",
       "</style>\n",
       "\n",
       "\n",
       "<p style=\"margin-bottom: 2.5em; margin-top:-0.5em;\">\n",
       "<span style=\"opacity: 0.80\">i </span><span style=\"background-color: hsl(120, 100.00%, 92.10%); opacity: 0.82\" title=\"0.094\">play</span><span style=\"opacity: 0.80\"> </span><span style=\"background-color: hsl(120, 100.00%, 92.34%); opacity: 0.82\" title=\"0.090\">final</span><span style=\"opacity: 0.80\"> </span><span style=\"background-color: hsl(0, 100.00%, 95.29%); opacity: 0.81\" title=\"-0.045\">fantasy</span><span style=\"opacity: 0.80\"> 7, and this </span><span style=\"background-color: hsl(0, 100.00%, 98.11%); opacity: 0.80\" title=\"-0.012\">movie</span><span style=\"opacity: 0.80\"> is </span><span style=\"background-color: hsl(120, 100.00%, 60.00%); opacity: 1.00\" title=\"0.954\">excellent</span><span style=\"opacity: 0.80\"> </span><span style=\"background-color: hsl(0, 100.00%, 95.89%); opacity: 0.81\" title=\"-0.037\">like</span><span style=\"opacity: 0.80\"> the </span><span style=\"background-color: hsl(120, 100.00%, 88.80%); opacity: 0.83\" title=\"0.155\">game</span><span style=\"opacity: 0.80\">, all </span><span style=\"background-color: hsl(0, 100.00%, 96.65%); opacity: 0.81\" title=\"-0.028\">fans</span><span style=\"opacity: 0.80\"> of </span><span style=\"background-color: hsl(120, 100.00%, 92.34%); opacity: 0.82\" title=\"0.090\">final</span><span style=\"opacity: 0.80\"> </span><span style=\"background-color: hsl(0, 100.00%, 95.29%); opacity: 0.81\" title=\"-0.045\">fantasy</span><span style=\"opacity: 0.80\"> will </span><span style=\"background-color: hsl(120, 100.00%, 80.63%); opacity: 0.87\" title=\"0.339\">love</span><span style=\"opacity: 0.80\"> this </span><span style=\"background-color: hsl(0, 100.00%, 98.11%); opacity: 0.80\" title=\"-0.012\">movie</span><span style=\"opacity: 0.80\">.  the </span><span style=\"background-color: hsl(120, 100.00%, 90.13%); opacity: 0.83\" title=\"0.129\">music</span><span style=\"opacity: 0.80\"> are </span><span style=\"background-color: hsl(120, 100.00%, 72.23%); opacity: 0.92\" title=\"0.567\">fantastic</span><span style=\"opacity: 0.80\"> and the </span><span style=\"background-color: hsl(120, 100.00%, 88.14%); opacity: 0.84\" title=\"0.168\">history</span><span style=\"opacity: 0.80\"> is </span><span style=\"background-color: hsl(120, 100.00%, 88.17%); opacity: 0.84\" title=\"0.167\">good</span><span style=\"opacity: 0.80\">, but, the </span><span style=\"background-color: hsl(120, 100.00%, 73.74%); opacity: 0.91\" title=\"0.523\">best</span><span style=\"opacity: 0.80\"> of this </span><span style=\"background-color: hsl(0, 100.00%, 98.11%); opacity: 0.80\" title=\"-0.012\">movie</span><span style=\"opacity: 0.80\"> is the </span><span style=\"background-color: hsl(120, 100.00%, 98.20%); opacity: 0.80\" title=\"0.011\">visual</span><span style=\"opacity: 0.80\"> </span><span style=\"background-color: hsl(0, 100.00%, 95.94%); opacity: 0.81\" title=\"-0.036\">effects</span><span style=\"opacity: 0.80\">, are </span><span style=\"background-color: hsl(120, 100.00%, 62.87%); opacity: 0.98\" title=\"0.858\">amazing</span><span style=\"opacity: 0.80\">. the </span><span style=\"background-color: hsl(0, 100.00%, 90.30%); opacity: 0.83\" title=\"-0.126\">characters</span><span style=\"opacity: 0.80\"> are </span><span style=\"background-color: hsl(120, 100.00%, 93.67%); opacity: 0.81\" title=\"0.068\">equal</span><span style=\"opacity: 0.80\"> to the </span><span style=\"background-color: hsl(120, 100.00%, 88.80%); opacity: 0.83\" title=\"0.155\">game</span><span style=\"opacity: 0.80\"> and that detail are </span><span style=\"background-color: hsl(120, 100.00%, 88.17%); opacity: 0.84\" title=\"0.167\">good</span><span style=\"opacity: 0.80\"> for the </span><span style=\"background-color: hsl(0, 100.00%, 96.65%); opacity: 0.81\" title=\"-0.028\">fans</span><span style=\"opacity: 0.80\">.  you </span><span style=\"background-color: hsl(0, 100.00%, 92.21%); opacity: 0.82\" title=\"-0.092\">don</span><span style=\"opacity: 0.80\">'t </span><span style=\"background-color: hsl(120, 100.00%, 97.32%); opacity: 0.80\" title=\"0.020\">need</span><span style=\"opacity: 0.80\"> </span><span style=\"background-color: hsl(120, 100.00%, 92.10%); opacity: 0.82\" title=\"0.094\">play</span><span style=\"opacity: 0.80\"> the </span><span style=\"background-color: hsl(120, 100.00%, 88.80%); opacity: 0.83\" title=\"0.155\">game</span><span style=\"opacity: 0.80\"> to </span><span style=\"background-color: hsl(0, 100.00%, 95.89%); opacity: 0.81\" title=\"-0.037\">like</span><span style=\"opacity: 0.80\"> this </span><span style=\"background-color: hsl(0, 100.00%, 98.11%); opacity: 0.80\" title=\"-0.012\">movie</span><span style=\"opacity: 0.80\">, all the </span><span style=\"background-color: hsl(120, 100.00%, 96.22%); opacity: 0.81\" title=\"0.033\">people</span><span style=\"opacity: 0.80\"> can </span><span style=\"background-color: hsl(120, 100.00%, 79.24%); opacity: 0.88\" title=\"0.374\">enjoy</span><span style=\"opacity: 0.80\"> the </span><span style=\"background-color: hsl(120, 100.00%, 96.07%); opacity: 0.81\" title=\"0.035\">film</span><span style=\"opacity: 0.80\">, because the </span><span style=\"background-color: hsl(120, 100.00%, 88.14%); opacity: 0.84\" title=\"0.168\">history</span><span style=\"opacity: 0.80\"> is some </span><span style=\"background-color: hsl(120, 100.00%, 78.08%); opacity: 0.88\" title=\"0.404\">different</span><span style=\"opacity: 0.80\"> and is </span><span style=\"background-color: hsl(120, 100.00%, 81.85%); opacity: 0.86\" title=\"0.309\">easy</span><span style=\"opacity: 0.80\"> to </span><span style=\"background-color: hsl(120, 100.00%, 94.76%); opacity: 0.81\" title=\"0.052\">understand</span><span style=\"opacity: 0.80\">. i </span><span style=\"background-color: hsl(120, 100.00%, 83.15%); opacity: 0.86\" title=\"0.278\">buy</span><span style=\"opacity: 0.80\"> the </span><span style=\"background-color: hsl(120, 100.00%, 80.43%); opacity: 0.87\" title=\"0.344\">dvd</span><span style=\"opacity: 0.80\"> because is </span><span style=\"background-color: hsl(120, 100.00%, 60.00%); opacity: 1.00\" title=\"0.954\">excellent</span><span style=\"opacity: 0.80\">, is </span><span style=\"background-color: hsl(120, 100.00%, 90.64%); opacity: 0.83\" title=\"0.120\">100</span><span style=\"opacity: 0.80\">% advisable, if you </span><span style=\"background-color: hsl(0, 100.00%, 92.21%); opacity: 0.82\" title=\"-0.092\">don</span><span style=\"opacity: 0.80\">'t see this </span><span style=\"background-color: hsl(120, 100.00%, 96.07%); opacity: 0.81\" title=\"0.035\">film</span><span style=\"opacity: 0.80\">, what you </span><span style=\"background-color: hsl(0, 100.00%, 92.06%); opacity: 0.82\" title=\"-0.095\">waiting</span><span style=\"opacity: 0.80\"> for? </span><span style=\"background-color: hsl(0, 100.00%, 89.41%); opacity: 0.83\" title=\"-0.143\">believe</span><span style=\"opacity: 0.80\"> me,you will </span><span style=\"background-color: hsl(120, 100.00%, 95.86%); opacity: 0.81\" title=\"0.037\">fascinate</span><span style=\"opacity: 0.80\"> </span><span style=\"background-color: hsl(0, 100.00%, 95.89%); opacity: 0.81\" title=\"-0.037\">like</span><span style=\"opacity: 0.80\"> me</span>\n",
       "</p>\n"
      ],
      "text/plain": [
       "<IPython.core.display.HTML object>"
      ]
     },
     "metadata": {},
     "output_type": "display_data"
    },
    {
     "data": {
      "text/html": [
       "<p style=background-color:black;color:white;font-weight:bold;padding:4px>Good Movie #2 🏆</p>"
      ],
      "text/plain": [
       "<IPython.core.display.HTML object>"
      ]
     },
     "metadata": {},
     "output_type": "display_data"
    },
    {
     "data": {
      "text/html": [
       "\n",
       "<style>\n",
       "    table.eli5-weights tr:hover {\n",
       "        filter: brightness(85%);\n",
       "    }\n",
       "</style>\n",
       "\n",
       "\n",
       "<p style=\"margin-bottom: 2.5em; margin-top:-0.5em;\">\n",
       "<span style=\"opacity: 0.80\">this is one of my all </span><span style=\"background-color: hsl(120, 100.00%, 91.61%); opacity: 0.82\" title=\"0.131\">time</span><span style=\"opacity: 0.80\"> </span><span style=\"background-color: hsl(120, 100.00%, 61.48%); opacity: 0.99\" title=\"1.155\">favorite</span><span style=\"opacity: 0.80\"> </span><span style=\"background-color: hsl(120, 100.00%, 94.25%); opacity: 0.81\" title=\"0.076\">movies</span><span style=\"opacity: 0.80\">, it's </span><span style=\"background-color: hsl(120, 100.00%, 67.30%); opacity: 0.95\" title=\"0.914\">great</span><span style=\"opacity: 0.80\"> to </span><span style=\"background-color: hsl(120, 100.00%, 93.44%); opacity: 0.82\" title=\"0.092\">watch</span><span style=\"opacity: 0.80\"> in </span><span style=\"background-color: hsl(120, 100.00%, 90.49%); opacity: 0.83\" title=\"0.156\">groups</span><span style=\"opacity: 0.80\">, i find. it's also </span><span style=\"background-color: hsl(120, 100.00%, 67.30%); opacity: 0.95\" title=\"0.914\">great</span><span style=\"opacity: 0.80\"> for any </span><span style=\"background-color: hsl(0, 100.00%, 94.62%); opacity: 0.81\" title=\"-0.069\">alan</span><span style=\"opacity: 0.80\"> </span><span style=\"background-color: hsl(120, 100.00%, 82.04%); opacity: 0.86\" title=\"0.388\">rickman</span><span style=\"opacity: 0.80\"> </span><span style=\"background-color: hsl(120, 100.00%, 94.98%); opacity: 0.81\" title=\"0.063\">fan</span><span style=\"opacity: 0.80\">, he </span><span style=\"background-color: hsl(0, 100.00%, 90.80%); opacity: 0.82\" title=\"-0.149\">does</span><span style=\"opacity: 0.80\"> such a </span><span style=\"background-color: hsl(120, 100.00%, 60.00%); opacity: 1.00\" title=\"1.218\">wonderful</span><span style=\"opacity: 0.80\"> </span><span style=\"background-color: hsl(120, 100.00%, 76.14%); opacity: 0.90\" title=\"0.582\">job</span><span style=\"opacity: 0.80\">. it's </span><span style=\"background-color: hsl(120, 100.00%, 83.62%); opacity: 0.86\" title=\"0.340\">engrossing</span><span style=\"opacity: 0.80\">, </span><span style=\"background-color: hsl(120, 100.00%, 70.11%); opacity: 0.93\" title=\"0.804\">entertaining</span><span style=\"opacity: 0.80\">, very </span><span style=\"background-color: hsl(120, 100.00%, 80.70%); opacity: 0.87\" title=\"0.430\">surprising</span><span style=\"opacity: 0.80\">... you have to </span><span style=\"background-color: hsl(120, 100.00%, 93.44%); opacity: 0.82\" title=\"0.092\">watch</span><span style=\"opacity: 0.80\"> it </span><span style=\"background-color: hsl(120, 100.00%, 88.52%); opacity: 0.83\" title=\"0.205\">twice</span><span style=\"opacity: 0.80\">, at least. i </span><span style=\"background-color: hsl(0, 100.00%, 97.78%); opacity: 0.80\" title=\"-0.020\">haven</span><span style=\"opacity: 0.80\">'t </span><span style=\"background-color: hsl(0, 100.00%, 91.59%); opacity: 0.82\" title=\"-0.131\">watched</span><span style=\"opacity: 0.80\"> it with anyone who didn't </span><span style=\"background-color: hsl(0, 100.00%, 95.27%); opacity: 0.81\" title=\"-0.058\">like</span><span style=\"opacity: 0.80\"> it or at least find it </span><span style=\"background-color: hsl(120, 100.00%, 97.66%); opacity: 0.80\" title=\"0.021\">worthwhile</span><span style=\"opacity: 0.80\">.</span>\n",
       "</p>\n"
      ],
      "text/plain": [
       "<IPython.core.display.HTML object>"
      ]
     },
     "metadata": {},
     "output_type": "display_data"
    },
    {
     "data": {
      "text/html": [
       "<p style=background-color:black;color:white;font-weight:bold;padding:4px>Good Movie #3 🏆</p>"
      ],
      "text/plain": [
       "<IPython.core.display.HTML object>"
      ]
     },
     "metadata": {},
     "output_type": "display_data"
    },
    {
     "data": {
      "text/html": [
       "\n",
       "<style>\n",
       "    table.eli5-weights tr:hover {\n",
       "        filter: brightness(85%);\n",
       "    }\n",
       "</style>\n",
       "\n",
       "\n",
       "<p style=\"margin-bottom: 2.5em; margin-top:-0.5em;\">\n",
       "<span style=\"opacity: 0.80\">what a </span><span style=\"background-color: hsl(120, 100.00%, 69.50%); opacity: 0.94\" title=\"0.364\">stunning</span><span style=\"opacity: 0.80\"> </span><span style=\"background-color: hsl(120, 100.00%, 80.13%); opacity: 0.87\" title=\"0.197\">episode</span><span style=\"opacity: 0.80\"> for this </span><span style=\"background-color: hsl(120, 100.00%, 82.72%); opacity: 0.86\" title=\"0.162\">fine</span><span style=\"opacity: 0.80\"> </span><span style=\"background-color: hsl(120, 100.00%, 83.32%); opacity: 0.86\" title=\"0.154\">series</span><span style=\"opacity: 0.80\">. this is </span><span style=\"background-color: hsl(120, 100.00%, 97.96%); opacity: 0.80\" title=\"0.008\">television</span><span style=\"opacity: 0.80\"> </span><span style=\"background-color: hsl(120, 100.00%, 84.69%); opacity: 0.85\" title=\"0.136\">excellence</span><span style=\"opacity: 0.80\"> at its </span><span style=\"background-color: hsl(120, 100.00%, 65.91%); opacity: 0.96\" title=\"0.426\">best</span><span style=\"opacity: 0.80\">. the </span><span style=\"background-color: hsl(120, 100.00%, 92.85%); opacity: 0.82\" title=\"0.046\">story</span><span style=\"opacity: 0.80\"> </span><span style=\"background-color: hsl(120, 100.00%, 86.75%); opacity: 0.84\" title=\"0.111\">takes</span><span style=\"opacity: 0.80\"> </span><span style=\"background-color: hsl(120, 100.00%, 97.46%); opacity: 0.80\" title=\"0.010\">place</span><span style=\"opacity: 0.80\"> in </span><span style=\"background-color: hsl(120, 100.00%, 90.48%); opacity: 0.83\" title=\"0.069\">1968</span><span style=\"opacity: 0.80\"> and it's </span><span style=\"background-color: hsl(120, 100.00%, 63.27%); opacity: 0.98\" title=\"0.474\">beautifully</span><span style=\"opacity: 0.80\"> </span><span style=\"background-color: hsl(0, 100.00%, 87.62%); opacity: 0.84\" title=\"-0.100\">filmed</span><span style=\"opacity: 0.80\"> in </span><span style=\"background-color: hsl(0, 100.00%, 90.64%); opacity: 0.83\" title=\"-0.067\">black</span><span style=\"opacity: 0.80\"> &amp; </span><span style=\"background-color: hsl(0, 100.00%, 96.33%); opacity: 0.81\" title=\"-0.018\">white</span><span style=\"opacity: 0.80\">, almost a </span><span style=\"background-color: hsl(120, 100.00%, 94.90%); opacity: 0.81\" title=\"0.028\">film</span><span style=\"opacity: 0.80\"> </span><span style=\"background-color: hsl(120, 100.00%, 74.50%); opacity: 0.91\" title=\"0.282\">noir</span><span style=\"opacity: 0.80\"> </span><span style=\"background-color: hsl(120, 100.00%, 95.98%); opacity: 0.81\" title=\"0.020\">style</span><span style=\"opacity: 0.80\"> with its </span><span style=\"background-color: hsl(120, 100.00%, 90.58%); opacity: 0.83\" title=\"0.068\">deep</span><span style=\"opacity: 0.80\"> </span><span style=\"background-color: hsl(0, 100.00%, 86.06%); opacity: 0.84\" title=\"-0.119\">shadows</span><span style=\"opacity: 0.80\"> and </span><span style=\"background-color: hsl(120, 100.00%, 84.87%); opacity: 0.85\" title=\"0.134\">stark</span><span style=\"opacity: 0.80\"> </span><span style=\"background-color: hsl(120, 100.00%, 77.75%); opacity: 0.89\" title=\"0.232\">images</span><span style=\"opacity: 0.80\">. this is a </span><span style=\"background-color: hsl(120, 100.00%, 92.85%); opacity: 0.82\" title=\"0.046\">story</span><span style=\"opacity: 0.80\"> about two </span><span style=\"background-color: hsl(120, 100.00%, 92.85%); opacity: 0.82\" title=\"0.046\">men</span><span style=\"opacity: 0.80\"> who </span><span style=\"background-color: hsl(0, 100.00%, 94.36%); opacity: 0.81\" title=\"-0.033\">fall</span><span style=\"opacity: 0.80\"> in </span><span style=\"background-color: hsl(120, 100.00%, 74.86%); opacity: 0.90\" title=\"0.276\">love</span><span style=\"opacity: 0.80\">, but i </span><span style=\"background-color: hsl(0, 100.00%, 89.89%); opacity: 0.83\" title=\"-0.075\">don</span><span style=\"opacity: 0.80\">'t </span><span style=\"background-color: hsl(0, 100.00%, 95.05%); opacity: 0.81\" title=\"-0.027\">want</span><span style=\"opacity: 0.80\"> to </span><span style=\"background-color: hsl(120, 100.00%, 87.24%); opacity: 0.84\" title=\"0.105\">spoil</span><span style=\"opacity: 0.80\"> this. it is a </span><span style=\"background-color: hsl(120, 100.00%, 67.87%); opacity: 0.95\" title=\"0.392\">rare</span><span style=\"opacity: 0.80\"> </span><span style=\"background-color: hsl(0, 100.00%, 96.11%); opacity: 0.81\" title=\"-0.019\">presentation</span><span style=\"opacity: 0.80\"> of what </span><span style=\"background-color: hsl(0, 100.00%, 91.30%); opacity: 0.82\" title=\"-0.061\">homosexuals</span><span style=\"opacity: 0.80\"> </span><span style=\"background-color: hsl(120, 100.00%, 87.06%); opacity: 0.84\" title=\"0.107\">faced</span><span style=\"opacity: 0.80\"> in the </span><span style=\"background-color: hsl(0, 100.00%, 81.65%); opacity: 0.87\" title=\"-0.176\">1960s</span><span style=\"opacity: 0.80\"> in </span><span style=\"background-color: hsl(0, 100.00%, 92.02%); opacity: 0.82\" title=\"-0.054\">america</span><span style=\"opacity: 0.80\">. </span><span style=\"background-color: hsl(120, 100.00%, 98.63%); opacity: 0.80\" title=\"0.004\">written</span><span style=\"opacity: 0.80\"> by the </span><span style=\"background-color: hsl(120, 100.00%, 60.00%); opacity: 1.00\" title=\"0.536\">superb</span><span style=\"opacity: 0.80\"> </span><span style=\"background-color: hsl(120, 100.00%, 97.74%); opacity: 0.80\" title=\"0.009\">tom</span><span style=\"opacity: 0.80\"> pettit, and </span><span style=\"background-color: hsl(0, 100.00%, 96.83%); opacity: 0.81\" title=\"-0.014\">directed</span><span style=\"opacity: 0.80\"> by the </span><span style=\"background-color: hsl(120, 100.00%, 63.06%); opacity: 0.98\" title=\"0.478\">great</span><span style=\"opacity: 0.80\"> jeannot szwarc, we move through their </span><span style=\"background-color: hsl(120, 100.00%, 83.17%); opacity: 0.86\" title=\"0.156\">lives</span><span style=\"opacity: 0.80\">, their </span><span style=\"background-color: hsl(120, 100.00%, 74.86%); opacity: 0.90\" title=\"0.276\">love</span><span style=\"opacity: 0.80\"> for each other, and their </span><span style=\"background-color: hsl(120, 100.00%, 84.61%); opacity: 0.85\" title=\"0.137\">tragedy</span><span style=\"opacity: 0.80\">. </span><span style=\"background-color: hsl(120, 100.00%, 83.20%); opacity: 0.86\" title=\"0.155\">taking</span><span style=\"opacity: 0.80\"> on such a </span><span style=\"background-color: hsl(120, 100.00%, 74.23%); opacity: 0.91\" title=\"0.286\">sensitive</span><span style=\"opacity: 0.80\"> </span><span style=\"background-color: hsl(120, 100.00%, 96.89%); opacity: 0.81\" title=\"0.014\">issue</span><span style=\"opacity: 0.80\"> </span><span style=\"background-color: hsl(120, 100.00%, 75.46%); opacity: 0.90\" title=\"0.267\">makes</span><span style=\"opacity: 0.80\"> this </span><span style=\"background-color: hsl(120, 100.00%, 80.13%); opacity: 0.87\" title=\"0.197\">episode</span><span style=\"opacity: 0.80\"> all the more </span><span style=\"background-color: hsl(120, 100.00%, 69.50%); opacity: 0.94\" title=\"0.364\">stunning</span><span style=\"opacity: 0.80\">. our </span><span style=\"background-color: hsl(120, 100.00%, 70.90%); opacity: 0.93\" title=\"0.340\">emotions</span><span style=\"opacity: 0.80\"> are as </span><span style=\"background-color: hsl(120, 100.00%, 79.15%); opacity: 0.88\" title=\"0.211\">torn</span><span style=\"opacity: 0.80\"> and on </span><span style=\"background-color: hsl(120, 100.00%, 80.44%); opacity: 0.87\" title=\"0.193\">edge</span><span style=\"opacity: 0.80\"> as the </span><span style=\"background-color: hsl(0, 100.00%, 87.41%); opacity: 0.84\" title=\"-0.103\">characters</span><span style=\"opacity: 0.80\">. </span><span style=\"background-color: hsl(120, 100.00%, 80.70%); opacity: 0.87\" title=\"0.189\">chills</span><span style=\"opacity: 0.80\"> </span><span style=\"background-color: hsl(120, 100.00%, 92.00%); opacity: 0.82\" title=\"0.054\">ran</span><span style=\"opacity: 0.80\"> up my </span><span style=\"background-color: hsl(120, 100.00%, 77.41%); opacity: 0.89\" title=\"0.237\">spine</span><span style=\"opacity: 0.80\"> at the </span><span style=\"background-color: hsl(120, 100.00%, 96.64%); opacity: 0.81\" title=\"0.016\">end</span><span style=\"opacity: 0.80\"> when they </span><span style=\"background-color: hsl(120, 100.00%, 85.36%); opacity: 0.85\" title=\"0.127\">played</span><span style=\"opacity: 0.80\"> </span><span style=\"background-color: hsl(0, 100.00%, 84.53%); opacity: 0.85\" title=\"-0.138\">bob</span><span style=\"opacity: 0.80\"> </span><span style=\"background-color: hsl(120, 100.00%, 87.88%); opacity: 0.84\" title=\"0.097\">dylan</span><span style=\"opacity: 0.80\">'s </span><span style=\"background-color: hsl(120, 100.00%, 69.45%); opacity: 0.94\" title=\"0.365\">gorgeous</span><span style=\"opacity: 0.80\">, \"</span><span style=\"background-color: hsl(120, 100.00%, 95.45%); opacity: 0.81\" title=\"0.024\">ah</span><span style=\"opacity: 0.80\">, but i was so much </span><span style=\"background-color: hsl(120, 100.00%, 87.19%); opacity: 0.84\" title=\"0.105\">older</span><span style=\"opacity: 0.80\"> then, i'm </span><span style=\"background-color: hsl(0, 100.00%, 92.09%); opacity: 0.82\" title=\"-0.053\">younger</span><span style=\"opacity: 0.80\"> than that now,\" as </span><span style=\"background-color: hsl(120, 100.00%, 86.67%); opacity: 0.84\" title=\"0.112\">sung</span><span style=\"opacity: 0.80\"> by the byrds. this one </span><span style=\"background-color: hsl(0, 100.00%, 89.96%); opacity: 0.83\" title=\"-0.074\">goes</span><span style=\"opacity: 0.80\"> </span><span style=\"background-color: hsl(0, 100.00%, 78.27%); opacity: 0.88\" title=\"-0.224\">far</span><span style=\"opacity: 0.80\"> </span><span style=\"background-color: hsl(120, 100.00%, 89.53%); opacity: 0.83\" title=\"0.079\">past</span><span style=\"opacity: 0.80\"> a </span><span style=\"background-color: hsl(120, 100.00%, 90.12%); opacity: 0.83\" title=\"0.073\">10</span><span style=\"opacity: 0.80\"> and all the </span><span style=\"background-color: hsl(120, 100.00%, 96.17%); opacity: 0.81\" title=\"0.019\">way</span><span style=\"opacity: 0.80\"> to the </span><span style=\"background-color: hsl(120, 100.00%, 90.69%); opacity: 0.82\" title=\"0.067\">stars</span><span style=\"opacity: 0.80\">. </span><span style=\"background-color: hsl(120, 100.00%, 78.44%); opacity: 0.88\" title=\"0.222\">beautiful</span><span style=\"opacity: 0.80\">.</span>\n",
       "</p>\n"
      ],
      "text/plain": [
       "<IPython.core.display.HTML object>"
      ]
     },
     "metadata": {},
     "output_type": "display_data"
    },
    {
     "data": {
      "text/html": [
       "<p style=background-color:black;color:white;font-weight:bold;padding:4px>Good Movie #4 🏆</p>"
      ],
      "text/plain": [
       "<IPython.core.display.HTML object>"
      ]
     },
     "metadata": {},
     "output_type": "display_data"
    },
    {
     "data": {
      "text/html": [
       "\n",
       "<style>\n",
       "    table.eli5-weights tr:hover {\n",
       "        filter: brightness(85%);\n",
       "    }\n",
       "</style>\n",
       "\n",
       "\n",
       "<p style=\"margin-bottom: 2.5em; margin-top:-0.5em;\">\n",
       "<span style=\"opacity: 0.80\">this is an </span><span style=\"background-color: hsl(120, 100.00%, 60.00%); opacity: 1.00\" title=\"0.977\">excellent</span><span style=\"opacity: 0.80\"> </span><span style=\"background-color: hsl(120, 100.00%, 91.50%); opacity: 0.82\" title=\"0.107\">stand</span><span style=\"opacity: 0.80\">-up </span><span style=\"background-color: hsl(120, 100.00%, 80.43%); opacity: 0.87\" title=\"0.352\">dvd</span><span style=\"opacity: 0.80\">! </span><span style=\"background-color: hsl(120, 100.00%, 88.78%); opacity: 0.83\" title=\"0.159\">eddie</span><span style=\"opacity: 0.80\"> </span><span style=\"background-color: hsl(120, 100.00%, 88.12%); opacity: 0.84\" title=\"0.172\">izzard</span><span style=\"opacity: 0.80\"> is the </span><span style=\"background-color: hsl(120, 100.00%, 67.03%); opacity: 0.95\" title=\"0.741\">funniest</span><span style=\"opacity: 0.80\"> </span><span style=\"background-color: hsl(0, 100.00%, 90.73%); opacity: 0.82\" title=\"-0.121\">person</span><span style=\"opacity: 0.80\"> i have </span><span style=\"background-color: hsl(120, 100.00%, 87.45%); opacity: 0.84\" title=\"0.187\">seen</span><span style=\"opacity: 0.80\"> in </span><span style=\"background-color: hsl(120, 100.00%, 88.67%); opacity: 0.83\" title=\"0.161\">years</span><span style=\"opacity: 0.80\">. his </span><span style=\"background-color: hsl(0, 100.00%, 85.67%); opacity: 0.85\" title=\"-0.225\">routine</span><span style=\"opacity: 0.80\"> is </span><span style=\"background-color: hsl(120, 100.00%, 69.62%); opacity: 0.93\" title=\"0.659\">hilarious</span><span style=\"opacity: 0.80\"> and </span><span style=\"background-color: hsl(120, 100.00%, 81.09%); opacity: 0.87\" title=\"0.335\">makes</span><span style=\"opacity: 0.80\"> for </span><span style=\"background-color: hsl(120, 100.00%, 71.54%); opacity: 0.92\" title=\"0.601\">great</span><span style=\"opacity: 0.80\"> </span><span style=\"background-color: hsl(120, 100.00%, 93.50%); opacity: 0.81\" title=\"0.073\">conversation</span><span style=\"opacity: 0.80\"> with others who have </span><span style=\"background-color: hsl(120, 100.00%, 87.45%); opacity: 0.84\" title=\"0.187\">seen</span><span style=\"opacity: 0.80\"> it. i </span><span style=\"background-color: hsl(120, 100.00%, 70.60%); opacity: 0.93\" title=\"0.629\">highly</span><span style=\"opacity: 0.80\"> </span><span style=\"background-color: hsl(120, 100.00%, 86.60%); opacity: 0.84\" title=\"0.205\">recommend</span><span style=\"opacity: 0.80\"> this one. the part about the </span><span style=\"background-color: hsl(120, 100.00%, 88.14%); opacity: 0.84\" title=\"0.172\">history</span><span style=\"opacity: 0.80\"> of </span><span style=\"background-color: hsl(120, 100.00%, 87.03%); opacity: 0.84\" title=\"0.195\">europe</span><span style=\"opacity: 0.80\"> is a </span><span style=\"background-color: hsl(120, 100.00%, 81.82%); opacity: 0.86\" title=\"0.317\">bit</span><span style=\"opacity: 0.80\"> </span><span style=\"background-color: hsl(0, 100.00%, 86.49%); opacity: 0.84\" title=\"-0.207\">slow</span><span style=\"opacity: 0.80\">, but the </span><span style=\"background-color: hsl(120, 100.00%, 94.15%); opacity: 0.81\" title=\"0.063\">ending</span><span style=\"opacity: 0.80\"> </span><span style=\"background-color: hsl(0, 100.00%, 93.00%); opacity: 0.82\" title=\"-0.081\">jokes</span><span style=\"opacity: 0.80\"> in </span><span style=\"background-color: hsl(120, 100.00%, 93.07%); opacity: 0.82\" title=\"0.080\">french</span><span style=\"opacity: 0.80\"> are </span><span style=\"background-color: hsl(120, 100.00%, 87.96%); opacity: 0.84\" title=\"0.176\">quite</span><span style=\"opacity: 0.80\"> </span><span style=\"background-color: hsl(120, 100.00%, 88.17%); opacity: 0.84\" title=\"0.171\">good</span><span style=\"opacity: 0.80\">, because you </span><span style=\"background-color: hsl(0, 100.00%, 92.21%); opacity: 0.82\" title=\"-0.094\">don</span><span style=\"opacity: 0.80\">'t have to </span><span style=\"background-color: hsl(0, 100.00%, 93.09%); opacity: 0.82\" title=\"-0.080\">speak</span><span style=\"opacity: 0.80\"> </span><span style=\"background-color: hsl(120, 100.00%, 93.07%); opacity: 0.82\" title=\"0.080\">french</span><span style=\"opacity: 0.80\"> to get it (although if you do, it is still </span><span style=\"background-color: hsl(120, 100.00%, 69.62%); opacity: 0.93\" title=\"0.659\">hilarious</span><span style=\"opacity: 0.80\">). also, the </span><span style=\"background-color: hsl(120, 100.00%, 89.19%); opacity: 0.83\" title=\"0.151\">parts</span><span style=\"opacity: 0.80\"> about being a </span><span style=\"background-color: hsl(0, 100.00%, 88.95%); opacity: 0.83\" title=\"-0.156\">transvestite</span><span style=\"opacity: 0.80\"> are </span><span style=\"background-color: hsl(120, 100.00%, 87.96%); opacity: 0.84\" title=\"0.176\">quite</span><span style=\"opacity: 0.80\"> </span><span style=\"background-color: hsl(120, 100.00%, 88.17%); opacity: 0.84\" title=\"0.171\">good</span><span style=\"opacity: 0.80\">. the first </span><span style=\"background-color: hsl(0, 100.00%, 94.16%); opacity: 0.81\" title=\"-0.063\">scene</span><span style=\"opacity: 0.80\"> (about </span><span style=\"background-color: hsl(120, 100.00%, 93.47%); opacity: 0.82\" title=\"0.073\">san</span><span style=\"opacity: 0.80\"> </span><span style=\"background-color: hsl(120, 100.00%, 92.10%); opacity: 0.82\" title=\"0.096\">francisco</span><span style=\"opacity: 0.80\">) is not </span><span style=\"background-color: hsl(120, 100.00%, 71.54%); opacity: 0.92\" title=\"0.601\">great</span><span style=\"opacity: 0.80\">, but </span><span style=\"background-color: hsl(120, 100.00%, 90.11%); opacity: 0.83\" title=\"0.133\">funny</span><span style=\"opacity: 0.80\"> the first </span><span style=\"background-color: hsl(120, 100.00%, 92.70%); opacity: 0.82\" title=\"0.086\">time</span><span style=\"opacity: 0.80\">. </span><span style=\"background-color: hsl(0, 100.00%, 75.91%); opacity: 0.90\" title=\"-0.474\">skip</span><span style=\"opacity: 0.80\"> over those if you can. it's almost not </span><span style=\"background-color: hsl(120, 100.00%, 83.47%); opacity: 0.86\" title=\"0.276\">worth</span><span style=\"opacity: 0.80\"> </span><span style=\"background-color: hsl(0, 100.00%, 90.78%); opacity: 0.82\" title=\"-0.120\">watching</span><span style=\"opacity: 0.80\">. however, this </span><span style=\"background-color: hsl(0, 100.00%, 99.49%); opacity: 0.80\" title=\"-0.002\">really</span><span style=\"opacity: 0.80\"> is a </span><span style=\"background-color: hsl(120, 100.00%, 90.11%); opacity: 0.83\" title=\"0.133\">funny</span><span style=\"opacity: 0.80\">, </span><span style=\"background-color: hsl(120, 100.00%, 90.11%); opacity: 0.83\" title=\"0.133\">funny</span><span style=\"opacity: 0.80\"> </span><span style=\"background-color: hsl(120, 100.00%, 91.50%); opacity: 0.82\" title=\"0.107\">stand</span><span style=\"opacity: 0.80\">-up show that everyone should see. \"i was </span><span style=\"background-color: hsl(0, 100.00%, 91.90%); opacity: 0.82\" title=\"-0.100\">dead</span><span style=\"opacity: 0.80\"> at the </span><span style=\"background-color: hsl(120, 100.00%, 92.70%); opacity: 0.82\" title=\"0.086\">time</span><span style=\"opacity: 0.80\">!\"</span>\n",
       "</p>\n"
      ],
      "text/plain": [
       "<IPython.core.display.HTML object>"
      ]
     },
     "metadata": {},
     "output_type": "display_data"
    },
    {
     "data": {
      "text/html": [
       "<p style=background-color:black;color:white;font-weight:bold;padding:4px>Good Movie #5 🏆</p>"
      ],
      "text/plain": [
       "<IPython.core.display.HTML object>"
      ]
     },
     "metadata": {},
     "output_type": "display_data"
    },
    {
     "data": {
      "text/html": [
       "\n",
       "<style>\n",
       "    table.eli5-weights tr:hover {\n",
       "        filter: brightness(85%);\n",
       "    }\n",
       "</style>\n",
       "\n",
       "\n",
       "<p style=\"margin-bottom: 2.5em; margin-top:-0.5em;\">\n",
       "<span style=\"opacity: 0.80\">i </span><span style=\"background-color: hsl(120, 100.00%, 80.63%); opacity: 0.87\" title=\"0.245\">love</span><span style=\"opacity: 0.80\"> this </span><span style=\"background-color: hsl(120, 100.00%, 96.07%); opacity: 0.81\" title=\"0.025\">film</span><span style=\"opacity: 0.80\"> and it is such a </span><span style=\"background-color: hsl(120, 100.00%, 65.18%); opacity: 0.96\" title=\"0.566\">wonderful</span><span style=\"opacity: 0.80\"> </span><span style=\"background-color: hsl(0, 100.00%, 80.98%); opacity: 0.87\" title=\"-0.239\">example</span><span style=\"opacity: 0.80\"> of a </span><span style=\"background-color: hsl(120, 100.00%, 88.03%); opacity: 0.84\" title=\"0.123\">family</span><span style=\"opacity: 0.80\"> </span><span style=\"background-color: hsl(120, 100.00%, 95.42%); opacity: 0.81\" title=\"0.031\">jeopardy</span><span style=\"opacity: 0.80\">, a </span><span style=\"background-color: hsl(120, 100.00%, 88.38%); opacity: 0.83\" title=\"0.118\">romantic</span><span style=\"opacity: 0.80\"> </span><span style=\"background-color: hsl(120, 100.00%, 80.63%); opacity: 0.87\" title=\"0.245\">love</span><span style=\"opacity: 0.80\"> </span><span style=\"background-color: hsl(120, 100.00%, 94.49%); opacity: 0.81\" title=\"0.041\">story</span><span style=\"opacity: 0.80\">, and a very </span><span style=\"background-color: hsl(0, 100.00%, 91.13%); opacity: 0.82\" title=\"-0.080\">sad</span><span style=\"opacity: 0.80\"> </span><span style=\"background-color: hsl(120, 100.00%, 94.49%); opacity: 0.81\" title=\"0.041\">story</span><span style=\"opacity: 0.80\"> </span><span style=\"background-color: hsl(0, 100.00%, 85.61%); opacity: 0.85\" title=\"-0.160\">plot</span><span style=\"opacity: 0.80\">. everything was </span><span style=\"background-color: hsl(0, 100.00%, 87.45%); opacity: 0.84\" title=\"-0.132\">just</span><span style=\"opacity: 0.80\"> so </span><span style=\"background-color: hsl(120, 100.00%, 66.06%); opacity: 0.96\" title=\"0.546\">perfect</span><span style=\"opacity: 0.80\"> and </span><span style=\"background-color: hsl(120, 100.00%, 60.00%); opacity: 1.00\" title=\"0.690\">excellent</span><span style=\"opacity: 0.80\"> about this </span><span style=\"background-color: hsl(120, 100.00%, 96.07%); opacity: 0.81\" title=\"0.025\">film</span><span style=\"opacity: 0.80\">. it was such a </span><span style=\"background-color: hsl(120, 100.00%, 71.54%); opacity: 0.92\" title=\"0.424\">great</span><span style=\"opacity: 0.80\"> </span><span style=\"background-color: hsl(0, 100.00%, 97.67%); opacity: 0.80\" title=\"-0.012\">mixture</span><span style=\"opacity: 0.80\"> of </span><span style=\"background-color: hsl(0, 100.00%, 90.33%); opacity: 0.83\" title=\"-0.091\">actors</span><span style=\"opacity: 0.80\"> and </span><span style=\"background-color: hsl(120, 100.00%, 95.51%); opacity: 0.81\" title=\"0.030\">actresses</span><span style=\"opacity: 0.80\"> and with some </span><span style=\"background-color: hsl(120, 100.00%, 96.53%); opacity: 0.81\" title=\"0.021\">laughs</span><span style=\"opacity: 0.80\"> and a </span><span style=\"background-color: hsl(120, 100.00%, 86.72%); opacity: 0.84\" title=\"0.143\">lot</span><span style=\"opacity: 0.80\"> of </span><span style=\"background-color: hsl(0, 100.00%, 94.86%); opacity: 0.81\" title=\"-0.037\">cries</span><span style=\"opacity: 0.80\"> this </span><span style=\"background-color: hsl(120, 100.00%, 96.07%); opacity: 0.81\" title=\"0.025\">film</span><span style=\"opacity: 0.80\"> </span><span style=\"background-color: hsl(120, 100.00%, 81.02%); opacity: 0.87\" title=\"0.238\">deserves</span><span style=\"opacity: 0.80\"> to get </span><span style=\"background-color: hsl(120, 100.00%, 79.97%); opacity: 0.87\" title=\"0.257\">plenty</span><span style=\"opacity: 0.80\"> of </span><span style=\"background-color: hsl(120, 100.00%, 93.35%); opacity: 0.82\" title=\"0.053\">awards</span><span style=\"opacity: 0.80\">. with the </span><span style=\"background-color: hsl(0, 100.00%, 97.78%); opacity: 0.80\" title=\"-0.011\">mention</span><span style=\"opacity: 0.80\"> of </span><span style=\"background-color: hsl(120, 100.00%, 83.39%); opacity: 0.86\" title=\"0.197\">beautiful</span><span style=\"opacity: 0.80\"> </span><span style=\"background-color: hsl(0, 100.00%, 89.90%); opacity: 0.83\" title=\"-0.097\">scenario</span><span style=\"opacity: 0.80\">, and although i would </span><span style=\"background-color: hsl(120, 100.00%, 89.41%); opacity: 0.83\" title=\"0.103\">relate</span><span style=\"opacity: 0.80\"> this </span><span style=\"background-color: hsl(120, 100.00%, 96.07%); opacity: 0.81\" title=\"0.025\">film</span><span style=\"opacity: 0.80\"> to the </span><span style=\"background-color: hsl(0, 100.00%, 95.00%); opacity: 0.81\" title=\"-0.035\">notebook</span><span style=\"opacity: 0.80\"> and the </span><span style=\"background-color: hsl(120, 100.00%, 88.03%); opacity: 0.84\" title=\"0.123\">family</span><span style=\"opacity: 0.80\"> </span><span style=\"background-color: hsl(120, 100.00%, 91.68%); opacity: 0.82\" title=\"0.073\">stone</span><span style=\"opacity: 0.80\">, it was </span><span style=\"background-color: hsl(0, 100.00%, 89.48%); opacity: 0.83\" title=\"-0.102\">sort</span><span style=\"opacity: 0.80\"> of much more </span><span style=\"background-color: hsl(120, 100.00%, 92.23%); opacity: 0.82\" title=\"0.066\">cunning</span><span style=\"opacity: 0.80\">, </span><span style=\"background-color: hsl(0, 100.00%, 91.13%); opacity: 0.82\" title=\"-0.080\">sad</span><span style=\"opacity: 0.80\">, and </span><span style=\"background-color: hsl(120, 100.00%, 67.10%); opacity: 0.95\" title=\"0.522\">brilliant</span><span style=\"opacity: 0.80\"> than those </span><span style=\"background-color: hsl(120, 100.00%, 95.70%); opacity: 0.81\" title=\"0.029\">films</span><span style=\"opacity: 0.80\">. the </span><span style=\"background-color: hsl(120, 100.00%, 85.58%); opacity: 0.85\" title=\"0.161\">evening</span><span style=\"opacity: 0.80\"> </span><span style=\"background-color: hsl(120, 100.00%, 83.99%); opacity: 0.85\" title=\"0.186\">tells</span><span style=\"opacity: 0.80\"> of a </span><span style=\"background-color: hsl(120, 100.00%, 80.63%); opacity: 0.87\" title=\"0.245\">love</span><span style=\"opacity: 0.80\"> </span><span style=\"background-color: hsl(120, 100.00%, 94.49%); opacity: 0.81\" title=\"0.041\">story</span><span style=\"opacity: 0.80\"> between an </span><span style=\"background-color: hsl(0, 100.00%, 93.83%); opacity: 0.81\" title=\"-0.048\">old</span><span style=\"opacity: 0.80\"> </span><span style=\"background-color: hsl(0, 100.00%, 90.03%); opacity: 0.83\" title=\"-0.095\">woman</span><span style=\"opacity: 0.80\"> </span><span style=\"background-color: hsl(120, 100.00%, 91.95%); opacity: 0.82\" title=\"0.070\">dreaming</span><span style=\"opacity: 0.80\"> back to her </span><span style=\"background-color: hsl(0, 100.00%, 93.90%); opacity: 0.81\" title=\"-0.047\">younger</span><span style=\"opacity: 0.80\"> </span><span style=\"background-color: hsl(120, 100.00%, 88.67%); opacity: 0.83\" title=\"0.114\">years</span><span style=\"opacity: 0.80\">, and her two </span><span style=\"background-color: hsl(120, 100.00%, 94.85%); opacity: 0.81\" title=\"0.037\">daughters</span><span style=\"opacity: 0.80\"> </span><span style=\"background-color: hsl(0, 100.00%, 89.27%); opacity: 0.83\" title=\"-0.105\">stay</span><span style=\"opacity: 0.80\"> by her side while she is not well. the </span><span style=\"background-color: hsl(120, 100.00%, 94.49%); opacity: 0.81\" title=\"0.041\">story</span><span style=\"opacity: 0.80\"> </span><span style=\"background-color: hsl(0, 100.00%, 90.70%); opacity: 0.82\" title=\"-0.086\">dating</span><span style=\"opacity: 0.80\"> back is so </span><span style=\"background-color: hsl(120, 100.00%, 84.47%); opacity: 0.85\" title=\"0.179\">strongly</span><span style=\"opacity: 0.80\"> </span><span style=\"background-color: hsl(120, 100.00%, 93.83%); opacity: 0.81\" title=\"0.048\">told</span><span style=\"opacity: 0.80\"> and </span><span style=\"background-color: hsl(120, 100.00%, 65.18%); opacity: 0.96\" title=\"0.566\">wonderful</span><span style=\"opacity: 0.80\"> i was </span><span style=\"background-color: hsl(0, 100.00%, 83.55%); opacity: 0.86\" title=\"-0.194\">sitting</span><span style=\"opacity: 0.80\"> on the </span><span style=\"background-color: hsl(120, 100.00%, 84.93%); opacity: 0.85\" title=\"0.171\">edge</span><span style=\"opacity: 0.80\"> of my </span><span style=\"background-color: hsl(120, 100.00%, 78.18%); opacity: 0.88\" title=\"0.290\">seat</span><span style=\"opacity: 0.80\">. you </span><span style=\"background-color: hsl(0, 100.00%, 99.49%); opacity: 0.80\" title=\"-0.001\">really</span><span style=\"opacity: 0.80\"> get to </span><span style=\"background-color: hsl(120, 100.00%, 90.88%); opacity: 0.82\" title=\"0.084\">know</span><span style=\"opacity: 0.80\"> all the </span><span style=\"background-color: hsl(0, 100.00%, 90.30%); opacity: 0.83\" title=\"-0.091\">characters</span><span style=\"opacity: 0.80\"> and by the </span><span style=\"background-color: hsl(120, 100.00%, 97.41%); opacity: 0.80\" title=\"0.014\">end</span><span style=\"opacity: 0.80\">, i was </span><span style=\"background-color: hsl(120, 100.00%, 95.40%); opacity: 0.81\" title=\"0.031\">wanting</span><span style=\"opacity: 0.80\"> to </span><span style=\"background-color: hsl(120, 100.00%, 94.29%); opacity: 0.81\" title=\"0.043\">watch</span><span style=\"opacity: 0.80\"> it all over again. this is a </span><span style=\"background-color: hsl(120, 100.00%, 88.60%); opacity: 0.83\" title=\"0.115\">amazingly</span><span style=\"opacity: 0.80\"> </span><span style=\"background-color: hsl(0, 100.00%, 91.13%); opacity: 0.82\" title=\"-0.080\">sad</span><span style=\"opacity: 0.80\"> and </span><span style=\"background-color: hsl(120, 100.00%, 84.33%); opacity: 0.85\" title=\"0.181\">vividly</span><span style=\"opacity: 0.80\"> </span><span style=\"background-color: hsl(120, 100.00%, 94.57%); opacity: 0.81\" title=\"0.040\">acted</span><span style=\"opacity: 0.80\"> and </span><span style=\"background-color: hsl(120, 100.00%, 99.51%); opacity: 0.80\" title=\"0.001\">plotted</span><span style=\"opacity: 0.80\"> </span><span style=\"background-color: hsl(0, 100.00%, 98.11%); opacity: 0.80\" title=\"-0.009\">movie</span><span style=\"opacity: 0.80\"> that is </span><span style=\"background-color: hsl(0, 100.00%, 99.49%); opacity: 0.80\" title=\"-0.001\">really</span><span style=\"opacity: 0.80\"> one of a </span><span style=\"background-color: hsl(0, 100.00%, 91.50%); opacity: 0.82\" title=\"-0.075\">kind</span><span style=\"opacity: 0.80\"> and should be </span><span style=\"background-color: hsl(120, 100.00%, 87.45%); opacity: 0.84\" title=\"0.132\">seen</span><span style=\"opacity: 0.80\"> by all for how </span><span style=\"background-color: hsl(120, 100.00%, 65.18%); opacity: 0.96\" title=\"0.566\">wonderful</span><span style=\"opacity: 0.80\"> it </span><span style=\"background-color: hsl(0, 100.00%, 99.49%); opacity: 0.80\" title=\"-0.001\">really</span><span style=\"opacity: 0.80\"> is. all the </span><span style=\"background-color: hsl(120, 100.00%, 82.33%); opacity: 0.86\" title=\"0.215\">performances</span><span style=\"opacity: 0.80\"> are </span><span style=\"background-color: hsl(120, 100.00%, 81.74%); opacity: 0.87\" title=\"0.225\">astonishing</span><span style=\"opacity: 0.80\"> and the </span><span style=\"background-color: hsl(120, 100.00%, 96.07%); opacity: 0.81\" title=\"0.025\">film</span><span style=\"opacity: 0.80\"> </span><span style=\"background-color: hsl(120, 100.00%, 76.28%); opacity: 0.89\" title=\"0.327\">captures</span><span style=\"opacity: 0.80\"> your </span><span style=\"background-color: hsl(120, 100.00%, 88.59%); opacity: 0.83\" title=\"0.115\">attention</span><span style=\"opacity: 0.80\"> from the very </span><span style=\"background-color: hsl(120, 100.00%, 90.54%); opacity: 0.83\" title=\"0.088\">beginning</span><span style=\"opacity: 0.80\"> and never </span><span style=\"background-color: hsl(0, 100.00%, 90.11%); opacity: 0.83\" title=\"-0.094\">lets</span><span style=\"opacity: 0.80\"> go. i </span><span style=\"background-color: hsl(120, 100.00%, 68.95%); opacity: 0.94\" title=\"0.481\">loved</span><span style=\"opacity: 0.80\"> it, and am so </span><span style=\"background-color: hsl(120, 100.00%, 82.17%); opacity: 0.86\" title=\"0.217\">glad</span><span style=\"opacity: 0.80\"> that i </span><span style=\"background-color: hsl(0, 100.00%, 92.68%); opacity: 0.82\" title=\"-0.061\">watched</span><span style=\"opacity: 0.80\"> it for it was </span><span style=\"background-color: hsl(120, 100.00%, 89.23%); opacity: 0.83\" title=\"0.106\">truly</span><span style=\"opacity: 0.80\"> an </span><span style=\"background-color: hsl(120, 100.00%, 81.74%); opacity: 0.87\" title=\"0.225\">astonishing</span><span style=\"opacity: 0.80\"> </span><span style=\"background-color: hsl(120, 100.00%, 96.07%); opacity: 0.81\" title=\"0.025\">film</span><span style=\"opacity: 0.80\">...</span>\n",
       "</p>\n"
      ],
      "text/plain": [
       "<IPython.core.display.HTML object>"
      ]
     },
     "metadata": {},
     "output_type": "display_data"
    }
   ],
   "source": [
    "for i, review in enumerate(best5):\n",
    "    display(HTML(f\"<p style={style}>Good Movie #{i+1} 🏆</p>\"))\n",
    "    eli5_html(clf, vec, review)"
   ]
  },
  {
   "cell_type": "markdown",
   "id": "f55f479a",
   "metadata": {},
   "source": [
    "What are the **5 most 'meh'** movie review in the test set according to your model? 😐\\\n",
    "That is, which reviews are the most neutral according to your model?\\\n",
    "Upon reading some of these reviews you may find their sentiment to actually *not* be very ambiguous. What might be confusing our model?"
   ]
  },
  {
   "cell_type": "code",
   "execution_count": 99,
   "id": "ae42fdec",
   "metadata": {},
   "outputs": [],
   "source": [
    "# please fill this code block!\n",
    "# Find indices of the 5 most neutral reviews\n",
    "probs = pipe.predict_proba(x_test)\n",
    "prob_diff = abs(probs[:, 1] - probs[:, 0])\n",
    "meh5 = x_test_raw[prob_diff.argsort()[:5]]"
   ]
  },
  {
   "cell_type": "code",
   "execution_count": 100,
   "id": "7cccc9ae",
   "metadata": {},
   "outputs": [
    {
     "data": {
      "text/html": [
       "<p style=background-color:black;color:white;font-weight:bold;padding:4px>'Meh' Movie #1 😐</p>"
      ],
      "text/plain": [
       "<IPython.core.display.HTML object>"
      ]
     },
     "metadata": {},
     "output_type": "display_data"
    },
    {
     "data": {
      "text/html": [
       "\n",
       "<style>\n",
       "    table.eli5-weights tr:hover {\n",
       "        filter: brightness(85%);\n",
       "    }\n",
       "</style>\n",
       "\n",
       "\n",
       "<p style=\"margin-bottom: 2.5em; margin-top:-0.5em;\">\n",
       "<span style=\"background-color: hsl(120, 100.00%, 88.70%); opacity: 0.83\" title=\"0.097\">man</span><span style=\"opacity: 0.80\">, some of you </span><span style=\"background-color: hsl(120, 100.00%, 94.57%); opacity: 0.81\" title=\"0.034\">people</span><span style=\"opacity: 0.80\"> have </span><span style=\"background-color: hsl(120, 100.00%, 92.60%); opacity: 0.82\" title=\"0.053\">got</span><span style=\"opacity: 0.80\"> to </span><span style=\"background-color: hsl(120, 100.00%, 86.84%); opacity: 0.84\" title=\"0.120\">chill</span><span style=\"opacity: 0.80\">. this </span><span style=\"background-color: hsl(0, 100.00%, 97.29%); opacity: 0.80\" title=\"-0.013\">movie</span><span style=\"opacity: 0.80\"> was </span><span style=\"background-color: hsl(0, 100.00%, 83.32%); opacity: 0.86\" title=\"-0.169\">artistic</span><span style=\"opacity: 0.80\"> </span><span style=\"background-color: hsl(120, 100.00%, 77.14%); opacity: 0.89\" title=\"0.265\">genius</span><span style=\"opacity: 0.80\">. </span><span style=\"background-color: hsl(0, 100.00%, 62.79%); opacity: 0.98\" title=\"-0.531\">instead</span><span style=\"opacity: 0.80\"> of </span><span style=\"background-color: hsl(120, 100.00%, 82.11%); opacity: 0.86\" title=\"0.187\">searching</span><span style=\"opacity: 0.80\"> for </span><span style=\"background-color: hsl(120, 100.00%, 86.56%); opacity: 0.84\" title=\"0.124\">reasoning</span><span style=\"opacity: 0.80\"> or </span><span style=\"background-color: hsl(0, 100.00%, 93.50%); opacity: 0.81\" title=\"-0.044\">messages</span><span style=\"opacity: 0.80\"> to </span><span style=\"background-color: hsl(0, 100.00%, 92.56%); opacity: 0.82\" title=\"-0.053\">justify</span><span style=\"opacity: 0.80\"> it in your </span><span style=\"background-color: hsl(120, 100.00%, 87.52%); opacity: 0.84\" title=\"0.112\">reality</span><span style=\"opacity: 0.80\">, why can't you </span><span style=\"background-color: hsl(120, 100.00%, 92.47%); opacity: 0.82\" title=\"0.054\">understand</span><span style=\"opacity: 0.80\"> that it is a </span><span style=\"background-color: hsl(120, 100.00%, 95.18%); opacity: 0.81\" title=\"0.029\">work</span><span style=\"opacity: 0.80\"> of </span><span style=\"background-color: hsl(0, 100.00%, 94.79%); opacity: 0.81\" title=\"-0.032\">fiction</span><span style=\"opacity: 0.80\">? a </span><span style=\"background-color: hsl(120, 100.00%, 92.08%); opacity: 0.82\" title=\"0.058\">story</span><span style=\"opacity: 0.80\">. </span><span style=\"background-color: hsl(120, 100.00%, 88.84%); opacity: 0.83\" title=\"0.095\">entertainment</span><span style=\"opacity: 0.80\">, for </span><span style=\"background-color: hsl(0, 100.00%, 85.73%); opacity: 0.85\" title=\"-0.135\">god</span><span style=\"opacity: 0.80\">'s </span><span style=\"background-color: hsl(0, 100.00%, 81.16%); opacity: 0.87\" title=\"-0.201\">sake</span><span style=\"opacity: 0.80\"> (no </span><span style=\"background-color: hsl(0, 100.00%, 87.06%); opacity: 0.84\" title=\"-0.118\">pun</span><span style=\"opacity: 0.80\"> </span><span style=\"background-color: hsl(0, 100.00%, 90.24%); opacity: 0.83\" title=\"-0.079\">intended</span><span style=\"opacity: 0.80\">). it seems to me that too many of the </span><span style=\"background-color: hsl(120, 100.00%, 94.57%); opacity: 0.81\" title=\"0.034\">people</span><span style=\"opacity: 0.80\"> on here are </span><span style=\"background-color: hsl(0, 100.00%, 78.21%); opacity: 0.88\" title=\"-0.248\">trying</span><span style=\"opacity: 0.80\"> to be </span><span style=\"background-color: hsl(0, 100.00%, 97.29%); opacity: 0.80\" title=\"-0.013\">movie</span><span style=\"opacity: 0.80\"> </span><span style=\"background-color: hsl(120, 100.00%, 81.14%); opacity: 0.87\" title=\"0.201\">critics</span><span style=\"opacity: 0.80\">--and they're not </span><span style=\"background-color: hsl(0, 100.00%, 81.13%); opacity: 0.87\" title=\"-0.202\">doing</span><span style=\"opacity: 0.80\"> to well. i'm so </span><span style=\"background-color: hsl(120, 100.00%, 60.00%); opacity: 1.00\" title=\"0.589\">impressed</span><span style=\"opacity: 0.80\"> by the </span><span style=\"background-color: hsl(0, 100.00%, 97.29%); opacity: 0.80\" title=\"-0.013\">movie</span><span style=\"opacity: 0.80\"> and bill </span><span style=\"background-color: hsl(120, 100.00%, 78.30%); opacity: 0.88\" title=\"0.246\">paxton</span><span style=\"opacity: 0.80\">'s </span><span style=\"background-color: hsl(120, 100.00%, 70.15%); opacity: 0.93\" title=\"0.388\">job</span><span style=\"opacity: 0.80\"> at </span><span style=\"background-color: hsl(0, 100.00%, 97.37%); opacity: 0.80\" title=\"-0.012\">directing</span><span style=\"opacity: 0.80\">, that i'm </span><span style=\"background-color: hsl(120, 100.00%, 96.03%); opacity: 0.81\" title=\"0.022\">going</span><span style=\"opacity: 0.80\"> to </span><span style=\"background-color: hsl(0, 100.00%, 96.66%); opacity: 0.81\" title=\"-0.017\">contact</span><span style=\"opacity: 0.80\"> him </span><span style=\"background-color: hsl(120, 100.00%, 85.31%); opacity: 0.85\" title=\"0.141\">personally</span><span style=\"opacity: 0.80\"> to </span><span style=\"background-color: hsl(0, 100.00%, 89.89%); opacity: 0.83\" title=\"-0.083\">tell</span><span style=\"opacity: 0.80\"> him. </span><span style=\"background-color: hsl(120, 100.00%, 78.51%); opacity: 0.88\" title=\"0.243\">ya</span><span style=\"opacity: 0.80\"> </span><span style=\"background-color: hsl(120, 100.00%, 86.89%); opacity: 0.84\" title=\"0.120\">know</span><span style=\"opacity: 0.80\">, if you weren't </span><span style=\"background-color: hsl(0, 100.00%, 78.21%); opacity: 0.88\" title=\"-0.248\">trying</span><span style=\"opacity: 0.80\"> to </span><span style=\"background-color: hsl(0, 100.00%, 94.72%); opacity: 0.81\" title=\"-0.033\">analyze</span><span style=\"opacity: 0.80\"> the </span><span style=\"background-color: hsl(0, 100.00%, 88.16%); opacity: 0.84\" title=\"-0.104\">heck</span><span style=\"opacity: 0.80\"> out of the </span><span style=\"background-color: hsl(0, 100.00%, 94.76%); opacity: 0.81\" title=\"-0.032\">possibility</span><span style=\"opacity: 0.80\"> of the </span><span style=\"background-color: hsl(120, 100.00%, 92.08%); opacity: 0.82\" title=\"0.058\">story</span><span style=\"opacity: 0.80\"> </span><span style=\"background-color: hsl(0, 100.00%, 82.36%); opacity: 0.86\" title=\"-0.183\">line</span><span style=\"opacity: 0.80\">, you might </span><span style=\"background-color: hsl(0, 100.00%, 81.97%); opacity: 0.86\" title=\"-0.189\">just</span><span style=\"opacity: 0.80\"> </span><span style=\"background-color: hsl(120, 100.00%, 70.17%); opacity: 0.93\" title=\"0.388\">enjoy</span><span style=\"opacity: 0.80\"> the </span><span style=\"background-color: hsl(120, 100.00%, 94.35%); opacity: 0.81\" title=\"0.036\">film</span><span style=\"opacity: 0.80\">. me and all of my </span><span style=\"background-color: hsl(120, 100.00%, 93.90%); opacity: 0.81\" title=\"0.040\">friends</span><span style=\"opacity: 0.80\"> </span><span style=\"background-color: hsl(0, 100.00%, 87.35%); opacity: 0.84\" title=\"-0.114\">did</span><span style=\"opacity: 0.80\">!</span>\n",
       "</p>\n"
      ],
      "text/plain": [
       "<IPython.core.display.HTML object>"
      ]
     },
     "metadata": {},
     "output_type": "display_data"
    },
    {
     "data": {
      "text/html": [
       "<p style=background-color:black;color:white;font-weight:bold;padding:4px>'Meh' Movie #2 😐</p>"
      ],
      "text/plain": [
       "<IPython.core.display.HTML object>"
      ]
     },
     "metadata": {},
     "output_type": "display_data"
    },
    {
     "data": {
      "text/html": [
       "\n",
       "<style>\n",
       "    table.eli5-weights tr:hover {\n",
       "        filter: brightness(85%);\n",
       "    }\n",
       "</style>\n",
       "\n",
       "\n",
       "<p style=\"margin-bottom: 2.5em; margin-top:-0.5em;\">\n",
       "<span style=\"opacity: 0.80\">in 1692 </span><span style=\"background-color: hsl(120, 100.00%, 87.19%); opacity: 0.84\" title=\"0.059\">salem</span><span style=\"opacity: 0.80\">, a </span><span style=\"background-color: hsl(0, 100.00%, 86.34%); opacity: 0.84\" title=\"-0.064\">devious</span><span style=\"opacity: 0.80\"> </span><span style=\"background-color: hsl(0, 100.00%, 94.64%); opacity: 0.81\" title=\"-0.017\">child</span><span style=\"opacity: 0.80\">'s </span><span style=\"background-color: hsl(0, 100.00%, 90.12%); opacity: 0.83\" title=\"-0.041\">lies</span><span style=\"opacity: 0.80\"> about a </span><span style=\"background-color: hsl(0, 100.00%, 75.03%); opacity: 0.90\" title=\"-0.152\">slave</span><span style=\"opacity: 0.80\">'s </span><span style=\"background-color: hsl(120, 100.00%, 89.39%); opacity: 0.83\" title=\"0.045\">involvement</span><span style=\"opacity: 0.80\"> in </span><span style=\"background-color: hsl(0, 100.00%, 94.01%); opacity: 0.81\" title=\"-0.020\">witchcraft</span><span style=\"opacity: 0.80\"> </span><span style=\"background-color: hsl(0, 100.00%, 97.22%); opacity: 0.80\" title=\"-0.007\">sends</span><span style=\"opacity: 0.80\"> an </span><span style=\"background-color: hsl(0, 100.00%, 76.15%); opacity: 0.90\" title=\"-0.143\">entire</span><span style=\"opacity: 0.80\"> </span><span style=\"background-color: hsl(120, 100.00%, 81.41%); opacity: 0.87\" title=\"0.100\">community</span><span style=\"opacity: 0.80\"> into an </span><span style=\"background-color: hsl(0, 100.00%, 94.41%); opacity: 0.81\" title=\"-0.018\">uproar</span><span style=\"opacity: 0.80\">. </span><span style=\"background-color: hsl(0, 100.00%, 74.17%); opacity: 0.91\" title=\"-0.160\">costume</span><span style=\"opacity: 0.80\"> </span><span style=\"background-color: hsl(120, 100.00%, 92.54%); opacity: 0.82\" title=\"0.027\">drama</span><span style=\"opacity: 0.80\"> </span><span style=\"background-color: hsl(120, 100.00%, 87.81%); opacity: 0.84\" title=\"0.055\">starring</span><span style=\"opacity: 0.80\"> </span><span style=\"background-color: hsl(120, 100.00%, 85.33%); opacity: 0.85\" title=\"0.071\">claudette</span><span style=\"opacity: 0.80\"> </span><span style=\"background-color: hsl(120, 100.00%, 80.87%); opacity: 0.87\" title=\"0.104\">colbert</span><span style=\"opacity: 0.80\"> and </span><span style=\"background-color: hsl(0, 100.00%, 92.19%); opacity: 0.82\" title=\"-0.029\">fred</span><span style=\"opacity: 0.80\"> </span><span style=\"background-color: hsl(120, 100.00%, 75.63%); opacity: 0.90\" title=\"0.147\">macmurray</span><span style=\"opacity: 0.80\"> isn't </span><span style=\"background-color: hsl(120, 100.00%, 93.28%); opacity: 0.82\" title=\"0.023\">stuffy</span><span style=\"opacity: 0.80\">, though neither is it a </span><span style=\"background-color: hsl(120, 100.00%, 72.57%); opacity: 0.92\" title=\"0.174\">vivid</span><span style=\"opacity: 0.80\"> </span><span style=\"background-color: hsl(120, 100.00%, 90.74%); opacity: 0.82\" title=\"0.037\">depiction</span><span style=\"opacity: 0.80\"> of </span><span style=\"background-color: hsl(120, 100.00%, 99.07%); opacity: 0.80\" title=\"0.001\">contagious</span><span style=\"opacity: 0.80\"> </span><span style=\"background-color: hsl(120, 100.00%, 94.38%); opacity: 0.81\" title=\"0.018\">hysteria</span><span style=\"opacity: 0.80\">. </span><span style=\"background-color: hsl(120, 100.00%, 96.55%); opacity: 0.81\" title=\"0.009\">worked</span><span style=\"opacity: 0.80\"> on by three </span><span style=\"background-color: hsl(0, 100.00%, 68.29%); opacity: 0.94\" title=\"-0.214\">writers</span><span style=\"opacity: 0.80\"> (</span><span style=\"background-color: hsl(120, 100.00%, 89.48%); opacity: 0.83\" title=\"0.044\">walter</span><span style=\"opacity: 0.80\"> </span><span style=\"background-color: hsl(0, 100.00%, 74.08%); opacity: 0.91\" title=\"-0.161\">ferris</span><span style=\"opacity: 0.80\">, durward grimstead, and </span><span style=\"background-color: hsl(120, 100.00%, 89.15%); opacity: 0.83\" title=\"0.046\">bradley</span><span style=\"opacity: 0.80\"> </span><span style=\"background-color: hsl(120, 100.00%, 90.57%); opacity: 0.83\" title=\"0.038\">king</span><span style=\"opacity: 0.80\">), the </span><span style=\"background-color: hsl(120, 100.00%, 91.13%); opacity: 0.82\" title=\"0.035\">story</span><span style=\"opacity: 0.80\"> </span><span style=\"background-color: hsl(120, 100.00%, 96.12%); opacity: 0.81\" title=\"0.011\">elements</span><span style=\"opacity: 0.80\"> are rather </span><span style=\"background-color: hsl(0, 100.00%, 73.32%); opacity: 0.91\" title=\"-0.167\">interesting</span><span style=\"opacity: 0.80\"> (</span><span style=\"background-color: hsl(120, 100.00%, 65.83%); opacity: 0.96\" title=\"0.238\">especially</span><span style=\"opacity: 0.80\"> </span><span style=\"background-color: hsl(120, 100.00%, 81.60%); opacity: 0.87\" title=\"0.099\">coming</span><span style=\"opacity: 0.80\"> out of </span><span style=\"background-color: hsl(120, 100.00%, 92.45%); opacity: 0.82\" title=\"0.028\">hollywood</span><span style=\"opacity: 0.80\"> in </span><span style=\"background-color: hsl(0, 100.00%, 99.63%); opacity: 0.80\" title=\"-0.000\">1937</span><span style=\"opacity: 0.80\">), though to anyone who has since </span><span style=\"background-color: hsl(0, 100.00%, 86.95%); opacity: 0.84\" title=\"-0.060\">read</span><span style=\"opacity: 0.80\"> </span><span style=\"background-color: hsl(120, 100.00%, 77.24%); opacity: 0.89\" title=\"0.133\">arthur</span><span style=\"opacity: 0.80\"> </span><span style=\"background-color: hsl(120, 100.00%, 87.24%); opacity: 0.84\" title=\"0.058\">miller</span><span style=\"opacity: 0.80\">'s \"the </span><span style=\"background-color: hsl(0, 100.00%, 95.32%); opacity: 0.81\" title=\"-0.014\">crucible</span><span style=\"opacity: 0.80\">\", the hoked-up </span><span style=\"background-color: hsl(0, 100.00%, 73.90%); opacity: 0.91\" title=\"-0.162\">melodrama</span><span style=\"opacity: 0.80\"> on </span><span style=\"background-color: hsl(0, 100.00%, 90.87%); opacity: 0.82\" title=\"-0.036\">display</span><span style=\"opacity: 0.80\"> here </span><span style=\"background-color: hsl(120, 100.00%, 85.87%); opacity: 0.85\" title=\"0.067\">won</span><span style=\"opacity: 0.80\">'t be </span><span style=\"background-color: hsl(0, 100.00%, 89.91%); opacity: 0.83\" title=\"-0.042\">tolerated</span><span style=\"opacity: 0.80\"> for very </span><span style=\"background-color: hsl(120, 100.00%, 97.45%); opacity: 0.80\" title=\"0.006\">long</span><span style=\"opacity: 0.80\">. </span><span style=\"background-color: hsl(0, 100.00%, 76.19%); opacity: 0.90\" title=\"-0.142\">biggest</span><span style=\"opacity: 0.80\"> </span><span style=\"background-color: hsl(0, 100.00%, 60.00%); opacity: 1.00\" title=\"-0.299\">problem</span><span style=\"opacity: 0.80\"> with the </span><span style=\"background-color: hsl(120, 100.00%, 99.58%); opacity: 0.80\" title=\"0.000\">picture</span><span style=\"opacity: 0.80\"> may </span><span style=\"background-color: hsl(120, 100.00%, 94.99%); opacity: 0.81\" title=\"0.015\">lie</span><span style=\"opacity: 0.80\"> in the </span><span style=\"background-color: hsl(0, 100.00%, 81.66%); opacity: 0.87\" title=\"-0.098\">casting</span><span style=\"opacity: 0.80\">: </span><span style=\"background-color: hsl(120, 100.00%, 80.87%); opacity: 0.87\" title=\"0.104\">colbert</span><span style=\"opacity: 0.80\"> and </span><span style=\"background-color: hsl(120, 100.00%, 75.63%); opacity: 0.90\" title=\"0.147\">macmurray</span><span style=\"opacity: 0.80\"> are an </span><span style=\"background-color: hsl(0, 100.00%, 85.71%); opacity: 0.85\" title=\"-0.069\">ill</span><span style=\"opacity: 0.80\">-</span><span style=\"background-color: hsl(120, 100.00%, 78.85%); opacity: 0.88\" title=\"0.120\">matched</span><span style=\"opacity: 0.80\"> </span><span style=\"background-color: hsl(120, 100.00%, 89.19%); opacity: 0.83\" title=\"0.046\">pair</span><span style=\"opacity: 0.80\"> of </span><span style=\"background-color: hsl(120, 100.00%, 87.12%); opacity: 0.84\" title=\"0.059\">lovers</span><span style=\"opacity: 0.80\"> </span><span style=\"background-color: hsl(0, 100.00%, 89.54%); opacity: 0.83\" title=\"-0.044\">hindered</span><span style=\"opacity: 0.80\"> by the </span><span style=\"background-color: hsl(120, 100.00%, 97.01%); opacity: 0.80\" title=\"0.007\">witch</span><span style=\"opacity: 0.80\">-</span><span style=\"background-color: hsl(120, 100.00%, 91.16%); opacity: 0.82\" title=\"0.035\">hunt</span><span style=\"opacity: 0.80\">, </span><span style=\"background-color: hsl(120, 100.00%, 75.63%); opacity: 0.90\" title=\"0.147\">macmurray</span><span style=\"opacity: 0.80\"> being </span><span style=\"background-color: hsl(0, 100.00%, 73.05%); opacity: 0.91\" title=\"-0.170\">far</span><span style=\"opacity: 0.80\"> too </span><span style=\"background-color: hsl(120, 100.00%, 74.14%); opacity: 0.91\" title=\"0.160\">contemporary</span><span style=\"opacity: 0.80\"> a </span><span style=\"background-color: hsl(0, 100.00%, 87.64%); opacity: 0.84\" title=\"-0.056\">presence</span><span style=\"opacity: 0.80\"> for these </span><span style=\"background-color: hsl(120, 100.00%, 90.38%); opacity: 0.83\" title=\"0.039\">surroundings</span><span style=\"opacity: 0.80\">. *1/2 from ****</span>\n",
       "</p>\n"
      ],
      "text/plain": [
       "<IPython.core.display.HTML object>"
      ]
     },
     "metadata": {},
     "output_type": "display_data"
    },
    {
     "data": {
      "text/html": [
       "<p style=background-color:black;color:white;font-weight:bold;padding:4px>'Meh' Movie #3 😐</p>"
      ],
      "text/plain": [
       "<IPython.core.display.HTML object>"
      ]
     },
     "metadata": {},
     "output_type": "display_data"
    },
    {
     "data": {
      "text/html": [
       "\n",
       "<style>\n",
       "    table.eli5-weights tr:hover {\n",
       "        filter: brightness(85%);\n",
       "    }\n",
       "</style>\n",
       "\n",
       "\n",
       "<p style=\"margin-bottom: 2.5em; margin-top:-0.5em;\">\n",
       "<span style=\"background-color: hsl(0, 100.00%, 99.03%); opacity: 0.80\" title=\"-0.002\">violent</span><span style=\"opacity: 0.80\"> </span><span style=\"background-color: hsl(0, 100.00%, 81.53%); opacity: 0.87\" title=\"-0.128\">sequel</span><span style=\"opacity: 0.80\"> to </span><span style=\"background-color: hsl(0, 100.00%, 97.65%); opacity: 0.80\" title=\"-0.007\">robocop</span><span style=\"opacity: 0.80\"> was </span><span style=\"background-color: hsl(0, 100.00%, 96.85%); opacity: 0.81\" title=\"-0.010\">directed</span><span style=\"opacity: 0.80\"> by </span><span style=\"background-color: hsl(0, 100.00%, 93.54%); opacity: 0.81\" title=\"-0.029\">irvin</span><span style=\"opacity: 0.80\"> </span><span style=\"background-color: hsl(0, 100.00%, 95.49%); opacity: 0.81\" title=\"-0.017\">kershner</span><span style=\"opacity: 0.80\"> (never </span><span style=\"background-color: hsl(120, 100.00%, 94.55%); opacity: 0.81\" title=\"0.022\">say</span><span style=\"opacity: 0.80\"> never again, the </span><span style=\"background-color: hsl(0, 100.00%, 95.76%); opacity: 0.81\" title=\"-0.016\">empire</span><span style=\"opacity: 0.80\"> </span><span style=\"background-color: hsl(120, 100.00%, 87.09%); opacity: 0.84\" title=\"0.077\">strikes</span><span style=\"opacity: 0.80\"> back) will never be as </span><span style=\"background-color: hsl(120, 100.00%, 84.74%); opacity: 0.85\" title=\"0.098\">good</span><span style=\"opacity: 0.80\"> as the </span><span style=\"background-color: hsl(0, 100.00%, 79.35%); opacity: 0.88\" title=\"-0.151\">original</span><span style=\"opacity: 0.80\">, because it is almost </span><span style=\"background-color: hsl(0, 100.00%, 84.05%); opacity: 0.85\" title=\"-0.104\">humorless</span><span style=\"opacity: 0.80\">, and it is </span><span style=\"background-color: hsl(0, 100.00%, 93.55%); opacity: 0.81\" title=\"-0.029\">extremely</span><span style=\"opacity: 0.80\"> </span><span style=\"background-color: hsl(0, 100.00%, 82.52%); opacity: 0.86\" title=\"-0.119\">mean</span><span style=\"opacity: 0.80\">, and should have been </span><span style=\"background-color: hsl(0, 100.00%, 96.51%); opacity: 0.81\" title=\"-0.012\">rated</span><span style=\"opacity: 0.80\"> </span><span style=\"background-color: hsl(0, 100.00%, 83.75%); opacity: 0.86\" title=\"-0.107\">nc</span><span style=\"opacity: 0.80\">-</span><span style=\"background-color: hsl(120, 100.00%, 87.14%); opacity: 0.84\" title=\"0.077\">17</span><span style=\"opacity: 0.80\">, because of </span><span style=\"background-color: hsl(0, 100.00%, 94.35%); opacity: 0.81\" title=\"-0.024\">scenes</span><span style=\"opacity: 0.80\"> with </span><span style=\"background-color: hsl(0, 100.00%, 96.85%); opacity: 0.81\" title=\"-0.010\">infants</span><span style=\"opacity: 0.80\"> being </span><span style=\"background-color: hsl(0, 100.00%, 94.15%); opacity: 0.81\" title=\"-0.025\">involved</span><span style=\"opacity: 0.80\"> in </span><span style=\"background-color: hsl(0, 100.00%, 92.29%); opacity: 0.82\" title=\"-0.037\">gunfights</span><span style=\"opacity: 0.80\">, </span><span style=\"background-color: hsl(120, 100.00%, 95.13%); opacity: 0.81\" title=\"0.019\">people</span><span style=\"opacity: 0.80\"> </span><span style=\"background-color: hsl(0, 100.00%, 85.90%); opacity: 0.85\" title=\"-0.087\">threatening</span><span style=\"opacity: 0.80\"> to </span><span style=\"background-color: hsl(120, 100.00%, 97.06%); opacity: 0.80\" title=\"0.009\">brutally</span><span style=\"opacity: 0.80\"> </span><span style=\"background-color: hsl(120, 100.00%, 84.40%); opacity: 0.85\" title=\"0.101\">murder</span><span style=\"opacity: 0.80\"> very </span><span style=\"background-color: hsl(120, 100.00%, 86.81%); opacity: 0.84\" title=\"0.079\">young</span><span style=\"opacity: 0.80\"> </span><span style=\"background-color: hsl(0, 100.00%, 96.85%); opacity: 0.81\" title=\"-0.010\">infants</span><span style=\"opacity: 0.80\"> with </span><span style=\"background-color: hsl(120, 100.00%, 91.38%); opacity: 0.82\" title=\"0.043\">real</span><span style=\"opacity: 0.80\"> </span><span style=\"background-color: hsl(120, 100.00%, 99.31%); opacity: 0.80\" title=\"0.001\">automatic</span><span style=\"opacity: 0.80\"> </span><span style=\"background-color: hsl(0, 100.00%, 84.52%); opacity: 0.85\" title=\"-0.100\">weapons</span><span style=\"opacity: 0.80\">, and even </span><span style=\"background-color: hsl(0, 100.00%, 94.35%); opacity: 0.81\" title=\"-0.024\">scenes</span><span style=\"opacity: 0.80\"> with a </span><span style=\"background-color: hsl(0, 100.00%, 81.74%); opacity: 0.87\" title=\"-0.126\">12</span><span style=\"opacity: 0.80\"> </span><span style=\"background-color: hsl(120, 100.00%, 90.63%); opacity: 0.83\" title=\"0.049\">year</span><span style=\"opacity: 0.80\"> </span><span style=\"background-color: hsl(0, 100.00%, 92.04%); opacity: 0.82\" title=\"-0.039\">old</span><span style=\"opacity: 0.80\"> </span><span style=\"background-color: hsl(0, 100.00%, 89.38%); opacity: 0.83\" title=\"-0.058\">using</span><span style=\"opacity: 0.80\"> </span><span style=\"background-color: hsl(120, 100.00%, 93.10%); opacity: 0.82\" title=\"0.031\">lots</span><span style=\"opacity: 0.80\"> of </span><span style=\"background-color: hsl(120, 100.00%, 88.40%); opacity: 0.83\" title=\"0.066\">explicit</span><span style=\"opacity: 0.80\"> </span><span style=\"background-color: hsl(0, 100.00%, 87.92%); opacity: 0.84\" title=\"-0.070\">profanity</span><span style=\"opacity: 0.80\">, </span><span style=\"background-color: hsl(0, 100.00%, 89.74%); opacity: 0.83\" title=\"-0.055\">giving</span><span style=\"opacity: 0.80\"> </span><span style=\"background-color: hsl(120, 100.00%, 86.41%); opacity: 0.84\" title=\"0.083\">drugs</span><span style=\"opacity: 0.80\"> to </span><span style=\"background-color: hsl(120, 100.00%, 93.10%); opacity: 0.82\" title=\"0.031\">lots</span><span style=\"opacity: 0.80\"> of </span><span style=\"background-color: hsl(0, 100.00%, 80.48%); opacity: 0.87\" title=\"-0.139\">random</span><span style=\"opacity: 0.80\"> </span><span style=\"background-color: hsl(120, 100.00%, 95.13%); opacity: 0.81\" title=\"0.019\">people</span><span style=\"opacity: 0.80\">, </span><span style=\"background-color: hsl(0, 100.00%, 92.01%); opacity: 0.82\" title=\"-0.039\">shooting</span><span style=\"opacity: 0.80\"> and </span><span style=\"background-color: hsl(0, 100.00%, 95.61%); opacity: 0.81\" title=\"-0.016\">graphically</span><span style=\"opacity: 0.80\"> </span><span style=\"background-color: hsl(0, 100.00%, 92.01%); opacity: 0.82\" title=\"-0.039\">shooting</span><span style=\"opacity: 0.80\"> up and </span><span style=\"background-color: hsl(0, 100.00%, 99.05%); opacity: 0.80\" title=\"-0.002\">killing</span><span style=\"opacity: 0.80\"> </span><span style=\"background-color: hsl(120, 100.00%, 90.53%); opacity: 0.83\" title=\"0.049\">policemen</span><span style=\"opacity: 0.80\"> and </span><span style=\"background-color: hsl(0, 100.00%, 95.26%); opacity: 0.81\" title=\"-0.018\">swat</span><span style=\"opacity: 0.80\"> </span><span style=\"background-color: hsl(120, 100.00%, 86.78%); opacity: 0.84\" title=\"0.080\">officers</span><span style=\"opacity: 0.80\">, </span><span style=\"background-color: hsl(120, 100.00%, 92.87%); opacity: 0.82\" title=\"0.033\">opening</span><span style=\"opacity: 0.80\"> fire on </span><span style=\"background-color: hsl(120, 100.00%, 85.48%); opacity: 0.85\" title=\"0.091\">police</span><span style=\"opacity: 0.80\"> </span><span style=\"background-color: hsl(120, 100.00%, 86.78%); opacity: 0.84\" title=\"0.080\">officers</span><span style=\"opacity: 0.80\"> when </span><span style=\"background-color: hsl(120, 100.00%, 93.10%); opacity: 0.82\" title=\"0.031\">lots</span><span style=\"opacity: 0.80\"> of </span><span style=\"background-color: hsl(120, 100.00%, 84.00%); opacity: 0.85\" title=\"0.105\">small</span><span style=\"opacity: 0.80\"> and </span><span style=\"background-color: hsl(120, 100.00%, 86.81%); opacity: 0.84\" title=\"0.079\">young</span><span style=\"opacity: 0.80\"> </span><span style=\"background-color: hsl(0, 100.00%, 98.27%); opacity: 0.80\" title=\"-0.004\">children</span><span style=\"opacity: 0.80\"> are </span><span style=\"background-color: hsl(120, 100.00%, 93.67%); opacity: 0.81\" title=\"0.028\">present</span><span style=\"opacity: 0.80\">, and a whole </span><span style=\"background-color: hsl(0, 100.00%, 98.22%); opacity: 0.80\" title=\"-0.005\">group</span><span style=\"opacity: 0.80\"> of </span><span style=\"background-color: hsl(0, 100.00%, 98.27%); opacity: 0.80\" title=\"-0.004\">children</span><span style=\"opacity: 0.80\"> </span><span style=\"background-color: hsl(0, 100.00%, 89.38%); opacity: 0.83\" title=\"-0.058\">using</span><span style=\"opacity: 0.80\"> </span><span style=\"background-color: hsl(120, 100.00%, 70.33%); opacity: 0.93\" title=\"0.253\">strong</span><span style=\"opacity: 0.80\"> </span><span style=\"background-color: hsl(0, 100.00%, 87.92%); opacity: 0.84\" title=\"-0.070\">profanity</span><span style=\"opacity: 0.80\"> and </span><span style=\"background-color: hsl(120, 100.00%, 92.64%); opacity: 0.82\" title=\"0.035\">beating</span><span style=\"opacity: 0.80\"> up the </span><span style=\"background-color: hsl(0, 100.00%, 93.20%); opacity: 0.82\" title=\"-0.031\">store</span><span style=\"opacity: 0.80\"> </span><span style=\"background-color: hsl(120, 100.00%, 89.95%); opacity: 0.83\" title=\"0.054\">owner</span><span style=\"opacity: 0.80\"> (who is a very </span><span style=\"background-color: hsl(0, 100.00%, 92.04%); opacity: 0.82\" title=\"-0.039\">old</span><span style=\"opacity: 0.80\"> </span><span style=\"background-color: hsl(120, 100.00%, 89.85%); opacity: 0.83\" title=\"0.055\">man</span><span style=\"opacity: 0.80\">) of an </span><span style=\"background-color: hsl(0, 100.00%, 95.97%); opacity: 0.81\" title=\"-0.015\">electronics</span><span style=\"opacity: 0.80\"> </span><span style=\"background-color: hsl(0, 100.00%, 93.20%); opacity: 0.82\" title=\"-0.031\">store</span><span style=\"opacity: 0.80\"> and </span><span style=\"background-color: hsl(0, 100.00%, 85.69%); opacity: 0.85\" title=\"-0.089\">stealing</span><span style=\"opacity: 0.80\"> and </span><span style=\"background-color: hsl(0, 100.00%, 86.23%); opacity: 0.84\" title=\"-0.084\">destroying</span><span style=\"opacity: 0.80\"> </span><span style=\"background-color: hsl(120, 100.00%, 93.10%); opacity: 0.82\" title=\"0.031\">lots</span><span style=\"opacity: 0.80\"> of </span><span style=\"background-color: hsl(0, 100.00%, 89.18%); opacity: 0.83\" title=\"-0.060\">items</span><span style=\"opacity: 0.80\"> there. this </span><span style=\"background-color: hsl(120, 100.00%, 94.93%); opacity: 0.81\" title=\"0.020\">film</span><span style=\"opacity: 0.80\"> </span><span style=\"background-color: hsl(120, 100.00%, 78.83%); opacity: 0.88\" title=\"0.156\">gives</span><span style=\"opacity: 0.80\"> </span><span style=\"background-color: hsl(120, 100.00%, 93.34%); opacity: 0.82\" title=\"0.030\">new</span><span style=\"opacity: 0.80\"> </span><span style=\"background-color: hsl(120, 100.00%, 91.79%); opacity: 0.82\" title=\"0.040\">meaning</span><span style=\"opacity: 0.80\"> to the </span><span style=\"background-color: hsl(0, 100.00%, 86.46%); opacity: 0.84\" title=\"-0.082\">term</span><span style=\"opacity: 0.80\"> \"</span><span style=\"background-color: hsl(0, 100.00%, 79.61%); opacity: 0.88\" title=\"-0.148\">appallingly</span><span style=\"opacity: 0.80\"> </span><span style=\"background-color: hsl(0, 100.00%, 82.52%); opacity: 0.86\" title=\"-0.119\">mean</span><span style=\"opacity: 0.80\">\", but the </span><span style=\"background-color: hsl(0, 100.00%, 94.76%); opacity: 0.81\" title=\"-0.021\">effects</span><span style=\"opacity: 0.80\"> and </span><span style=\"background-color: hsl(120, 100.00%, 90.17%); opacity: 0.83\" title=\"0.052\">action</span><span style=\"opacity: 0.80\"> </span><span style=\"background-color: hsl(0, 100.00%, 97.31%); opacity: 0.80\" title=\"-0.008\">sequences</span><span style=\"opacity: 0.80\"> are </span><span style=\"background-color: hsl(120, 100.00%, 86.21%); opacity: 0.84\" title=\"0.085\">exceptionally</span><span style=\"opacity: 0.80\"> </span><span style=\"background-color: hsl(120, 100.00%, 60.00%); opacity: 1.00\" title=\"0.387\">incredible</span><span style=\"opacity: 0.80\">. </span><span style=\"background-color: hsl(120, 100.00%, 82.33%); opacity: 0.86\" title=\"0.121\">overall</span><span style=\"opacity: 0.80\">, an </span><span style=\"background-color: hsl(0, 100.00%, 77.91%); opacity: 0.89\" title=\"-0.166\">ok</span><span style=\"opacity: 0.80\"> </span><span style=\"background-color: hsl(0, 100.00%, 97.56%); opacity: 0.80\" title=\"-0.007\">movie</span><span style=\"opacity: 0.80\">.</span>\n",
       "</p>\n"
      ],
      "text/plain": [
       "<IPython.core.display.HTML object>"
      ]
     },
     "metadata": {},
     "output_type": "display_data"
    },
    {
     "data": {
      "text/html": [
       "<p style=background-color:black;color:white;font-weight:bold;padding:4px>'Meh' Movie #4 😐</p>"
      ],
      "text/plain": [
       "<IPython.core.display.HTML object>"
      ]
     },
     "metadata": {},
     "output_type": "display_data"
    },
    {
     "data": {
      "text/html": [
       "\n",
       "<style>\n",
       "    table.eli5-weights tr:hover {\n",
       "        filter: brightness(85%);\n",
       "    }\n",
       "</style>\n",
       "\n",
       "\n",
       "<p style=\"margin-bottom: 2.5em; margin-top:-0.5em;\">\n",
       "<span style=\"background-color: hsl(0, 100.00%, 92.39%); opacity: 0.82\" title=\"-0.017\">homelessness</span><span style=\"opacity: 0.80\"> (or houselessness as </span><span style=\"background-color: hsl(120, 100.00%, 90.01%); opacity: 0.83\" title=\"0.025\">george</span><span style=\"opacity: 0.80\"> </span><span style=\"background-color: hsl(120, 100.00%, 81.99%); opacity: 0.86\" title=\"0.057\">carlin</span><span style=\"opacity: 0.80\"> </span><span style=\"background-color: hsl(0, 100.00%, 94.21%); opacity: 0.81\" title=\"-0.011\">stated</span><span style=\"opacity: 0.80\">) has been an </span><span style=\"background-color: hsl(120, 100.00%, 96.40%); opacity: 0.81\" title=\"0.006\">issue</span><span style=\"opacity: 0.80\"> for </span><span style=\"background-color: hsl(120, 100.00%, 82.95%); opacity: 0.86\" title=\"0.053\">years</span><span style=\"opacity: 0.80\"> but never a </span><span style=\"background-color: hsl(0, 100.00%, 93.98%); opacity: 0.81\" title=\"-0.012\">plan</span><span style=\"opacity: 0.80\"> to </span><span style=\"background-color: hsl(120, 100.00%, 91.54%); opacity: 0.82\" title=\"0.019\">help</span><span style=\"opacity: 0.80\"> those on the </span><span style=\"background-color: hsl(120, 100.00%, 97.02%); opacity: 0.80\" title=\"0.004\">street</span><span style=\"opacity: 0.80\"> that were once </span><span style=\"background-color: hsl(120, 100.00%, 96.71%); opacity: 0.81\" title=\"0.005\">considered</span><span style=\"opacity: 0.80\"> </span><span style=\"background-color: hsl(120, 100.00%, 74.07%); opacity: 0.91\" title=\"0.096\">human</span><span style=\"opacity: 0.80\"> who </span><span style=\"background-color: hsl(0, 100.00%, 86.75%); opacity: 0.84\" title=\"-0.037\">did</span><span style=\"opacity: 0.80\"> everything from </span><span style=\"background-color: hsl(120, 100.00%, 95.85%); opacity: 0.81\" title=\"0.007\">going</span><span style=\"opacity: 0.80\"> to </span><span style=\"background-color: hsl(120, 100.00%, 87.30%); opacity: 0.84\" title=\"0.035\">school</span><span style=\"opacity: 0.80\">, </span><span style=\"background-color: hsl(120, 100.00%, 94.95%); opacity: 0.81\" title=\"0.009\">work</span><span style=\"opacity: 0.80\">, or </span><span style=\"background-color: hsl(0, 100.00%, 85.43%); opacity: 0.85\" title=\"-0.042\">vote</span><span style=\"opacity: 0.80\"> for the </span><span style=\"background-color: hsl(120, 100.00%, 86.12%); opacity: 0.84\" title=\"0.039\">matter</span><span style=\"opacity: 0.80\">. most </span><span style=\"background-color: hsl(120, 100.00%, 94.32%); opacity: 0.81\" title=\"0.011\">people</span><span style=\"opacity: 0.80\"> </span><span style=\"background-color: hsl(120, 100.00%, 81.33%); opacity: 0.87\" title=\"0.060\">think</span><span style=\"opacity: 0.80\"> of the </span><span style=\"background-color: hsl(0, 100.00%, 84.44%); opacity: 0.85\" title=\"-0.046\">homeless</span><span style=\"opacity: 0.80\"> as </span><span style=\"background-color: hsl(0, 100.00%, 81.13%); opacity: 0.87\" title=\"-0.061\">just</span><span style=\"opacity: 0.80\"> a </span><span style=\"background-color: hsl(0, 100.00%, 85.62%); opacity: 0.85\" title=\"-0.041\">lost</span><span style=\"opacity: 0.80\"> </span><span style=\"background-color: hsl(120, 100.00%, 83.75%); opacity: 0.86\" title=\"0.049\">cause</span><span style=\"opacity: 0.80\"> while </span><span style=\"background-color: hsl(0, 100.00%, 95.23%); opacity: 0.81\" title=\"-0.009\">worrying</span><span style=\"opacity: 0.80\"> about </span><span style=\"background-color: hsl(120, 100.00%, 85.23%); opacity: 0.85\" title=\"0.043\">things</span><span style=\"opacity: 0.80\"> such as </span><span style=\"background-color: hsl(0, 100.00%, 84.29%); opacity: 0.85\" title=\"-0.047\">racism</span><span style=\"opacity: 0.80\">, the </span><span style=\"background-color: hsl(120, 100.00%, 80.73%); opacity: 0.87\" title=\"0.063\">war</span><span style=\"opacity: 0.80\"> on </span><span style=\"background-color: hsl(0, 100.00%, 90.34%); opacity: 0.83\" title=\"-0.023\">iraq</span><span style=\"opacity: 0.80\">, </span><span style=\"background-color: hsl(120, 100.00%, 97.30%); opacity: 0.80\" title=\"0.004\">pressuring</span><span style=\"opacity: 0.80\"> </span><span style=\"background-color: hsl(120, 100.00%, 90.26%); opacity: 0.83\" title=\"0.024\">kids</span><span style=\"opacity: 0.80\"> to </span><span style=\"background-color: hsl(0, 100.00%, 90.21%); opacity: 0.83\" title=\"-0.024\">succeed</span><span style=\"opacity: 0.80\">, </span><span style=\"background-color: hsl(120, 100.00%, 81.15%); opacity: 0.87\" title=\"0.061\">technology</span><span style=\"opacity: 0.80\">, the </span><span style=\"background-color: hsl(0, 100.00%, 90.20%); opacity: 0.83\" title=\"-0.024\">elections</span><span style=\"opacity: 0.80\">, </span><span style=\"background-color: hsl(120, 100.00%, 98.23%); opacity: 0.80\" title=\"0.002\">inflation</span><span style=\"opacity: 0.80\">, or </span><span style=\"background-color: hsl(0, 100.00%, 95.23%); opacity: 0.81\" title=\"-0.009\">worrying</span><span style=\"opacity: 0.80\"> if they'</span><span style=\"background-color: hsl(0, 100.00%, 79.28%); opacity: 0.88\" title=\"-0.069\">ll</span><span style=\"opacity: 0.80\"> be next to </span><span style=\"background-color: hsl(120, 100.00%, 96.10%); opacity: 0.81\" title=\"0.006\">end</span><span style=\"opacity: 0.80\"> up on the </span><span style=\"background-color: hsl(120, 100.00%, 87.80%); opacity: 0.84\" title=\"0.033\">streets</span><span style=\"opacity: 0.80\">. but what if you were </span><span style=\"background-color: hsl(0, 100.00%, 76.70%); opacity: 0.89\" title=\"-0.082\">given</span><span style=\"opacity: 0.80\"> a </span><span style=\"background-color: hsl(0, 100.00%, 89.32%); opacity: 0.83\" title=\"-0.027\">bet</span><span style=\"opacity: 0.80\"> to </span><span style=\"background-color: hsl(120, 100.00%, 95.05%); opacity: 0.81\" title=\"0.009\">live</span><span style=\"opacity: 0.80\"> on the </span><span style=\"background-color: hsl(120, 100.00%, 87.80%); opacity: 0.84\" title=\"0.033\">streets</span><span style=\"opacity: 0.80\"> for a </span><span style=\"background-color: hsl(120, 100.00%, 91.08%); opacity: 0.82\" title=\"0.021\">month</span><span style=\"opacity: 0.80\"> without the luxuries you once had from a </span><span style=\"background-color: hsl(120, 100.00%, 86.09%); opacity: 0.84\" title=\"0.039\">home</span><span style=\"opacity: 0.80\">, the </span><span style=\"background-color: hsl(120, 100.00%, 88.32%); opacity: 0.83\" title=\"0.031\">entertainment</span><span style=\"opacity: 0.80\"> </span><span style=\"background-color: hsl(0, 100.00%, 97.02%); opacity: 0.80\" title=\"-0.004\">sets</span><span style=\"opacity: 0.80\">, a </span><span style=\"background-color: hsl(120, 100.00%, 84.25%); opacity: 0.85\" title=\"0.047\">bathroom</span><span style=\"opacity: 0.80\">, </span><span style=\"background-color: hsl(120, 100.00%, 91.84%); opacity: 0.82\" title=\"0.018\">pictures</span><span style=\"opacity: 0.80\"> on the </span><span style=\"background-color: hsl(120, 100.00%, 91.37%); opacity: 0.82\" title=\"0.020\">wall</span><span style=\"opacity: 0.80\">, a </span><span style=\"background-color: hsl(0, 100.00%, 89.14%); opacity: 0.83\" title=\"-0.028\">computer</span><span style=\"opacity: 0.80\">, and everything you once </span><span style=\"background-color: hsl(120, 100.00%, 89.34%); opacity: 0.83\" title=\"0.027\">treasure</span><span style=\"opacity: 0.80\"> to see what it's </span><span style=\"background-color: hsl(0, 100.00%, 93.81%); opacity: 0.81\" title=\"-0.012\">like</span><span style=\"opacity: 0.80\"> to be </span><span style=\"background-color: hsl(0, 100.00%, 84.44%); opacity: 0.85\" title=\"-0.046\">homeless</span><span style=\"opacity: 0.80\">? that is </span><span style=\"background-color: hsl(0, 100.00%, 95.59%); opacity: 0.81\" title=\"-0.008\">goddard</span><span style=\"opacity: 0.80\"> </span><span style=\"background-color: hsl(0, 100.00%, 80.38%); opacity: 0.87\" title=\"-0.064\">bolt</span><span style=\"opacity: 0.80\">'s </span><span style=\"background-color: hsl(120, 100.00%, 87.04%); opacity: 0.84\" title=\"0.036\">lesson</span><span style=\"opacity: 0.80\">. </span><span style=\"background-color: hsl(120, 100.00%, 98.54%); opacity: 0.80\" title=\"0.002\">mel</span><span style=\"opacity: 0.80\"> </span><span style=\"background-color: hsl(120, 100.00%, 76.88%); opacity: 0.89\" title=\"0.081\">brooks</span><span style=\"opacity: 0.80\"> (who </span><span style=\"background-color: hsl(120, 100.00%, 94.61%); opacity: 0.81\" title=\"0.010\">directs</span><span style=\"opacity: 0.80\">) who </span><span style=\"background-color: hsl(120, 100.00%, 89.21%); opacity: 0.83\" title=\"0.027\">stars</span><span style=\"opacity: 0.80\"> as </span><span style=\"background-color: hsl(0, 100.00%, 80.38%); opacity: 0.87\" title=\"-0.064\">bolt</span><span style=\"opacity: 0.80\"> </span><span style=\"background-color: hsl(120, 100.00%, 83.61%); opacity: 0.86\" title=\"0.050\">plays</span><span style=\"opacity: 0.80\"> a </span><span style=\"background-color: hsl(120, 100.00%, 82.76%); opacity: 0.86\" title=\"0.053\">rich</span><span style=\"opacity: 0.80\"> </span><span style=\"background-color: hsl(120, 100.00%, 88.17%); opacity: 0.84\" title=\"0.031\">man</span><span style=\"opacity: 0.80\"> who has everything in the </span><span style=\"background-color: hsl(120, 100.00%, 75.73%); opacity: 0.90\" title=\"0.087\">world</span><span style=\"opacity: 0.80\"> until </span><span style=\"background-color: hsl(120, 100.00%, 80.76%); opacity: 0.87\" title=\"0.063\">deciding</span><span style=\"opacity: 0.80\"> to </span><span style=\"background-color: hsl(0, 100.00%, 81.14%); opacity: 0.87\" title=\"-0.061\">make</span><span style=\"opacity: 0.80\"> a </span><span style=\"background-color: hsl(0, 100.00%, 89.32%); opacity: 0.83\" title=\"-0.027\">bet</span><span style=\"opacity: 0.80\"> with a </span><span style=\"background-color: hsl(0, 100.00%, 97.31%); opacity: 0.80\" title=\"-0.004\">sissy</span><span style=\"opacity: 0.80\"> </span><span style=\"background-color: hsl(120, 100.00%, 82.87%); opacity: 0.86\" title=\"0.053\">rival</span><span style=\"opacity: 0.80\"> (</span><span style=\"background-color: hsl(0, 100.00%, 83.71%); opacity: 0.86\" title=\"-0.049\">jeffery</span><span style=\"opacity: 0.80\"> </span><span style=\"background-color: hsl(0, 100.00%, 93.45%); opacity: 0.82\" title=\"-0.013\">tambor</span><span style=\"opacity: 0.80\">) to see if he can </span><span style=\"background-color: hsl(120, 100.00%, 95.05%); opacity: 0.81\" title=\"0.009\">live</span><span style=\"opacity: 0.80\"> in the </span><span style=\"background-color: hsl(120, 100.00%, 87.80%); opacity: 0.84\" title=\"0.033\">streets</span><span style=\"opacity: 0.80\"> for </span><span style=\"background-color: hsl(0, 100.00%, 84.85%); opacity: 0.85\" title=\"-0.044\">thirty</span><span style=\"opacity: 0.80\"> </span><span style=\"background-color: hsl(120, 100.00%, 85.83%); opacity: 0.85\" title=\"0.040\">days</span><span style=\"opacity: 0.80\"> without the luxuries; if </span><span style=\"background-color: hsl(0, 100.00%, 80.38%); opacity: 0.87\" title=\"-0.064\">bolt</span><span style=\"opacity: 0.80\"> </span><span style=\"background-color: hsl(120, 100.00%, 69.88%); opacity: 0.93\" title=\"0.119\">succeeds</span><span style=\"opacity: 0.80\">, he can do what he </span><span style=\"background-color: hsl(120, 100.00%, 95.35%); opacity: 0.81\" title=\"0.008\">wants</span><span style=\"opacity: 0.80\"> with a </span><span style=\"background-color: hsl(120, 100.00%, 73.07%); opacity: 0.91\" title=\"0.101\">future</span><span style=\"opacity: 0.80\"> </span><span style=\"background-color: hsl(0, 100.00%, 78.46%); opacity: 0.88\" title=\"-0.073\">project</span><span style=\"opacity: 0.80\"> of </span><span style=\"background-color: hsl(0, 100.00%, 86.83%); opacity: 0.84\" title=\"-0.036\">making</span><span style=\"opacity: 0.80\"> more </span><span style=\"background-color: hsl(0, 100.00%, 93.34%); opacity: 0.82\" title=\"-0.014\">buildings</span><span style=\"opacity: 0.80\">. the </span><span style=\"background-color: hsl(0, 100.00%, 89.32%); opacity: 0.83\" title=\"-0.027\">bet</span><span style=\"opacity: 0.80\">'s on where </span><span style=\"background-color: hsl(0, 100.00%, 80.38%); opacity: 0.87\" title=\"-0.064\">bolt</span><span style=\"opacity: 0.80\"> is </span><span style=\"background-color: hsl(0, 100.00%, 80.52%); opacity: 0.87\" title=\"-0.064\">thrown</span><span style=\"opacity: 0.80\"> on the </span><span style=\"background-color: hsl(120, 100.00%, 97.02%); opacity: 0.80\" title=\"0.004\">street</span><span style=\"opacity: 0.80\"> with a </span><span style=\"background-color: hsl(120, 100.00%, 85.74%); opacity: 0.85\" title=\"0.041\">bracelet</span><span style=\"opacity: 0.80\"> on his </span><span style=\"background-color: hsl(0, 100.00%, 96.23%); opacity: 0.81\" title=\"-0.006\">leg</span><span style=\"opacity: 0.80\"> to </span><span style=\"background-color: hsl(120, 100.00%, 94.15%); opacity: 0.81\" title=\"0.011\">monitor</span><span style=\"opacity: 0.80\"> his every move where he can't </span><span style=\"background-color: hsl(120, 100.00%, 93.19%); opacity: 0.82\" title=\"0.014\">step</span><span style=\"opacity: 0.80\"> off the </span><span style=\"background-color: hsl(120, 100.00%, 89.46%); opacity: 0.83\" title=\"0.026\">sidewalk</span><span style=\"opacity: 0.80\">. he's </span><span style=\"background-color: hsl(0, 100.00%, 76.70%); opacity: 0.89\" title=\"-0.082\">given</span><span style=\"opacity: 0.80\"> the </span><span style=\"background-color: hsl(120, 100.00%, 88.67%); opacity: 0.83\" title=\"0.029\">nickname</span><span style=\"opacity: 0.80\"> pepto by a vagrant after it's </span><span style=\"background-color: hsl(120, 100.00%, 98.42%); opacity: 0.80\" title=\"0.002\">written</span><span style=\"opacity: 0.80\"> on his </span><span style=\"background-color: hsl(0, 100.00%, 80.30%); opacity: 0.87\" title=\"-0.065\">forehead</span><span style=\"opacity: 0.80\"> where </span><span style=\"background-color: hsl(0, 100.00%, 80.38%); opacity: 0.87\" title=\"-0.064\">bolt</span><span style=\"opacity: 0.80\"> </span><span style=\"background-color: hsl(120, 100.00%, 79.94%); opacity: 0.87\" title=\"0.066\">meets</span><span style=\"opacity: 0.80\"> other </span><span style=\"background-color: hsl(0, 100.00%, 85.41%); opacity: 0.85\" title=\"-0.042\">characters</span><span style=\"opacity: 0.80\"> </span><span style=\"background-color: hsl(120, 100.00%, 83.08%); opacity: 0.86\" title=\"0.052\">including</span><span style=\"opacity: 0.80\"> a </span><span style=\"background-color: hsl(0, 100.00%, 85.01%); opacity: 0.85\" title=\"-0.044\">woman</span><span style=\"opacity: 0.80\"> by the name of </span><span style=\"background-color: hsl(120, 100.00%, 83.16%); opacity: 0.86\" title=\"0.052\">molly</span><span style=\"opacity: 0.80\"> (</span><span style=\"background-color: hsl(0, 100.00%, 92.40%); opacity: 0.82\" title=\"-0.017\">lesley</span><span style=\"opacity: 0.80\"> </span><span style=\"background-color: hsl(120, 100.00%, 93.87%); opacity: 0.81\" title=\"0.012\">ann</span><span style=\"opacity: 0.80\"> </span><span style=\"background-color: hsl(0, 100.00%, 94.31%); opacity: 0.81\" title=\"-0.011\">warren</span><span style=\"opacity: 0.80\">) an </span><span style=\"background-color: hsl(0, 100.00%, 88.40%); opacity: 0.83\" title=\"-0.030\">ex</span><span style=\"opacity: 0.80\">-</span><span style=\"background-color: hsl(0, 100.00%, 91.11%); opacity: 0.82\" title=\"-0.021\">dancer</span><span style=\"opacity: 0.80\"> who </span><span style=\"background-color: hsl(120, 100.00%, 92.26%); opacity: 0.82\" title=\"0.017\">got</span><span style=\"opacity: 0.80\"> </span><span style=\"background-color: hsl(0, 100.00%, 88.70%); opacity: 0.83\" title=\"-0.029\">divorce</span><span style=\"opacity: 0.80\"> before </span><span style=\"background-color: hsl(0, 100.00%, 98.56%); opacity: 0.80\" title=\"-0.002\">losing</span><span style=\"opacity: 0.80\"> her </span><span style=\"background-color: hsl(120, 100.00%, 86.09%); opacity: 0.84\" title=\"0.039\">home</span><span style=\"opacity: 0.80\">, and her </span><span style=\"background-color: hsl(0, 100.00%, 92.27%); opacity: 0.82\" title=\"-0.017\">pals</span><span style=\"opacity: 0.80\"> </span><span style=\"background-color: hsl(120, 100.00%, 80.34%); opacity: 0.87\" title=\"0.064\">sailor</span><span style=\"opacity: 0.80\"> (</span><span style=\"background-color: hsl(120, 100.00%, 93.31%); opacity: 0.82\" title=\"0.014\">howard</span><span style=\"opacity: 0.80\"> </span><span style=\"background-color: hsl(120, 100.00%, 85.36%); opacity: 0.85\" title=\"0.042\">morris</span><span style=\"opacity: 0.80\">) and fumes (</span><span style=\"background-color: hsl(120, 100.00%, 96.75%); opacity: 0.81\" title=\"0.005\">teddy</span><span style=\"opacity: 0.80\"> </span><span style=\"background-color: hsl(120, 100.00%, 87.96%); opacity: 0.84\" title=\"0.032\">wilson</span><span style=\"opacity: 0.80\">) who are already </span><span style=\"background-color: hsl(120, 100.00%, 94.40%); opacity: 0.81\" title=\"0.011\">used</span><span style=\"opacity: 0.80\"> to the </span><span style=\"background-color: hsl(120, 100.00%, 87.80%); opacity: 0.84\" title=\"0.033\">streets</span><span style=\"opacity: 0.80\">. they're </span><span style=\"background-color: hsl(120, 100.00%, 90.83%); opacity: 0.82\" title=\"0.022\">survivors</span><span style=\"opacity: 0.80\">. </span><span style=\"background-color: hsl(0, 100.00%, 80.38%); opacity: 0.87\" title=\"-0.064\">bolt</span><span style=\"opacity: 0.80\"> isn't. he's not </span><span style=\"background-color: hsl(120, 100.00%, 94.40%); opacity: 0.81\" title=\"0.011\">used</span><span style=\"opacity: 0.80\"> to </span><span style=\"background-color: hsl(120, 100.00%, 97.13%); opacity: 0.80\" title=\"0.004\">reaching</span><span style=\"opacity: 0.80\"> </span><span style=\"background-color: hsl(120, 100.00%, 91.67%); opacity: 0.82\" title=\"0.019\">mutual</span><span style=\"opacity: 0.80\"> agreements </span><span style=\"background-color: hsl(0, 100.00%, 93.81%); opacity: 0.81\" title=\"-0.012\">like</span><span style=\"opacity: 0.80\"> he once </span><span style=\"background-color: hsl(0, 100.00%, 86.75%); opacity: 0.84\" title=\"-0.037\">did</span><span style=\"opacity: 0.80\"> when being </span><span style=\"background-color: hsl(120, 100.00%, 82.76%); opacity: 0.86\" title=\"0.053\">rich</span><span style=\"opacity: 0.80\"> where it's </span><span style=\"background-color: hsl(0, 100.00%, 87.42%); opacity: 0.84\" title=\"-0.034\">fight</span><span style=\"opacity: 0.80\"> or </span><span style=\"background-color: hsl(120, 100.00%, 77.33%); opacity: 0.89\" title=\"0.079\">flight</span><span style=\"opacity: 0.80\">, </span><span style=\"background-color: hsl(0, 100.00%, 88.13%); opacity: 0.84\" title=\"-0.031\">kill</span><span style=\"opacity: 0.80\"> or be </span><span style=\"background-color: hsl(0, 100.00%, 82.08%); opacity: 0.86\" title=\"-0.056\">killed</span><span style=\"opacity: 0.80\">. while the </span><span style=\"background-color: hsl(120, 100.00%, 70.87%); opacity: 0.93\" title=\"0.113\">love</span><span style=\"opacity: 0.80\"> </span><span style=\"background-color: hsl(0, 100.00%, 76.21%); opacity: 0.90\" title=\"-0.085\">connection</span><span style=\"opacity: 0.80\"> between </span><span style=\"background-color: hsl(120, 100.00%, 83.16%); opacity: 0.86\" title=\"0.052\">molly</span><span style=\"opacity: 0.80\"> and </span><span style=\"background-color: hsl(0, 100.00%, 80.38%); opacity: 0.87\" title=\"-0.064\">bolt</span><span style=\"opacity: 0.80\"> wasn't </span><span style=\"background-color: hsl(120, 100.00%, 81.44%); opacity: 0.87\" title=\"0.059\">necessary</span><span style=\"opacity: 0.80\"> to </span><span style=\"background-color: hsl(0, 100.00%, 78.36%); opacity: 0.88\" title=\"-0.074\">plot</span><span style=\"opacity: 0.80\">, i found \"</span><span style=\"background-color: hsl(120, 100.00%, 80.15%); opacity: 0.87\" title=\"0.065\">life</span><span style=\"opacity: 0.80\"> </span><span style=\"background-color: hsl(0, 100.00%, 70.27%); opacity: 0.93\" title=\"-0.116\">stinks</span><span style=\"opacity: 0.80\">\" to be one of </span><span style=\"background-color: hsl(120, 100.00%, 98.54%); opacity: 0.80\" title=\"0.002\">mel</span><span style=\"opacity: 0.80\"> </span><span style=\"background-color: hsl(120, 100.00%, 76.88%); opacity: 0.89\" title=\"0.081\">brooks</span><span style=\"opacity: 0.80\">' </span><span style=\"background-color: hsl(120, 100.00%, 90.83%); opacity: 0.82\" title=\"0.022\">observant</span><span style=\"opacity: 0.80\"> </span><span style=\"background-color: hsl(120, 100.00%, 93.54%); opacity: 0.81\" title=\"0.013\">films</span><span style=\"opacity: 0.80\"> where </span><span style=\"background-color: hsl(120, 100.00%, 90.69%); opacity: 0.82\" title=\"0.022\">prior</span><span style=\"opacity: 0.80\"> to being a </span><span style=\"background-color: hsl(120, 100.00%, 95.77%); opacity: 0.81\" title=\"0.007\">comedy</span><span style=\"opacity: 0.80\">, it </span><span style=\"background-color: hsl(120, 100.00%, 74.14%); opacity: 0.91\" title=\"0.095\">shows</span><span style=\"opacity: 0.80\"> a </span><span style=\"background-color: hsl(120, 100.00%, 81.56%); opacity: 0.87\" title=\"0.059\">tender</span><span style=\"opacity: 0.80\"> side </span><span style=\"background-color: hsl(120, 100.00%, 94.80%); opacity: 0.81\" title=\"0.010\">compared</span><span style=\"opacity: 0.80\"> to his </span><span style=\"background-color: hsl(120, 100.00%, 90.70%); opacity: 0.82\" title=\"0.022\">slapstick</span><span style=\"opacity: 0.80\"> </span><span style=\"background-color: hsl(120, 100.00%, 94.95%); opacity: 0.81\" title=\"0.009\">work</span><span style=\"opacity: 0.80\"> such as </span><span style=\"background-color: hsl(0, 100.00%, 92.28%); opacity: 0.82\" title=\"-0.017\">blazing</span><span style=\"opacity: 0.80\"> </span><span style=\"background-color: hsl(0, 100.00%, 85.88%); opacity: 0.85\" title=\"-0.040\">saddles</span><span style=\"opacity: 0.80\">, </span><span style=\"background-color: hsl(120, 100.00%, 84.63%); opacity: 0.85\" title=\"0.045\">young</span><span style=\"opacity: 0.80\"> </span><span style=\"background-color: hsl(0, 100.00%, 87.92%); opacity: 0.84\" title=\"-0.032\">frankenstein</span><span style=\"opacity: 0.80\">, or </span><span style=\"background-color: hsl(120, 100.00%, 93.50%); opacity: 0.81\" title=\"0.013\">spaceballs</span><span style=\"opacity: 0.80\"> for the </span><span style=\"background-color: hsl(120, 100.00%, 86.12%); opacity: 0.84\" title=\"0.039\">matter</span><span style=\"opacity: 0.80\">, to show what it's </span><span style=\"background-color: hsl(0, 100.00%, 93.81%); opacity: 0.81\" title=\"-0.012\">like</span><span style=\"opacity: 0.80\"> </span><span style=\"background-color: hsl(120, 100.00%, 97.41%); opacity: 0.80\" title=\"0.004\">having</span><span style=\"opacity: 0.80\"> something </span><span style=\"background-color: hsl(0, 100.00%, 90.69%); opacity: 0.82\" title=\"-0.022\">valuable</span><span style=\"opacity: 0.80\"> before </span><span style=\"background-color: hsl(0, 100.00%, 98.56%); opacity: 0.80\" title=\"-0.002\">losing</span><span style=\"opacity: 0.80\"> it the next </span><span style=\"background-color: hsl(120, 100.00%, 89.86%); opacity: 0.83\" title=\"0.025\">day</span><span style=\"opacity: 0.80\"> or on the other </span><span style=\"background-color: hsl(0, 100.00%, 85.90%); opacity: 0.85\" title=\"-0.040\">hand</span><span style=\"opacity: 0.80\"> </span><span style=\"background-color: hsl(0, 100.00%, 86.83%); opacity: 0.84\" title=\"-0.036\">making</span><span style=\"opacity: 0.80\"> a </span><span style=\"background-color: hsl(0, 100.00%, 60.00%); opacity: 1.00\" title=\"-0.178\">stupid</span><span style=\"opacity: 0.80\"> </span><span style=\"background-color: hsl(0, 100.00%, 89.32%); opacity: 0.83\" title=\"-0.027\">bet</span><span style=\"opacity: 0.80\"> </span><span style=\"background-color: hsl(0, 100.00%, 93.81%); opacity: 0.81\" title=\"-0.012\">like</span><span style=\"opacity: 0.80\"> all </span><span style=\"background-color: hsl(120, 100.00%, 82.76%); opacity: 0.86\" title=\"0.053\">rich</span><span style=\"opacity: 0.80\"> </span><span style=\"background-color: hsl(120, 100.00%, 94.32%); opacity: 0.81\" title=\"0.011\">people</span><span style=\"opacity: 0.80\"> do when they </span><span style=\"background-color: hsl(0, 100.00%, 88.29%); opacity: 0.83\" title=\"-0.031\">don</span><span style=\"opacity: 0.80\">'t </span><span style=\"background-color: hsl(120, 100.00%, 86.28%); opacity: 0.84\" title=\"0.039\">know</span><span style=\"opacity: 0.80\"> what to do with their </span><span style=\"background-color: hsl(0, 100.00%, 65.31%); opacity: 0.96\" title=\"-0.145\">money</span><span style=\"opacity: 0.80\">. </span><span style=\"background-color: hsl(0, 100.00%, 79.34%); opacity: 0.88\" title=\"-0.069\">maybe</span><span style=\"opacity: 0.80\"> they should give it to the </span><span style=\"background-color: hsl(0, 100.00%, 84.44%); opacity: 0.85\" title=\"-0.046\">homeless</span><span style=\"opacity: 0.80\"> </span><span style=\"background-color: hsl(0, 100.00%, 61.05%); opacity: 0.99\" title=\"-0.171\">instead</span><span style=\"opacity: 0.80\"> of </span><span style=\"background-color: hsl(0, 100.00%, 87.62%); opacity: 0.84\" title=\"-0.033\">using</span><span style=\"opacity: 0.80\"> it </span><span style=\"background-color: hsl(0, 100.00%, 93.81%); opacity: 0.81\" title=\"-0.012\">like</span><span style=\"opacity: 0.80\"> </span><span style=\"background-color: hsl(120, 100.00%, 96.91%); opacity: 0.81\" title=\"0.005\">monopoly</span><span style=\"opacity: 0.80\"> </span><span style=\"background-color: hsl(0, 100.00%, 65.31%); opacity: 0.96\" title=\"-0.145\">money</span><span style=\"opacity: 0.80\">. or </span><span style=\"background-color: hsl(0, 100.00%, 79.34%); opacity: 0.88\" title=\"-0.069\">maybe</span><span style=\"opacity: 0.80\"> this </span><span style=\"background-color: hsl(120, 100.00%, 94.09%); opacity: 0.81\" title=\"0.012\">film</span><span style=\"opacity: 0.80\"> will </span><span style=\"background-color: hsl(0, 100.00%, 95.47%); opacity: 0.81\" title=\"-0.008\">inspire</span><span style=\"opacity: 0.80\"> you to </span><span style=\"background-color: hsl(120, 100.00%, 91.54%); opacity: 0.82\" title=\"0.019\">help</span><span style=\"opacity: 0.80\"> others.</span>\n",
       "</p>\n"
      ],
      "text/plain": [
       "<IPython.core.display.HTML object>"
      ]
     },
     "metadata": {},
     "output_type": "display_data"
    },
    {
     "data": {
      "text/html": [
       "<p style=background-color:black;color:white;font-weight:bold;padding:4px>'Meh' Movie #5 😐</p>"
      ],
      "text/plain": [
       "<IPython.core.display.HTML object>"
      ]
     },
     "metadata": {},
     "output_type": "display_data"
    },
    {
     "data": {
      "text/html": [
       "\n",
       "<style>\n",
       "    table.eli5-weights tr:hover {\n",
       "        filter: brightness(85%);\n",
       "    }\n",
       "</style>\n",
       "\n",
       "\n",
       "<p style=\"margin-bottom: 2.5em; margin-top:-0.5em;\">\n",
       "<span style=\"opacity: 0.80\">this </span><span style=\"background-color: hsl(0, 100.00%, 97.75%); opacity: 0.80\" title=\"-0.005\">movie</span><span style=\"opacity: 0.80\"> is </span><span style=\"background-color: hsl(0, 100.00%, 75.15%); opacity: 0.90\" title=\"-0.148\">total</span><span style=\"opacity: 0.80\"> </span><span style=\"background-color: hsl(0, 100.00%, 93.75%); opacity: 0.81\" title=\"-0.021\">dumbness</span><span style=\"opacity: 0.80\"> </span><span style=\"background-color: hsl(120, 100.00%, 94.90%); opacity: 0.81\" title=\"0.015\">incarnate</span><span style=\"opacity: 0.80\">. yet, i'</span><span style=\"background-color: hsl(0, 100.00%, 89.58%); opacity: 0.83\" title=\"-0.043\">ve</span><span style=\"opacity: 0.80\"> </span><span style=\"background-color: hsl(120, 100.00%, 85.03%); opacity: 0.85\" title=\"0.071\">seen</span><span style=\"opacity: 0.80\"> this </span><span style=\"background-color: hsl(0, 100.00%, 97.75%); opacity: 0.80\" title=\"-0.005\">movie</span><span style=\"opacity: 0.80\"> several </span><span style=\"background-color: hsl(120, 100.00%, 83.74%); opacity: 0.86\" title=\"0.080\">times</span><span style=\"opacity: 0.80\"> already and </span><span style=\"background-color: hsl(0, 100.00%, 95.22%); opacity: 0.81\" title=\"-0.014\">plan</span><span style=\"opacity: 0.80\"> to </span><span style=\"background-color: hsl(120, 100.00%, 93.19%); opacity: 0.82\" title=\"0.023\">watch</span><span style=\"opacity: 0.80\"> several more </span><span style=\"background-color: hsl(120, 100.00%, 83.74%); opacity: 0.86\" title=\"0.080\">times</span><span style=\"opacity: 0.80\"> because, </span><span style=\"background-color: hsl(0, 100.00%, 99.97%); opacity: 0.80\" title=\"-0.000\">despite</span><span style=\"opacity: 0.80\"> its </span><span style=\"background-color: hsl(0, 100.00%, 95.62%); opacity: 0.81\" title=\"-0.012\">sheer</span><span style=\"opacity: 0.80\"> </span><span style=\"background-color: hsl(0, 100.00%, 93.75%); opacity: 0.81\" title=\"-0.021\">dumbness</span><span style=\"opacity: 0.80\">, it's very </span><span style=\"background-color: hsl(120, 100.00%, 68.96%); opacity: 0.94\" title=\"0.203\">entertaining</span><span style=\"opacity: 0.80\">. and it has one of my </span><span style=\"background-color: hsl(120, 100.00%, 60.00%); opacity: 1.00\" title=\"0.291\">favorite</span><span style=\"opacity: 0.80\"> </span><span style=\"background-color: hsl(0, 100.00%, 93.02%); opacity: 0.82\" title=\"-0.024\">hokey</span><span style=\"opacity: 0.80\">-</span><span style=\"background-color: hsl(0, 100.00%, 97.75%); opacity: 0.80\" title=\"-0.005\">movie</span><span style=\"opacity: 0.80\"> </span><span style=\"background-color: hsl(0, 100.00%, 88.47%); opacity: 0.83\" title=\"-0.049\">actors</span><span style=\"opacity: 0.80\">, </span><span style=\"background-color: hsl(120, 100.00%, 88.58%); opacity: 0.83\" title=\"0.049\">casper</span><span style=\"opacity: 0.80\"> </span><span style=\"background-color: hsl(0, 100.00%, 76.18%); opacity: 0.90\" title=\"-0.139\">van</span><span style=\"opacity: 0.80\"> </span><span style=\"background-color: hsl(0, 100.00%, 91.04%); opacity: 0.82\" title=\"-0.034\">dien</span><span style=\"opacity: 0.80\">, who is here in his full </span><span style=\"background-color: hsl(0, 100.00%, 93.02%); opacity: 0.82\" title=\"-0.024\">hokey</span><span style=\"opacity: 0.80\">-</span><span style=\"background-color: hsl(0, 100.00%, 97.75%); opacity: 0.80\" title=\"-0.005\">movie</span><span style=\"opacity: 0.80\"> </span><span style=\"background-color: hsl(120, 100.00%, 89.72%); opacity: 0.83\" title=\"0.042\">glory</span><span style=\"opacity: 0.80\">. here, </span><span style=\"background-color: hsl(120, 100.00%, 88.58%); opacity: 0.83\" title=\"0.049\">casper</span><span style=\"opacity: 0.80\"> </span><span style=\"background-color: hsl(0, 100.00%, 76.18%); opacity: 0.90\" title=\"-0.139\">van</span><span style=\"opacity: 0.80\"> </span><span style=\"background-color: hsl(0, 100.00%, 91.04%); opacity: 0.82\" title=\"-0.034\">dien</span><span style=\"opacity: 0.80\"> is </span><span style=\"background-color: hsl(120, 100.00%, 89.04%); opacity: 0.83\" title=\"0.046\">fully</span><span style=\"opacity: 0.80\"> </span><span style=\"background-color: hsl(120, 100.00%, 88.58%); opacity: 0.83\" title=\"0.049\">casper</span><span style=\"opacity: 0.80\"> </span><span style=\"background-color: hsl(0, 100.00%, 76.18%); opacity: 0.90\" title=\"-0.139\">van</span><span style=\"opacity: 0.80\"> </span><span style=\"background-color: hsl(0, 100.00%, 91.04%); opacity: 0.82\" title=\"-0.034\">dien</span><span style=\"opacity: 0.80\">, and </span><span style=\"background-color: hsl(120, 100.00%, 82.16%); opacity: 0.86\" title=\"0.092\">ya</span><span style=\"opacity: 0.80\"> </span><span style=\"background-color: hsl(120, 100.00%, 91.73%); opacity: 0.82\" title=\"0.031\">gotta</span><span style=\"opacity: 0.80\"> </span><span style=\"background-color: hsl(120, 100.00%, 76.90%); opacity: 0.89\" title=\"0.133\">love</span><span style=\"opacity: 0.80\"> him for it. if he hadn't been in this </span><span style=\"background-color: hsl(0, 100.00%, 97.75%); opacity: 0.80\" title=\"-0.005\">movie</span><span style=\"opacity: 0.80\">, it would have been </span><span style=\"background-color: hsl(0, 100.00%, 91.00%); opacity: 0.82\" title=\"-0.035\">totally</span><span style=\"opacity: 0.80\"> </span><span style=\"background-color: hsl(0, 100.00%, 72.02%); opacity: 0.92\" title=\"-0.175\">unwatchable</span><span style=\"opacity: 0.80\"> </span><span style=\"background-color: hsl(0, 100.00%, 81.22%); opacity: 0.87\" title=\"-0.099\">dreck</span><span style=\"opacity: 0.80\">, or at least </span><span style=\"background-color: hsl(0, 100.00%, 80.03%); opacity: 0.87\" title=\"-0.108\">far</span><span style=\"opacity: 0.80\"> dreckier than it already is. the (</span><span style=\"background-color: hsl(120, 100.00%, 97.78%); opacity: 0.80\" title=\"0.005\">cough</span><span style=\"opacity: 0.80\"> </span><span style=\"background-color: hsl(120, 100.00%, 97.78%); opacity: 0.80\" title=\"0.005\">cough</span><span style=\"opacity: 0.80\">) \"</span><span style=\"background-color: hsl(0, 100.00%, 86.26%); opacity: 0.84\" title=\"-0.063\">science</span><span style=\"opacity: 0.80\">\" </span><span style=\"background-color: hsl(120, 100.00%, 95.56%); opacity: 0.81\" title=\"0.013\">used</span><span style=\"opacity: 0.80\"> here </span><span style=\"background-color: hsl(120, 100.00%, 77.45%); opacity: 0.89\" title=\"0.128\">makes</span><span style=\"opacity: 0.80\"> </span><span style=\"background-color: hsl(0, 100.00%, 84.65%); opacity: 0.85\" title=\"-0.074\">absolutely</span><span style=\"opacity: 0.80\"> no </span><span style=\"background-color: hsl(0, 100.00%, 95.65%); opacity: 0.81\" title=\"-0.012\">sense</span><span style=\"opacity: 0.80\"> at all. no one else in the </span><span style=\"background-color: hsl(120, 100.00%, 80.75%); opacity: 0.87\" title=\"0.102\">world</span><span style=\"opacity: 0.80\"> </span><span style=\"background-color: hsl(120, 100.00%, 85.04%); opacity: 0.85\" title=\"0.071\">noticed</span><span style=\"opacity: 0.80\"> that </span><span style=\"background-color: hsl(0, 100.00%, 94.06%); opacity: 0.81\" title=\"-0.019\">big</span><span style=\"opacity: 0.80\"> </span><span style=\"background-color: hsl(0, 100.00%, 85.33%); opacity: 0.85\" title=\"-0.069\">asteroid</span><span style=\"opacity: 0.80\"> </span><span style=\"background-color: hsl(0, 100.00%, 87.49%); opacity: 0.84\" title=\"-0.055\">approaching</span><span style=\"opacity: 0.80\"> the </span><span style=\"background-color: hsl(0, 100.00%, 91.26%); opacity: 0.82\" title=\"-0.033\">earth</span><span style=\"opacity: 0.80\"> besides that </span><span style=\"background-color: hsl(120, 100.00%, 85.21%); opacity: 0.85\" title=\"0.070\">small</span><span style=\"opacity: 0.80\"> </span><span style=\"background-color: hsl(0, 100.00%, 98.36%); opacity: 0.80\" title=\"-0.003\">group</span><span style=\"opacity: 0.80\">? not even with </span><span style=\"background-color: hsl(0, 100.00%, 86.59%); opacity: 0.84\" title=\"-0.061\">thousands</span><span style=\"opacity: 0.80\"> and </span><span style=\"background-color: hsl(0, 100.00%, 86.59%); opacity: 0.84\" title=\"-0.061\">thousands</span><span style=\"opacity: 0.80\"> and </span><span style=\"background-color: hsl(0, 100.00%, 86.59%); opacity: 0.84\" title=\"-0.061\">thousands</span><span style=\"opacity: 0.80\"> of </span><span style=\"background-color: hsl(120, 100.00%, 82.94%); opacity: 0.86\" title=\"0.086\">professional</span><span style=\"opacity: 0.80\"> and </span><span style=\"background-color: hsl(0, 100.00%, 78.24%); opacity: 0.88\" title=\"-0.122\">amateur</span><span style=\"opacity: 0.80\"> astronomers </span><span style=\"background-color: hsl(0, 100.00%, 93.15%); opacity: 0.82\" title=\"-0.023\">constantly</span><span style=\"opacity: 0.80\"> </span><span style=\"background-color: hsl(120, 100.00%, 85.15%); opacity: 0.85\" title=\"0.071\">searching</span><span style=\"opacity: 0.80\"> the </span><span style=\"background-color: hsl(0, 100.00%, 94.17%); opacity: 0.81\" title=\"-0.019\">skies</span><span style=\"opacity: 0.80\"> for </span><span style=\"background-color: hsl(0, 100.00%, 85.03%); opacity: 0.85\" title=\"-0.071\">just</span><span style=\"opacity: 0.80\"> such a </span><span style=\"background-color: hsl(0, 100.00%, 82.49%); opacity: 0.86\" title=\"-0.089\">thing</span><span style=\"opacity: 0.80\">? an </span><span style=\"background-color: hsl(0, 100.00%, 85.33%); opacity: 0.85\" title=\"-0.069\">asteroid</span><span style=\"opacity: 0.80\"> that </span><span style=\"background-color: hsl(0, 100.00%, 94.06%); opacity: 0.81\" title=\"-0.019\">big</span><span style=\"opacity: 0.80\"> would have made itself </span><span style=\"background-color: hsl(0, 100.00%, 84.30%); opacity: 0.85\" title=\"-0.077\">completely</span><span style=\"opacity: 0.80\"> </span><span style=\"background-color: hsl(0, 100.00%, 81.84%); opacity: 0.86\" title=\"-0.094\">obvious</span><span style=\"opacity: 0.80\"> to anyone who has a </span><span style=\"background-color: hsl(120, 100.00%, 91.99%); opacity: 0.82\" title=\"0.029\">pair</span><span style=\"opacity: 0.80\"> of </span><span style=\"background-color: hsl(120, 100.00%, 84.97%); opacity: 0.85\" title=\"0.072\">eyes</span><span style=\"opacity: 0.80\"> even </span><span style=\"background-color: hsl(0, 100.00%, 84.37%); opacity: 0.85\" title=\"-0.076\">vaguely</span><span style=\"opacity: 0.80\"> </span><span style=\"background-color: hsl(0, 100.00%, 95.28%); opacity: 0.81\" title=\"-0.014\">capable</span><span style=\"opacity: 0.80\"> of </span><span style=\"background-color: hsl(0, 100.00%, 98.35%); opacity: 0.80\" title=\"-0.003\">sight</span><span style=\"opacity: 0.80\">. and a </span><span style=\"background-color: hsl(120, 100.00%, 81.73%); opacity: 0.87\" title=\"0.095\">chunk</span><span style=\"opacity: 0.80\"> of the </span><span style=\"background-color: hsl(0, 100.00%, 85.33%); opacity: 0.85\" title=\"-0.069\">asteroid</span><span style=\"opacity: 0.80\"> </span><span style=\"background-color: hsl(0, 100.00%, 93.13%); opacity: 0.82\" title=\"-0.023\">bounced</span><span style=\"opacity: 0.80\"> off the </span><span style=\"background-color: hsl(120, 100.00%, 75.39%); opacity: 0.90\" title=\"0.145\">atmosphere</span><span style=\"opacity: 0.80\"> and no one even </span><span style=\"background-color: hsl(120, 100.00%, 85.04%); opacity: 0.85\" title=\"0.071\">noticed</span><span style=\"opacity: 0.80\"> it? a </span><span style=\"background-color: hsl(120, 100.00%, 93.83%); opacity: 0.81\" title=\"0.020\">rock</span><span style=\"opacity: 0.80\"> that </span><span style=\"background-color: hsl(0, 100.00%, 94.06%); opacity: 0.81\" title=\"-0.019\">big</span><span style=\"opacity: 0.80\"> </span><span style=\"background-color: hsl(0, 100.00%, 90.42%); opacity: 0.83\" title=\"-0.038\">hitting</span><span style=\"opacity: 0.80\"> the </span><span style=\"background-color: hsl(120, 100.00%, 75.39%); opacity: 0.90\" title=\"0.145\">atmosphere</span><span style=\"opacity: 0.80\"> would have </span><span style=\"background-color: hsl(120, 100.00%, 91.24%); opacity: 0.82\" title=\"0.033\">caused</span><span style=\"opacity: 0.80\"> </span><span style=\"background-color: hsl(120, 100.00%, 81.64%); opacity: 0.87\" title=\"0.096\">enormous</span><span style=\"opacity: 0.80\"> shockwaves that would have in </span><span style=\"background-color: hsl(0, 100.00%, 89.63%); opacity: 0.83\" title=\"-0.042\">turned</span><span style=\"opacity: 0.80\"> </span><span style=\"background-color: hsl(120, 100.00%, 91.24%); opacity: 0.82\" title=\"0.033\">caused</span><span style=\"opacity: 0.80\"> an </span><span style=\"background-color: hsl(120, 100.00%, 81.64%); opacity: 0.87\" title=\"0.096\">enormous</span><span style=\"opacity: 0.80\"> amount of </span><span style=\"background-color: hsl(0, 100.00%, 84.10%); opacity: 0.85\" title=\"-0.078\">damage</span><span style=\"opacity: 0.80\"> to the </span><span style=\"background-color: hsl(120, 100.00%, 92.00%); opacity: 0.82\" title=\"0.029\">planet</span><span style=\"opacity: 0.80\">'s </span><span style=\"background-color: hsl(120, 100.00%, 82.41%); opacity: 0.86\" title=\"0.090\">surface</span><span style=\"opacity: 0.80\">. </span><span style=\"background-color: hsl(0, 100.00%, 89.42%); opacity: 0.83\" title=\"-0.044\">surely</span><span style=\"opacity: 0.80\">, someone would have </span><span style=\"background-color: hsl(120, 100.00%, 85.04%); opacity: 0.85\" title=\"0.071\">noticed</span><span style=\"opacity: 0.80\"> such a </span><span style=\"background-color: hsl(0, 100.00%, 82.49%); opacity: 0.86\" title=\"-0.089\">thing</span><span style=\"opacity: 0.80\">. bwahahaha! the \"</span><span style=\"background-color: hsl(0, 100.00%, 86.26%); opacity: 0.84\" title=\"-0.063\">science</span><span style=\"opacity: 0.80\">\" </span><span style=\"background-color: hsl(120, 100.00%, 95.56%); opacity: 0.81\" title=\"0.013\">used</span><span style=\"opacity: 0.80\"> in this </span><span style=\"background-color: hsl(0, 100.00%, 97.75%); opacity: 0.80\" title=\"-0.005\">movie</span><span style=\"opacity: 0.80\"> is so </span><span style=\"background-color: hsl(0, 100.00%, 84.30%); opacity: 0.85\" title=\"-0.077\">completely</span><span style=\"opacity: 0.80\"> </span><span style=\"background-color: hsl(0, 100.00%, 60.53%); opacity: 1.00\" title=\"-0.286\">ridiculous</span><span style=\"opacity: 0.80\">, that, somehow it </span><span style=\"background-color: hsl(120, 100.00%, 78.24%); opacity: 0.88\" title=\"0.122\">works</span><span style=\"opacity: 0.80\"> for </span><span style=\"background-color: hsl(0, 100.00%, 89.55%); opacity: 0.83\" title=\"-0.043\">making</span><span style=\"opacity: 0.80\"> this </span><span style=\"background-color: hsl(0, 100.00%, 97.75%); opacity: 0.80\" title=\"-0.005\">movie</span><span style=\"opacity: 0.80\"> as </span><span style=\"background-color: hsl(120, 100.00%, 68.96%); opacity: 0.94\" title=\"0.203\">entertaining</span><span style=\"opacity: 0.80\"> as it is. one </span><span style=\"background-color: hsl(0, 100.00%, 82.49%); opacity: 0.86\" title=\"-0.089\">thing</span><span style=\"opacity: 0.80\"> i </span><span style=\"background-color: hsl(120, 100.00%, 85.04%); opacity: 0.85\" title=\"0.071\">noticed</span><span style=\"opacity: 0.80\"> is that </span><span style=\"background-color: hsl(0, 100.00%, 99.97%); opacity: 0.80\" title=\"-0.000\">despite</span><span style=\"opacity: 0.80\"> the </span><span style=\"background-color: hsl(120, 100.00%, 96.76%); opacity: 0.81\" title=\"0.008\">uber</span><span style=\"opacity: 0.80\"> </span><span style=\"background-color: hsl(0, 100.00%, 95.84%); opacity: 0.81\" title=\"-0.011\">heat</span><span style=\"opacity: 0.80\">, all the </span><span style=\"background-color: hsl(0, 100.00%, 88.43%); opacity: 0.83\" title=\"-0.049\">characters</span><span style=\"opacity: 0.80\"> weren't </span><span style=\"background-color: hsl(0, 100.00%, 93.25%); opacity: 0.82\" title=\"-0.023\">dripping</span><span style=\"opacity: 0.80\"> with </span><span style=\"background-color: hsl(0, 100.00%, 94.91%); opacity: 0.81\" title=\"-0.015\">sweat</span><span style=\"opacity: 0.80\"> and their </span><span style=\"background-color: hsl(0, 100.00%, 92.07%); opacity: 0.82\" title=\"-0.029\">clothes</span><span style=\"opacity: 0.80\"> </span><span style=\"background-color: hsl(0, 100.00%, 84.30%); opacity: 0.85\" title=\"-0.077\">completely</span><span style=\"opacity: 0.80\"> </span><span style=\"background-color: hsl(120, 100.00%, 91.45%); opacity: 0.82\" title=\"0.032\">soaked</span><span style=\"opacity: 0.80\"> with it. at the most, the </span><span style=\"background-color: hsl(0, 100.00%, 88.43%); opacity: 0.83\" title=\"-0.049\">characters</span><span style=\"opacity: 0.80\"> </span><span style=\"background-color: hsl(0, 100.00%, 78.67%); opacity: 0.88\" title=\"-0.119\">looked</span><span style=\"opacity: 0.80\"> </span><span style=\"background-color: hsl(0, 100.00%, 95.09%); opacity: 0.81\" title=\"-0.015\">like</span><span style=\"opacity: 0.80\"> they had been </span><span style=\"background-color: hsl(120, 100.00%, 99.87%); opacity: 0.80\" title=\"0.000\">lightly</span><span style=\"opacity: 0.80\"> spritzed on </span><span style=\"background-color: hsl(120, 100.00%, 88.58%); opacity: 0.83\" title=\"0.049\">occasion</span><span style=\"opacity: 0.80\"> by someone off-</span><span style=\"background-color: hsl(0, 100.00%, 82.91%); opacity: 0.86\" title=\"-0.086\">camera</span><span style=\"opacity: 0.80\"> with a </span><span style=\"background-color: hsl(120, 100.00%, 95.50%); opacity: 0.81\" title=\"0.013\">water</span><span style=\"opacity: 0.80\"> </span><span style=\"background-color: hsl(0, 100.00%, 89.65%); opacity: 0.83\" title=\"-0.042\">bottle</span><span style=\"opacity: 0.80\"> to give a \"</span><span style=\"background-color: hsl(0, 100.00%, 94.91%); opacity: 0.81\" title=\"-0.015\">sweat</span><span style=\"opacity: 0.80\"> </span><span style=\"background-color: hsl(120, 100.00%, 89.98%); opacity: 0.83\" title=\"0.040\">sheen</span><span style=\"opacity: 0.80\">\". </span><span style=\"background-color: hsl(0, 100.00%, 93.02%); opacity: 0.82\" title=\"-0.024\">authenticity</span><span style=\"opacity: 0.80\"> was *not* a </span><span style=\"background-color: hsl(120, 100.00%, 85.82%); opacity: 0.85\" title=\"0.066\">goal</span><span style=\"opacity: 0.80\"> that this </span><span style=\"background-color: hsl(0, 100.00%, 97.75%); opacity: 0.80\" title=\"-0.005\">movie</span><span style=\"opacity: 0.80\"> assiduously and </span><span style=\"background-color: hsl(0, 100.00%, 93.15%); opacity: 0.82\" title=\"-0.023\">constantly</span><span style=\"opacity: 0.80\"> strived for. which, in a </span><span style=\"background-color: hsl(120, 100.00%, 92.17%); opacity: 0.82\" title=\"0.028\">weird</span><span style=\"opacity: 0.80\"> and </span><span style=\"background-color: hsl(120, 100.00%, 63.77%); opacity: 0.97\" title=\"0.253\">hilarious</span><span style=\"opacity: 0.80\"> </span><span style=\"background-color: hsl(0, 100.00%, 87.45%); opacity: 0.84\" title=\"-0.056\">sort</span><span style=\"opacity: 0.80\"> of </span><span style=\"background-color: hsl(120, 100.00%, 96.48%); opacity: 0.81\" title=\"0.009\">way</span><span style=\"opacity: 0.80\">, </span><span style=\"background-color: hsl(120, 100.00%, 80.43%); opacity: 0.87\" title=\"0.105\">gives</span><span style=\"opacity: 0.80\"> this </span><span style=\"background-color: hsl(0, 100.00%, 97.75%); opacity: 0.80\" title=\"-0.005\">movie</span><span style=\"opacity: 0.80\"> its </span><span style=\"background-color: hsl(120, 100.00%, 90.73%); opacity: 0.82\" title=\"0.036\">entertainment</span><span style=\"opacity: 0.80\"> </span><span style=\"background-color: hsl(120, 100.00%, 89.09%); opacity: 0.83\" title=\"0.046\">charm</span><span style=\"opacity: 0.80\">. is this </span><span style=\"background-color: hsl(0, 100.00%, 97.75%); opacity: 0.80\" title=\"-0.005\">movie</span><span style=\"opacity: 0.80\"> </span><span style=\"background-color: hsl(0, 100.00%, 97.70%); opacity: 0.80\" title=\"-0.005\">actually</span><span style=\"opacity: 0.80\"> </span><span style=\"background-color: hsl(120, 100.00%, 80.28%); opacity: 0.87\" title=\"0.106\">worth</span><span style=\"opacity: 0.80\"> </span><span style=\"background-color: hsl(0, 100.00%, 89.00%); opacity: 0.83\" title=\"-0.046\">watching</span><span style=\"opacity: 0.80\">? </span><span style=\"background-color: hsl(120, 100.00%, 70.41%); opacity: 0.93\" title=\"0.189\">definitely</span><span style=\"opacity: 0.80\">! </span><span style=\"background-color: hsl(0, 100.00%, 87.19%); opacity: 0.84\" title=\"-0.057\">assuming</span><span style=\"opacity: 0.80\">, of </span><span style=\"background-color: hsl(120, 100.00%, 84.63%); opacity: 0.85\" title=\"0.074\">course</span><span style=\"opacity: 0.80\">, you have </span><span style=\"background-color: hsl(0, 100.00%, 84.65%); opacity: 0.85\" title=\"-0.074\">absolutely</span><span style=\"opacity: 0.80\"> *no* </span><span style=\"background-color: hsl(0, 100.00%, 93.76%); opacity: 0.81\" title=\"-0.020\">expectations</span><span style=\"opacity: 0.80\"> of anything that even </span><span style=\"background-color: hsl(0, 100.00%, 73.57%); opacity: 0.91\" title=\"-0.161\">remotely</span><span style=\"opacity: 0.80\"> </span><span style=\"background-color: hsl(120, 100.00%, 87.89%); opacity: 0.84\" title=\"0.053\">approaches</span><span style=\"opacity: 0.80\"> </span><span style=\"background-color: hsl(120, 100.00%, 89.64%); opacity: 0.83\" title=\"0.042\">reality</span><span style=\"opacity: 0.80\">. and, it's your </span><span style=\"background-color: hsl(120, 100.00%, 84.64%); opacity: 0.85\" title=\"0.074\">desire</span><span style=\"opacity: 0.80\"> to </span><span style=\"background-color: hsl(120, 100.00%, 91.22%); opacity: 0.82\" title=\"0.033\">wallow</span><span style=\"opacity: 0.80\"> and luxuriate in </span><span style=\"background-color: hsl(0, 100.00%, 75.15%); opacity: 0.90\" title=\"-0.148\">total</span><span style=\"opacity: 0.80\"> hokeyness at the </span><span style=\"background-color: hsl(0, 100.00%, 96.26%); opacity: 0.81\" title=\"-0.010\">moment</span><span style=\"opacity: 0.80\">.</span>\n",
       "</p>\n"
      ],
      "text/plain": [
       "<IPython.core.display.HTML object>"
      ]
     },
     "metadata": {},
     "output_type": "display_data"
    }
   ],
   "source": [
    "for i, review in enumerate(meh5):\n",
    "    display(HTML(f\"<p style={style}>'Meh' Movie #{i+1} 😐</p>\"))\n",
    "    eli5_html(clf, vec, review)"
   ]
  },
  {
   "cell_type": "markdown",
   "id": "53c58acd",
   "metadata": {},
   "source": [
    "Despite some difficulties with a few of the 'meh' movies, our model is actually pretty good! In fact, it works so well you can actually use it to find _mistakes_ in the manually labeled data!\\\n",
    "This can be done by inspecting which training observation predictions differ the most from the provided labels.\\"
   ]
  },
  {
   "cell_type": "markdown",
   "id": "a7d659c3",
   "metadata": {},
   "source": [
    "**Write your own review**\n",
    "\n",
    "Finally, you can try writing a review of your own and see what your model does with it!"
   ]
  },
  {
   "cell_type": "code",
   "execution_count": 116,
   "id": "cf078e01",
   "metadata": {},
   "outputs": [
    {
     "data": {
      "text/plain": [
       "array(['this is the best movie i have seen though i dont like the actor who is picky'],\n",
       "      dtype='<U76')"
      ]
     },
     "execution_count": 116,
     "metadata": {},
     "output_type": "execute_result"
    }
   ],
   "source": [
    "my_review = \"\"\"\n",
    "            this is the best movie i have seen, though i don't like the actor who is picky.\n",
    "            \"\"\"\n",
    "\n",
    "# Remove punctuation using your regex from earlier\n",
    "my_review = re.sub(punc_regex, '', my_review)\n",
    "# Remove leading & trailing whitespace\n",
    "# and put into a numpy array (which the model expects)\n",
    "my_review = np.array([my_review.strip()])\n",
    "my_review"
   ]
  },
  {
   "cell_type": "code",
   "execution_count": 117,
   "id": "abdc48fd",
   "metadata": {},
   "outputs": [
    {
     "name": "stdout",
     "output_type": "stream",
     "text": [
      "predicted class: 1\n",
      "predicted probability: 0.7971789596170398\n"
     ]
    }
   ],
   "source": [
    "my_review_proba = pipe.predict_proba(my_review)[:,1][0]\n",
    "my_review_label = pipe.predict(my_review)[0]\n",
    "print('predicted class:', my_review_label)\n",
    "print('predicted probability:', my_review_proba)"
   ]
  },
  {
   "cell_type": "code",
   "execution_count": 118,
   "id": "8de285ed",
   "metadata": {},
   "outputs": [
    {
     "data": {
      "text/html": [
       "<p style=background-color:black;color:white;font-weight:bold;padding:4px>My Review 🍿</p>"
      ],
      "text/plain": [
       "<IPython.core.display.HTML object>"
      ]
     },
     "metadata": {},
     "output_type": "display_data"
    },
    {
     "data": {
      "text/html": [
       "\n",
       "<style>\n",
       "    table.eli5-weights tr:hover {\n",
       "        filter: brightness(85%);\n",
       "    }\n",
       "</style>\n",
       "\n",
       "\n",
       "<p style=\"margin-bottom: 2.5em; margin-top:-0.5em;\">\n",
       "<span style=\"opacity: 0.80\">this is the </span><span style=\"background-color: hsl(120, 100.00%, 60.00%); opacity: 1.00\" title=\"1.835\">best</span><span style=\"opacity: 0.80\"> </span><span style=\"background-color: hsl(0, 100.00%, 97.13%); opacity: 0.80\" title=\"-0.043\">movie</span><span style=\"opacity: 0.80\"> i have </span><span style=\"background-color: hsl(120, 100.00%, 80.88%); opacity: 0.87\" title=\"0.639\">seen</span><span style=\"opacity: 0.80\"> though i </span><span style=\"background-color: hsl(0, 100.00%, 89.31%); opacity: 0.83\" title=\"-0.278\">dont</span><span style=\"opacity: 0.80\"> </span><span style=\"background-color: hsl(0, 100.00%, 93.73%); opacity: 0.81\" title=\"-0.130\">like</span><span style=\"opacity: 0.80\"> the </span><span style=\"background-color: hsl(0, 100.00%, 80.55%); opacity: 0.87\" title=\"-0.655\">actor</span><span style=\"opacity: 0.80\"> who is </span><span style=\"background-color: hsl(120, 100.00%, 97.94%); opacity: 0.80\" title=\"0.027\">picky</span>\n",
       "</p>\n"
      ],
      "text/plain": [
       "<IPython.core.display.HTML object>"
      ]
     },
     "metadata": {},
     "output_type": "display_data"
    }
   ],
   "source": [
    "display(HTML(f\"<p style={style}>My Review 🍿</p>\"))\n",
    "eli5_html(clf, vec, my_review[0])"
   ]
  }
 ],
 "metadata": {
  "kernelspec": {
   "display_name": "Python 3 (ipykernel)",
   "language": "python",
   "name": "python3"
  },
  "language_info": {
   "codemirror_mode": {
    "name": "ipython",
    "version": 3
   },
   "file_extension": ".py",
   "mimetype": "text/x-python",
   "name": "python",
   "nbconvert_exporter": "python",
   "pygments_lexer": "ipython3",
   "version": "3.10.9"
  },
  "latex_envs": {
   "LaTeX_envs_menu_present": true,
   "autoclose": false,
   "autocomplete": true,
   "bibliofile": "biblio.bib",
   "cite_by": "apalike",
   "current_citInitial": 1,
   "eqLabelWithNumbers": true,
   "eqNumInitial": 1,
   "hotkeys": {
    "equation": "Ctrl-E",
    "itemize": "Ctrl-I"
   },
   "labels_anchors": false,
   "latex_user_defs": false,
   "report_style_numbering": false,
   "user_envs_cfg": false
  },
  "toc": {
   "base_numbering": 1,
   "nav_menu": {},
   "number_sections": true,
   "sideBar": true,
   "skip_h1_title": false,
   "title_cell": "Table of Contents",
   "title_sidebar": "Contents",
   "toc_cell": false,
   "toc_position": {
    "height": "calc(100% - 180px)",
    "left": "10px",
    "top": "150px",
    "width": "300px"
   },
   "toc_section_display": true,
   "toc_window_display": true
  }
 },
 "nbformat": 4,
 "nbformat_minor": 5
}
