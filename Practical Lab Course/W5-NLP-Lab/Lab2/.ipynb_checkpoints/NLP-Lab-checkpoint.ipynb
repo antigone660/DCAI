{
 "cells": [
  {
   "cell_type": "code",
   "execution_count": null,
   "metadata": {
    "id": "yz4CPNEHjINs"
   },
   "outputs": [],
   "source": [
    "# Restart the runtime after running this cell everytime you open the notebook\n",
    "!pip install dill"
   ]
  },
  {
   "cell_type": "code",
   "execution_count": null,
   "metadata": {
    "id": "Rb-WLp5Z-cdy"
   },
   "outputs": [],
   "source": [
    "import random \n",
    "import numpy as np\n",
    "import pandas as pd\n",
    "import os\n",
    "import sys\n",
    "import matplotlib.pyplot as plt\n",
    "from numpy.linalg import *\n",
    "np.random.seed(6100) \n",
    "\n",
    "import dill\n",
    "import base64"
   ]
  },
  {
   "cell_type": "markdown",
   "metadata": {
    "id": "LcrJaJ73Rk9v"
   },
   "source": [
    "## NLP Section"
   ]
  },
  {
   "cell_type": "markdown",
   "metadata": {
    "id": "Yp9rryptRoLR"
   },
   "source": [
    "### Stanford Sentiment Treebank(SST)\n",
    "\n",
    "We'll introduce the [Stanford Sentiment Treebank](https://nlp.stanford.edu/sentiment/index.html) (SST) dataset, and use a Naive Bayes model as a simple baseline. The SST was introduced by [(Socher et al. 2013)](http://nlp.stanford.edu/~socherr/EMNLP2013_RNTN.pdf) and it consists of approximately 10,000 sentences from movie reviews. It consists of 11,855 sentences drawn from a corpus of movie reviews (originally from Rotten Tomatoes), each labeled with sentiment on a five-point scale ans is a widely used dataset as a benchmark for text classification.\n",
    "\n",
    "An example of the five-point scale is:\n",
    "```\n",
    "sentence: [A warm , funny , engaging film .]\n",
    "label:    4 (very positive)\n",
    "```\n",
    "\n",
    "**Note:** Unlike most classification datasets, SST is also a _treebank_, which means each sentence is associated with a tree structure that decomposes it into subphrases. So for the example above, we'd also have sentiment labels for `[warm , funny]` and `[engaging film .]` and so on. The tree structure will comes in handy for complex NLP tasks and we will be using it briefly to analyze an example that has negation. The data is distributed as serialized trees in [S-expression](https://en.wikipedia.org/wiki/S-expression) form, like this:\n",
    "```\n",
    "(4 (4 (2 A) (4 (3 (3 warm) (2 ,)) (3 funny))) (3 (2 ,) (3 (4 (4 engaging) (2 film)) (2 .))))\n",
    "```\n",
    "\n",
    "We've downladed the dataset and parse the S-expressions into a dataframe.\n",
    "\n"
   ]
  },
  {
   "cell_type": "code",
   "execution_count": null,
   "metadata": {
    "id": "FByUmOl14eyC"
   },
   "outputs": [],
   "source": [
    "!pip3 install wget"
   ]
  },
  {
   "cell_type": "code",
   "execution_count": null,
   "metadata": {
    "id": "Wothm2Pot6-Z"
   },
   "outputs": [],
   "source": [
    "from __future__ import division\n",
    "import os, sys, re, json, time, datetime, shutil\n",
    "import itertools, collections\n",
    "from importlib import reload\n",
    "\n",
    "# NLTK, NumPy, and Pandas.\n",
    "import nltk\n",
    "from nltk.tree import Tree\n",
    "import numpy as np\n",
    "from numpy import random as rd\n",
    "import random\n",
    "import pandas as pd"
   ]
  },
  {
   "cell_type": "code",
   "execution_count": null,
   "metadata": {
    "id": "pdl0NfUrJHxO"
   },
   "outputs": [],
   "source": [
    "import os\n",
    "import collections\n",
    "import re\n",
    "import time\n",
    "import itertools\n",
    "from collections import defaultdict, Counter"
   ]
  },
  {
   "cell_type": "code",
   "execution_count": null,
   "metadata": {
    "id": "ay1YROpJAZ_i"
   },
   "outputs": [],
   "source": [
    "# Constants for use by other modules.\n",
    "START_TOKEN = u\"<s>\"\n",
    "END_TOKEN   = u\"</s>\"\n",
    "UNK_TOKEN   = u\"<unk>\""
   ]
  },
  {
   "cell_type": "markdown",
   "metadata": {
    "id": "1ma4E29Xe8Hs"
   },
   "source": [
    "### Required files"
   ]
  },
  {
   "cell_type": "code",
   "execution_count": null,
   "metadata": {
    "id": "v0JC3vd0cvfG"
   },
   "outputs": [],
   "source": [
    "train_file = \"data/train.parquet\" \n",
    "dev_file = \"data/dev.parquet\" \n",
    "test_file = \"data/test.parquet\" \n",
    "vocab_file = \"data/train_tokens.txt\" "
   ]
  },
  {
   "cell_type": "markdown",
   "metadata": {
    "id": "olCRGZcIJuEf"
   },
   "source": [
    "Some helper code to process data"
   ]
  },
  {
   "cell_type": "code",
   "execution_count": null,
   "metadata": {
    "cellView": "form",
    "id": "fDhs_mpQAQIt"
   },
   "outputs": [],
   "source": [
    "class SSTDataset(object):\n",
    "\n",
    "    Example_fields = [\"tokens\", \"ids\", \"label\", \"is_root\", \"root_id\"]\n",
    "    Example = collections.namedtuple(\"Example\", Example_fields)\n",
    "\n",
    "\n",
    "    def canonicalize(self, raw_tokens):\n",
    "        wordset=(self.vocab.wordset if self.vocab else None)\n",
    "        return canonicalize_words(raw_tokens, wordset=wordset)\n",
    "\n",
    "    def __init__(self,train_file,dev_file,test_file,vocab_file,V=20000):\n",
    "        self.vocab = None\n",
    "        self.train = pd.read_parquet(train_file)\n",
    "        self.dev = pd.read_parquet(dev_file)\n",
    "        self.test = pd.read_parquet(test_file)\n",
    "        train_words =[]\n",
    "        with open(vocab_file) as f:\n",
    "            train_words = f.readlines()\n",
    "        train_words = [w.strip() for w in train_words]\n",
    "        # # Build vocabulary over training set\n",
    "        self.vocab = Vocabulary(train_words, size=V)\n",
    "        print(\"Train set has {:,} words\".format(self.vocab.size))\n",
    "        self.target_names = [0,1]\n",
    "\n",
    "    def get_filtered_split(self, split='train',is_root = True):\n",
    "        df = getattr(self, split)\n",
    "        if is_root:\n",
    "            df = df[df.is_root]\n",
    "        return df\n",
    "\n",
    "    def as_padded_array(self, split='train', max_len=40, pad_id=0,is_root = True):\n",
    "        df = self.get_filtered_split(split,is_root)\n",
    "        x, ns = pad_np_array(df.ids, max_len=max_len, pad_id=pad_id)\n",
    "        y = np.empty((1,1))\n",
    "        if split != 'test':\n",
    "            y  = np.array(df.label, dtype=np.int32)\n",
    "        return x, ns, y\n",
    "\n",
    "    def as_sparse_bow(self, split='train',is_root = True):\n",
    "        from scipy import sparse\n",
    "        df = self.get_filtered_split(split,is_root)\n",
    "        x = id_lists_to_sparse_bow(df['ids'], self.vocab.size)\n",
    "        if split != 'test':\n",
    "            return x, np.array(df.label, dtype=np.int32)\n",
    "        return x\n",
    "\n",
    "def require_package(package_name):\n",
    "    import pkgutil\n",
    "    import subprocess\n",
    "    import sys\n",
    "    if not pkgutil.find_loader(package_name):\n",
    "        subprocess.check_call([sys.executable, '-m', 'pip', 'install', package_name])\n",
    "\n",
    "def canonicalize_digits(word):\n",
    "    if any([c.isalpha() for c in word]): return word\n",
    "    word = re.sub(\"\\d\", \"DG\", word)\n",
    "    if word.startswith(\"DG\"):\n",
    "        word = word.replace(\",\", \"\") # remove thousands separator\n",
    "    return word\n",
    "\n",
    "def canonicalize_word(word, wordset=None, digits=True):\n",
    "    word = word.lower()\n",
    "    if digits:\n",
    "        if (wordset != None) and (word in wordset): return word\n",
    "        word = canonicalize_digits(word) # try to canonicalize numbers\n",
    "    if (wordset == None) or (word in wordset):\n",
    "        return word\n",
    "    else:\n",
    "        return UNK_TOKEN\n",
    "\n",
    "def canonicalize_words(words, **kw):\n",
    "    return [canonicalize_word(word, **kw) for word in words]\n",
    "\n",
    "\n",
    "def pad_np_array(example_ids, max_len=250, pad_id=0):\n",
    "    arr = np.full([len(example_ids), max_len], pad_id, dtype=np.int32)\n",
    "    ns = np.zeros([len(example_ids)], dtype=np.int32)\n",
    "    for i, ids in enumerate(example_ids):\n",
    "        cpy_len = min(len(ids), max_len)\n",
    "        arr[i,:cpy_len] = ids[:cpy_len]\n",
    "        ns[i] = cpy_len\n",
    "    return arr, ns\n",
    "\n",
    "def id_lists_to_sparse_bow(id_lists, vocab_size):\n",
    "    from scipy import sparse\n",
    "    ii = []  # row indices (example ids)\n",
    "    jj = []  # column indices (token ids)\n",
    "    for row_id, ids in enumerate(id_lists):\n",
    "        ii.extend([row_id]*len(ids))\n",
    "        jj.extend(ids)\n",
    "    x = sparse.csr_matrix((np.ones_like(ii), (ii, jj)),\n",
    "                          shape=[len(id_lists), vocab_size])\n",
    "    return x\n",
    "\n",
    "class Vocabulary(object):\n",
    "\n",
    "    START_TOKEN = START_TOKEN\n",
    "    END_TOKEN   = END_TOKEN\n",
    "    UNK_TOKEN   = UNK_TOKEN\n",
    "\n",
    "    def __init__(self, tokens, size=None,\n",
    "                 progressbar=lambda l:l):\n",
    "        self.unigram_counts = Counter()\n",
    "        self.bigram_counts = defaultdict(lambda: Counter())\n",
    "        prev_word = None\n",
    "        for word in progressbar(tokens):  # Make a single pass through tokens\n",
    "            self.unigram_counts[word] += 1\n",
    "            self.bigram_counts[prev_word][word] += 1\n",
    "            prev_word = word\n",
    "        self.bigram_counts.default_factory = None  # make into a normal dict\n",
    "\n",
    "        # Leave space for \"<s>\", \"</s>\", and \"<unk>\"\n",
    "        top_counts = self.unigram_counts.most_common(None if size is None else (size - 3))\n",
    "        vocab = ([self.START_TOKEN, self.END_TOKEN, self.UNK_TOKEN] +\n",
    "                 [w for w,c in top_counts])\n",
    "\n",
    "        # Assign an id to each word, by frequency\n",
    "        self.id_to_word = dict(enumerate(vocab))\n",
    "        self.word_to_id = {v:k for k,v in self.id_to_word.items()}\n",
    "        self.size = len(self.id_to_word)\n",
    "        if size is not None:\n",
    "            assert(self.size <= size)\n",
    "\n",
    "        # For convenience\n",
    "        self.wordset = set(self.word_to_id.keys())\n",
    "\n",
    "        # Store special IDs\n",
    "        self.START_ID = self.word_to_id[self.START_TOKEN]\n",
    "        self.END_ID = self.word_to_id[self.END_TOKEN]\n",
    "        self.UNK_ID = self.word_to_id[self.UNK_TOKEN]\n",
    "\n",
    "    def words_to_ids(self, words):\n",
    "        return [self.word_to_id.get(w, self.UNK_ID) for w in words]\n",
    "\n",
    "    def ids_to_words(self, ids):\n",
    "        return [self.id_to_word[i] for i in ids]\n",
    "\n",
    "    def ordered_words(self):\n",
    "        \"\"\"Return a list of words, ordered by id.\"\"\"\n",
    "        return self.ids_to_words(range(self.size))\n"
   ]
  },
  {
   "cell_type": "code",
   "execution_count": null,
   "metadata": {
    "id": "CSRZ9eqxt6-b"
   },
   "outputs": [],
   "source": [
    "!pip install pyarrow\n",
    "ds = SSTDataset(train_file,dev_file, test_file,vocab_file,V=20000)"
   ]
  },
  {
   "cell_type": "markdown",
   "metadata": {
    "id": "kY5JE1DQt6-d"
   },
   "source": [
    "A few members of the `SSTDataset()` class that we will be using are:\n",
    "- **`ds.vocab`**: a `vocabulary.Vocabulary` object managing the model vocabulary.\n",
    "- **`ds.{train,dev,test}`**: a Pandas DataFrame containing the _processed_ examples, including all subphrases. `label` is the target label, `is_root` denotes whether this example is a root node (full sentence), and `tokens` are the tokenized words from the original sentence."
   ]
  },
  {
   "cell_type": "markdown",
   "metadata": {
    "id": "16q8ruRjt6-k"
   },
   "source": [
    "Note if you set `root_only=True` the dataframe will return only examples corresponding to whole sentences. If you set `root_only=False` the dataframe will return examples for all phrases."
   ]
  },
  {
   "cell_type": "code",
   "execution_count": null,
   "metadata": {
    "id": "9SXUCz-2YeP0"
   },
   "outputs": [],
   "source": [
    "is_root = False"
   ]
  },
  {
   "cell_type": "markdown",
   "metadata": {
    "id": "K2EMoXKcUQ1G"
   },
   "source": [
    "## [Deep Averaging Networks](https://aclanthology.org/P15-1162.pdf) \n",
    "\n",
    "We are going to implement the deep averaging networks\n",
    "\n",
    "![dan](images/dan.png)\n",
    "\n",
    "\n",
    "Vector space models for natural language processing (NLP) represent words using low dimensional vectors called embeddings. To apply vector space\n",
    "models to sentences or documents, one must first select an appropriate composition function, which combines multiple words into a single vector.\n",
    "\n",
    "Composition functions fall into two classes: unordered and syntactic. Unordered functions treat input texts as bags of word embeddings, while syntactic functions take word order and sentence structure\n",
    "into account. Syntactic functions outperform unordered functions on many tasks. However, there is a tradeoff: syntactic functions require more training time and computing resources. \n",
    "\n",
    "The deep averaging network (DAN) is a deep unordered model which that obtains near state-of-the-art accuracies on a variety of sentence and document-level tasks with just minutes of training time on an average laptop computer. It\n",
    "works in three simple steps:\n",
    "1. Take the vector average of the embeddings\n",
    "associated with an input sequence of tokens\n",
    "2. Pass that average through one or more feedforward layers\n",
    "3. Perform (linear) classification on the final\n",
    "layer’s representation\n",
    "\n",
    "Furthermore, DANs, can be effectively trained on data that have high syntactic variance. The model works by magnifying tiny but meaningful differences in the vector average."
   ]
  },
  {
   "cell_type": "markdown",
   "metadata": {
    "id": "6S7vplWWPya4"
   },
   "source": [
    "We are going to use DANs for the same classification problem."
   ]
  },
  {
   "cell_type": "code",
   "execution_count": null,
   "metadata": {
    "id": "WVXHs8JIQEg8"
   },
   "outputs": [],
   "source": [
    "import torch\n",
    "import torch.nn as nn\n",
    "import torch.nn.functional as F\n",
    "\n",
    "import torch.optim as optim\n",
    "from torch.utils.data import Dataset, DataLoader"
   ]
  },
  {
   "cell_type": "code",
   "execution_count": null,
   "metadata": {
    "id": "WU2myqExRR1n"
   },
   "outputs": [],
   "source": [
    "import os\n",
    "import time\n",
    "import glob\n",
    "import numpy as np\n",
    "\n",
    "import sys\n",
    "from argparse import ArgumentParser"
   ]
  },
  {
   "cell_type": "markdown",
   "metadata": {
    "id": "Q5ulmPzRwr3T"
   },
   "source": [
    "### [Glove Embeddings](https://nlp.stanford.edu/projects/glove/) \n",
    "We are downloading pretrained glove word vectors that has been trained on Common Crawl data, a snapshot of the whole web.\n",
    "These embeddings serve as excelent initilizations for embeddings our model needs.\n",
    "Downloading glove embeddings (This will take around 10 minutes) "
   ]
  },
  {
   "cell_type": "code",
   "execution_count": null,
   "metadata": {
    "id": "nT27aeXBVw01"
   },
   "outputs": [],
   "source": [
    "#this takes about 10 minutes to run\n",
    "# Windows users who cannot execute the following commands might consider downloading directly from the link and then unzipping.\n",
    "!wget -nc https://nlp.stanford.edu/data/glove.840B.300d.zip\n",
    "!unzip glove.840B.300d.zip\n",
    "!ls -lat"
   ]
  },
  {
   "cell_type": "code",
   "execution_count": null,
   "metadata": {
    "id": "gukyScOlS6Ri"
   },
   "outputs": [],
   "source": [
    "glove_file = \"glove.840B.300d.txt\""
   ]
  },
  {
   "cell_type": "code",
   "execution_count": null,
   "metadata": {
    "id": "MpUv8X36MEru"
   },
   "outputs": [],
   "source": [
    "train_x, train_ns, train_y = ds.as_padded_array(\"train\",is_root = is_root)\n",
    "dev_x, dev_ns, dev_y = ds.as_padded_array(\"dev\",is_root = is_root)\n",
    "test_x, test_ns,_  = ds.as_padded_array(\"test\",is_root = is_root)\n",
    "\n",
    "print(\"Training set: x = {:s} sparse, ns={:s}, y = {:s}\".format(str(train_x.shape), str(train_ns.shape),\n",
    "                                                str(train_y.shape)))\n",
    "print(\"Validation set: x = {:s} sparse,ns={:s}, y = {:s}\".format(str(dev_x.shape), str(dev_ns.shape),\n",
    "                                                str(dev_y.shape)))\n",
    "print(\"Test set:     x = {:s} sparse,ns={:s}\".format(str(test_x.shape), str(test_ns.shape)))"
   ]
  },
  {
   "cell_type": "code",
   "execution_count": null,
   "metadata": {
    "id": "qu-xCT7dIfwD"
   },
   "outputs": [],
   "source": [
    "#look at the format of the file\n",
    "!head glove.840B.300d.txt"
   ]
  },
  {
   "cell_type": "markdown",
   "metadata": {
    "id": "JFe9SkOcYugK"
   },
   "source": [
    "#### Get Glove embeddings\n",
    "In this section we want to populate the `glove` dictionary with a mapping of word to the embedding. Remember: the embedding should be an `np.array` of type `np.float` The glove dictionary should only have words that are present in the train vocabulary. \n",
    "\n",
    "\n",
    "Hint: \n",
    " \n",
    "\n",
    "For getting the word and corresponding embedding from the glove file, remember refer to the above structure of the word to embedding mapping."
   ]
  },
  {
   "cell_type": "code",
   "execution_count": null,
   "metadata": {
    "id": "4RNiORwiYTzi"
   },
   "outputs": [],
   "source": [
    "#takes about 1 minute to read through the whole file and find the words we need. \n",
    "def get_glove_mapping(vocab, file):\n",
    "    \"\"\"\n",
    "    Gets the mapping of words from the vocabulary to pretrained embeddings\n",
    "    \n",
    "    INPUT:\n",
    "    vocab       - set of vocabulary words\n",
    "    file        - file with pretrained embeddings\n",
    "\n",
    "    OUTPUT:\n",
    "    glove_map   - mapping of words in the vocabulary to the pretrained embedding\n",
    "    \n",
    "    \"\"\"\n",
    "    \n",
    "    glove_map = {}\n",
    "    with open(file,'rb') as fi:\n",
    "        for l in fi:\n",
    "            try:\n",
    "                #### STUDENT CODE HERE ####\n",
    "                \n",
    "                #### STUDENT CODE ENDS HERE ####\n",
    "            except:\n",
    "                #some lines have urls, we don't need them.\n",
    "                pass\n",
    "    return glove_map"
   ]
  },
  {
   "cell_type": "code",
   "execution_count": null,
   "metadata": {
    "id": "kYettRoymWTz"
   },
   "outputs": [],
   "source": [
    "vocab_set = set(ds.vocab.ordered_words())\n",
    "glove_map = get_glove_mapping(vocab_set,glove_file)"
   ]
  },
  {
   "cell_type": "code",
   "execution_count": null,
   "metadata": {
    "id": "2K5Mm5a2bpda"
   },
   "outputs": [],
   "source": [
    "def test_glove_embedding(glove_map):\n",
    "    assert(len(glove_map.keys()) == 15505)\n",
    "    assert(\"November\" not in glove_map.keys())\n",
    "\n",
    "\n",
    "test_glove_embedding(glove_map)"
   ]
  },
  {
   "cell_type": "markdown",
   "metadata": {
    "id": "HoZuTVB9mcZb"
   },
   "source": [
    "#### Dimensions required for the weight matrix\n",
    "\n",
    "Fill in the dimensions required for weight matrix"
   ]
  },
  {
   "cell_type": "code",
   "execution_count": null,
   "metadata": {
    "id": "djhLc9X_Z2E0"
   },
   "outputs": [],
   "source": [
    "d_out = len(ds.target_names)  #number of outputs\n",
    "n_embed = ds.vocab.size #size of the dictionary of embeddings\n",
    "d_embed = 300 # the size of each embedding vector\n",
    "dims =(d_out,n_embed,d_embed)"
   ]
  },
  {
   "cell_type": "code",
   "execution_count": null,
   "metadata": {
    "id": "Qr6jSgYPdJeM"
   },
   "outputs": [],
   "source": [
    "def test_dimensions(dims):\n",
    "    d_out,n_embed,d_embed = dims \n",
    "    assert(n_embed == 16474)\n",
    "    assert(d_out == 2)\n",
    "    assert(d_embed == 300)\n",
    "    \n",
    "\n",
    "test_dimensions(dims)"
   ]
  },
  {
   "cell_type": "markdown",
   "metadata": {
    "id": "ct2rwpFxlytq"
   },
   "source": [
    "#### Initializing the weight matrix\n",
    "\n",
    "Create a weight_matrix for the parameters to be learnt. Initialize the weight matrix for a particular id with the glove embedding for the same id. If you do not find a particular word, initialize the weight matrix with `np.random.normal`\n",
    "\n",
    "Hint: `ds.vocab.ordered_words()` can give you the mapping of id to words. `glove` has the embeddings you need."
   ]
  },
  {
   "cell_type": "code",
   "execution_count": null,
   "metadata": {
    "id": "MMIZjt4HYuJB"
   },
   "outputs": [],
   "source": [
    "def get_weight_matrix(n_embed, d_embed, glove_map):\n",
    "    \"\"\"\n",
    "    Initialize the weight matrix\n",
    "    \n",
    "    INPUT:\n",
    "    n_embed         - size of the dictionary of embeddings\n",
    "    d_embed         - the size of each embedding vector\n",
    "\n",
    "    OUTPUT:\n",
    "    weights_matrix  - matrix of mapping from word id to embedding \n",
    "    \n",
    "    \"\"\"\n",
    "    #### STUDENT CODE HERE ####\n",
    "\n",
    "    #### STUDENT CODE ENDS HERE ####\n",
    "    return weights_matrix"
   ]
  },
  {
   "cell_type": "code",
   "execution_count": null,
   "metadata": {
    "id": "rotHEiIqm2sV"
   },
   "outputs": [],
   "source": [
    "weights_matrix = get_weight_matrix(n_embed, d_embed, glove_map)\n",
    "weight_data = (weights_matrix.shape, weights_matrix[:155])"
   ]
  },
  {
   "cell_type": "code",
   "execution_count": null,
   "metadata": {
    "id": "H-Na6gvrdoMN"
   },
   "outputs": [],
   "source": [
    "def test_weight_matrix(weight_data):\n",
    "    mat1 = [-0.18994 ,  0.11016 , -0.46874 ,  0.24375 ,  0.18241 ,  0.2649  ,\n",
    "       -0.025122, -0.58228 , -0.23545 ,  0.20763 ]\n",
    "    shape = (16474, 300)\n",
    "    for i in range(0,10):\n",
    "        if abs(mat1[i] - weight_data[1][150][200+i])>= 0.002:\n",
    "            assert(mat1[i] != weight_data[1][150][200+i])\n",
    "        if shape != weight_data[0]:\n",
    "            assert(shape != weight_data[0])\n",
    "\n",
    "\n",
    "test_weight_matrix(weight_data)"
   ]
  },
  {
   "cell_type": "markdown",
   "metadata": {
    "id": "Z6rGLI6jm-0g"
   },
   "source": [
    "#### Creating Embedding Layer\n",
    "Use the weight matrix to create the embedding layer by using `nn.Embedding`."
   ]
  },
  {
   "cell_type": "code",
   "execution_count": null,
   "metadata": {
    "id": "4XGB1pAabQAf"
   },
   "outputs": [],
   "source": [
    "def create_emb_layer(weights_matrix, non_trainable=False):\n",
    "    \"\"\"\n",
    "    Create the embedding layer\n",
    "    \n",
    "    INPUT:\n",
    "    weights_matrix  - matrix of mapping from word id to embedding\n",
    "    non_trainable   - Flag for whether the weight matrix should be trained. \n",
    "                      If it is set to True, don't update the gradients\n",
    "\n",
    "    OUTPUT:\n",
    "    emb_layer       - embedding layer \n",
    "    \n",
    "    \"\"\"\n",
    "    #### STUDENT CODE HERE ####\n",
    "    ...\n",
    "    \n",
    "    if non_trainable:\n",
    "        # If non_trainable is set to True, don't update the gradients\n",
    "        \n",
    "    #### STUDENT CODE ENDS HERE ####\n",
    "\n",
    "    return emb_layer"
   ]
  },
  {
   "cell_type": "markdown",
   "metadata": {
    "id": "FI5HX8dGNQyR"
   },
   "source": [
    "#### Defining the Dataloader "
   ]
  },
  {
   "cell_type": "markdown",
   "metadata": {
    "id": "v2Z4YahqYBBw"
   },
   "source": [
    "For the ease of batch processing, we are defining the following to use the functionality of the Dataloader in Pytorch. \n",
    "\n",
    "Note: The process of creating a mask for the word dropout."
   ]
  },
  {
   "cell_type": "code",
   "execution_count": null,
   "metadata": {
    "id": "tOubHTzb8CS2"
   },
   "outputs": [],
   "source": [
    "class SSTpytorchDataset(Dataset):\n",
    "    def __init__(self, sst_ds, word_dropout = 0.3, split='train'):\n",
    "        super(SSTpytorchDataset, self).__init__()\n",
    "        assert split in ['train', 'test', 'dev'], \"Error!\"\n",
    "        self.ds = sst_ds\n",
    "        self.split = split\n",
    "        self.word_dropout = word_dropout\n",
    "        self.data_x, self.data_ns, self.data_y = self.ds.as_padded_array(split,is_root =is_root)\n",
    "        self.mask = np.zeros_like(self.data_x)\n",
    "\n",
    "    def __len__(self):\n",
    "        return self.data_x.shape[0]\n",
    "    \n",
    "    def __getitem__(self, idx):\n",
    "        if torch.is_tensor(idx):\n",
    "            idx = idx.tolist()\n",
    "        y = 2\n",
    "        if self.split != 'test':\n",
    "            y = self.data_y[idx]\n",
    "\n",
    "        #Returning the mask for the dataloader\n",
    "\n",
    "        mask = np.zeros(len(self.data_x[idx]))\n",
    "        sentl = self.data_ns[idx]\n",
    "        total_dropped = 0\n",
    "        for j in range(0,sentl):\n",
    "            mask[j] = 1\n",
    "            if self.split == 'train': \n",
    "                rv = random.random()\n",
    "                if rv  < self.word_dropout: \n",
    "                    mask[j] = 0 \n",
    "                    total_dropped+=1\n",
    "        if total_dropped >= sentl: \n",
    "            mask[0] = 1\n",
    "        for i in range(sentl,len(self.data_x[idx])):\n",
    "            mask[i] = 0\n",
    "        self.mask[idx] = mask        \n",
    "        return self.data_x[idx], self.data_ns[idx], self.mask[idx], y\n",
    "        "
   ]
  },
  {
   "cell_type": "markdown",
   "metadata": {
    "id": "uKlnbGShNCDV"
   },
   "source": [
    "### Training"
   ]
  },
  {
   "cell_type": "markdown",
   "metadata": {
    "id": "QnSMLJcrsYC0"
   },
   "source": [
    "####  Masked Averaging\n",
    "\n",
    "In this section, you will need to compute the average word embedding of tokens in the input. One complication is that sentences come in different lengths, and we will need to keep track of this to correctly average. \n",
    "\n",
    "When a sentence is input into our network, it is mapped to list of token ids, up to some maximum length. We construct a matrix, M, where each row corresponds to a sentence, and entries correspond to integers representing tokens. Some sentences are, of course, shorter than this maximum length. For these sentences, we fill in the remaining elements of M with a pad index, up to the max length. This is a special pad index indicating we are beyond the end of a sentence. The dataloader takes care of this for you. When averaging, we need to ignore these elements. \n",
    "\n",
    "Irrespective of if a token is pad or a real token, the first step is to look up an embedding for the index in our embedding table (the first line of the forward method). At this point we will have retrieved some vectors that correspond to the pad tokens as well. We need to ignore these, and only average vectors that correspond to non-pad symbols. \n",
    "\n",
    "To help do so, often NLP applications will introduce a mask as part of the input. The mask is a binary vector for every sentence, where each position encodes whether the token is really from the sentence, or instead should be ignored. The shape of the mask is batch_size by maximum_length. Again, the dataloader has taken care of this for you. Your job will be to use this mask to ignore the embeddings components we don't want to average over.\n",
    "\n",
    "You have to perform the following steps:\n",
    "\n",
    "1. Change the view of the mask so it extends to the embeddings size. It started batch_size by maximum_length, but we need it to be batch_size by max_length by embed_dimension. The expand function will help.\n",
    "2. Pointwise multiply the expanded mask with the embeddings, to eliminate the tokens that aren't in the mask, and sum the rest (this is the `numerator` of our average). Remeber the mask is a binary vector, so the zeros correspond to elements we don't want in our average. The output of this sum should be batch_size by embed_dimension.\n",
    "4. Calculate the number of words in each sentence (this is the `denominator` of our average)\n",
    "3. return `x = numerator/denoninator` , the average\n",
    "\n",
    "Note: You can look at [expand](https://pytorch.org/docs/stable/generated/torch.Tensor.expand.html) in pytorch. "
   ]
  },
  {
   "cell_type": "markdown",
   "metadata": {
    "id": "M0aq_l_f4xiv"
   },
   "source": [
    "#### Defining the architecture for Deep Averaging Networks"
   ]
  },
  {
   "cell_type": "code",
   "execution_count": null,
   "metadata": {
    "id": "1q7oqyrCP8fK"
   },
   "outputs": [],
   "source": [
    "import random as random\n",
    "\n",
    "class DAN(nn.Module):\n",
    "\n",
    "    def __init__(self,\n",
    "                 n_embed=20000,\n",
    "                 d_embed=300,\n",
    "                 d_hidden=100,\n",
    "                 d_out=2,\n",
    "                 layer_dropout = 0.2,\n",
    "                 word_dropout = 0.3,\n",
    "                 embeddings=None,\n",
    "                 depth = 0):\n",
    "        super(DAN, self).__init__()\n",
    "\n",
    "        self.device = torch.device('cuda' if torch.cuda.is_available() else 'cpu')\n",
    "        self.embed = create_emb_layer(weights_matrix,False)\n",
    "\n",
    "        self.fc_out = nn.Linear(d_hidden, d_out)\n",
    "        self.word_dropout = word_dropout\n",
    "\n",
    "    def masked_mean(self,v, mask):\n",
    "        \"\"\"\n",
    "        Create the masked mean\n",
    "        \n",
    "        INPUT:\n",
    "        v       - input\n",
    "        mask    - mask that has 0 and 1 for all the tokens in the input\n",
    "                  0 corresponds to a token we should not include in the average and 1 otherwise\n",
    "\n",
    "        OUTPUT:\n",
    "        x       - average  \n",
    "        \n",
    "        \"\"\"\n",
    "        (batch, max_sent, d_embed ) = v.size() #these values we will be useful for expanding the mask      \n",
    "        #### STUDENT CODE HERE ####\n",
    "        mask =  #change the view of the mask so it extends to the embeddings size\n",
    "        den =  #the number surviving words\n",
    "        num =  #eliminate the tokens that aren't in the mask, and sum\n",
    "        x =    #average\n",
    "        #### STUDENT CODE ENDS HERE ####\n",
    "        return x\n",
    "\n",
    "    def forward(self, text_ids, mask):\n",
    "        embeddings = self.embed(text_ids) #this is a matrix of embeddings, one for each id, of size batch_size X max_sent_size X embedding dimension\n",
    "        avg = self.masked_mean(embeddings,mask) #should return the average of the embeddings, ignoring the embeddings corresponding to the pad token\n",
    "        output = self.fc_out(avg) #final classification layer\n",
    "        return output"
   ]
  },
  {
   "cell_type": "markdown",
   "metadata": {
    "id": "JmdzEvd2Nc2M"
   },
   "source": [
    "#### Training Loop"
   ]
  },
  {
   "cell_type": "code",
   "execution_count": null,
   "metadata": {
    "id": "4MLxfgD7M-aI"
   },
   "outputs": [],
   "source": [
    "criterion = nn.CrossEntropyLoss()\n",
    "\n",
    "batch_size = 64\n",
    "epochs = 3\n",
    "dev_every = 100\n",
    "lr = 0.001\n",
    "save_path = \"best_model\"\n",
    "drop_out = 0\n",
    "word_dropout = 0.01\n",
    "weight_decay = 1e-5"
   ]
  },
  {
   "cell_type": "code",
   "execution_count": null,
   "metadata": {
    "id": "HK3X1nSxCB8g"
   },
   "outputs": [],
   "source": [
    "def train(lr = .005, drop_out = 0, word_dropout = .3, batch_size = 16, weight_decay = 1e-5,args = None):\n",
    "    if args is not None:\n",
    "        drop_out = args[\"drop_out\"]\n",
    "        drop_out = args[\"drop_out\"]\n",
    "\n",
    "    device = torch.device('cuda' if torch.cuda.is_available() else 'cpu')\n",
    "    trainset = SSTpytorchDataset(ds, word_dropout, 'train')\n",
    "    testset = SSTpytorchDataset(ds, word_dropout, 'test')\n",
    "    devset = SSTpytorchDataset(ds, word_dropout, 'dev')\n",
    "\n",
    "    train_iter = DataLoader(trainset, batch_size, shuffle=True, num_workers=0)\n",
    "    test_iter = DataLoader(testset, batch_size, shuffle=False, num_workers=0)\n",
    "    dev_iter = DataLoader(devset, batch_size, shuffle=False, num_workers=0)\n",
    "    \n",
    "    model = DAN(n_embed=n_embed, d_embed=d_embed, d_hidden=300, d_out=d_out, layer_dropout=drop_out, word_dropout = word_dropout )\n",
    "    model.to(device)\n",
    "\n",
    "    optimizer = optim.AdamW(model.parameters(), lr=lr, weight_decay = weight_decay)\n",
    "\n",
    "\n",
    "    acc, val_loss = evaluate(dev_iter, model, device)\n",
    "    best_acc = acc\n",
    "\n",
    "    print(\n",
    "        'epoch |   %        |  loss  |  avg   |val loss|   acc   |  best  | time | save |')\n",
    "    print(\n",
    "        'val   |            |        |        | {:.4f} | {:.4f} | {:.4f} |      |      |'.format(\n",
    "            val_loss, acc, best_acc))\n",
    "\n",
    "    iterations = 0\n",
    "    last_val_iter = 0\n",
    "    train_loss = 0\n",
    "    start = time.time()\n",
    "    _save_ckp = ''\n",
    "    for epoch in range(epochs):\n",
    "        # train_iter.init_epoch()\n",
    "        n_correct, n_total, train_loss = 0, 0, 0\n",
    "        last_val_iter = 0\n",
    "        for batch_idx, batch in enumerate(train_iter):\n",
    "            # switch model to training mode, clear gradient accumulators\n",
    "            model.train();\n",
    "            optimizer.zero_grad()\n",
    "\n",
    "            iterations += 1\n",
    "\n",
    "            data, ns, mask, label = batch\n",
    "            \n",
    "            data = data.to(device)\n",
    "            label = label.to(device).long()\n",
    "            mask = mask.to(device).long()\n",
    "            mask.requires_grad = False\n",
    "\n",
    "            answer = model(data,mask)\n",
    "            loss = criterion(answer, label)\n",
    "\n",
    "            loss.backward();\n",
    "            optimizer.step()\n",
    "\n",
    "            train_loss += loss.item()\n",
    "            print('\\r {:4d} | {:4d}/{} | {:.4f} | {:.4f} |'.format(\n",
    "                epoch, batch_size * (batch_idx + 1), len(trainset), loss.item(),\n",
    "                       train_loss / (iterations - last_val_iter)), end='')\n",
    "\n",
    "            if iterations > 0 and iterations % dev_every == 0:\n",
    "                acc, val_loss= evaluate(dev_iter, model, device)\n",
    "\n",
    "                if acc > best_acc:\n",
    "                    best_acc = acc\n",
    "                    torch.save(model.state_dict(), save_path)\n",
    "                    _save_ckp = '*'\n",
    "\n",
    "                print(\n",
    "                    ' {:.4f} | {:.4f} | {:.4f} | {:.2f} | {:4s} |'.format(\n",
    "                        val_loss, acc, best_acc, (time.time() - start) / 60,\n",
    "                        _save_ckp))\n",
    "\n",
    "                train_loss = 0\n",
    "                last_val_iter = iterations\n",
    "    model.load_state_dict(torch.load(save_path)) #this will be the best model\n",
    "    test_y_pred = evaluate(test_iter,model, device,\"test\")\n",
    "    print(\"\\nValidation Accuracy : \", evaluate(dev_iter,model, device))\n",
    "    return best_acc, test_y_pred\n"
   ]
  },
  {
   "cell_type": "code",
   "execution_count": null,
   "metadata": {
    "id": "jaMw5RMINjZd"
   },
   "outputs": [],
   "source": [
    "\n",
    "def evaluate(loader, model, device, split = \"dev\"):\n",
    "    model.eval()\n",
    "    n_correct, n = 0, 0\n",
    "    losses = []\n",
    "    y_pred = []\n",
    "    with torch.no_grad():\n",
    "        for batch_idx, batch in enumerate(loader):\n",
    "            data, ns, mask, label = batch\n",
    "            data = data.to(device)\n",
    "            label = label.to(device).long()\n",
    "            mask = mask.to(device).long()\n",
    "            answer = model(data,mask)\n",
    "            if split != \"test\":\n",
    "                n_correct += (torch.max(answer, 1)[1].view(label.size()) == label).sum().item()\n",
    "                n += answer.shape[0]\n",
    "                loss = criterion(answer, label)\n",
    "                losses.append(loss.data.cpu().numpy())\n",
    "            else:\n",
    "                y_pred.extend(torch.max(answer, 1)[1].view(label.size()).tolist())\n",
    "    if split != \"test\":\n",
    "        acc = 100. * n_correct / n\n",
    "        loss = np.mean(losses)\n",
    "        return acc, loss\n",
    "    else:\n",
    "        return y_pred\n"
   ]
  },
  {
   "cell_type": "markdown",
   "metadata": {
    "id": "tFF_2GQXhqGz"
   },
   "source": [
    "Run this to get the validation accuracy on the dev dataset and the predictions of the test dataset."
   ]
  },
  {
   "cell_type": "code",
   "execution_count": null,
   "metadata": {
    "id": "x7FkX-MDokS7"
   },
   "outputs": [],
   "source": [
    "torch.manual_seed(6100)\n",
    "\n",
    "epochs = 3 \n",
    "dev_value, test_y_pred = train(lr, batch_size, word_dropout, batch_size, weight_decay) "
   ]
  },
  {
   "cell_type": "markdown",
   "metadata": {
    "id": "4tAw9tgbGY1D"
   },
   "source": [
    "## Transformer\n",
    "\n",
    "The original paper that proposed Transformer is [Attention Is All You Need (Vaswani et al. 2017)](https://arxiv.org/abs/1706.03762), and you can read it if interested.\n",
    "\n",
    "Recall that it is a composition of self-attention layers, here is a graph representation of the architecture:\n",
    "![transformer architecture](images/transformer.svg)\n",
    "\n",
    "The concept of self-attention is crucial for Transformers. In this laboratory exercise, your mission is to craft the multi-head attention component of a Transformer."
   ]
  },
  {
   "cell_type": "markdown",
   "metadata": {
    "id": "bP0L25asIZvl"
   },
   "source": [
    "### Helper functions\n",
    "\n",
    "There is no code that you need to write here, but you do need to run this section!"
   ]
  },
  {
   "cell_type": "code",
   "execution_count": null,
   "metadata": {
    "id": "mfesBhaeH7vy"
   },
   "outputs": [],
   "source": [
    "# importing required libraries\n",
    "import torch.nn as nn\n",
    "import torch\n",
    "import torch.nn.functional as F\n",
    "import math,copy,re\n",
    "import warnings\n",
    "import pandas as pd\n",
    "import numpy as np\n",
    "import seaborn as sns\n",
    "import torchtext\n",
    "import matplotlib.pyplot as plt\n",
    "warnings.simplefilter(\"ignore\")"
   ]
  },
  {
   "cell_type": "code",
   "execution_count": null,
   "metadata": {
    "id": "XyqPvjUtGdn0"
   },
   "outputs": [],
   "source": [
    "cur_device = torch.device('cuda' if torch.cuda.is_available() else 'cpu')\n",
    "class PositionalEncoder(nn.Module):\n",
    "    def __init__(self, embed_dim, max_len=300, device=cur_device):\n",
    "        super().__init__()\n",
    "        self.position_embedding = torch.zeros((1, max_len, embed_dim)).to(device)\n",
    "        i = torch.arange(max_len, dtype=torch.float32).reshape(-1, 1)\n",
    "        j2 = torch.arange(0, embed_dim, step=2, dtype=torch.float32)\n",
    "        x = i / torch.pow(10000, j2 / embed_dim)\n",
    "        self.position_embedding[..., 0::2] = torch.sin(x)\n",
    "        self.position_embedding[..., 1::2] = torch.cos(x)\n",
    "\n",
    "    def forward(self, x):\n",
    "        x_plus_p = x + self.position_embedding[:, : x.shape[1]]\n",
    "        return x_plus_p"
   ]
  },
  {
   "cell_type": "code",
   "execution_count": null,
   "metadata": {
    "id": "tMbEDKEkJQ2J"
   },
   "outputs": [],
   "source": [
    "class ResidualNorm(nn.Module):\n",
    "    def __init__(self, embed_dim):\n",
    "        super().__init__()\n",
    "        self.norm = nn.LayerNorm(embed_dim)\n",
    "\n",
    "    def forward(self, x, residual):\n",
    "        return self.norm(x + residual)\n",
    "\n",
    "\n",
    "class Feedforward(nn.Module):\n",
    "    def __init__(self, embed_dim, hidden_dim):\n",
    "        super().__init__()\n",
    "        self.fc1 = nn.Linear(embed_dim, hidden_dim)\n",
    "        self.fc2 = nn.Linear(hidden_dim, embed_dim)\n",
    "\n",
    "    def forward(self, x):\n",
    "        return self.fc2(F.relu(self.fc1(x)))"
   ]
  },
  {
   "cell_type": "markdown",
   "metadata": {
    "id": "1goKvQT7JgQK"
   },
   "source": [
    "### Multihead Attention\n",
    "\n",
    "Recall that the attention mechanism requires three main components:\n",
    "\n",
    " - the values vectors V \n",
    " - the query vectors Q \n",
    " - the key vectors K \n",
    "\n",
    " And for self-attention, these are all calulated from the original input using three different learnable weight matrices. Essentially we are trying to see that how similar are my queries and keys and use this attention score to construct a weight sum of my values.\n",
    "\n",
    " As for Multihead attention, each head will attend to a set of (V, Q, K) values, so we need to replicate (V, Q, K) n times if we have n number of attention heads. This is done by our helper function `mha_transform_input`. You will also need to transform the output back to the correct size at the end to make sure that it can be used as input to future layers using `mha_transform_output`."
   ]
  },
  {
   "cell_type": "code",
   "execution_count": null,
   "metadata": {
    "id": "-z2RSkbcJbPi"
   },
   "outputs": [],
   "source": [
    "def masked_softmax(x, mask):\n",
    "    \"\"\"Applies softmax on a masked version of the input.\n",
    "    Args:\n",
    "      x (n_batch, n_tokens, t_tokens): - the scaled dot product of Q and K\n",
    "      mask (n_batch, n_tokens): - binary mask, all values = 0 will be set to -inf\n",
    "    Returns:\n",
    "      (n_batch, n_tokens, n_tokens): the result of applying softmax along the last\n",
    "        dimension of the masked input.\n",
    "    \"\"\"\n",
    "    return F.softmax(x.masked_fill_(mask.unsqueeze(1) == 0, float(\"-inf\")), dim=-1)\n",
    "\n",
    "\n",
    "def mha_transform_input(x, n_heads, head_dim):\n",
    "    \"\"\"Restructure the input tensors to compute the heads in parallel\n",
    "    Requires that head_dim = embed_dim / n_heads\n",
    "    Args:\n",
    "      x (n_batch, n_tokens, embed_dim): input tensor, one of queries, keys, or values\n",
    "      n_heads (int): the number of attention heads\n",
    "      head_dim (int): the dimensionality of each head\n",
    "    Returns:\n",
    "      (n_batch*n_heads, n_tokens, head_dim): 3D Tensor containing all the input heads\n",
    "    \"\"\"\n",
    "    n_batch, n_tokens, _ = x.shape\n",
    "    x = x.reshape((n_batch, n_tokens, n_heads, head_dim))\n",
    "    x = x.permute(0, 2, 1, 3)\n",
    "    return x.reshape((n_batch * n_heads, n_tokens, head_dim))\n",
    "\n",
    "\n",
    "def mha_transform_output(x, n_heads, head_dim):\n",
    "    \"\"\"Restructures the output back to the original format\n",
    "    Args:\n",
    "      x (n_bacth*n_heads, n_tokens, head_dim): multi-head representation tensor\n",
    "      n_heads (int): the number of attention heads\n",
    "      head_dim (int): the dimensionality of each head\n",
    "    Returns:\n",
    "      (n_batch, n_tokens, embed_dim): 3D Tensor containing all the input heads\n",
    "    \"\"\"\n",
    "    n_concat, n_tokens, _ = x.shape\n",
    "    n_batch = n_concat // n_heads\n",
    "    x = x.reshape((n_batch, n_heads, n_tokens, head_dim))\n",
    "    x = x.permute(0, 2, 1, 3)\n",
    "    return x.reshape((n_batch, n_tokens, n_heads * head_dim))\n",
    "\n",
    "\n",
    "class ScaledDotProductAttention(nn.Module):\n",
    "    def __init__(self, embed_dim):\n",
    "        super().__init__()\n",
    "        self.embed_dim = embed_dim\n",
    "\n",
    "    def forward(self, queries, keys, values, mask):\n",
    "        \"\"\"\n",
    "        Args:\n",
    "          queries (n_batch, n_tokens, embed_dim): queries (Q) tensor\n",
    "          keys (n_batch, n_tokens, embed_dim): keys (K) tensor\n",
    "          values (n_batch, n_tokens, embed_dim): values (V) tensor\n",
    "          mask (n_batch, n_tokens): binary mask tensor\n",
    "        Returns:\n",
    "          (n_batch, n_tokens, embed_dim): scaled dot product attention tensor\n",
    "        \"\"\"\n",
    "        #### STUDENT CODE HERE ####\n",
    "        # 1. Calculate the batched dot product of queries and keys\n",
    "\n",
    "        # 2. Scale it by the square root of embedding dimensions\n",
    "\n",
    "       \n",
    "\n",
    "        # 3. Pass the scaled dot product through masked_softmax to get attention weights\n",
    "\n",
    "       \n",
    "\n",
    "        # 4. Compute final attention using the attention weights and values\n",
    "        attention = ...\n",
    "\n",
    "        #### STUDENT CODE ENDS HERE ####\n",
    "        return attention\n",
    "\n",
    "\n",
    "class MultiHeadAttention(nn.Module):\n",
    "    def __init__(self, n_heads, embed_dim):\n",
    "        super().__init__()\n",
    "        self.n_heads = n_heads\n",
    "        self.head_dim = embed_dim // n_heads\n",
    "\n",
    "        self.attention = ScaledDotProductAttention(embed_dim)\n",
    "\n",
    "        #### STUDENT CODE HERE ####\n",
    "        # Define the weight matrices for each of Q, K, and V\n",
    "        # Please strictly follow this order of initialization\n",
    "        # You can do this with fully connected linear layers \n",
    "        # Remember to set bias=False to make sure that it is pure weight matrices\n",
    "        self.query_fc = \n",
    "        self.key_fc = \n",
    "        self.value_fc = \n",
    "\n",
    "        \n",
    "        #### STUDENT CODE ENDS HERE ####\n",
    "\n",
    "        self.out_fc = nn.Linear(embed_dim, embed_dim, bias=False)\n",
    "\n",
    "    def forward(self, queries, keys, values, mask):\n",
    "        \"\"\"\n",
    "        Args:\n",
    "          queries (n_batch, n_tokens, embed_dim): queries (Q) tensor\n",
    "          keys (n_batch, n_tokens, embed_dim): keys (K) tensor\n",
    "          values (n_batch, n_tokens, embed_dim): values (V) tensor\n",
    "          mask (n_batch, n_tokens): binary mask tensor\n",
    "        Returns:\n",
    "          (n_batch, n_tokens, embed_dim): multi-head attention tensor\n",
    "        \"\"\"\n",
    "        #### STUDENT CODE HERE ####\n",
    "        # For each of V, Q, and K\n",
    "        # 1. Multiply its corresponding weight matrix (passing through the Linear layer)\n",
    "\n",
    "        # 2. Use mha_transform_input to transform it into multihead\n",
    "        \n",
    "\n",
    "        # 3. Calculate the attention results\n",
    "\n",
    "        # 4. Use mha_transform_output to transform it back into the correct size\n",
    "\n",
    "        # 5. Pass the results through the output fully connect layer\n",
    "\n",
    "        \n",
    "        attention = ...\n",
    "        #### STUDENT CODE ENDS HERE ####\n",
    "        return attention"
   ]
  },
  {
   "cell_type": "markdown",
   "metadata": {
    "id": "CufZYbn9Qk8y"
   },
   "source": [
    "#### Test your Multihead Attention implementation"
   ]
  },
  {
   "cell_type": "code",
   "execution_count": null,
   "metadata": {
    "id": "UhjesZP1Q_H8"
   },
   "outputs": [],
   "source": [
    "embed_dim = 1\n",
    "my_scaled = ScaledDotProductAttention(embed_dim)\n",
    "\n",
    "torch.manual_seed(6100)\n",
    "src_tokens = torch.Tensor([[[7],[8],[5],[1],[10]]]).to(cur_device)\n",
    "src_mask = torch.IntTensor([[1,1,1,1,0]]).to(cur_device)\n",
    "\n",
    "my_scaled(src_tokens, src_tokens, src_tokens, src_mask).cpu().numpy()"
   ]
  },
  {
   "cell_type": "code",
   "execution_count": null,
   "metadata": {
    "id": "EuKeYAMpQcg1"
   },
   "outputs": [],
   "source": [
    "n_heads = 2\n",
    "embed_dim = 2\n",
    "my_att = MultiHeadAttention(n_heads, embed_dim)\n",
    "\n",
    "torch.manual_seed(6100)\n",
    "src_tokens = torch.Tensor([[[2, 7],[3, 8],[4, 5],[9, 1],[2, 10]]])\n",
    "src_mask = torch.IntTensor([[1,1,1,1,0]])\n",
    "\n",
    "my_att(src_tokens, src_tokens, src_tokens, src_mask).detach().numpy()"
   ]
  },
  {
   "cell_type": "markdown",
   "metadata": {
    "id": "FK8IoX2EOpWv"
   },
   "source": [
    "#### Other part of the Transformers code\n",
    "\n",
    "Run this!"
   ]
  },
  {
   "cell_type": "code",
   "execution_count": null,
   "metadata": {
    "id": "l96uiPyUOgg9"
   },
   "outputs": [],
   "source": [
    "class EncoderBlock(nn.Module):\n",
    "    def __init__(self, n_heads, embed_dim, hidden_dim):\n",
    "        super().__init__()\n",
    "        self.attention = MultiHeadAttention(n_heads, embed_dim)\n",
    "        self.norm1 = ResidualNorm(embed_dim)\n",
    "        self.feedforward = Feedforward(embed_dim, hidden_dim)\n",
    "        self.norm2 = ResidualNorm(embed_dim)\n",
    "\n",
    "    def forward(self, src_tokens, src_mask):\n",
    "        \"\"\"\n",
    "        Args:\n",
    "          src_tokens (n_batch, n_tokens, embed_dim): the source sequence\n",
    "          src_mask (n_batch, n_tokens): binary mask over the source\n",
    "        Returns:\n",
    "          (n_batch, n_tokens, embed_dim): the encoder state\n",
    "        \"\"\"\n",
    "        # First compute self-attention on the source tokens by passing them in\n",
    "        # as the queries, keys, and values to the attention module.\n",
    "        self_attention = self.attention(src_tokens, src_tokens, src_tokens, src_mask)\n",
    "        # Next compute the norm of the self-attention result with a residual\n",
    "        # connection from the source tokens\n",
    "        normed_attention = self.norm1(self_attention, src_tokens)\n",
    "        # Pass the normed attention result through the feedforward component\n",
    "        ff_out = self.feedforward(normed_attention)\n",
    "        # Finally compute the norm of the feedforward output with a residual\n",
    "        # connection from the normed attention output\n",
    "        out = self.norm2(ff_out, normed_attention)\n",
    "        return out"
   ]
  },
  {
   "cell_type": "code",
   "execution_count": null,
   "metadata": {
    "id": "9Tq2PTyUOvAl"
   },
   "outputs": [],
   "source": [
    "class Encoder(nn.Module):\n",
    "    def __init__(self, vocab_size, embed_dim, hidden_dim, n_heads, n_blocks):\n",
    "        super().__init__()\n",
    "        self.embedding = nn.Embedding(vocab_size, embed_dim).to(cur_device)\n",
    "        self.positional_encoding = PositionalEncoder(embed_dim).to(cur_device)\n",
    "        self.encoder_blocks = nn.ModuleList(\n",
    "            [EncoderBlock(n_heads, embed_dim, hidden_dim) for _ in range(n_blocks)]\n",
    "        ).to(cur_device)\n",
    "\n",
    "    def forward(self, src_tokens, src_mask):\n",
    "        x = self.embedding(src_tokens)\n",
    "        x = self.positional_encoding(x)\n",
    "        for block in self.encoder_blocks:\n",
    "            x = block(x, src_mask)\n",
    "        return x"
   ]
  },
  {
   "cell_type": "code",
   "execution_count": null,
   "metadata": {
    "id": "svwo2qeVO7Ke"
   },
   "outputs": [],
   "source": [
    "class DecoderBlock(nn.Module):\n",
    "    def __init__(self, n_heads, embed_dim, hidden_dim):\n",
    "        super().__init__()\n",
    "        self.self_attention = MultiHeadAttention(n_heads, embed_dim)\n",
    "        self.norm1 = ResidualNorm(embed_dim)\n",
    "        self.encoder_attention = MultiHeadAttention(n_heads, embed_dim)\n",
    "        self.norm2 = ResidualNorm(embed_dim)\n",
    "        self.feedforward = Feedforward(embed_dim, hidden_dim)\n",
    "        self.norm3 = ResidualNorm(embed_dim)\n",
    "\n",
    "    def forward(self, tgt_tokens, tgt_mask, encoder_state, src_mask):\n",
    "        \"\"\"\n",
    "        Args:\n",
    "          tgt_tokens (n_batch, n_tokens, embed_dim): the target sequence\n",
    "          tgt_mask (n_batch, n_tokens): binary mask over the target tokens\n",
    "          encoder_state (n_batch, n_tokens, embed_dim): the output of the encoder pass\n",
    "          src_mask (n_batch, n_tokens): binary mask over the source tokens\n",
    "        Returns:\n",
    "          (n_batch, n_tokens, embed_dim): the decoder state\n",
    "        \"\"\"\n",
    "        # First compute self-attention on the target tokens by passing them in\n",
    "        # as the queries, keys, and values to the attention module along with the\n",
    "        # target mask.\n",
    "        self_attention = self.self_attention(tgt_tokens, tgt_tokens, tgt_tokens, tgt_mask)\n",
    "        # Next compute the norm of the self-attention result with a residual\n",
    "        # connection from the target tokens\n",
    "        normed_self_attention = self.norm1(self_attention, tgt_tokens)\n",
    "        # Compute the encoder attention by using the normed self-attention output as\n",
    "        # the queries and the encoder state as the keys and values along with the\n",
    "        # source mask.\n",
    "        encoder_attention = self.encoder_attention(normed_self_attention, encoder_state, encoder_state, src_mask)\n",
    "        # Next compute the norm of the encoder attention result with a residual\n",
    "        # connection from the normed self-attention\n",
    "        normed_encoder_attention = self.norm2(encoder_attention, normed_self_attention)\n",
    "        # Pass the normed encoder attention result through the feedforward component\n",
    "        ff_out = self.feedforward(normed_encoder_attention)\n",
    "        # Finally compute the norm of the feedforward output with a residual\n",
    "        # connection from the normed attention output\n",
    "        out = self.norm3(ff_out, normed_encoder_attention)\n",
    "        return out"
   ]
  },
  {
   "cell_type": "code",
   "execution_count": null,
   "metadata": {
    "id": "HgLIgcCPPBSX"
   },
   "outputs": [],
   "source": [
    "class Decoder(nn.Module):\n",
    "    def __init__(self, vocab_size, embed_dim, hidden_dim, n_heads, n_blocks):\n",
    "        super().__init__()\n",
    "        self.embedding = nn.Embedding(vocab_size, embed_dim).to(cur_device)\n",
    "        self.positional_encoding = PositionalEncoder(embed_dim).to(cur_device)\n",
    "        self.decoder_blocks = nn.ModuleList(\n",
    "            [DecoderBlock(n_heads, embed_dim, hidden_dim) for _ in range(n_blocks)]\n",
    "        ).to(cur_device)\n",
    "\n",
    "    def forward(self, tgt_tokens, tgt_mask, encoder_state, src_mask):\n",
    "        x = self.embedding(tgt_tokens)\n",
    "        x = self.positional_encoding(x)\n",
    "        for block in self.decoder_blocks:\n",
    "            x = block(x, tgt_mask, encoder_state, src_mask)\n",
    "        return x"
   ]
  },
  {
   "cell_type": "code",
   "execution_count": null,
   "metadata": {
    "id": "6nBwmZ0qPO8y"
   },
   "outputs": [],
   "source": [
    "class Transformer(nn.Module):\n",
    "    def __init__(\n",
    "        self, src_vocab_size, tgt_vocab_size, embed_dim, hidden_dim, n_heads, n_blocks\n",
    "    ):\n",
    "        super().__init__()\n",
    "        self.encoder = Encoder(src_vocab_size, embed_dim, hidden_dim, n_heads, n_blocks)\n",
    "        self.decoder = Decoder(tgt_vocab_size, embed_dim, hidden_dim, n_heads, n_blocks)\n",
    "        self.out = nn.Linear(embed_dim, tgt_vocab_size).to(cur_device)\n",
    "\n",
    "    def forward(self, src_tokens, src_mask, tgt_tokens, tgt_mask):\n",
    "        # Compute the encoder output state from the source tokens and mask\n",
    "        encoder_state = self.encoder(src_tokens, src_mask)\n",
    "        # Compute the decoder output state from the target tokens and mask as well\n",
    "        # as the encoder state and source mask\n",
    "        decoder_state = self.decoder(tgt_tokens, tgt_mask, encoder_state, src_mask)\n",
    "        # Compute the vocab scores by passing the decoder state through the output\n",
    "        # linear layer\n",
    "        out = self.out(decoder_state)\n",
    "        return out"
   ]
  },
  {
   "cell_type": "markdown",
   "metadata": {
    "id": "SdRKWXXkPgTR"
   },
   "source": [
    "#### Test your implementation works with the entire Transformer implementation"
   ]
  },
  {
   "cell_type": "code",
   "execution_count": null,
   "metadata": {
    "id": "WQx8lWdhPZV6"
   },
   "outputs": [],
   "source": [
    "# Test for Transformer\n",
    "torch.manual_seed(6100)\n",
    "src_vocab_size = tgt_vocab_size = 5\n",
    "n_blocks, n_heads, batch_size, embed_dim, hidden_dim = 10, 2, 1, 4, 8\n",
    "src_tokens = tgt_tokens = torch.IntTensor([[0,1,2,3,4]]).to(cur_device)\n",
    "src_mask = tgt_mask = torch.IntTensor([[1,1,1,1,1]]).to(cur_device)\n",
    "\n",
    "transformer = Transformer(src_vocab_size, tgt_vocab_size, embed_dim, hidden_dim, n_heads, n_blocks)\n",
    "\n",
    "transformer(src_tokens, src_mask, tgt_tokens, tgt_mask).cpu().detach().numpy()"
   ]
  }
 ],
 "metadata": {
  "accelerator": "GPU",
  "colab": {
   "collapsed_sections": [
    "oQCyLhELJ7LX",
    "K2EMoXKcUQ1G",
    "Q5ulmPzRwr3T",
    "JFe9SkOcYugK",
    "HoZuTVB9mcZb",
    "ct2rwpFxlytq",
    "Z6rGLI6jm-0g",
    "FI5HX8dGNQyR",
    "uKlnbGShNCDV",
    "QnSMLJcrsYC0",
    "M0aq_l_f4xiv",
    "JmdzEvd2Nc2M",
    "bP0L25asIZvl"
   ],
   "provenance": [],
   "toc_visible": true
  },
  "kernelspec": {
   "display_name": "Python 3",
   "language": "python",
   "name": "python3"
  },
  "language_info": {
   "codemirror_mode": {
    "name": "ipython",
    "version": 3
   },
   "file_extension": ".py",
   "mimetype": "text/x-python",
   "name": "python",
   "nbconvert_exporter": "python",
   "pygments_lexer": "ipython3",
   "version": "3.8.3"
  },
  "latex_envs": {
   "LaTeX_envs_menu_present": true,
   "autoclose": false,
   "autocomplete": true,
   "bibliofile": "biblio.bib",
   "cite_by": "apalike",
   "current_citInitial": 1,
   "eqLabelWithNumbers": true,
   "eqNumInitial": 1,
   "hotkeys": {
    "equation": "Ctrl-E",
    "itemize": "Ctrl-I"
   },
   "labels_anchors": false,
   "latex_user_defs": false,
   "report_style_numbering": false,
   "user_envs_cfg": false
  },
  "toc": {
   "base_numbering": 1,
   "nav_menu": {},
   "number_sections": true,
   "sideBar": true,
   "skip_h1_title": false,
   "title_cell": "Table of Contents",
   "title_sidebar": "Contents",
   "toc_cell": false,
   "toc_position": {
    "height": "calc(100% - 180px)",
    "left": "10px",
    "top": "150px",
    "width": "372.352px"
   },
   "toc_section_display": true,
   "toc_window_display": true
  }
 },
 "nbformat": 4,
 "nbformat_minor": 1
}
