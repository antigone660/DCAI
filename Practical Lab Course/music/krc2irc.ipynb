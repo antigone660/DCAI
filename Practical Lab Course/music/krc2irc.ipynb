{
 "cells": [
  {
   "cell_type": "code",
   "execution_count": 4,
   "metadata": {},
   "outputs": [
    {
     "ename": "UnicodeDecodeError",
     "evalue": "'utf-8' codec can't decode byte 0xdb in position 5: invalid continuation byte",
     "output_type": "error",
     "traceback": [
      "\u001b[1;31m---------------------------------------------------------------------------\u001b[0m",
      "\u001b[1;31mUnicodeDecodeError\u001b[0m                        Traceback (most recent call last)",
      "\u001b[1;32md:\\code\\python\\HKUST\\Practical Lab Course\\music\\krc2irc.ipynb Cell 1\u001b[0m line \u001b[0;36m4\n\u001b[0;32m     <a href='vscode-notebook-cell:/d%3A/code/python/HKUST/Practical%20Lab%20Course/music/krc2irc.ipynb#W0sZmlsZQ%3D%3D?line=39'>40</a>\u001b[0m         f\u001b[39m.\u001b[39mwrite(irc_data)\n\u001b[0;32m     <a href='vscode-notebook-cell:/d%3A/code/python/HKUST/Practical%20Lab%20Course/music/krc2irc.ipynb#W0sZmlsZQ%3D%3D?line=41'>42</a>\u001b[0m \u001b[39m# 使用方法：将输入的krc文件名更换为实际的krc文件路径，然后将输出的irc文件名更换为所需的irc文件路径。\u001b[39;00m\n\u001b[1;32m---> <a href='vscode-notebook-cell:/d%3A/code/python/HKUST/Practical%20Lab%20Course/music/krc2irc.ipynb#W0sZmlsZQ%3D%3D?line=42'>43</a>\u001b[0m krc_to_irc(\u001b[39m\"\u001b[39;49m\u001b[39mD:\u001b[39;49m\u001b[39m\\\u001b[39;49m\u001b[39mKugou\u001b[39;49m\u001b[39m\\\u001b[39;49m\u001b[39mLyric\u001b[39;49m\u001b[39m\\\u001b[39;49m\u001b[39m陈奕迅 - 十年 (3D环绕版)-320ce52743146f266842f5f2ef10b2a8-165684895-00000000.krc\u001b[39;49m\u001b[39m\"\u001b[39;49m, \u001b[39m'\u001b[39;49m\u001b[39moutput.irc\u001b[39;49m\u001b[39m'\u001b[39;49m)\n",
      "\u001b[1;32md:\\code\\python\\HKUST\\Practical Lab Course\\music\\krc2irc.ipynb Cell 1\u001b[0m line \u001b[0;36m3\n\u001b[0;32m     <a href='vscode-notebook-cell:/d%3A/code/python/HKUST/Practical%20Lab%20Course/music/krc2irc.ipynb#W0sZmlsZQ%3D%3D?line=31'>32</a>\u001b[0m \u001b[39mdef\u001b[39;00m \u001b[39mkrc_to_irc\u001b[39m(krc_file, irc_file):\n\u001b[0;32m     <a href='vscode-notebook-cell:/d%3A/code/python/HKUST/Practical%20Lab%20Course/music/krc2irc.ipynb#W0sZmlsZQ%3D%3D?line=32'>33</a>\u001b[0m     \u001b[39mwith\u001b[39;00m io\u001b[39m.\u001b[39mopen(krc_file, \u001b[39m'\u001b[39m\u001b[39mr\u001b[39m\u001b[39m'\u001b[39m, encoding\u001b[39m=\u001b[39m\u001b[39m'\u001b[39m\u001b[39mUTF-8\u001b[39m\u001b[39m'\u001b[39m) \u001b[39mas\u001b[39;00m f:\n\u001b[1;32m---> <a href='vscode-notebook-cell:/d%3A/code/python/HKUST/Practical%20Lab%20Course/music/krc2irc.ipynb#W0sZmlsZQ%3D%3D?line=33'>34</a>\u001b[0m         krc_data \u001b[39m=\u001b[39m f\u001b[39m.\u001b[39;49mread()\n\u001b[0;32m     <a href='vscode-notebook-cell:/d%3A/code/python/HKUST/Practical%20Lab%20Course/music/krc2irc.ipynb#W0sZmlsZQ%3D%3D?line=35'>36</a>\u001b[0m     parsed_krc \u001b[39m=\u001b[39m parse_krc(krc_data)\n\u001b[0;32m     <a href='vscode-notebook-cell:/d%3A/code/python/HKUST/Practical%20Lab%20Course/music/krc2irc.ipynb#W0sZmlsZQ%3D%3D?line=36'>37</a>\u001b[0m     irc_data \u001b[39m=\u001b[39m convert_to_irc(parsed_krc)\n",
      "File \u001b[1;32md:\\code\\env\\anaconda3\\lib\\codecs.py:322\u001b[0m, in \u001b[0;36mBufferedIncrementalDecoder.decode\u001b[1;34m(self, input, final)\u001b[0m\n\u001b[0;32m    319\u001b[0m \u001b[39mdef\u001b[39;00m \u001b[39mdecode\u001b[39m(\u001b[39mself\u001b[39m, \u001b[39minput\u001b[39m, final\u001b[39m=\u001b[39m\u001b[39mFalse\u001b[39;00m):\n\u001b[0;32m    320\u001b[0m     \u001b[39m# decode input (taking the buffer into account)\u001b[39;00m\n\u001b[0;32m    321\u001b[0m     data \u001b[39m=\u001b[39m \u001b[39mself\u001b[39m\u001b[39m.\u001b[39mbuffer \u001b[39m+\u001b[39m \u001b[39minput\u001b[39m\n\u001b[1;32m--> 322\u001b[0m     (result, consumed) \u001b[39m=\u001b[39m \u001b[39mself\u001b[39;49m\u001b[39m.\u001b[39;49m_buffer_decode(data, \u001b[39mself\u001b[39;49m\u001b[39m.\u001b[39;49merrors, final)\n\u001b[0;32m    323\u001b[0m     \u001b[39m# keep undecoded input until the next call\u001b[39;00m\n\u001b[0;32m    324\u001b[0m     \u001b[39mself\u001b[39m\u001b[39m.\u001b[39mbuffer \u001b[39m=\u001b[39m data[consumed:]\n",
      "\u001b[1;31mUnicodeDecodeError\u001b[0m: 'utf-8' codec can't decode byte 0xdb in position 5: invalid continuation byte"
     ]
    }
   ],
   "source": [
    "import base64\n",
    "import zlib\n",
    "import re\n",
    "import io\n",
    "\n",
    "def parse_krc(krc_data):\n",
    "    decrypted_data = base64.b64decode(krc_data)\n",
    "    decompressed_data = zlib.decompress(decrypted_data)\n",
    "    lines = decompressed_data.decode('gbk').split('\\r\\n')\n",
    "    parsed_lines = []\n",
    "\n",
    "    for line in lines:\n",
    "        if line.startswith('<'):\n",
    "            time_tags, content = line[1:].split('>', 1)\n",
    "            times = [int(t) for t in time_tags.split(',')]\n",
    "            parsed_lines.append((times, content))\n",
    "\n",
    "    return parsed_lines\n",
    "\n",
    "def convert_to_irc(parsed_krc):\n",
    "    irc_lines = []\n",
    "\n",
    "    for times, content in parsed_krc:\n",
    "        start_time = times[0] // 10\n",
    "        end_time = times[1] // 10\n",
    "\n",
    "        irc_line = f'[{start_time:02d}:{start_time % 60:02d}.{start_time % 1000:03d}][{end_time:02d}:{end_time % 60:02d}.{end_time % 1000:03d}]{content}'\n",
    "        irc_lines.append(irc_line)\n",
    "\n",
    "    return '\\n'.join(irc_lines)\n",
    "\n",
    "def krc_to_irc(krc_file, irc_file):\n",
    "    with io.open(krc_file, 'r', encoding='UTF-8') as f:\n",
    "        krc_data = f.read()\n",
    "\n",
    "    parsed_krc = parse_krc(krc_data)\n",
    "    irc_data = convert_to_irc(parsed_krc)\n",
    "\n",
    "    with io.open(irc_file, 'w', encoding='utf-8') as f:\n",
    "        f.write(irc_data)\n",
    "\n",
    "# 使用方法：将输入的krc文件名更换为实际的krc文件路径，然后将输出的irc文件名更换为所需的irc文件路径。\n",
    "krc_to_irc(\"D:\\Kugou\\Lyric\\陈奕迅 - 十年 (3D环绕版)-320ce52743146f266842f5f2ef10b2a8-165684895-00000000.krc\", 'output.irc')"
   ]
  }
 ],
 "metadata": {
  "kernelspec": {
   "display_name": "base",
   "language": "python",
   "name": "python3"
  },
  "language_info": {
   "codemirror_mode": {
    "name": "ipython",
    "version": 3
   },
   "file_extension": ".py",
   "mimetype": "text/x-python",
   "name": "python",
   "nbconvert_exporter": "python",
   "pygments_lexer": "ipython3",
   "version": "3.10.9"
  }
 },
 "nbformat": 4,
 "nbformat_minor": 2
}
