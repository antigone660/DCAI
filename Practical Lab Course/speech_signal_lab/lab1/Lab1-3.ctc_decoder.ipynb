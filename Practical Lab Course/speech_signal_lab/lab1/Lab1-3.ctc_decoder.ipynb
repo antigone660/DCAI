{
  "cells": [
    {
      "cell_type": "markdown",
      "metadata": {
        "id": "nVY2gSC36cbH"
      },
      "source": [
        "\n",
        "# ASR Inference with CTC Decoder\n",
        "\n",
        "This tutorial shows how to perform speech recognition inference using a\n",
        "CTC beam search decoder with lexicon constraint and KenLM language model\n",
        "support. We demonstrate this on a pretrained wav2vec 2.0 model trained\n",
        "using CTC loss.\n"
      ]
    },
    {
      "cell_type": "markdown",
      "metadata": {
        "id": "R-av2XkU6cbJ"
      },
      "source": [
        "## Overview\n",
        "\n",
        "Beam search decoding works by iteratively expanding text hypotheses (beams)\n",
        "with next possible characters, and maintaining only the hypotheses with the\n",
        "highest scores at each time step. A language model can be incorporated into\n",
        "the scoring computation, and adding a lexicon constraint restricts the\n",
        "next possible tokens for the hypotheses so that only words from the lexicon\n",
        "can be generated.\n",
        "\n",
        "The underlying implementation is ported from [Flashlight](https://arxiv.org/pdf/2201.12465.pdf)_'s\n",
        "beam search decoder. A mathematical formula for the decoder optimization can be\n",
        "found in the [Wav2Letter paper](https://arxiv.org/pdf/1609.03193.pdf)_, and\n",
        "a more detailed algorithm can be found in this [blog](https://towardsdatascience.com/boosting-your-sequence-generation-performance-with-beam-search-language-model-decoding-74ee64de435a)_.\n",
        "\n",
        "Running ASR inference using a CTC Beam Search decoder with a language\n",
        "model and lexicon constraint requires the following components\n",
        "\n",
        "-  Acoustic Model: model predicting phonetics from audio waveforms\n",
        "-  Tokens: the possible predicted tokens from the acoustic model\n",
        "-  Lexicon: mapping between possible words and their corresponding\n",
        "   tokens sequence\n",
        "-  Language Model (LM): n-gram language model trained with the [KenLM\n",
        "   library](https://kheafield.com/code/kenlm/)_, or custom language\n",
        "   model that inherits :py:class:`~torchaudio.models.decoder.CTCDecoderLM`\n",
        "\n",
        "\n"
      ]
    },
    {
      "cell_type": "markdown",
      "metadata": {
        "id": "dh-U9Lpz6cbJ"
      },
      "source": [
        "## Acoustic Model and Set Up\n",
        "\n",
        "First we import the necessary utilities and fetch the data that we are\n",
        "working with\n",
        "\n",
        "\n"
      ]
    },
    {
      "cell_type": "code",
      "execution_count": null,
      "metadata": {
        "colab": {
          "base_uri": "https://localhost:8080/",
          "height": 1000
        },
        "id": "2UkNJKGPCJZr",
        "outputId": "68af85ad-33ea-496c-d0b6-f45074951557"
      },
      "outputs": [],
      "source": [
        "!pip install torchaudio==2.1.0\n"
      ]
    },
    {
      "cell_type": "code",
      "execution_count": null,
      "metadata": {
        "colab": {
          "base_uri": "https://localhost:8080/"
        },
        "id": "Gi2a3Q9B6cbJ",
        "outputId": "316690df-d5fb-4f9c-c41c-af4ea3c65aef"
      },
      "outputs": [
        {
          "name": "stdout",
          "output_type": "stream",
          "text": [
            "2.1.0+cu121\n",
            "2.1.0+cu121\n"
          ]
        }
      ],
      "source": [
        "import torch\n",
        "import torchaudio\n",
        "\n",
        "print(torch.__version__)\n",
        "print(torchaudio.__version__)"
      ]
    },
    {
      "cell_type": "code",
      "execution_count": null,
      "metadata": {
        "colab": {
          "base_uri": "https://localhost:8080/"
        },
        "id": "ccCq7cWPDuiC",
        "outputId": "c8996378-6824-49bf-cac9-c567f8f106c4"
      },
      "outputs": [],
      "source": [
        "!pip install flashlight-text\n",
        "!pip install git+https://github.com/kpu/kenlm.git"
      ]
    },
    {
      "cell_type": "code",
      "execution_count": null,
      "metadata": {
        "id": "6jBz2PpL6cbK"
      },
      "outputs": [],
      "source": [
        "import time\n",
        "from typing import List\n",
        "\n",
        "import IPython\n",
        "import matplotlib.pyplot as plt\n",
        "from torchaudio.models.decoder import ctc_decoder\n",
        "from torchaudio.utils import download_asset"
      ]
    },
    {
      "cell_type": "markdown",
      "metadata": {
        "id": "w7Lg3oH46cbK"
      },
      "source": [
        "We use the pretrained [Wav2Vec 2.0](https://arxiv.org/abs/2006.11477)_\n",
        "Base model that is finetuned on 10 min of the [LibriSpeech\n",
        "dataset](http://www.openslr.org/12)_, which can be loaded in using\n",
        ":data:`torchaudio.pipelines.WAV2VEC2_ASR_BASE_10M`.\n",
        "For more detail on running Wav2Vec 2.0 speech\n",
        "recognition pipelines in torchaudio, please refer to [this\n",
        "tutorial](./speech_recognition_pipeline_tutorial.html)_.\n",
        "\n",
        "\n"
      ]
    },
    {
      "cell_type": "code",
      "execution_count": null,
      "metadata": {
        "colab": {
          "base_uri": "https://localhost:8080/"
        },
        "id": "PD12UcUe6cbK",
        "outputId": "a0f453f7-d036-4c65-d405-32c20f214ffe"
      },
      "outputs": [],
      "source": [
        "bundle = torchaudio.pipelines.WAV2VEC2_ASR_BASE_10M\n",
        "acoustic_model = bundle.get_model()"
      ]
    },
    {
      "cell_type": "markdown",
      "metadata": {
        "id": "tlzWySUh6cbL"
      },
      "source": [
        "We will load a sample from the LibriSpeech test-other dataset.\n",
        "\n",
        "\n"
      ]
    },
    {
      "cell_type": "code",
      "execution_count": null,
      "metadata": {
        "colab": {
          "base_uri": "https://localhost:8080/",
          "height": 92
        },
        "id": "M8n39M_96cbL",
        "outputId": "722eaa4c-54da-42d7-a6f2-4bf9dd7f8782"
      },
      "outputs": [],
      "source": [
        "speech_file = download_asset(\"tutorial-assets/ctc-decoding/1688-142285-0007.wav\")\n",
        "\n",
        "IPython.display.Audio(speech_file)"
      ]
    },
    {
      "cell_type": "markdown",
      "metadata": {
        "id": "-1YKtdJN6cbL"
      },
      "source": [
        "The transcript corresponding to this audio file is\n",
        "\n",
        "```\n",
        "i really was very much afraid of showing him how much shocked i was at some parts of what he said\n",
        "```\n"
      ]
    },
    {
      "cell_type": "code",
      "execution_count": null,
      "metadata": {
        "id": "l1XT63IM6cbL"
      },
      "outputs": [],
      "source": [
        "waveform, sample_rate = torchaudio.load(speech_file)\n",
        "\n",
        "if sample_rate != bundle.sample_rate:\n",
        "    waveform = torchaudio.functional.resample(waveform, sample_rate, bundle.sample_rate)"
      ]
    },
    {
      "cell_type": "markdown",
      "metadata": {
        "id": "C-ahjekx6cbL"
      },
      "source": [
        "## Files and Data for Decoder\n",
        "\n",
        "Next, we load in our token, lexicon, and language model data, which are used\n",
        "by the decoder to predict words from the acoustic model output. Pretrained\n",
        "files for the LibriSpeech dataset can be downloaded through torchaudio,\n",
        "or the user can provide their own files.\n",
        "\n",
        "\n"
      ]
    },
    {
      "cell_type": "markdown",
      "metadata": {
        "id": "lxiObbk46cbL"
      },
      "source": [
        "### Tokens\n",
        "\n",
        "The tokens are the possible symbols that the acoustic model can predict,\n",
        "including the blank and silent symbols. It can either be passed in as a\n",
        "file, where each line consists of the tokens corresponding to the same\n",
        "index, or as a list of tokens, each mapping to a unique index.\n",
        "\n",
        "```\n",
        "# tokens.txt\n",
        "_\n",
        "|\n",
        "e\n",
        "t\n",
        "...\n",
        "```\n"
      ]
    },
    {
      "cell_type": "code",
      "execution_count": null,
      "metadata": {
        "colab": {
          "base_uri": "https://localhost:8080/"
        },
        "id": "azuIvWU26cbL",
        "outputId": "64e1eaaa-2680-46ee-9a86-87c6416e305d"
      },
      "outputs": [],
      "source": [
        "tokens = [label.lower() for label in bundle.get_labels()]\n",
        "print(tokens)"
      ]
    },
    {
      "cell_type": "markdown",
      "metadata": {
        "id": "noTNGmOV6cbL"
      },
      "source": [
        "### Lexicon\n",
        "\n",
        "The lexicon is a mapping from words to their corresponding tokens\n",
        "sequence, and is used to restrict the search space of the decoder to\n",
        "only words from the lexicon. The expected format of the lexicon file is\n",
        "a line per word, with a word followed by its space-split tokens.\n",
        "\n",
        "```\n",
        "# lexcion.txt\n",
        "a a |\n",
        "able a b l e |\n",
        "about a b o u t |\n",
        "...\n",
        "...\n",
        "```\n"
      ]
    },
    {
      "cell_type": "markdown",
      "metadata": {
        "id": "CeorMVvK6cbL"
      },
      "source": [
        "### Language Model\n",
        "\n",
        "A language model can be used in decoding to improve the results, by\n",
        "factoring in a language model score that represents the likelihood of\n",
        "the sequence into the beam search computation. Below, we outline the\n",
        "different forms of language models that are supported for decoding.\n",
        "\n",
        "\n"
      ]
    },
    {
      "cell_type": "markdown",
      "metadata": {
        "id": "Cmws0RJT6cbL"
      },
      "source": [
        "#### No Language Model\n",
        "\n",
        "To create a decoder instance without a language model, set `lm=None`\n",
        "when initializing the decoder.\n",
        "\n",
        "\n"
      ]
    },
    {
      "cell_type": "markdown",
      "metadata": {
        "id": "GRV7GqG-6cbM"
      },
      "source": [
        "#### KenLM\n",
        "\n",
        "This is an n-gram language model trained with the [KenLM\n",
        "library](https://kheafield.com/code/kenlm/)_. Both the ``.arpa`` or\n",
        "the binarized ``.bin`` LM can be used, but the binary format is\n",
        "recommended for faster loading.\n",
        "\n",
        "The language model used in this tutorial is a 4-gram KenLM trained using\n",
        "[LibriSpeech](http://www.openslr.org/11)_.\n",
        "\n",
        "\n"
      ]
    },
    {
      "cell_type": "markdown",
      "metadata": {
        "id": "mHeUShmY6cbM"
      },
      "source": [
        "#### Custom Language Model\n",
        "\n",
        "Users can define their own custom language model in Python, whether\n",
        "it be a statistical or neural network language model, using\n",
        ":py:class:`~torchaudio.models.decoder.CTCDecoderLM` and\n",
        ":py:class:`~torchaudio.models.decoder.CTCDecoderLMState`.\n",
        "\n",
        "For instance, the following code creates a basic wrapper around a PyTorch\n",
        "``torch.nn.Module`` language model.\n",
        "\n",
        "\n"
      ]
    },
    {
      "cell_type": "code",
      "execution_count": null,
      "metadata": {
        "id": "70FCs4DT6cbM"
      },
      "outputs": [],
      "source": [
        "from torchaudio.models.decoder import CTCDecoderLM, CTCDecoderLMState\n",
        "\n",
        "\n",
        "class CustomLM(CTCDecoderLM):\n",
        "    \"\"\"Create a Python wrapper around `language_model` to feed to the decoder.\"\"\"\n",
        "\n",
        "    def __init__(self, language_model: torch.nn.Module):\n",
        "        CTCDecoderLM.__init__(self)\n",
        "        self.language_model = language_model\n",
        "        self.sil = -1  # index for silent token in the language model\n",
        "        self.states = {}\n",
        "\n",
        "        language_model.eval()\n",
        "\n",
        "    def start(self, start_with_nothing: bool = False):\n",
        "        state = CTCDecoderLMState()\n",
        "        with torch.no_grad():\n",
        "            score = self.language_model(self.sil)\n",
        "\n",
        "        self.states[state] = score\n",
        "        return state\n",
        "\n",
        "    def score(self, state: CTCDecoderLMState, token_index: int):\n",
        "        outstate = state.child(token_index)\n",
        "        if outstate not in self.states:\n",
        "            score = self.language_model(token_index)\n",
        "            self.states[outstate] = score\n",
        "        score = self.states[outstate]\n",
        "\n",
        "        return outstate, score\n",
        "\n",
        "    def finish(self, state: CTCDecoderLMState):\n",
        "        return self.score(state, self.sil)"
      ]
    },
    {
      "cell_type": "markdown",
      "metadata": {
        "id": "UMwHOxZl6cbM"
      },
      "source": [
        "#### Downloading Pretrained Files\n",
        "\n",
        "Pretrained files for the LibriSpeech dataset can be downloaded using\n",
        ":py:func:`~torchaudio.models.decoder.download_pretrained_files`.\n",
        "\n",
        "Note: this cell may take a couple of minutes to run, as the language\n",
        "model can be large\n",
        "\n",
        "\n"
      ]
    },
    {
      "cell_type": "code",
      "execution_count": null,
      "metadata": {
        "colab": {
          "base_uri": "https://localhost:8080/"
        },
        "id": "OcVAIdYE6cbM",
        "outputId": "16ae6391-075e-4191-d540-60ad991baf8c"
      },
      "outputs": [],
      "source": [
        "from torchaudio.models.decoder import download_pretrained_files\n",
        "\n",
        "files = download_pretrained_files(\"librispeech-4-gram\")\n",
        "\n",
        "print(files)"
      ]
    },
    {
      "cell_type": "markdown",
      "metadata": {
        "id": "N1iPlVQ16cbM"
      },
      "source": [
        "## Construct Decoders\n",
        "In this tutorial, we construct both a beam search decoder and a greedy decoder\n",
        "for comparison.\n",
        "\n",
        "\n"
      ]
    },
    {
      "cell_type": "markdown",
      "metadata": {
        "id": "coMD8XBe6cbM"
      },
      "source": [
        "### Beam Search Decoder\n",
        "The decoder can be constructed using the factory function\n",
        ":py:func:`~torchaudio.models.decoder.ctc_decoder`.\n",
        "In addition to the previously mentioned components, it also takes in various beam\n",
        "search decoding parameters and token/word parameters.\n",
        "\n",
        "This decoder can also be run without a language model by passing in `None` into the\n",
        "`lm` parameter.\n",
        "\n",
        "\n"
      ]
    },
    {
      "cell_type": "code",
      "execution_count": null,
      "metadata": {
        "id": "Bsxa7jsf6cbM"
      },
      "outputs": [],
      "source": [
        "LM_WEIGHT = 3.23\n",
        "WORD_SCORE = -0.26\n",
        "\n",
        "# from torchaudio.models.decoder import CTCDecoder\n",
        "\n",
        "beam_search_decoder = ctc_decoder(\n",
        "    lexicon=files.lexicon,\n",
        "    tokens=files.tokens,\n",
        "    lm=files.lm,\n",
        "    nbest=3,\n",
        "    beam_size=1500,\n",
        "    lm_weight=LM_WEIGHT,\n",
        "    word_score=WORD_SCORE,\n",
        ")"
      ]
    },
    {
      "cell_type": "markdown",
      "metadata": {
        "id": "8yhPzSAR6cbM"
      },
      "source": [
        "### Greedy Decoder\n",
        "\n",
        "\n"
      ]
    },
    {
      "cell_type": "code",
      "execution_count": null,
      "metadata": {
        "id": "fxeSRBD56cbM"
      },
      "outputs": [],
      "source": [
        "class GreedyCTCDecoder(torch.nn.Module):\n",
        "    def __init__(self, labels, blank=0):\n",
        "        super().__init__()\n",
        "        self.labels = labels\n",
        "        self.blank = blank\n",
        "\n",
        "    def forward(self, emission: torch.Tensor) -> List[str]:\n",
        "        \"\"\"Given a sequence emission over labels, get the best path\n",
        "        Args:\n",
        "          emission (Tensor): Logit tensors. Shape `[num_seq, num_label]`.\n",
        "\n",
        "        Returns:\n",
        "          List[str]: The resulting transcript\n",
        "        \"\"\"\n",
        "        indices = torch.argmax(emission, dim=-1)  # [num_seq,]\n",
        "        indices = torch.unique_consecutive(indices, dim=-1)\n",
        "        indices = [i for i in indices if i != self.blank]\n",
        "        joined = \"\".join([self.labels[i] for i in indices])\n",
        "        return joined.replace(\"|\", \" \").strip().split()\n",
        "\n",
        "\n",
        "greedy_decoder = GreedyCTCDecoder(tokens)"
      ]
    },
    {
      "cell_type": "markdown",
      "metadata": {
        "id": "-gKz0bGW6cbM"
      },
      "source": [
        "## Run Inference\n",
        "\n",
        "Now that we have the data, acoustic model, and decoder, we can perform\n",
        "inference. The output of the beam search decoder is of type\n",
        ":py:class:`~torchaudio.models.decoder.CTCHypothesis`, consisting of the\n",
        "predicted token IDs, corresponding words (if a lexicon is provided), hypothesis score,\n",
        "and timesteps corresponding to the token IDs. Recall the transcript corresponding to the\n",
        "waveform is\n",
        "\n",
        "```\n",
        "i really was very much afraid of showing him how much shocked i was at some parts of what he said\n",
        "```\n"
      ]
    },
    {
      "cell_type": "code",
      "execution_count": null,
      "metadata": {
        "id": "I84uRFzh6cbM"
      },
      "outputs": [],
      "source": [
        "actual_transcript = \"i really was very much afraid of showing him how much shocked i was at some parts of what he said\"\n",
        "actual_transcript = actual_transcript.split()\n",
        "\n",
        "emission, _ = acoustic_model(waveform)"
      ]
    },
    {
      "cell_type": "markdown",
      "metadata": {
        "id": "AUBgOQL06cbM"
      },
      "source": [
        "The greedy decoder gives the following result.\n",
        "\n",
        "\n"
      ]
    },
    {
      "cell_type": "code",
      "execution_count": null,
      "metadata": {
        "colab": {
          "base_uri": "https://localhost:8080/"
        },
        "id": "9xr2gjU26cbM",
        "outputId": "7b81e5f4-b89b-4192-9c28-da98fe9e68a3"
      },
      "outputs": [
        {
          "name": "stdout",
          "output_type": "stream",
          "text": [
            "Transcript: i reily was very much affrayd of showing him howmuch shoktd i wause at some parte of what he seid\n",
            "WER: 0.38095238095238093\n"
          ]
        }
      ],
      "source": [
        "greedy_result = greedy_decoder(emission[0])\n",
        "greedy_transcript = \" \".join(greedy_result)\n",
        "greedy_wer = torchaudio.functional.edit_distance(actual_transcript, greedy_result) / len(actual_transcript)\n",
        "\n",
        "print(f\"Transcript: {greedy_transcript}\")\n",
        "print(f\"WER: {greedy_wer}\")"
      ]
    },
    {
      "cell_type": "markdown",
      "metadata": {
        "id": "YppMl6ZX6cbM"
      },
      "source": [
        "Using the beam search decoder:\n",
        "\n",
        "\n"
      ]
    },
    {
      "cell_type": "code",
      "execution_count": null,
      "metadata": {
        "colab": {
          "base_uri": "https://localhost:8080/"
        },
        "id": "mAtGr1oZ6cbM",
        "outputId": "d93358a9-88bc-48de-dfb7-f181a483efb5"
      },
      "outputs": [
        {
          "name": "stdout",
          "output_type": "stream",
          "text": [
            "Transcript: i really was very much afraid of showing him how much shocked i was at some part of what he said\n",
            "WER: 0.047619047619047616\n"
          ]
        }
      ],
      "source": [
        "beam_search_result = beam_search_decoder(emission)\n",
        "beam_search_transcript = \" \".join(beam_search_result[0][0].words).strip()\n",
        "beam_search_wer = torchaudio.functional.edit_distance(actual_transcript, beam_search_result[0][0].words) / len(\n",
        "    actual_transcript\n",
        ")\n",
        "\n",
        "print(f\"Transcript: {beam_search_transcript}\")\n",
        "print(f\"WER: {beam_search_wer}\")"
      ]
    },
    {
      "cell_type": "markdown",
      "metadata": {
        "id": "HsduUVVu6cbM"
      },
      "source": [
        "<div class=\"alert alert-info\"><h4>Note</h4><p>The :py:attr:`~torchaudio.models.decoder.CTCHypothesis.words`\n",
        "   field of the output hypotheses will be empty if no lexicon\n",
        "   is provided to the decoder. To retrieve a transcript with lexicon-free\n",
        "   decoding, you can perform the following to retrieve the token indices,\n",
        "   convert them to original tokens, then join them together.\n",
        "\n",
        "   .. code::\n",
        "\n",
        "      tokens_str = \"\".join(beam_search_decoder.idxs_to_tokens(beam_search_result[0][0].tokens))\n",
        "      transcript = \" \".join(tokens_str.split(\"|\"))</p></div>\n",
        "\n",
        "We see that the transcript with the lexicon-constrained beam search\n",
        "decoder produces a more accurate result consisting of real words, while\n",
        "the greedy decoder can predict incorrectly spelled words like “affrayd”\n",
        "and “shoktd”.\n",
        "\n",
        "\n"
      ]
    },
    {
      "cell_type": "markdown",
      "metadata": {
        "id": "xCE86DaK6cbM"
      },
      "source": [
        "### Incremental decoding\n",
        "\n",
        "If the input speech is long, one can decode the emission in\n",
        "incremental manner.\n",
        "\n",
        "You need to first initialize the internal state of the decoder with\n",
        ":py:meth:`~torchaudio.models.decoder.CTCDecoder.decode_begin`.\n",
        "\n"
      ]
    },
    {
      "cell_type": "code",
      "execution_count": null,
      "metadata": {
        "id": "zWta-leS6cbN"
      },
      "outputs": [],
      "source": [
        "beam_search_decoder.decode_begin()"
      ]
    },
    {
      "cell_type": "markdown",
      "metadata": {
        "id": "4EkIE_ev6cbN"
      },
      "source": [
        "Then, you can pass emissions to\n",
        ":py:meth:`~torchaudio.models.decoder.CTCDecoder.decode_begin`.\n",
        "Here we use the same emission but pass it to the decoder one frame\n",
        "at a time.\n",
        "\n"
      ]
    },
    {
      "cell_type": "code",
      "execution_count": null,
      "metadata": {
        "id": "DUsy4wAU6cbN"
      },
      "outputs": [],
      "source": [
        "for t in range(emission.size(1)):\n",
        "    beam_search_decoder.decode_step(emission[0, t:t + 1, :])"
      ]
    },
    {
      "cell_type": "markdown",
      "metadata": {
        "id": "bpWy4rdM6cbN"
      },
      "source": [
        "Finally, finalize the internal state of the decoder, and retrieve the\n",
        "result.\n",
        "\n"
      ]
    },
    {
      "cell_type": "code",
      "execution_count": null,
      "metadata": {
        "id": "xqXAlEap6cbQ"
      },
      "outputs": [],
      "source": [
        "beam_search_decoder.decode_end()\n",
        "beam_search_result_inc = beam_search_decoder.get_final_hypothesis()"
      ]
    },
    {
      "cell_type": "markdown",
      "metadata": {
        "id": "CWgq5VJl6cbQ"
      },
      "source": [
        "The result of incremental decoding is identical to batch decoding.\n",
        "\n",
        "\n"
      ]
    },
    {
      "cell_type": "code",
      "execution_count": null,
      "metadata": {
        "colab": {
          "base_uri": "https://localhost:8080/"
        },
        "id": "ISQMjVJB6cbQ",
        "outputId": "3afaf92c-3746-4709-af11-898d7a3aaafd"
      },
      "outputs": [
        {
          "name": "stdout",
          "output_type": "stream",
          "text": [
            "Transcript: i really was very much afraid of showing him how much shocked i was at some part of what he said\n",
            "WER: 0.047619047619047616\n"
          ]
        }
      ],
      "source": [
        "beam_search_transcript_inc = \" \".join(beam_search_result_inc[0].words).strip()\n",
        "beam_search_wer_inc = torchaudio.functional.edit_distance(\n",
        "    actual_transcript, beam_search_result_inc[0].words) / len(actual_transcript)\n",
        "\n",
        "print(f\"Transcript: {beam_search_transcript_inc}\")\n",
        "print(f\"WER: {beam_search_wer_inc}\")\n",
        "\n",
        "assert beam_search_result[0][0].words == beam_search_result_inc[0].words\n",
        "assert beam_search_result[0][0].score == beam_search_result_inc[0].score\n",
        "torch.testing.assert_close(beam_search_result[0][0].timesteps, beam_search_result_inc[0].timesteps)"
      ]
    },
    {
      "cell_type": "markdown",
      "metadata": {
        "id": "R_UKJUm86cbQ"
      },
      "source": [
        "## Timestep Alignments\n",
        "Recall that one of the components of the resulting Hypotheses is timesteps\n",
        "corresponding to the token IDs.\n",
        "\n",
        "\n"
      ]
    },
    {
      "cell_type": "code",
      "execution_count": null,
      "metadata": {
        "colab": {
          "base_uri": "https://localhost:8080/"
        },
        "id": "6klrr5JO6cbQ",
        "outputId": "b2a5ddf3-4e2a-4aee-9046-ead352239c93"
      },
      "outputs": [],
      "source": [
        "timesteps = beam_search_result[0][0].timesteps\n",
        "predicted_tokens = beam_search_decoder.idxs_to_tokens(beam_search_result[0][0].tokens)\n",
        "\n",
        "print(predicted_tokens, len(predicted_tokens))\n",
        "print(timesteps, timesteps.shape[0])"
      ]
    },
    {
      "cell_type": "markdown",
      "metadata": {
        "id": "Fcr_zI4o6cbQ"
      },
      "source": [
        "Below, we visualize the token timestep alignments relative to the original waveform.\n",
        "\n",
        "\n"
      ]
    },
    {
      "cell_type": "code",
      "execution_count": null,
      "metadata": {
        "colab": {
          "base_uri": "https://localhost:8080/",
          "height": 487
        },
        "id": "8dWxW7LM6cbQ",
        "outputId": "401e4125-cb58-4ec7-91d7-860e76a89f72"
      },
      "outputs": [
        {
          "data": {
            "image/png": "[encoded data removed]",
            "text/plain": [
              "<Figure size 640x480 with 3 Axes>"
            ]
          },
          "metadata": {},
          "output_type": "display_data"
        }
      ],
      "source": [
        "def plot_alignments(waveform, emission, tokens, timesteps, sample_rate):\n",
        "\n",
        "    t = torch.arange(waveform.size(0)) / sample_rate\n",
        "    ratio = waveform.size(0) / emission.size(1) / sample_rate\n",
        "\n",
        "    chars = []\n",
        "    words = []\n",
        "    word_start = None\n",
        "    for token, timestep in zip(tokens, timesteps * ratio):\n",
        "        if token == \"|\":\n",
        "            if word_start is not None:\n",
        "                words.append((word_start, timestep))\n",
        "            word_start = None\n",
        "        else:\n",
        "            chars.append((token, timestep))\n",
        "            if word_start is None:\n",
        "                word_start = timestep\n",
        "\n",
        "    fig, axes = plt.subplots(3, 1)\n",
        "\n",
        "    def _plot(ax, xlim):\n",
        "        ax.plot(t, waveform)\n",
        "        for token, timestep in chars:\n",
        "            ax.annotate(token.upper(), (timestep, 0.5))\n",
        "        for word_start, word_end in words:\n",
        "            ax.axvspan(word_start, word_end, alpha=0.1, color=\"red\")\n",
        "        ax.set_ylim(-0.6, 0.7)\n",
        "        ax.set_yticks([0])\n",
        "        ax.grid(True, axis=\"y\")\n",
        "        ax.set_xlim(xlim)\n",
        "\n",
        "    _plot(axes[0], (0.3, 2.5))\n",
        "    _plot(axes[1], (2.5, 4.7))\n",
        "    _plot(axes[2], (4.7, 6.9))\n",
        "    axes[2].set_xlabel(\"time (sec)\")\n",
        "    fig.tight_layout()\n",
        "\n",
        "\n",
        "plot_alignments(waveform[0], emission, predicted_tokens, timesteps, bundle.sample_rate)"
      ]
    },
    {
      "cell_type": "markdown",
      "metadata": {
        "id": "zOCyoZBe6cbQ"
      },
      "source": [
        "## Beam Search Decoder Parameters\n",
        "\n",
        "In this section, we go a little bit more in depth about some different\n",
        "parameters and tradeoffs. For the full list of customizable parameters,\n",
        "please refer to the\n",
        ":py:func:`documentation <torchaudio.models.decoder.ctc_decoder>`.\n",
        "\n",
        "\n"
      ]
    },
    {
      "cell_type": "markdown",
      "metadata": {
        "id": "oE4UgQ-06cbQ"
      },
      "source": [
        "### Helper Function\n",
        "\n",
        "\n"
      ]
    },
    {
      "cell_type": "code",
      "execution_count": null,
      "metadata": {
        "id": "D4rAksF36cbQ"
      },
      "outputs": [],
      "source": [
        "def print_decoded(decoder, emission, param, param_value):\n",
        "    start_time = time.monotonic()\n",
        "    result = decoder(emission)\n",
        "    decode_time = time.monotonic() - start_time\n",
        "\n",
        "    transcript = \" \".join(result[0][0].words).lower().strip()\n",
        "    score = result[0][0].score\n",
        "    print(f\"{param} {param_value:<3}: {transcript} (score: {score:.2f}; {decode_time:.4f} secs)\")"
      ]
    },
    {
      "cell_type": "markdown",
      "metadata": {
        "id": "0n9Mb29J6cbQ"
      },
      "source": [
        "### nbest\n",
        "\n",
        "This parameter indicates the number of best hypotheses to return, which\n",
        "is a property that is not possible with the greedy decoder. For\n",
        "instance, by setting ``nbest=3`` when constructing the beam search\n",
        "decoder earlier, we can now access the hypotheses with the top 3 scores.\n",
        "\n",
        "\n"
      ]
    },
    {
      "cell_type": "code",
      "execution_count": null,
      "metadata": {
        "colab": {
          "base_uri": "https://localhost:8080/"
        },
        "id": "9vIagACj6cbQ",
        "outputId": "150a67cf-6a4c-4077-da44-8c023c9cbf6a"
      },
      "outputs": [],
      "source": [
        "for i in range(3):\n",
        "    transcript = \" \".join(beam_search_result[0][i].words).strip()\n",
        "    score = beam_search_result[0][i].score\n",
        "    print(f\"{transcript} (score: {score})\")"
      ]
    },
    {
      "cell_type": "markdown",
      "metadata": {
        "id": "IIzB9uf66cbQ"
      },
      "source": [
        "### beam size\n",
        "\n",
        "The ``beam_size`` parameter determines the maximum number of best\n",
        "hypotheses to hold after each decoding step. Using larger beam sizes\n",
        "allows for exploring a larger range of possible hypotheses which can\n",
        "produce hypotheses with higher scores, but it is computationally more\n",
        "expensive and does not provide additional gains beyond a certain point.\n",
        "\n",
        "In the example below, we see improvement in decoding quality as we\n",
        "increase beam size from 1 to 5 to 50, but notice how using a beam size\n",
        "of 500 provides the same output as beam size 50 while increase the\n",
        "computation time.\n",
        "\n",
        "\n"
      ]
    },
    {
      "cell_type": "code",
      "execution_count": null,
      "metadata": {
        "colab": {
          "base_uri": "https://localhost:8080/"
        },
        "id": "XPqdiuqB6cbQ",
        "outputId": "cecfe471-d563-472a-c3d6-ee2de935137c"
      },
      "outputs": [],
      "source": [
        "beam_sizes = [1, 5, 50, 500]\n",
        "\n",
        "for beam_size in beam_sizes:\n",
        "    beam_search_decoder = ctc_decoder(\n",
        "        lexicon=files.lexicon,\n",
        "        tokens=files.tokens,\n",
        "        lm=files.lm,\n",
        "        beam_size=beam_size,\n",
        "        lm_weight=LM_WEIGHT,\n",
        "        word_score=WORD_SCORE,\n",
        "    )\n",
        "\n",
        "    print_decoded(beam_search_decoder, emission, \"beam size\", beam_size)"
      ]
    },
    {
      "cell_type": "markdown",
      "metadata": {
        "id": "_fsssWmb6cbQ"
      },
      "source": [
        "### beam size token\n",
        "\n",
        "The ``beam_size_token`` parameter corresponds to the number of tokens to\n",
        "consider for expanding each hypothesis at the decoding step. Exploring a\n",
        "larger number of next possible tokens increases the range of potential\n",
        "hypotheses at the cost of computation.\n",
        "\n",
        "\n"
      ]
    },
    {
      "cell_type": "code",
      "execution_count": null,
      "metadata": {
        "colab": {
          "base_uri": "https://localhost:8080/"
        },
        "id": "Sb1u4mNe6cbQ",
        "outputId": "39f1f570-983e-4b08-8a75-2bdd1401a01d"
      },
      "outputs": [],
      "source": [
        "num_tokens = len(tokens)\n",
        "beam_size_tokens = [1, 5, 10, num_tokens]\n",
        "\n",
        "for beam_size_token in beam_size_tokens:\n",
        "    beam_search_decoder = ctc_decoder(\n",
        "        lexicon=files.lexicon,\n",
        "        tokens=files.tokens,\n",
        "        lm=files.lm,\n",
        "        beam_size_token=beam_size_token,\n",
        "        lm_weight=LM_WEIGHT,\n",
        "        word_score=WORD_SCORE,\n",
        "    )\n",
        "\n",
        "    print_decoded(beam_search_decoder, emission, \"beam size token\", beam_size_token)"
      ]
    },
    {
      "cell_type": "markdown",
      "metadata": {
        "id": "JbAP4Xg36cbQ"
      },
      "source": [
        "### beam threshold\n",
        "\n",
        "The ``beam_threshold`` parameter is used to prune the stored hypotheses\n",
        "set at each decoding step, removing hypotheses whose scores are greater\n",
        "than ``beam_threshold`` away from the highest scoring hypothesis. There\n",
        "is a balance between choosing smaller thresholds to prune more\n",
        "hypotheses and reduce the search space, and choosing a large enough\n",
        "threshold such that plausible hypotheses are not pruned.\n",
        "\n",
        "\n"
      ]
    },
    {
      "cell_type": "code",
      "execution_count": null,
      "metadata": {
        "colab": {
          "base_uri": "https://localhost:8080/"
        },
        "id": "o7rkOdpp6cbR",
        "outputId": "bb46a6e9-d9a6-4f0e-8eea-57eaa2f66a0a"
      },
      "outputs": [],
      "source": [
        "beam_thresholds = [1, 5, 10, 25]\n",
        "\n",
        "for beam_threshold in beam_thresholds:\n",
        "    beam_search_decoder = ctc_decoder(\n",
        "        lexicon=files.lexicon,\n",
        "        tokens=files.tokens,\n",
        "        lm=files.lm,\n",
        "        beam_threshold=beam_threshold,\n",
        "        lm_weight=LM_WEIGHT,\n",
        "        word_score=WORD_SCORE,\n",
        "    )\n",
        "\n",
        "    print_decoded(beam_search_decoder, emission, \"beam threshold\", beam_threshold)"
      ]
    },
    {
      "cell_type": "markdown",
      "metadata": {
        "id": "sucI0lyN6cbR"
      },
      "source": [
        "### language model weight\n",
        "\n",
        "The ``lm_weight`` parameter is the weight to assign to the language\n",
        "model score which to accumulate with the acoustic model score for\n",
        "determining the overall scores. Larger weights encourage the model to\n",
        "predict next words based on the language model, while smaller weights\n",
        "give more weight to the acoustic model score instead.\n",
        "\n",
        "\n"
      ]
    },
    {
      "cell_type": "code",
      "execution_count": null,
      "metadata": {
        "colab": {
          "base_uri": "https://localhost:8080/"
        },
        "id": "2hcrQcks6cbR",
        "outputId": "e9245a30-d5fe-4bb5-b0ed-a7bd9d9050bf"
      },
      "outputs": [],
      "source": [
        "lm_weights = [0, LM_WEIGHT, 15]\n",
        "\n",
        "for lm_weight in lm_weights:\n",
        "    beam_search_decoder = ctc_decoder(\n",
        "        lexicon=files.lexicon,\n",
        "        tokens=files.tokens,\n",
        "        lm=files.lm,\n",
        "        lm_weight=lm_weight,\n",
        "        word_score=WORD_SCORE,\n",
        "    )\n",
        "\n",
        "    print_decoded(beam_search_decoder, emission, \"lm weight\", lm_weight)"
      ]
    },
    {
      "cell_type": "markdown",
      "metadata": {
        "id": "VKfKFA0h6cbR"
      },
      "source": [
        "### additional parameters\n",
        "\n",
        "Additional parameters that can be optimized include the following\n",
        "\n",
        "- ``word_score``: score to add when word finishes\n",
        "- ``unk_score``: unknown word appearance score to add\n",
        "- ``sil_score``: silence appearance score to add\n",
        "- ``log_add``: whether to use log add for lexicon Trie smearing\n",
        "\n",
        "\n"
      ]
    }
  ],
  "metadata": {
    "colab": {
      "provenance": []
    },
    "kernelspec": {
      "display_name": "Python 3",
      "language": "python",
      "name": "python3"
    },
    "language_info": {
      "codemirror_mode": {
        "name": "ipython",
        "version": 3
      },
      "file_extension": ".py",
      "mimetype": "text/x-python",
      "name": "python",
      "nbconvert_exporter": "python",
      "pygments_lexer": "ipython3",
      "version": "3.10.13"
    }
  },
  "nbformat": 4,
  "nbformat_minor": 0
}
